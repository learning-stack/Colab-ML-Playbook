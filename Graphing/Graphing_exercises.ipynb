{
  "nbformat": 4,
  "nbformat_minor": 0,
  "metadata": {
    "colab": {
      "name": "Custom training: walkthrough",
      "provenance": [],
      "private_outputs": true,
      "collapsed_sections": []
    },
    "kernelspec": {
      "name": "python3",
      "display_name": "Python 3"
    },
    "accelerator": "GPU"
  },
  "cells": [
    {
      "cell_type": "markdown",
      "metadata": {
        "colab_type": "text",
        "id": "rKA7iQfHhXS6"
      },
      "source": [
        "# Graphing training: walkthrough"
      ]
    },
    {
      "cell_type": "markdown",
      "metadata": {
        "id": "GV1F7tVTN3Dn",
        "colab_type": "text"
      },
      "source": [
        "<table class=\"tfo-notebook-buttons\" align=\"left\">\n",
        "  <td>\n",
        "    <a target=\"_blank\" href=\"https://colab.research.google.com/github/learning-stack/Colab-ML-Playbook/blob/master/Graphing/Graphing_exercises.ipynb\"><img src=\"https://www.tensorflow.org/images/colab_logo_32px.png\" />Run in Google Colab</a>\n",
        "  </td>\n",
        "  <td>\n",
        "    <a target=\"_blank\" href=\"https://github.com/learning-stack/Colab-ML-Playbook/blob/master/Graphing/Graphing_exercises.ipynb\"><img src=\"https://www.tensorflow.org/images/GitHub-Mark-32px.png\" />View source on GitHub</a>\n",
        "  </td>\n",
        "</table>"
      ]
    },
    {
      "cell_type": "markdown",
      "metadata": {
        "id": "hnhIeLDzhpQA",
        "colab_type": "text"
      },
      "source": [
        "## import modules"
      ]
    },
    {
      "cell_type": "code",
      "metadata": {
        "id": "g4Wzg69bnwK2",
        "colab_type": "code",
        "colab": {}
      },
      "source": [
        "from __future__ import absolute_import, division, print_function\n",
        "\n",
        "import os\n",
        "import pandas as pd\n",
        "import matplotlib.pyplot as plt\n",
        "import numpy as np\n",
        "\n"
      ],
      "execution_count": 0,
      "outputs": []
    },
    {
      "cell_type": "markdown",
      "metadata": {
        "id": "W23DIMVPQEBt",
        "colab_type": "text"
      },
      "source": [
        "### Create dataframe"
      ]
    },
    {
      "cell_type": "code",
      "metadata": {
        "id": "2fZ6oL2ig3ZK",
        "colab_type": "code",
        "colab": {}
      },
      "source": [
        "raw_data = {'first_name': ['Jason', 'Molly', 'Tina', 'Jake', 'Amy'],\n",
        "            'last_name': ['Miller', 'Jacobson','Ali','Milner','Cooze'],\n",
        "            'female': [0,1,1,0,1],\n",
        "            'age': [42,52,36,24,73],\n",
        "            'preTestScore': [4,24,31,2,3],\n",
        "            'postTestScore': [25,94,57,62,70]}\n",
        "\n",
        "df = pd.DataFrame(raw_data, columns = ['first_name', 'last_name', 'age', 'female', 'preTestScore', 'postTestScore'])\n",
        "df"
      ],
      "execution_count": 0,
      "outputs": []
    },
    {
      "cell_type": "markdown",
      "metadata": {
        "id": "QG98M3aUicUb",
        "colab_type": "text"
      },
      "source": [
        "## Scatterplot of preTestScore and postTestScore, with the size of each point determined by age"
      ]
    },
    {
      "cell_type": "code",
      "metadata": {
        "id": "ck4fViz8ikaY",
        "colab_type": "code",
        "colab": {}
      },
      "source": [
        "plt.scatter (df.preTestScore, df.postTestScore, s=df.age)"
      ],
      "execution_count": 0,
      "outputs": []
    },
    {
      "cell_type": "markdown",
      "metadata": {
        "id": "-is3WW61i20n",
        "colab_type": "text"
      },
      "source": [
        "## Scatterplot of preTestScore and postTestScore with the size = 300 and the color determined by sex"
      ]
    },
    {
      "cell_type": "code",
      "metadata": {
        "id": "flYpudz0i_OH",
        "colab_type": "code",
        "colab": {}
      },
      "source": [
        "plt.scatter(df.preTestScore, df.postTestScore, s=300, c=df.female)"
      ],
      "execution_count": 0,
      "outputs": []
    }
  ]
}