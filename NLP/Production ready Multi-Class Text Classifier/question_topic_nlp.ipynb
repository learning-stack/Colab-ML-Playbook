{
  "nbformat": 4,
  "nbformat_minor": 0,
  "metadata": {
    "colab": {
      "name": "question_topic_nlp.ipynb",
      "version": "0.3.2",
      "provenance": []
    },
    "kernelspec": {
      "name": "python3",
      "display_name": "Python 3"
    },
    "accelerator": "TPU"
  },
  "cells": [
    {
      "metadata": {
        "id": "7_DfNyL3Q6CK",
        "colab_type": "text"
      },
      "cell_type": "markdown",
      "source": [
        "# A Production ready Multi-Class Text Classifier\n",
        "\n",
        "## by Sambit Mahapatra"
      ]
    },
    {
      "metadata": {
        "id": "BnMOls9mRIVa",
        "colab_type": "text"
      },
      "cell_type": "markdown",
      "source": [
        "https://towardsdatascience.com/a-production-ready-multi-class-text-classifier-96490408757"
      ]
    },
    {
      "metadata": {
        "id": "lJ0XkpVcRnaU",
        "colab_type": "text"
      },
      "cell_type": "markdown",
      "source": [
        "<table class=\"tfo-notebook-buttons\" align=\"left\">\n",
        "  <td>\n",
        "    <a target=\"_blank\" href=\"https://colab.research.google.com/github/learning-stack/Colab-ML-Playbook/blob/master/NLP/Production%20ready%20Multi-Class%20Text%20Classifier/question_topic_nlp.ipynb\"><img src=\"https://www.tensorflow.org/images/colab_logo_32px.png\" />Run in Google Colab</a>\n",
        "  </td>\n",
        "  <td>\n",
        "    <a target=\"_blank\" href=\"https://github.com/learning-stack/Colab-ML-Playbook/blob/master/NLP/Production%20ready%20Multi-Class%20Text%20Classifier/question_topic_nlp.ipynb\"><img src=\"https://www.tensorflow.org/images/GitHub-Mark-32px.png\" />View source on GitHub</a>\n",
        "  </td>\n",
        "</table>"
      ]
    },
    {
      "metadata": {
        "id": "mT8l3p13Q39m",
        "colab_type": "code",
        "colab": {}
      },
      "cell_type": "code",
      "source": [
        "import pandas as pd\n",
        "import numpy as np"
      ],
      "execution_count": 0,
      "outputs": []
    },
    {
      "metadata": {
        "id": "LbbkeNwbQ39u",
        "colab_type": "code",
        "colab": {}
      },
      "cell_type": "code",
      "source": [
        "from sklearn.pipeline import Pipeline\n",
        "from sklearn.feature_extraction.text import CountVectorizer\n",
        "from sklearn.svm import LinearSVC\n",
        "from sklearn.feature_extraction.text import TfidfTransformer\n",
        "from sklearn.multiclass import OneVsRestClassifier"
      ],
      "execution_count": 0,
      "outputs": []
    },
    {
      "metadata": {
        "id": "9M5gj_vgQ39y",
        "colab_type": "code",
        "colab": {
          "base_uri": "https://localhost:8080/",
          "height": 204
        },
        "outputId": "ca33dbb5-d4aa-4672-b8b9-547ff2b9cb5b"
      },
      "cell_type": "code",
      "source": [
        "#Load the dataset\n",
        "!wget https://raw.githubusercontent.com/sambit9238/Machine-Learning/master/question_topic.csv\n",
        "df = pd.read_csv(\"question_topic.csv\")"
      ],
      "execution_count": 4,
      "outputs": [
        {
          "output_type": "stream",
          "text": [
            "--2019-01-19 18:04:59--  https://raw.githubusercontent.com/sambit9238/Machine-Learning/master/question_topic.csv\n",
            "Resolving raw.githubusercontent.com (raw.githubusercontent.com)... 151.101.0.133, 151.101.64.133, 151.101.128.133, ...\n",
            "Connecting to raw.githubusercontent.com (raw.githubusercontent.com)|151.101.0.133|:443... connected.\n",
            "HTTP request sent, awaiting response... 200 OK\n",
            "Length: 923583 (902K) [text/plain]\n",
            "Saving to: ‘question_topic.csv’\n",
            "\n",
            "question_topic.csv  100%[===================>] 901.94K  --.-KB/s    in 0.06s   \n",
            "\n",
            "2019-01-19 18:05:04 (14.3 MB/s) - ‘question_topic.csv’ saved [923583/923583]\n",
            "\n"
          ],
          "name": "stdout"
        }
      ]
    },
    {
      "metadata": {
        "id": "qne2mxBuQ391",
        "colab_type": "code",
        "colab": {
          "base_uri": "https://localhost:8080/",
          "height": 204
        },
        "outputId": "67fb6db9-f6fe-406c-f507-c6d4d678545c"
      },
      "cell_type": "code",
      "source": [
        "df.head()"
      ],
      "execution_count": 5,
      "outputs": [
        {
          "output_type": "execute_result",
          "data": {
            "text/html": [
              "<div>\n",
              "<style scoped>\n",
              "    .dataframe tbody tr th:only-of-type {\n",
              "        vertical-align: middle;\n",
              "    }\n",
              "\n",
              "    .dataframe tbody tr th {\n",
              "        vertical-align: top;\n",
              "    }\n",
              "\n",
              "    .dataframe thead th {\n",
              "        text-align: right;\n",
              "    }\n",
              "</style>\n",
              "<table border=\"1\" class=\"dataframe\">\n",
              "  <thead>\n",
              "    <tr style=\"text-align: right;\">\n",
              "      <th></th>\n",
              "      <th>Unnamed: 0</th>\n",
              "      <th>question_text</th>\n",
              "      <th>question_topic</th>\n",
              "    </tr>\n",
              "  </thead>\n",
              "  <tbody>\n",
              "    <tr>\n",
              "      <th>0</th>\n",
              "      <td>0</td>\n",
              "      <td>Hi! If I sign up for your email list, can I se...</td>\n",
              "      <td>Sales/Promotions</td>\n",
              "    </tr>\n",
              "    <tr>\n",
              "      <th>1</th>\n",
              "      <td>1</td>\n",
              "      <td>I'm going to be out of the country for about a...</td>\n",
              "      <td>Shipping</td>\n",
              "    </tr>\n",
              "    <tr>\n",
              "      <th>2</th>\n",
              "      <td>2</td>\n",
              "      <td>I was wondering if you'd be able to overnight ...</td>\n",
              "      <td>Shipping</td>\n",
              "    </tr>\n",
              "    <tr>\n",
              "      <th>3</th>\n",
              "      <td>3</td>\n",
              "      <td>The Swingline electronic stapler (472555) look...</td>\n",
              "      <td>Shipping</td>\n",
              "    </tr>\n",
              "    <tr>\n",
              "      <th>4</th>\n",
              "      <td>4</td>\n",
              "      <td>I think this cosmetic bag would work great for...</td>\n",
              "      <td>Shipping</td>\n",
              "    </tr>\n",
              "  </tbody>\n",
              "</table>\n",
              "</div>"
            ],
            "text/plain": [
              "   Unnamed: 0                                      question_text  \\\n",
              "0           0  Hi! If I sign up for your email list, can I se...   \n",
              "1           1  I'm going to be out of the country for about a...   \n",
              "2           2  I was wondering if you'd be able to overnight ...   \n",
              "3           3  The Swingline electronic stapler (472555) look...   \n",
              "4           4  I think this cosmetic bag would work great for...   \n",
              "\n",
              "     question_topic  \n",
              "0  Sales/Promotions  \n",
              "1          Shipping  \n",
              "2          Shipping  \n",
              "3          Shipping  \n",
              "4          Shipping  "
            ]
          },
          "metadata": {
            "tags": []
          },
          "execution_count": 5
        }
      ]
    },
    {
      "metadata": {
        "id": "kPQ6ElK_Q398",
        "colab_type": "code",
        "colab": {
          "base_uri": "https://localhost:8080/",
          "height": 34
        },
        "outputId": "06437e35-3754-4306-c61c-a9346cecd357"
      },
      "cell_type": "code",
      "source": [
        "df.shape"
      ],
      "execution_count": 6,
      "outputs": [
        {
          "output_type": "execute_result",
          "data": {
            "text/plain": [
              "(5000, 3)"
            ]
          },
          "metadata": {
            "tags": []
          },
          "execution_count": 6
        }
      ]
    },
    {
      "metadata": {
        "id": "5tfBsoMeQ3-B",
        "colab_type": "code",
        "colab": {
          "base_uri": "https://localhost:8080/",
          "height": 136
        },
        "outputId": "0a2e8fba-4400-4595-dfc2-9c4d84d24a5f"
      },
      "cell_type": "code",
      "source": [
        "set(df[\"question_topic\"])"
      ],
      "execution_count": 7,
      "outputs": [
        {
          "output_type": "execute_result",
          "data": {
            "text/plain": [
              "{'Omnichannel',\n",
              " 'Product Availability',\n",
              " 'Product Comparison',\n",
              " 'Product Specifications',\n",
              " 'Returns & Refunds',\n",
              " 'Sales/Promotions',\n",
              " 'Shipping'}"
            ]
          },
          "metadata": {
            "tags": []
          },
          "execution_count": 7
        }
      ]
    },
    {
      "metadata": {
        "id": "YDYY5pW_Q3-F",
        "colab_type": "code",
        "colab": {
          "base_uri": "https://localhost:8080/",
          "height": 136
        },
        "outputId": "105b89e2-e0be-487f-b340-f2242bfbdde9"
      },
      "cell_type": "code",
      "source": [
        "from collections import Counter\n",
        "Counter(df[\"question_topic\"])"
      ],
      "execution_count": 8,
      "outputs": [
        {
          "output_type": "execute_result",
          "data": {
            "text/plain": [
              "Counter({'Omnichannel': 450,\n",
              "         'Product Availability': 833,\n",
              "         'Product Comparison': 806,\n",
              "         'Product Specifications': 839,\n",
              "         'Returns & Refunds': 768,\n",
              "         'Sales/Promotions': 505,\n",
              "         'Shipping': 799})"
            ]
          },
          "metadata": {
            "tags": []
          },
          "execution_count": 8
        }
      ]
    },
    {
      "metadata": {
        "id": "sM-WYY2TQ3-K",
        "colab_type": "code",
        "colab": {}
      },
      "cell_type": "code",
      "source": [
        "#pre-processing\n",
        "import re \n",
        "def clean_str(string):\n",
        "    \"\"\"\n",
        "    Tokenization/string cleaning for dataset\n",
        "    Every dataset is lower cased except\n",
        "    \"\"\"\n",
        "    string = re.sub(r\"\\n\", \"\", string)    \n",
        "    string = re.sub(r\"\\r\", \"\", string) \n",
        "    string = re.sub(r\"[0-9]\", \"digit\", string)\n",
        "    string = re.sub(r\"\\'\", \"\", string)    \n",
        "    string = re.sub(r\"\\\"\", \"\", string)    \n",
        "    return string.strip().lower()"
      ],
      "execution_count": 0,
      "outputs": []
    },
    {
      "metadata": {
        "id": "-9GH9BoJQ3-N",
        "colab_type": "code",
        "colab": {
          "base_uri": "https://localhost:8080/",
          "height": 34
        },
        "outputId": "45189d3d-d37e-4134-ffc7-75504d449b19"
      },
      "cell_type": "code",
      "source": [
        "df.columns\n"
      ],
      "execution_count": 10,
      "outputs": [
        {
          "output_type": "execute_result",
          "data": {
            "text/plain": [
              "Index(['Unnamed: 0', 'question_text', 'question_topic'], dtype='object')"
            ]
          },
          "metadata": {
            "tags": []
          },
          "execution_count": 10
        }
      ]
    },
    {
      "metadata": {
        "id": "7Wr7ynN0Q3-S",
        "colab_type": "code",
        "colab": {}
      },
      "cell_type": "code",
      "source": [
        "#train test split\n",
        "from sklearn.model_selection import train_test_split\n",
        "X = []\n",
        "for i in range(df.shape[0]):\n",
        "    X.append(clean_str(df.iloc[i][1]))\n",
        "y = np.array(df[\"question_topic\"])\n",
        "X_train, X_test, y_train, y_test = train_test_split(X, y, test_size=0.3, random_state=5)"
      ],
      "execution_count": 0,
      "outputs": []
    },
    {
      "metadata": {
        "id": "V9CQxOvZQ3-V",
        "colab_type": "code",
        "colab": {}
      },
      "cell_type": "code",
      "source": [
        "#feature engineering and model selection\n",
        "from sklearn.svm import LinearSVC\n",
        "from sklearn.linear_model import LogisticRegression\n",
        "from sklearn.ensemble import RandomForestClassifier"
      ],
      "execution_count": 0,
      "outputs": []
    },
    {
      "metadata": {
        "id": "9BDlC5CfS2A4",
        "colab_type": "text"
      },
      "cell_type": "markdown",
      "source": [
        "After, train test split we should start design the classifier. Since, the inputs are texts we first need to convert them into numerical vectors to feed them into any machine learning algorithm. The vectorization of features are done using the following two methods.\n",
        "\n",
        "**CountVectorizer**: It transforms the review to token count matrix. First, it tokenizes the text and according to number of occurrence of each token, a sparse matrix is created. Calculation of CountVectorizer Matrix: suppose we have three different documents containing following sentences.\n",
        "\n",
        "“Camera is great”.\n",
        "\n",
        "“Camera is Awful”.\n",
        "\n",
        "“Camera is fine”.\n",
        "\n",
        "Matrix generated of size 3*5 because we have 3 documents and 5 distinct features. The matrix will look like:-\n",
        "\n",
        "![alt text](https://cdn-images-1.medium.com/max/800/1*A6IYdBpa8VF2jmbZyahGUg.png)\n",
        "\n",
        "**TF-IDF**: Its value represents the importance of a word to a document in a corpus. TF-IDF value is proportional to the frequency of a word in a document. Calculation of TF-IDF value: suppose a movie review contain 100 words wherein the word Awesome appears 5 times. The term frequency (i.e., TF) for Awesome then (5 / 100) = 0.05. Again, suppose there are 1 million reviews in the corpus and the word Awesome appears 1000 times in whole corpus Then, the inverse document frequency (i.e., IDF) is calculated as log(1,000,000 / 1,000) = 3. Thus, the TF-IDF value is calculated as: 0.05 * 3 = 0.15.\n",
        "\n",
        "Now, the numeric vectors are given as input to the support vector machine algorithm. Since the number of features are generally large in text case, the linear kernel generally performs best.\n",
        "\n",
        "Another challenge here is the multi class classification one. For that at the support vector machine implementation, we can use the OneVsRest classifier concept. The OneVsRest (or one-vs.-all, OvA or OvR, oneagainst-all, OAA) strategy involves training a single classiﬁer per class, with the samples of that class as positive samples and all other samples as negatives. This strategy requires the base classiﬁers to produce a real-valued conﬁdence score for its decision, rather than just a class label; discrete class labels alone can lead to ambiguities, where multiple classes are predicted for a single sample.\n",
        "\n",
        "To make the classifier design production ready, we can create a pipeline of all these processes discussed above thus making it easier to move to other systems."
      ]
    },
    {
      "metadata": {
        "id": "KNSgZWvGQ3-Y",
        "colab_type": "code",
        "colab": {}
      },
      "cell_type": "code",
      "source": [
        "#pipeline of feature engineering and model\n",
        "model = Pipeline([('vectorizer', CountVectorizer()),\n",
        "    ('tfidf', TfidfTransformer()),\n",
        "    ('clf', OneVsRestClassifier(LinearSVC(class_weight=\"balanced\")))])"
      ],
      "execution_count": 0,
      "outputs": []
    },
    {
      "metadata": {
        "id": "xeqUNrolTOXR",
        "colab_type": "text"
      },
      "cell_type": "markdown",
      "source": [
        "For every algorithm of machine learning used, parameter tuning plays a important role. It has been observed that with proper parameter values set, model’s performance increase reasonably. We can find the suitable parameters in our case using grid search as shown below:-"
      ]
    },
    {
      "metadata": {
        "id": "eI1vus1_Q3-b",
        "colab_type": "code",
        "colab": {}
      },
      "cell_type": "code",
      "source": [
        "#paramater selection\n",
        "from sklearn.model_selection import GridSearchCV\n",
        "parameters = {'vectorizer__ngram_range': [(1, 1), (1, 2),(2,2)],\n",
        "               'tfidf__use_idf': (True, False)}"
      ],
      "execution_count": 0,
      "outputs": []
    },
    {
      "metadata": {
        "id": "7H6zJ0VUQ3-g",
        "colab_type": "code",
        "colab": {
          "base_uri": "https://localhost:8080/",
          "height": 105
        },
        "outputId": "aeea6d0b-aba2-4a7b-f7f5-f1d3fceba24a"
      },
      "cell_type": "code",
      "source": [
        "gs_clf_svm = GridSearchCV(model, parameters, n_jobs=-1)\n",
        "gs_clf_svm = gs_clf_svm.fit(X, y)\n",
        "print(gs_clf_svm.best_score_)\n",
        "print(gs_clf_svm.best_params_)"
      ],
      "execution_count": 17,
      "outputs": [
        {
          "output_type": "stream",
          "text": [
            "/usr/local/lib/python3.6/dist-packages/sklearn/model_selection/_split.py:2053: FutureWarning: You should specify a value for 'cv' instead of relying on the default value. The default value will change from 3 to 5 in version 0.22.\n",
            "  warnings.warn(CV_WARNING, FutureWarning)\n"
          ],
          "name": "stderr"
        },
        {
          "output_type": "stream",
          "text": [
            "0.9646\n",
            "{'tfidf__use_idf': True, 'vectorizer__ngram_range': (1, 2)}\n"
          ],
          "name": "stdout"
        }
      ]
    },
    {
      "metadata": {
        "id": "a1I-7wNETU3x",
        "colab_type": "text"
      },
      "cell_type": "markdown",
      "source": [
        "So, now we got the **SUITABLE PARAMETERS** from grid search. It’s time to prepare the final pipeline using the best suited parameters."
      ]
    },
    {
      "metadata": {
        "id": "j7qefAhlQ3-l",
        "colab_type": "code",
        "colab": {}
      },
      "cell_type": "code",
      "source": [
        "#preparing the final pipeline using the selected parameters\n",
        "model = Pipeline([('vectorizer', CountVectorizer(ngram_range=(1,2))),\n",
        "    ('tfidf', TfidfTransformer(use_idf=True)),\n",
        "    ('clf', OneVsRestClassifier(LinearSVC(class_weight=\"balanced\")))])"
      ],
      "execution_count": 0,
      "outputs": []
    },
    {
      "metadata": {
        "id": "Gs0wuthBQ3-q",
        "colab_type": "code",
        "colab": {
          "base_uri": "https://localhost:8080/",
          "height": 153
        },
        "outputId": "48a2469b-9dda-4583-a230-77ea5341337b"
      },
      "cell_type": "code",
      "source": [
        "#fit model with training data\n",
        "model.fit(X_train, y_train)"
      ],
      "execution_count": 19,
      "outputs": [
        {
          "output_type": "execute_result",
          "data": {
            "text/plain": [
              "Pipeline(memory=None,\n",
              "     steps=[('vectorizer', CountVectorizer(analyzer='word', binary=False, decode_error='strict',\n",
              "        dtype=<class 'numpy.int64'>, encoding='utf-8', input='content',\n",
              "        lowercase=True, max_df=1.0, max_features=None, min_df=1,\n",
              "        ngram_range=(1, 2), preprocessor=None, stop_words=None,\n",
              "       ..._class='ovr', penalty='l2', random_state=None, tol=0.0001,\n",
              "     verbose=0),\n",
              "          n_jobs=None))])"
            ]
          },
          "metadata": {
            "tags": []
          },
          "execution_count": 19
        }
      ]
    },
    {
      "metadata": {
        "id": "SzGz3hSxQ3-v",
        "colab_type": "code",
        "colab": {}
      },
      "cell_type": "code",
      "source": [
        "#evaluation on test data\n",
        "pred = model.predict(X_test)"
      ],
      "execution_count": 0,
      "outputs": []
    },
    {
      "metadata": {
        "id": "OBuPF6ZwQ3-1",
        "colab_type": "code",
        "colab": {
          "base_uri": "https://localhost:8080/",
          "height": 68
        },
        "outputId": "d34a9137-9cd1-4c87-d388-d5be97f5647d"
      },
      "cell_type": "code",
      "source": [
        "model.classes_"
      ],
      "execution_count": 21,
      "outputs": [
        {
          "output_type": "execute_result",
          "data": {
            "text/plain": [
              "array(['Omnichannel', 'Product Availability', 'Product Comparison',\n",
              "       'Product Specifications', 'Returns & Refunds', 'Sales/Promotions',\n",
              "       'Shipping'], dtype='<U22')"
            ]
          },
          "metadata": {
            "tags": []
          },
          "execution_count": 21
        }
      ]
    },
    {
      "metadata": {
        "id": "C1Dd0ujdUlcf",
        "colab_type": "text"
      },
      "cell_type": "markdown",
      "source": [
        "Then, we will fit the model with training data and test data to just have an overview of the overall perfomance."
      ]
    },
    {
      "metadata": {
        "id": "3tiAtcY8Q3-5",
        "colab_type": "code",
        "colab": {
          "base_uri": "https://localhost:8080/",
          "height": 136
        },
        "outputId": "709adfc5-e4b1-4448-9fdb-fde6c12c6956"
      },
      "cell_type": "code",
      "source": [
        "from sklearn.metrics import confusion_matrix, accuracy_score\n",
        "confusion_matrix(pred, y_test)"
      ],
      "execution_count": 22,
      "outputs": [
        {
          "output_type": "execute_result",
          "data": {
            "text/plain": [
              "array([[128,   0,   0,   0,   0,   0,   0],\n",
              "       [  0, 252,   0,   5,   0,   5,   0],\n",
              "       [  0,   0, 223,   2,   0,   0,   0],\n",
              "       [  0,   1,   6, 254,   0,   1,   0],\n",
              "       [  0,   0,   0,   0, 230,   1,   0],\n",
              "       [  0,   0,   0,   0,   0, 146,   0],\n",
              "       [  2,   0,   0,   0,   0,   0, 244]])"
            ]
          },
          "metadata": {
            "tags": []
          },
          "execution_count": 22
        }
      ]
    },
    {
      "metadata": {
        "id": "YD-3sl5QQ3-8",
        "colab_type": "code",
        "colab": {
          "base_uri": "https://localhost:8080/",
          "height": 34
        },
        "outputId": "60b37d90-7edc-4cac-fc75-30b55b7ca6ff"
      },
      "cell_type": "code",
      "source": [
        "accuracy_score(y_test, pred)"
      ],
      "execution_count": 23,
      "outputs": [
        {
          "output_type": "execute_result",
          "data": {
            "text/plain": [
              "0.9846666666666667"
            ]
          },
          "metadata": {
            "tags": []
          },
          "execution_count": 23
        }
      ]
    },
    {
      "metadata": {
        "id": "SmdXgBovQ3_A",
        "colab_type": "code",
        "colab": {
          "base_uri": "https://localhost:8080/",
          "height": 34
        },
        "outputId": "ff403932-2a8b-48a7-8f4e-9562bed6743b"
      },
      "cell_type": "code",
      "source": [
        "#save the model\n",
        "from sklearn.externals import joblib\n",
        "joblib.dump(model, 'model_question_topic.pkl', compress=1)"
      ],
      "execution_count": 24,
      "outputs": [
        {
          "output_type": "execute_result",
          "data": {
            "text/plain": [
              "['model_question_topic.pkl']"
            ]
          },
          "metadata": {
            "tags": []
          },
          "execution_count": 24
        }
      ]
    },
    {
      "metadata": {
        "id": "TjyMGZIOQ3_E",
        "colab_type": "text"
      },
      "cell_type": "markdown",
      "source": [
        "# Deployment"
      ]
    },
    {
      "metadata": {
        "id": "FZnvyg6EQ3_F",
        "colab_type": "code",
        "colab": {}
      },
      "cell_type": "code",
      "source": [
        "from sklearn.externals import joblib\n",
        "model = joblib.load('model_question_topic.pkl')"
      ],
      "execution_count": 0,
      "outputs": []
    },
    {
      "metadata": {
        "id": "uvS1HwlXQ3_J",
        "colab_type": "code",
        "colab": {
          "base_uri": "https://localhost:8080/",
          "height": 34
        },
        "outputId": "df66321b-9269-493a-b96b-4655cf6259cf"
      },
      "cell_type": "code",
      "source": [
        "question = input()"
      ],
      "execution_count": 30,
      "outputs": [
        {
          "output_type": "stream",
          "text": [
            "Where to pickup my product\n"
          ],
          "name": "stdout"
        }
      ]
    },
    {
      "metadata": {
        "id": "ODSwHaQcQ3_M",
        "colab_type": "code",
        "colab": {
          "base_uri": "https://localhost:8080/",
          "height": 34
        },
        "outputId": "e377614a-91a8-4f91-936b-bd51d0ca9eea"
      },
      "cell_type": "code",
      "source": [
        "model.predict([question])[0]"
      ],
      "execution_count": 31,
      "outputs": [
        {
          "output_type": "execute_result",
          "data": {
            "text/plain": [
              "'Product Comparison'"
            ]
          },
          "metadata": {
            "tags": []
          },
          "execution_count": 31
        }
      ]
    },
    {
      "metadata": {
        "id": "038PgRt2Q3_Q",
        "colab_type": "code",
        "colab": {}
      },
      "cell_type": "code",
      "source": [
        ""
      ],
      "execution_count": 0,
      "outputs": []
    }
  ]
}