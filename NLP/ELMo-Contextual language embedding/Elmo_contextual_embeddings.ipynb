{
  "nbformat": 4,
  "nbformat_minor": 0,
  "metadata": {
    "colab": {
      "name": "Elmo contextual embeddings.ipynb",
      "version": "0.3.2",
      "provenance": [],
      "collapsed_sections": []
    },
    "kernelspec": {
      "name": "python3",
      "display_name": "Python 3"
    }
  },
  "cells": [
    {
      "metadata": {
        "id": "ZU3MR71VpovV",
        "colab_type": "text"
      },
      "cell_type": "markdown",
      "source": [
        "# ELMo: Contextual language embedding\n",
        "\n",
        "## by Josh Taylor\n",
        "\n",
        "Note that you will need to use the non-GPU accelerated run-time on this notebook due to the large memory useage of the ELMo model."
      ]
    },
    {
      "metadata": {
        "id": "GdKJLTIlxh1G",
        "colab_type": "text"
      },
      "cell_type": "markdown",
      "source": [
        "https://towardsdatascience.com/elmo-contextual-language-embedding-335de2268604"
      ]
    },
    {
      "metadata": {
        "id": "rrDju1JSxWGj",
        "colab_type": "text"
      },
      "cell_type": "markdown",
      "source": [
        "<table class=\"tfo-notebook-buttons\" align=\"left\">\n",
        "  <td>\n",
        "    <a target=\"_blank\" href=\"https://colab.research.google.com/github/learning-stack/Colab-ML-Playbook/blob/master/NLP/ELMo-Contextual%20language%20embedding/Elmo_contextual_embeddings.ipynb\"><img src=\"https://www.tensorflow.org/images/colab_logo_32px.png\" />Run in Google Colab</a>\n",
        "  </td>\n",
        "  <td>\n",
        "    <a target=\"_blank\" href=\"https://github.com/learning-stack/Colab-ML-Playbook/blob/master/NLP/ELMo-Contextual%20language%20embedding/Elmo_contextual_embeddings.ipynb\"><img src=\"https://www.tensorflow.org/images/GitHub-Mark-32px.png\" />View source on GitHub</a>\n",
        "  </td>\n",
        "</table>"
      ]
    },
    {
      "metadata": {
        "id": "tzWy-zDEDY1B",
        "colab_type": "text"
      },
      "cell_type": "markdown",
      "source": [
        "This article will explore the latest in natural language modelling; deep contextualised word embeddings. The focus is more practical than theoretical with a worked example of how you can use the state-of-the-art ELMo model to review sentence similarity in a given document as well as creating a simple semantic search engine.\n",
        "\n",
        "**The importance of context in NLP**\n",
        "\n",
        "As we know, language is complex. Context can completely change the meaning of the individual words in a sentence. For example:\n",
        "\n",
        "He kicked the bucket.\n",
        "I have yet to cross-off all the items on my bucket list.\n",
        "The bucket was filled with water.\n",
        "In these sentences, whilst the word ‘bucket’ is always the same, it’s meaning is very different.\n",
        "\n",
        "\n",
        "Words can have different meanings depending on context\n",
        "Whilst we can easily decipher these complexities in language, creating a model which can understand the different nuances of the meaning of words given the surrounding text is difficult.\n",
        "\n",
        "It is for this reason that traditional word embeddings (word2vec, GloVe, fastText) fall short. They only have one representation per word, therefore they cannot capture how the meaning of each word can change based on surrounding context.\n",
        "\n",
        "**Introducing ELMo; Deep Contextualised Word Representations**\n",
        "\n",
        "Enter ELMo. Developed in 2018 by AllenNLP, it goes beyond traditional embedding techniques. It uses a deep, bi-directional LSTM model to create word representations.\n",
        "\n",
        "Rather than a dictionary of words and their corresponding vectors, ELMo analyses words within the context that they are used. It is also character based, allowing the model to form representations of out-of-vocabulary words.\n",
        "\n",
        "This therefore means that the way ELMo is used is quite different to word2vec or fastText. Rather than having a dictionary ‘look-up’ of words and their corresponding vectors, ELMo instead creates vectors on-the-fly by passing text through the deep learning model."
      ]
    },
    {
      "metadata": {
        "id": "-q8JYD36CdYr",
        "colab_type": "text"
      },
      "cell_type": "markdown",
      "source": [
        "## Imports:"
      ]
    },
    {
      "metadata": {
        "id": "_Qgy7Jmr5wSx",
        "colab_type": "code",
        "outputId": "fc6d9665-59d6-4516-d903-e20f2e822b46",
        "colab": {
          "base_uri": "https://localhost:8080/",
          "height": 258
        }
      },
      "cell_type": "code",
      "source": [
        "import os\n",
        "import numpy as np\n",
        "import pandas as pd\n",
        "import tensorflow as tf\n",
        "import tensorflow_hub as hub\n",
        "from sklearn import preprocessing\n",
        "\n",
        "!python -m spacy download en_core_web_md #you will need to install this on first load\n",
        "import spacy\n",
        "from spacy.lang.en import English\n",
        "from spacy import displacy\n"
      ],
      "execution_count": 1,
      "outputs": [
        {
          "output_type": "stream",
          "text": [
            "Collecting en_core_web_md==2.0.0 from https://github.com/explosion/spacy-models/releases/download/en_core_web_md-2.0.0/en_core_web_md-2.0.0.tar.gz#egg=en_core_web_md==2.0.0\n",
            "\u001b[?25l  Downloading https://github.com/explosion/spacy-models/releases/download/en_core_web_md-2.0.0/en_core_web_md-2.0.0.tar.gz (120.8MB)\n",
            "\u001b[K    100% |████████████████████████████████| 120.9MB 47.3MB/s \n",
            "\u001b[?25hInstalling collected packages: en-core-web-md\n",
            "  Running setup.py install for en-core-web-md ... \u001b[?25l-\b \b\\\b \b|\b \b/\b \b-\b \b\\\b \b|\b \b/\b \b-\b \bdone\n",
            "\u001b[?25hSuccessfully installed en-core-web-md-2.0.0\n",
            "\n",
            "\u001b[93m    Linking successful\u001b[0m\n",
            "    /usr/local/lib/python3.6/dist-packages/en_core_web_md -->\n",
            "    /usr/local/lib/python3.6/dist-packages/spacy/data/en_core_web_md\n",
            "\n",
            "    You can now load the model via spacy.load('en_core_web_md')\n",
            "\n"
          ],
          "name": "stdout"
        }
      ]
    },
    {
      "metadata": {
        "id": "RdjjrAa-_RST",
        "colab_type": "text"
      },
      "cell_type": "markdown",
      "source": [
        "**1. Get the text data, clean and tokenize**\n",
        "\n",
        "It is amazing how simple this is to do using Python string functions and spaCy. Here we do some basic text cleaning by:\n",
        "\n",
        "a) removing line breaks, tabs and excess whitespace as well as the mysterious ‘xa0’ character;\n",
        "\n",
        "b) splitting the text into sentences using spaCy’s ‘.sents’ iterator.\n",
        "\n",
        "ELMo can receive either a list of sentence strings or a list of lists (sentences and words). Here we have gone for the former. We know that ELMo is character based, therefore tokenizing words should not have any impact on performance."
      ]
    },
    {
      "metadata": {
        "id": "0sn1oNBq_QAs",
        "colab_type": "code",
        "colab": {}
      },
      "cell_type": "code",
      "source": [
        "nlp = spacy.load('en_core_web_md')\n",
        "from IPython.display import HTML\n",
        "import logging\n",
        "logging.getLogger('tensorflow').disabled = True #OPTIONAL - to disable outputs from Tensorflow"
      ],
      "execution_count": 0,
      "outputs": []
    },
    {
      "metadata": {
        "id": "WMknjdZpCgR0",
        "colab_type": "text"
      },
      "cell_type": "markdown",
      "source": [
        "## Get the data \n",
        "\n",
        "The below downloads a Pandas Dataframe which is publically hosted on Google Drive (this should therefore work for anyone)"
      ]
    },
    {
      "metadata": {
        "id": "7_Oy1nXa6dLi",
        "colab_type": "code",
        "outputId": "95bfa4f3-910e-4b0b-a97d-38a56d5f44cb",
        "colab": {
          "base_uri": "https://localhost:8080/",
          "height": 445
        }
      },
      "cell_type": "code",
      "source": [
        "import requests\n",
        "\n",
        "def download_file_from_google_drive(id, destination):\n",
        "    URL = \"https://docs.google.com/uc?export=download\"\n",
        "\n",
        "    session = requests.Session()\n",
        "\n",
        "    response = session.get(URL, params = { 'id' : id }, stream = True)\n",
        "    token = get_confirm_token(response)\n",
        "\n",
        "    if token:\n",
        "        params = { 'id' : id, 'confirm' : token }\n",
        "        response = session.get(URL, params = params, stream = True)\n",
        "\n",
        "    save_response_content(response, destination)    \n",
        "\n",
        "def get_confirm_token(response):\n",
        "    for key, value in response.cookies.items():\n",
        "        if key.startswith('download_warning'):\n",
        "            return value\n",
        "\n",
        "    return None\n",
        "\n",
        "def save_response_content(response, destination):\n",
        "    CHUNK_SIZE = 32768\n",
        "\n",
        "    with open(destination, \"wb\") as f:\n",
        "        for chunk in response.iter_content(CHUNK_SIZE):\n",
        "            if chunk: # filter out keep-alive new chunks\n",
        "                f.write(chunk)\n",
        "\n",
        "\n",
        "file_id = '1M_XljfV5t_nGjvhyfTPO9n2nfOweMwYx'\n",
        "destination = 'temp'\n",
        "download_file_from_google_drive(file_id, destination)\n",
        "\n",
        "combined = pd.read_pickle('temp')\n",
        "\n",
        "combined.head()"
      ],
      "execution_count": 3,
      "outputs": [
        {
          "output_type": "execute_result",
          "data": {
            "text/html": [
              "<div>\n",
              "<style scoped>\n",
              "    .dataframe tbody tr th:only-of-type {\n",
              "        vertical-align: middle;\n",
              "    }\n",
              "\n",
              "    .dataframe tbody tr th {\n",
              "        vertical-align: top;\n",
              "    }\n",
              "\n",
              "    .dataframe thead th {\n",
              "        text-align: right;\n",
              "    }\n",
              "</style>\n",
              "<table border=\"1\" class=\"dataframe\">\n",
              "  <thead>\n",
              "    <tr style=\"text-align: right;\">\n",
              "      <th></th>\n",
              "      <th>Company</th>\n",
              "      <th>URL</th>\n",
              "      <th>Industry</th>\n",
              "      <th>HQ</th>\n",
              "      <th>Also Covers Companies</th>\n",
              "      <th>UK Modern Slavery Act</th>\n",
              "      <th>California Transparency in Supply Chains Act</th>\n",
              "      <th>Period Covered</th>\n",
              "      <th>text</th>\n",
              "      <th>pdf</th>\n",
              "      <th>error</th>\n",
              "      <th>FT_tfidf</th>\n",
              "    </tr>\n",
              "  </thead>\n",
              "  <tbody>\n",
              "    <tr>\n",
              "      <th>0</th>\n",
              "      <td>118 118 Money</td>\n",
              "      <td>https://www.118118money.com/anti-slavery-state...</td>\n",
              "      <td>Consumer Finance</td>\n",
              "      <td>United Kingdom</td>\n",
              "      <td>NaN</td>\n",
              "      <td>True</td>\n",
              "      <td>False</td>\n",
              "      <td>2016-2017</td>\n",
              "      <td>Introduction\\n\\nThis statement is made pursuan...</td>\n",
              "      <td>0</td>\n",
              "      <td>0</td>\n",
              "      <td>[-0.09019677307999371, 0.23825215930123844, 0....</td>\n",
              "    </tr>\n",
              "    <tr>\n",
              "      <th>1</th>\n",
              "      <td>1Spatial Plc</td>\n",
              "      <td>https://1spatial.com/who-we-are/legal/modern-s...</td>\n",
              "      <td>Software</td>\n",
              "      <td>United Kingdom</td>\n",
              "      <td>NaN</td>\n",
              "      <td>True</td>\n",
              "      <td>False</td>\n",
              "      <td>2017</td>\n",
              "      <td>While 1Spatial’s turnover is below £36m and th...</td>\n",
              "      <td>0</td>\n",
              "      <td>0</td>\n",
              "      <td>[-0.5010607985753625, 0.42660413175930045, -0....</td>\n",
              "    </tr>\n",
              "    <tr>\n",
              "      <th>2</th>\n",
              "      <td>20/20 Projects</td>\n",
              "      <td>http://www.2020projects.co.uk/modernslaverypolicy</td>\n",
              "      <td>Commercial Services &amp; Supplies</td>\n",
              "      <td>United Kingdom</td>\n",
              "      <td>NaN</td>\n",
              "      <td>True</td>\n",
              "      <td>False</td>\n",
              "      <td>2015-2016</td>\n",
              "      <td>html error</td>\n",
              "      <td>0</td>\n",
              "      <td>1</td>\n",
              "      <td>[0.9405487179756165, 0.40332984924316406, 0.70...</td>\n",
              "    </tr>\n",
              "    <tr>\n",
              "      <th>3</th>\n",
              "      <td>2M Holdings Ltd</td>\n",
              "      <td>https://www.2m-holdings.com/2m-holdings-ltd-mo...</td>\n",
              "      <td>Distributors</td>\n",
              "      <td>United Kingdom</td>\n",
              "      <td>NaN</td>\n",
              "      <td>True</td>\n",
              "      <td>False</td>\n",
              "      <td>2015-2016</td>\n",
              "      <td>Modern slavery is a crime resulting in an abho...</td>\n",
              "      <td>0</td>\n",
              "      <td>0</td>\n",
              "      <td>[-0.390252637821283, 0.488747594191321, -0.238...</td>\n",
              "    </tr>\n",
              "    <tr>\n",
              "      <th>4</th>\n",
              "      <td>3i Group plc</td>\n",
              "      <td>https://www.3i.com/media/3815/modern-slavery-s...</td>\n",
              "      <td>Capital Markets</td>\n",
              "      <td>United Kingdom</td>\n",
              "      <td>NaN</td>\n",
              "      <td>True</td>\n",
              "      <td>False</td>\n",
              "      <td>2017-2018</td>\n",
              "      <td>pdf error tika</td>\n",
              "      <td>1</td>\n",
              "      <td>1</td>\n",
              "      <td>[1.0879868624172204, 0.44540999591903685, 0.80...</td>\n",
              "    </tr>\n",
              "  </tbody>\n",
              "</table>\n",
              "</div>"
            ],
            "text/plain": [
              "           Company                                                URL  \\\n",
              "0    118 118 Money  https://www.118118money.com/anti-slavery-state...   \n",
              "1     1Spatial Plc  https://1spatial.com/who-we-are/legal/modern-s...   \n",
              "2  20/20 Projects   http://www.2020projects.co.uk/modernslaverypolicy   \n",
              "3  2M Holdings Ltd  https://www.2m-holdings.com/2m-holdings-ltd-mo...   \n",
              "4     3i Group plc  https://www.3i.com/media/3815/modern-slavery-s...   \n",
              "\n",
              "                         Industry              HQ Also Covers Companies  \\\n",
              "0                Consumer Finance  United Kingdom                   NaN   \n",
              "1                        Software  United Kingdom                   NaN   \n",
              "2  Commercial Services & Supplies  United Kingdom                   NaN   \n",
              "3                    Distributors  United Kingdom                   NaN   \n",
              "4                 Capital Markets  United Kingdom                   NaN   \n",
              "\n",
              "   UK Modern Slavery Act  California Transparency in Supply Chains Act  \\\n",
              "0                   True                                         False   \n",
              "1                   True                                         False   \n",
              "2                   True                                         False   \n",
              "3                   True                                         False   \n",
              "4                   True                                         False   \n",
              "\n",
              "  Period Covered                                               text  pdf  \\\n",
              "0      2016-2017  Introduction\\n\\nThis statement is made pursuan...    0   \n",
              "1           2017  While 1Spatial’s turnover is below £36m and th...    0   \n",
              "2      2015-2016                                         html error    0   \n",
              "3      2015-2016  Modern slavery is a crime resulting in an abho...    0   \n",
              "4      2017-2018                                     pdf error tika    1   \n",
              "\n",
              "   error                                           FT_tfidf  \n",
              "0      0  [-0.09019677307999371, 0.23825215930123844, 0....  \n",
              "1      0  [-0.5010607985753625, 0.42660413175930045, -0....  \n",
              "2      1  [0.9405487179756165, 0.40332984924316406, 0.70...  \n",
              "3      0  [-0.390252637821283, 0.488747594191321, -0.238...  \n",
              "4      1  [1.0879868624172204, 0.44540999591903685, 0.80...  "
            ]
          },
          "metadata": {
            "tags": []
          },
          "execution_count": 3
        }
      ]
    },
    {
      "metadata": {
        "id": "FxkL4RXwVToa",
        "colab_type": "text"
      },
      "cell_type": "markdown",
      "source": [
        "## Create sentence embeddings"
      ]
    },
    {
      "metadata": {
        "id": "CoelrCfg_dX8",
        "colab_type": "text"
      },
      "cell_type": "markdown",
      "source": [
        "**2. Get the ELMo model using TensorFlow Hub:**\n",
        "\n",
        "If you have not yet come across TensorFlow Hub, it is a massive time saver in serving-up a large number of pre-trained models for use in TensorFlow. Luckily for us, one of these models is ELMo. We can load in a fully trained model in just two few lines of code. How satisfying…"
      ]
    },
    {
      "metadata": {
        "id": "UIhHrFsmOC6C",
        "colab_type": "code",
        "colab": {}
      },
      "cell_type": "code",
      "source": [
        "url = \"https://tfhub.dev/google/elmo/2\"\n",
        "embed = hub.Module(url)"
      ],
      "execution_count": 0,
      "outputs": []
    },
    {
      "metadata": {
        "id": "Df76NYQcnQ3W",
        "colab_type": "code",
        "outputId": "635c825e-dd42-48eb-c79d-250ba0503557",
        "colab": {
          "base_uri": "https://localhost:8080/",
          "height": 284
        }
      },
      "cell_type": "code",
      "source": [
        "combined.loc[combined.Company.str.contains(\"Asos\")]"
      ],
      "execution_count": 5,
      "outputs": [
        {
          "output_type": "execute_result",
          "data": {
            "text/html": [
              "<div>\n",
              "<style scoped>\n",
              "    .dataframe tbody tr th:only-of-type {\n",
              "        vertical-align: middle;\n",
              "    }\n",
              "\n",
              "    .dataframe tbody tr th {\n",
              "        vertical-align: top;\n",
              "    }\n",
              "\n",
              "    .dataframe thead th {\n",
              "        text-align: right;\n",
              "    }\n",
              "</style>\n",
              "<table border=\"1\" class=\"dataframe\">\n",
              "  <thead>\n",
              "    <tr style=\"text-align: right;\">\n",
              "      <th></th>\n",
              "      <th>Company</th>\n",
              "      <th>URL</th>\n",
              "      <th>Industry</th>\n",
              "      <th>HQ</th>\n",
              "      <th>Also Covers Companies</th>\n",
              "      <th>UK Modern Slavery Act</th>\n",
              "      <th>California Transparency in Supply Chains Act</th>\n",
              "      <th>Period Covered</th>\n",
              "      <th>text</th>\n",
              "      <th>pdf</th>\n",
              "      <th>error</th>\n",
              "      <th>FT_tfidf</th>\n",
              "    </tr>\n",
              "  </thead>\n",
              "  <tbody>\n",
              "    <tr>\n",
              "      <th>494</th>\n",
              "      <td>Asos plc</td>\n",
              "      <td>https://www.asosplc.com/~/media/Files/A/Asos-V...</td>\n",
              "      <td>Internet &amp; Direct Marketing Retail</td>\n",
              "      <td>United Kingdom</td>\n",
              "      <td>NaN</td>\n",
              "      <td>True</td>\n",
              "      <td>False</td>\n",
              "      <td>2016-2018</td>\n",
              "      <td>\\n\\n\\n\\n\\n\\n\\n\\n\\n\\n\\n\\n\\n\\n\\n\\n\\n\\n\\n\\n\\n\\n\\n...</td>\n",
              "      <td>1</td>\n",
              "      <td>0</td>\n",
              "      <td>[-0.8573993510860287, 0.11926992131730585, -0....</td>\n",
              "    </tr>\n",
              "    <tr>\n",
              "      <th>495</th>\n",
              "      <td>Asos plc</td>\n",
              "      <td>https://www.asosplc.com/~/media/Files/A/ASOS/r...</td>\n",
              "      <td>Internet &amp; Direct Marketing Retail</td>\n",
              "      <td>United Kingdom</td>\n",
              "      <td>NaN</td>\n",
              "      <td>True</td>\n",
              "      <td>False</td>\n",
              "      <td>2015-2016</td>\n",
              "      <td>\\n\\n\\n\\n\\n\\n\\n\\n\\n\\n\\n\\n\\n\\n\\n\\n\\n\\n\\n\\n\\n\\n\\n...</td>\n",
              "      <td>1</td>\n",
              "      <td>0</td>\n",
              "      <td>[-0.6513810935113411, 0.04600498146602333, 0.0...</td>\n",
              "    </tr>\n",
              "  </tbody>\n",
              "</table>\n",
              "</div>"
            ],
            "text/plain": [
              "      Company                                                URL  \\\n",
              "494  Asos plc  https://www.asosplc.com/~/media/Files/A/Asos-V...   \n",
              "495  Asos plc  https://www.asosplc.com/~/media/Files/A/ASOS/r...   \n",
              "\n",
              "                               Industry              HQ Also Covers Companies  \\\n",
              "494  Internet & Direct Marketing Retail  United Kingdom                   NaN   \n",
              "495  Internet & Direct Marketing Retail  United Kingdom                   NaN   \n",
              "\n",
              "     UK Modern Slavery Act  California Transparency in Supply Chains Act  \\\n",
              "494                   True                                         False   \n",
              "495                   True                                         False   \n",
              "\n",
              "    Period Covered                                               text  pdf  \\\n",
              "494      2016-2018  \\n\\n\\n\\n\\n\\n\\n\\n\\n\\n\\n\\n\\n\\n\\n\\n\\n\\n\\n\\n\\n\\n\\n...    1   \n",
              "495      2015-2016  \\n\\n\\n\\n\\n\\n\\n\\n\\n\\n\\n\\n\\n\\n\\n\\n\\n\\n\\n\\n\\n\\n\\n...    1   \n",
              "\n",
              "     error                                           FT_tfidf  \n",
              "494      0  [-0.8573993510860287, 0.11926992131730585, -0....  \n",
              "495      0  [-0.6513810935113411, 0.04600498146602333, 0.0...  "
            ]
          },
          "metadata": {
            "tags": []
          },
          "execution_count": 5
        }
      ]
    },
    {
      "metadata": {
        "id": "AU_MS6MXVe_L",
        "colab_type": "code",
        "outputId": "f20f79f3-3c2d-4797-f16d-825a4876728f",
        "colab": {
          "base_uri": "https://localhost:8080/",
          "height": 34
        }
      },
      "cell_type": "code",
      "source": [
        "text = combined.iloc[494].text\n",
        "import re\n",
        "\n",
        "#text represents our raw text document\n",
        "\n",
        "text = text.lower().replace('\\n', ' ').replace('\\t', ' ').replace('\\xa0',' ')\n",
        "text = ' '.join(text.split())\n",
        "doc = nlp(text)\n",
        "\n",
        "sentences = []\n",
        "for i in doc.sents:\n",
        "  if len(i)>1:\n",
        "    sentences.append(i.string.strip())\n",
        "    \n",
        "len(sentences)"
      ],
      "execution_count": 6,
      "outputs": [
        {
          "output_type": "execute_result",
          "data": {
            "text/plain": [
              "389"
            ]
          },
          "metadata": {
            "tags": []
          },
          "execution_count": 6
        }
      ]
    },
    {
      "metadata": {
        "id": "SjGbrUhapvXE",
        "colab_type": "code",
        "outputId": "60614395-dca2-491b-999c-cfb945fa9040",
        "colab": {
          "base_uri": "https://localhost:8080/",
          "height": 207
        }
      },
      "cell_type": "code",
      "source": [
        "sentences[0:10]"
      ],
      "execution_count": 7,
      "outputs": [
        {
          "output_type": "execute_result",
          "data": {
            "text/plain": [
              "['modern slavery statement september 2016 - march 2018',\n",
              " 'facts & figures - 31 august 2017 slavery, servitude, forced labour, bonded labour, and human trafficking are issues of increasing global concern, affecting all sectors, regions and economies.',\n",
              " 'modern slavery is fundamentally unacceptable within our business and supply chain, and combatting it is an important element of our overall approach to business and human rights.',\n",
              " 'asos is committed to respecting, protecting and championing the human rights of all those who come into contact with our operations, including employees, supply chain workers, customers and local communities.',\n",
              " 'we accept our responsibility to support transparency; to find and resolve problems, to regularly review our business practices, and to collaborate with others to protect the rights of workers, particularly those who are most vulnerable to abuses such as modern slavery.',\n",
              " 'this statement has been published in accordance with the modern slavery act (2015).',\n",
              " 'it provides an update on our activities and commitments detailed in our modern slavery statement 2015/16 to prevent modern slavery in our business operations and supply chains, and sets out the steps taken by asos plc during financial year ending 31 august 2017 and the intervening time to publication.',\n",
              " 'it also outlines our commitments towards mitigating the risk of modern slavery in our supply chains for the next year and to 2020.',\n",
              " 'asos is a multi-platform online shopping destination selling womenswear, menswear, footwear, accessories, gifts and beauty products via our website to millions of young, fashion-loving ’20-somethings’ in 240 countries and territories.',\n",
              " 'about asos business structure asos is based in the uk, with a head office in london, a smaller technology office in birmingham and a customer care centre in leavesden.']"
            ]
          },
          "metadata": {
            "tags": []
          },
          "execution_count": 7
        }
      ]
    },
    {
      "metadata": {
        "id": "U3XhIMQa_oUE",
        "colab_type": "text"
      },
      "cell_type": "markdown",
      "source": [
        "To then use this model in anger we just need a few more lines of code to point it in the direction of our text document and create sentence vectors:"
      ]
    },
    {
      "metadata": {
        "id": "HsGkzCltOMOl",
        "colab_type": "code",
        "colab": {}
      },
      "cell_type": "code",
      "source": [
        "# This tells the model to run through the 'sentences' list and return the default output (1024 dimension sentence vectors).\n",
        "embeddings = embed(\n",
        "    sentences,\n",
        "    signature=\"default\",\n",
        "    as_dict=True)[\"default\"]"
      ],
      "execution_count": 0,
      "outputs": []
    },
    {
      "metadata": {
        "id": "oA6BO4a_Oswf",
        "colab_type": "code",
        "outputId": "ca590719-a379-485d-91cd-3a6bf8383070",
        "colab": {
          "base_uri": "https://localhost:8080/",
          "height": 51
        }
      },
      "cell_type": "code",
      "source": [
        "#Start a session and run ELMo to return the embeddings in variable x\n",
        "\n",
        "%%time\n",
        "with tf.Session() as sess:\n",
        "  sess.run(tf.global_variables_initializer())\n",
        "  sess.run(tf.tables_initializer())\n",
        "  x = sess.run(embeddings)"
      ],
      "execution_count": 9,
      "outputs": [
        {
          "output_type": "stream",
          "text": [
            "CPU times: user 3min 30s, sys: 17.1 s, total: 3min 47s\n",
            "Wall time: 1min 56s\n"
          ],
          "name": "stdout"
        }
      ]
    },
    {
      "metadata": {
        "id": "Qwlt2Husrtzo",
        "colab_type": "text"
      },
      "cell_type": "markdown",
      "source": [
        "## Visualize the sentences using PCA and TSNE"
      ]
    },
    {
      "metadata": {
        "id": "Ylpu0Nqg_uNV",
        "colab_type": "text"
      },
      "cell_type": "markdown",
      "source": [
        "**3. Use visualisation to sense-check outputs**\n",
        "\n",
        "It is amazing how often visualisation is overlooked as a way of gaining greater understanding of data. Pictures speak a thousand words and we are going to create a chart of a thousand words to prove this point (actually it is 8,511 words).\n",
        "\n",
        "Here we will use PCA and t-SNE to reduce the 1,024 dimensions which are output from ELMo down to 2 so that we can review the outputs from the model. I have included further reading on how this is achieved at the end of the article if you want to find out more."
      ]
    },
    {
      "metadata": {
        "id": "xAGj0yJyUD3W",
        "colab_type": "code",
        "colab": {}
      },
      "cell_type": "code",
      "source": [
        "from sklearn.decomposition import PCA\n",
        "\n",
        "pca = PCA(n_components=50)\n",
        "y = pca.fit_transform(x)\n",
        "\n",
        "from sklearn.manifold import TSNE\n",
        "\n",
        "y = TSNE(n_components=2).fit_transform(y)"
      ],
      "execution_count": 0,
      "outputs": []
    },
    {
      "metadata": {
        "id": "jeDyJ2SF_2Kd",
        "colab_type": "text"
      },
      "cell_type": "markdown",
      "source": [
        "Using the amazing Plotly library, we can create a beautiful, interactive plot in no time at all. The below code shows how to render the results of our dimensionality reduction and join this back up to the sentence text. Colour has also been added based on the sentence length. As we are using Colab, the last line of code downloads the HTML file. This can be found below:"
      ]
    },
    {
      "metadata": {
        "id": "KGUyrjcMfdJp",
        "colab_type": "code",
        "outputId": "fdbf7e21-7f54-480d-8b88-6993ee01476c",
        "colab": {
          "base_uri": "https://localhost:8080/",
          "height": 17
        }
      },
      "cell_type": "code",
      "source": [
        "import plotly.plotly as py\n",
        "import plotly.graph_objs as go\n",
        "from plotly.offline import download_plotlyjs, init_notebook_mode, plot, iplot\n",
        "\n",
        "init_notebook_mode(connected=True)\n",
        "\n",
        "\n",
        "data = [\n",
        "    go.Scatter(\n",
        "        x=[i[0] for i in y],\n",
        "        y=[i[1] for i in y],\n",
        "        mode='markers',\n",
        "        text=[i for i in sentences],\n",
        "    marker=dict(\n",
        "        size=16,\n",
        "        color = [len(i) for i in sentences], #set color equal to a variable\n",
        "        opacity= 0.8,\n",
        "        colorscale='Viridis',\n",
        "        showscale=False\n",
        "    )\n",
        "    )\n",
        "]\n",
        "layout = go.Layout()\n",
        "layout = dict(\n",
        "              yaxis = dict(zeroline = False),\n",
        "              xaxis = dict(zeroline = False)\n",
        "             )\n",
        "fig = go.Figure(data=data, layout=layout)\n",
        "file = plot(fig, filename='Sentence encode.html')\n",
        "\n",
        "from google.colab import files\n",
        "files.download('Sentence encode.html') "
      ],
      "execution_count": 11,
      "outputs": [
        {
          "output_type": "display_data",
          "data": {
            "text/html": [
              "<script>requirejs.config({paths: { 'plotly': ['https://cdn.plot.ly/plotly-latest.min']},});if(!window.Plotly) {{require(['plotly'],function(plotly) {window.Plotly=plotly;});}}</script>"
            ],
            "text/plain": [
              "<IPython.core.display.HTML object>"
            ]
          },
          "metadata": {
            "tags": []
          }
        }
      ]
    },
    {
      "metadata": {
        "id": "eAu1zHOjrzzj",
        "colab_type": "text"
      },
      "cell_type": "markdown",
      "source": [
        "## Create a semantic search engine:"
      ]
    },
    {
      "metadata": {
        "id": "HfgIfOxXQ8ba",
        "colab_type": "code",
        "cellView": "form",
        "outputId": "7541486e-6161-43a1-9de9-009e1f9c1d0f",
        "colab": {
          "base_uri": "https://localhost:8080/",
          "height": 167
        }
      },
      "cell_type": "code",
      "source": [
        "#@title Sementic search\n",
        "#@markdown Enter a set of words to find matching sentences. 'results_returned' can beused to modify the number of matching sentences retured. To view the code behind this cell, use the menu in the top right to unhide...\n",
        "search_string = \"modern slave\" #@param {type:\"string\"}\n",
        "results_returned = \"2\" #@param [1, 2, 3]\n",
        "\n",
        "from sklearn.metrics.pairwise import cosine_similarity\n",
        "\n",
        "\n",
        "embeddings2 = embed(\n",
        "    [search_string],\n",
        "    signature=\"default\",\n",
        "    as_dict=True)[\"default\"]\n",
        "\n",
        "with tf.Session() as sess:\n",
        "  sess.run(tf.global_variables_initializer())\n",
        "  sess.run(tf.tables_initializer())\n",
        "  search_vect = sess.run(embeddings2)\n",
        "  \n",
        "\n",
        "cosine_similarities = pd.Series(cosine_similarity(search_vect, x).flatten())\n",
        "output =\"\"\n",
        "for i,j in cosine_similarities.nlargest(int(results_returned)).iteritems():\n",
        "  output +='<p style=\"font-family:verdana; font-size:110%;\"> '\n",
        "  for i in sentences[i].split():\n",
        "    if i.lower() in search_string:\n",
        "      output += \" <b>\"+str(i)+\"</b>\"\n",
        "    else:\n",
        "      output += \" \"+str(i)\n",
        "  output += \"</p><hr>\"\n",
        "    \n",
        "output = '<h3>Results:</h3>'+output\n",
        "display(HTML(output))\n",
        "#   print(sentences[i])\n",
        "#   print('\\n')\n"
      ],
      "execution_count": 16,
      "outputs": [
        {
          "output_type": "display_data",
          "data": {
            "text/html": [
              "<h3>Results:</h3><p style=\"font-family:verdana; font-size:110%;\">  it also means recognising the complex nature of <b>modern</b> slavery and developing informative and accessible training for all employees to increase their awareness of the risk of <b>modern</b> slavery in our business and the wider fashion industry.</p><hr><p style=\"font-family:verdana; font-size:110%;\">  - march 2018 child labour and young workers • children and young workers are more vulnerable to forms of <b>modern</b> slavery such as forced and compulsory labour as well as human trafficking.</p><hr>"
            ],
            "text/plain": [
              "<IPython.core.display.HTML object>"
            ]
          },
          "metadata": {
            "tags": []
          }
        }
      ]
    }
  ]
}