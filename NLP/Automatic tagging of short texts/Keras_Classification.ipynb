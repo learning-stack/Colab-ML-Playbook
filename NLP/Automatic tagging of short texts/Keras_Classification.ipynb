{
  "nbformat": 4,
  "nbformat_minor": 0,
  "metadata": {
    "colab": {
      "name": "Keras_Classification.ipynb",
      "version": "0.3.2",
      "provenance": []
    },
    "kernelspec": {
      "name": "python3",
      "display_name": "Python 3"
    },
    "accelerator": "TPU"
  },
  "cells": [
    {
      "metadata": {
        "id": "5Ym402hQwMxw",
        "colab_type": "text"
      },
      "cell_type": "markdown",
      "source": [
        "# Message Classifier, Multi class with a Neural Network\n",
        "\n",
        "Gilbert François Duivesteijn (gilbert@deep-impact.ch)\n",
        "\n"
      ]
    },
    {
      "metadata": {
        "id": "rJoR3MkywMxz",
        "colab_type": "text"
      },
      "cell_type": "markdown",
      "source": [
        "<img src=\"https://github.com/learning-stack/Colab-ML-Playbook/blob/master/NLP/Automatic%20tagging%20of%20short%20texts/images/dt140704.gif?raw=1\" width=800>"
      ]
    },
    {
      "metadata": {
        "id": "Xda0qeiUwMx1",
        "colab_type": "code",
        "colab": {}
      },
      "cell_type": "code",
      "source": [
        "import pandas as pd\n",
        "import numpy as np\n",
        "from sklearn.model_selection import train_test_split\n",
        "\n",
        "import itertools\n",
        "\n",
        "from keras.preprocessing import sequence\n",
        "from keras.models import Sequential\n",
        "from keras.layers import Dense, Dropout, Activation\n",
        "from keras.layers import Input\n",
        "from keras.layers import Conv1D, MaxPooling1D, Embedding\n",
        "from keras.models import Model\n",
        "\n",
        "from keras.layers import Embedding\n",
        "from keras.layers import LSTM\n",
        "from keras.layers import Conv1D, MaxPooling1D\n",
        "from keras.preprocessing.text import Tokenizer\n",
        "from keras.callbacks import EarlyStopping\n",
        "\n",
        "from keras.utils import to_categorical\n",
        "\n",
        "from sklearn.metrics import classification_report\n",
        "from sklearn.metrics import confusion_matrix\n",
        "from sklearn.metrics import accuracy_score\n",
        "from sklearn.model_selection import cross_val_score\n",
        "\n",
        "np.set_printoptions(precision=3, linewidth=100)"
      ],
      "execution_count": 0,
      "outputs": []
    },
    {
      "metadata": {
        "id": "uOzjrvNewzDf",
        "colab_type": "code",
        "colab": {}
      },
      "cell_type": "code",
      "source": [
        "# Import custom library from my github\n",
        "\n",
        "import urllib.request\n",
        "\n",
        "def download(url):\n",
        "    filename = url.split('/')[-1]\n",
        "    print ('Downloading', filename)\n",
        "    f =  urllib.request.urlopen(url)\n",
        "    data = f.read()\n",
        "    f.close()\n",
        "    with open(filename, 'wb') as myfile:\n",
        "        myfile.write(data)\n",
        "\n",
        "# get .py file from repository\n",
        "download('https://raw.githubusercontent.com/learning-stack/Colab-ML-Playbook/master/NLP/Automatic%20tagging%20of%20short%20texts/lib/utils.py')\n",
        "\n",
        "from utils import plot_confusion_matrix"
      ],
      "execution_count": 0,
      "outputs": []
    },
    {
      "metadata": {
        "id": "eTOcP0zOwMx5",
        "colab_type": "code",
        "colab": {}
      },
      "cell_type": "code",
      "source": [
        "import matplotlib.pyplot as plt\n",
        "%matplotlib notebook"
      ],
      "execution_count": 0,
      "outputs": []
    },
    {
      "metadata": {
        "id": "52NSaU2VwTy6",
        "colab_type": "code",
        "colab": {}
      },
      "cell_type": "code",
      "source": [
        "!wget https://github.com/gilbertfrancois/pydata2018-tagging/blob/master/data/messages-cls.pkl?raw=true"
      ],
      "execution_count": 0,
      "outputs": []
    },
    {
      "metadata": {
        "id": "cpq9QHHAwMx8",
        "colab_type": "code",
        "colab": {}
      },
      "cell_type": "code",
      "source": [
        "df_cls_messages = pd.read_pickle('messages-cls.pkl?raw=true')"
      ],
      "execution_count": 0,
      "outputs": []
    },
    {
      "metadata": {
        "id": "TGlLWMdjwMyB",
        "colab_type": "code",
        "colab": {}
      },
      "cell_type": "code",
      "source": [
        "dict_classes = {\n",
        "    0: 'late/early',\n",
        "    1: 'holidays',\n",
        "    2: 'home office',\n",
        "    3: 'med app',\n",
        "    4: 'ill',\n",
        "    5: 'business',\n",
        "    6: 'in office',\n",
        "    7: 'miscellaneous'\n",
        "}"
      ],
      "execution_count": 0,
      "outputs": []
    },
    {
      "metadata": {
        "id": "dd3egKLowMyE",
        "colab_type": "code",
        "colab": {}
      },
      "cell_type": "code",
      "source": [
        "samples = df_cls_messages.dropna()\n",
        "samples['class'] = samples.loc[:, 'class'].astype(np.uint8).values\n",
        "\n",
        "samples['text'] = samples['text'].str.lower()\n",
        "samples['text'] = samples['text'].str.replace('ho','home office')\n",
        "samples['text'] = samples['text'].str.replace('homeoffice','home office')\n",
        "\n",
        "len(samples)"
      ],
      "execution_count": 0,
      "outputs": []
    },
    {
      "metadata": {
        "id": "DYUOyfDSwMyI",
        "colab_type": "code",
        "colab": {}
      },
      "cell_type": "code",
      "source": [
        "X = samples['text']\n",
        "y = samples['class']\n",
        "\n",
        "X[:10]"
      ],
      "execution_count": 0,
      "outputs": []
    },
    {
      "metadata": {
        "id": "lSBXzf-UwMyL",
        "colab_type": "code",
        "colab": {}
      },
      "cell_type": "code",
      "source": [
        "# Embedding\n",
        "max_features = 3000\n",
        "maxlen = 50\n",
        "embedding_size = 100\n",
        "\n",
        "# Convolution\n",
        "kernel_size = 5\n",
        "filters = 64\n",
        "pool_size = 4\n",
        "\n",
        "# LSTM\n",
        "lstm_output_size = 70\n",
        "\n",
        "# Training\n",
        "batch_size = 20\n",
        "epochs = 12"
      ],
      "execution_count": 0,
      "outputs": []
    },
    {
      "metadata": {
        "id": "RTV8SjibwMyS",
        "colab_type": "text"
      },
      "cell_type": "markdown",
      "source": [
        "## Tokenizing"
      ]
    },
    {
      "metadata": {
        "id": "xiVGZgaqwMyU",
        "colab_type": "code",
        "colab": {}
      },
      "cell_type": "code",
      "source": [
        "tokenizer = Tokenizer(num_words=None, filters='!\"#$%&()*+,-./:;<=>?@[\\]^_`{|}~', lower=True, split=' ', char_level=False)\n",
        "tokenizer.fit_on_texts(X)\n",
        "Xt = tokenizer.texts_to_sequences(X)\n",
        "\n",
        "print(X.iloc[2])\n",
        "print(Xt[2])"
      ],
      "execution_count": 0,
      "outputs": []
    },
    {
      "metadata": {
        "id": "eR5qN3AOwMya",
        "colab_type": "code",
        "colab": {}
      },
      "cell_type": "code",
      "source": [
        "word_index = tokenizer.word_index\n",
        "num_words = len(word_index)\n",
        "print('Number of words in the corpus: {}'.format(num_words))"
      ],
      "execution_count": 0,
      "outputs": []
    },
    {
      "metadata": {
        "id": "5qnFaKATwMyk",
        "colab_type": "code",
        "colab": {}
      },
      "cell_type": "code",
      "source": [
        "len_list = np.array([len(x) for x in Xt])\n",
        "mean_len = np.mean(len_list)\n",
        "std_len = np.std(len_list)\n",
        "print(mean_len, std_len)"
      ],
      "execution_count": 0,
      "outputs": []
    },
    {
      "metadata": {
        "id": "aOGR4cgLwMyo",
        "colab_type": "text"
      },
      "cell_type": "markdown",
      "source": [
        "## Multi Label Binarizer"
      ]
    },
    {
      "metadata": {
        "id": "_9rh06QSwMyp",
        "colab_type": "code",
        "colab": {}
      },
      "cell_type": "code",
      "source": [
        "yc = to_categorical(y-1)\n",
        "yc[:10]"
      ],
      "execution_count": 0,
      "outputs": []
    },
    {
      "metadata": {
        "id": "eoMdqKaKwMyr",
        "colab_type": "text"
      },
      "cell_type": "markdown",
      "source": [
        "## Sequence padding\n",
        "\n",
        "Make all input vectors the same size by truncating or adding zeros."
      ]
    },
    {
      "metadata": {
        "id": "OHTfMQ7awMys",
        "colab_type": "code",
        "colab": {}
      },
      "cell_type": "code",
      "source": [
        "Xts = sequence.pad_sequences(Xt, maxlen=maxlen, padding='post')\n",
        "print(X[0], '\\n')\n",
        "print(Xt[0], '\\n')\n",
        "print(Xts[0], '\\n')"
      ],
      "execution_count": 0,
      "outputs": []
    },
    {
      "metadata": {
        "id": "71gql-cGwMyu",
        "colab_type": "text"
      },
      "cell_type": "markdown",
      "source": [
        "## Split dataset"
      ]
    },
    {
      "metadata": {
        "id": "17X1pYCbwMyv",
        "colab_type": "code",
        "colab": {}
      },
      "cell_type": "code",
      "source": [
        "X_train, X_test, y_train, y_test = train_test_split(Xts, yc, test_size=0.10, random_state=1)\n",
        "\n",
        "print('X_train shape: {}'.format(X_train.shape))\n",
        "print('X_test shape : {}'.format(X_test.shape))"
      ],
      "execution_count": 0,
      "outputs": []
    },
    {
      "metadata": {
        "id": "hpGCqesIwMyy",
        "colab_type": "text"
      },
      "cell_type": "markdown",
      "source": [
        "## Build and train the model"
      ]
    },
    {
      "metadata": {
        "id": "j5OkOoLhwMy0",
        "colab_type": "code",
        "colab": {}
      },
      "cell_type": "code",
      "source": [
        "def build_and_train_model(X_train, X_test, y_train, y_test, verbose=1):\n",
        "    print('Build model...')\n",
        "    model = Sequential()\n",
        "    model.add(Embedding(max_features, embedding_size, input_length=maxlen))\n",
        "    model.add(Dropout(0.25))\n",
        "    model.add(Conv1D(filters,\n",
        "                     kernel_size,\n",
        "                     padding='valid',\n",
        "                     activation='relu',\n",
        "                     strides=1))\n",
        "    model.add(MaxPooling1D(pool_size=pool_size))\n",
        "    model.add(LSTM(lstm_output_size))\n",
        "    model.add(Dense(8))\n",
        "    model.add(Activation('softmax'))\n",
        "\n",
        "    callback = EarlyStopping(monitor='val_acc', patience=2)\n",
        "\n",
        "    model.compile(loss='categorical_crossentropy', optimizer='adam', metrics=['accuracy'])\n",
        "\n",
        "    print('Train...')\n",
        "    H = model.fit(X_train, y_train,\n",
        "              batch_size=batch_size,\n",
        "              epochs=epochs,\n",
        "              validation_data=(X_test, y_test), callbacks=[callback], verbose=verbose)\n",
        "    score, acc = model.evaluate(X_test, y_test, batch_size=batch_size)\n",
        "    print('Test accuracy:', acc)\n",
        "    return model, H, acc"
      ],
      "execution_count": 0,
      "outputs": []
    },
    {
      "metadata": {
        "id": "Gf21CnXNwMy3",
        "colab_type": "code",
        "colab": {}
      },
      "cell_type": "code",
      "source": [
        "model, H, acc = build_and_train_model(X_train, X_test, y_train, y_test)"
      ],
      "execution_count": 0,
      "outputs": []
    },
    {
      "metadata": {
        "id": "cGmPyUiGwMy5",
        "colab_type": "code",
        "colab": {}
      },
      "cell_type": "code",
      "source": [
        "fig, axs = plt.subplots(1, 2, figsize=(10, 5))\n",
        "axs[0].plot(H.history['acc'], label='acc')\n",
        "axs[0].plot(H.history['val_acc'], label='val_acc')\n",
        "axs[1].plot(H.history['loss'], label='loss')\n",
        "axs[1].plot(H.history['val_loss'], label='val_loss')"
      ],
      "execution_count": 0,
      "outputs": []
    },
    {
      "metadata": {
        "scrolled": false,
        "id": "666SUgurwMy9",
        "colab_type": "code",
        "colab": {}
      },
      "cell_type": "code",
      "source": [
        "y_pred = model.predict(X_test)"
      ],
      "execution_count": 0,
      "outputs": []
    },
    {
      "metadata": {
        "id": "XmbnC3BLwMzA",
        "colab_type": "code",
        "colab": {}
      },
      "cell_type": "code",
      "source": [
        "print(classification_report(y_pred=np.argmax(y_pred, axis=1), y_true=np.argmax(y_test, axis=1)))\n",
        "cm = confusion_matrix(y_pred=np.argmax(y_pred, axis=1), y_true=np.argmax(y_test, axis=1))\n",
        "plt.figure()\n",
        "plot_confusion_matrix(cm, classes=dict_classes.values(), normalize=True);"
      ],
      "execution_count": 0,
      "outputs": []
    },
    {
      "metadata": {
        "id": "QPRt_cjfwMzE",
        "colab_type": "text"
      },
      "cell_type": "markdown",
      "source": [
        "## Training an ensemble\n",
        "\n",
        "Since we do early stopping, to minimise overfitting, the model is not fully trained yet. The effect of random initialisation is noticable. Hence, when training e.g. 10 times from scratch, you end up with 10 models with different performance. An idea to smooth this effect is to train multiple times and use all models for the prediction. Add all resulting output vectors and take the $argmax$. This will be your final prediction."
      ]
    },
    {
      "metadata": {
        "id": "uj5KYk2TwMzE",
        "colab_type": "code",
        "colab": {}
      },
      "cell_type": "code",
      "source": [
        "n_models = 10\n",
        "\n",
        "model_list = []\n",
        "H_list = []\n",
        "acc_list = []\n",
        "for i in range(n_models):\n",
        "    print('Training model {}'.format(i+1))\n",
        "    _model, _H, _acc = build_and_train_model(X_train, X_test, y_train, y_test, verbose=0)\n",
        "    model_list.append(_model)\n",
        "    H_list.append(_H)\n",
        "    acc_list.append(_acc)"
      ],
      "execution_count": 0,
      "outputs": []
    },
    {
      "metadata": {
        "id": "zGv0-1KYwMzH",
        "colab_type": "code",
        "colab": {}
      },
      "cell_type": "code",
      "source": [
        "print('Mean test accuracy: {:.3f}'.format(np.mean(np.array(acc_list))))"
      ],
      "execution_count": 0,
      "outputs": []
    },
    {
      "metadata": {
        "scrolled": false,
        "id": "1ZakXIjCwMzK",
        "colab_type": "code",
        "colab": {}
      },
      "cell_type": "code",
      "source": [
        "fig, axs = plt.subplots(1, 2, figsize=(10, 5))\n",
        "for H in H_list:\n",
        "    axs[0].plot(H.history['acc'], label='acc')\n",
        "    axs[0].plot(H.history['val_acc'], label='val_acc')\n",
        "    axs[1].plot(H.history['loss'], label='loss')\n",
        "    axs[1].plot(H.history['val_loss'], label='val_loss')"
      ],
      "execution_count": 0,
      "outputs": []
    },
    {
      "metadata": {
        "id": "Ztb6q2i9wMzO",
        "colab_type": "code",
        "colab": {}
      },
      "cell_type": "code",
      "source": [
        "y_pred_list = []\n",
        "for index in range(len(X_test)):\n",
        "    y_pred = np.zeros(8)\n",
        "    for model in model_list:\n",
        "        y_pred += model.predict(X_test[index][np.newaxis])[0]\n",
        "    y_pred_list.append(y_pred)\n",
        "    \n",
        "y_pred = np.array(y_pred_list)"
      ],
      "execution_count": 0,
      "outputs": []
    },
    {
      "metadata": {
        "id": "a-OphaGxwMzT",
        "colab_type": "code",
        "colab": {}
      },
      "cell_type": "code",
      "source": [
        "accuracy_score(y_true=np.argmax(y_test, axis=1), y_pred=np.argmax(y_pred, axis=1))"
      ],
      "execution_count": 0,
      "outputs": []
    },
    {
      "metadata": {
        "scrolled": false,
        "id": "ZyANLT_lwMzW",
        "colab_type": "code",
        "colab": {}
      },
      "cell_type": "code",
      "source": [
        "print(classification_report(y_pred=np.argmax(y_pred, axis=1), y_true=np.argmax(y_test, axis=1)))\n",
        "print('Accuracy: {:.3f}'.format(accuracy_score(y_true=np.argmax(y_test, axis=1), y_pred=np.argmax(y_pred, axis=1))))\n",
        "cm = confusion_matrix(y_pred=np.argmax(y_pred, axis=1), y_true=np.argmax(y_test, axis=1))\n",
        "plt.figure()\n",
        "plot_confusion_matrix(cm, classes=dict_classes.values(), normalize=True);"
      ],
      "execution_count": 0,
      "outputs": []
    },
    {
      "metadata": {
        "id": "7X_eW2-QwMza",
        "colab_type": "code",
        "colab": {}
      },
      "cell_type": "code",
      "source": [
        "def tag_message(message):\n",
        "    X_new = tokenizer.texts_to_sequences([message])\n",
        "    x1_new = sequence.pad_sequences(X_new, maxlen=maxlen, padding='post')\n",
        "    y_pred_list = []\n",
        "    for model in model_list:\n",
        "        y_pred_list.append(model.predict(x1_new))\n",
        "    y_pred = np.argmax(np.sum(np.array(y_pred_list), axis=0) / 10.0)\n",
        "    print('{:>20} | {}'.format(dict_classes[y_pred], message))"
      ],
      "execution_count": 0,
      "outputs": []
    },
    {
      "metadata": {
        "id": "IHrM8qSfwMzd",
        "colab_type": "code",
        "colab": {}
      },
      "cell_type": "code",
      "source": [
        "tag_message('My alarm clock was not set properly. I come to the office asap.')\n",
        "tag_message('It is my scheduled day off.')\n",
        "tag_message('See you on Wednesday.')\n",
        "tag_message('Not feeling well today, I had to vomit.')\n",
        "tag_message('I work at home on Tuesday.')\n",
        "tag_message('This morning I have a meeting at ACME.')\n",
        "tag_message('The roads are super slippery, will miss the daily')\n",
        "tag_message('get well soon!')\n",
        "tag_message('I\\'m away for a long lunch between 12:00 and 15:30')\n",
        "tag_message('I have an appointment at the physio.')"
      ],
      "execution_count": 0,
      "outputs": []
    },
    {
      "metadata": {
        "id": "lNJlh4FrwMzh",
        "colab_type": "text"
      },
      "cell_type": "markdown",
      "source": [
        "## Transfer learning with pretrained embeddings"
      ]
    },
    {
      "metadata": {
        "id": "xE1kGqj2wMzj",
        "colab_type": "code",
        "colab": {}
      },
      "cell_type": "code",
      "source": [
        "embeddings_index = {}\n",
        "with open('glove/glove.6B.100d.txt', 'r') as f:\n",
        "    for line in f:\n",
        "        values = line.split()\n",
        "        word = values[0]\n",
        "        coefs = np.asarray(values[1:], dtype='float32')\n",
        "        embeddings_index[word] = coefs\n",
        "\n",
        "print('Found %s word vectors.' % len(embeddings_index))"
      ],
      "execution_count": 0,
      "outputs": []
    },
    {
      "metadata": {
        "id": "NRQUDomPwMzo",
        "colab_type": "code",
        "colab": {}
      },
      "cell_type": "code",
      "source": [
        "embeddings_index['home'].shape"
      ],
      "execution_count": 0,
      "outputs": []
    },
    {
      "metadata": {
        "id": "tQ2gotnFwMzr",
        "colab_type": "code",
        "colab": {}
      },
      "cell_type": "code",
      "source": [
        "embedding_matrix = np.zeros((len(word_index) + 1, 100))\n",
        "for word, i in word_index.items():\n",
        "    embedding_vector = embeddings_index.get(word)\n",
        "    if embedding_vector is not None:\n",
        "        # words not found in embedding index will be all-zeros.\n",
        "        embedding_matrix[i] = embedding_vector\n",
        "        \n",
        "print(embedding_matrix.shape)"
      ],
      "execution_count": 0,
      "outputs": []
    },
    {
      "metadata": {
        "id": "V8Rd_N2-wMzt",
        "colab_type": "code",
        "colab": {}
      },
      "cell_type": "code",
      "source": [
        "print('Build model...')\n",
        "\n",
        "model = Sequential()\n",
        "# model.add(Input(shape=(maxlen,), dtype='int32'))\n",
        "model.add(Embedding(embedding_matrix.shape[0], embedding_matrix.shape[1], weights=[embedding_matrix], input_length=maxlen, trainable=False))\n",
        "model.add(Dropout(0.25))\n",
        "model.add(Conv1D(filters,\n",
        "                 kernel_size,\n",
        "                 padding='valid',\n",
        "                 activation='relu',\n",
        "                 strides=1))\n",
        "model.add(MaxPooling1D(pool_size=pool_size))\n",
        "model.add(LSTM(lstm_output_size))\n",
        "model.add(Dense(8))\n",
        "model.add(Activation('softmax'))\n",
        "\n",
        "callback = EarlyStopping(monitor='val_acc', patience=1)\n",
        "\n",
        "model.compile(loss='categorical_crossentropy',\n",
        "              optimizer='adam',\n",
        "              metrics=['accuracy'])\n",
        "\n",
        "print('Train...')\n",
        "H = model.fit(X_train, y_train,\n",
        "          batch_size=batch_size,\n",
        "          epochs=epochs,\n",
        "          validation_data=(X_test, y_test), callbacks=[callback])\n",
        "score, acc = model.evaluate(X_test, y_test, batch_size=batch_size)\n",
        "print('Test score:', score)\n",
        "print('Test accuracy:', acc)"
      ],
      "execution_count": 0,
      "outputs": []
    },
    {
      "metadata": {
        "scrolled": true,
        "id": "ygFWzLKOwMzv",
        "colab_type": "code",
        "colab": {}
      },
      "cell_type": "code",
      "source": [
        "y_pred = model.predict(X_test)"
      ],
      "execution_count": 0,
      "outputs": []
    },
    {
      "metadata": {
        "id": "DrBc11U-wMzy",
        "colab_type": "code",
        "colab": {}
      },
      "cell_type": "code",
      "source": [
        "print(classification_report(y_pred=np.argmax(y_pred, axis=1), y_true=np.argmax(y_test, axis=1)))\n",
        "cm = confusion_matrix(y_pred=np.argmax(y_pred, axis=1), y_true=np.argmax(y_test, axis=1))\n",
        "plt.figure()\n",
        "plot_confusion_matrix(cm, classes=dict_classes.values(), normalize=True);"
      ],
      "execution_count": 0,
      "outputs": []
    }
  ]
}