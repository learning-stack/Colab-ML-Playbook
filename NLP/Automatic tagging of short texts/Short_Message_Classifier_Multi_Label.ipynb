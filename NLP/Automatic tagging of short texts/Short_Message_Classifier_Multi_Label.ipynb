{
  "nbformat": 4,
  "nbformat_minor": 0,
  "metadata": {
    "colab": {
      "name": "Short_Message_Classifier_Multi_Label.ipynb",
      "version": "0.3.2",
      "provenance": []
    },
    "kernelspec": {
      "name": "python3",
      "display_name": "Python 3"
    },
    "accelerator": "TPU"
  },
  "cells": [
    {
      "metadata": {
        "id": "EhJHz4dPyh-0",
        "colab_type": "text"
      },
      "cell_type": "markdown",
      "source": [
        "# Message Classifier, Multi class, Multi label\n",
        "Gilbert François Duivesteijn (gilbert@deep-impact.ch)"
      ]
    },
    {
      "metadata": {
        "id": "dYSkAP7FS7aG",
        "colab_type": "text"
      },
      "cell_type": "markdown",
      "source": [
        "https://www.youtube.com/watch?v=FnuTpcd6mS0"
      ]
    },
    {
      "metadata": {
        "id": "VMHd4Rg1S95U",
        "colab_type": "text"
      },
      "cell_type": "markdown",
      "source": [
        "<table class=\"tfo-notebook-buttons\" align=\"left\">\n",
        "  <td>\n",
        "    <a target=\"_blank\" href=\"https://colab.research.google.com/github/learning-stack/Colab-ML-Playbook/blob/master/NLP/Automatic%20tagging%20of%20short%20texts/Short_Message_Classifier_Multi_Label.ipynb\"><img src=\"https://www.tensorflow.org/images/colab_logo_32px.png\" />Run in Google Colab</a>\n",
        "  </td>\n",
        "  <td>\n",
        "    <a target=\"_blank\" href=\"https://github.com/learning-stack/Colab-ML-Playbook/blob/master/NLP/Automatic%20tagging%20of%20short%20texts/Short_Message_Classifier_Multi_Label.ipynb\"><img src=\"https://www.tensorflow.org/images/GitHub-Mark-32px.png\" />View source on GitHub</a>\n",
        "  </td>\n",
        "</table>"
      ]
    },
    {
      "metadata": {
        "id": "ZPX8aUgeyh-4",
        "colab_type": "text"
      },
      "cell_type": "markdown",
      "source": [
        "<img src=\"https://github.com/gilbertfrancois/pydata2018-tagging/blob/master/images/dt_c111012.gif?raw=true\" width=800>"
      ]
    },
    {
      "metadata": {
        "id": "sbB4xC1nyh-5",
        "colab_type": "code",
        "outputId": "4fde2444-b887-4a12-ab69-d2f07691723c",
        "colab": {
          "base_uri": "https://localhost:8080/",
          "height": 367
        }
      },
      "cell_type": "code",
      "source": [
        "import os\n",
        "import pickle as pkl\n",
        "import re\n",
        "import string\n",
        "\n",
        "import nltk\n",
        "from nltk import tokenize\n",
        "import numpy as np\n",
        "import pandas as pd\n",
        "from sklearn.feature_extraction.text import CountVectorizer\n",
        "from sklearn.feature_extraction.text import TfidfTransformer\n",
        "from sklearn.metrics import classification_report\n",
        "from sklearn.metrics import confusion_matrix\n",
        "from sklearn.model_selection import GridSearchCV\n",
        "from sklearn.model_selection import cross_val_score\n",
        "from sklearn.model_selection import train_test_split\n",
        "from sklearn.multiclass import OneVsRestClassifier\n",
        "from sklearn.pipeline import Pipeline\n",
        "from sklearn.preprocessing import MultiLabelBinarizer\n",
        "from sklearn.preprocessing import OneHotEncoder\n",
        "from sklearn.svm import LinearSVC\n",
        "from sklearn.svm import SVC\n",
        "\n",
        "np.set_printoptions(precision=3, linewidth=100)"
      ],
      "execution_count": 0,
      "outputs": [
        {
          "output_type": "error",
          "ename": "ModuleNotFoundError",
          "evalue": "ignored",
          "traceback": [
            "\u001b[0;31m---------------------------------------------------------------------------\u001b[0m",
            "\u001b[0;31mModuleNotFoundError\u001b[0m                       Traceback (most recent call last)",
            "\u001b[0;32m<ipython-input-1-44de35fd2910>\u001b[0m in \u001b[0;36m<module>\u001b[0;34m()\u001b[0m\n\u001b[1;32m     21\u001b[0m \u001b[0;32mfrom\u001b[0m \u001b[0msklearn\u001b[0m\u001b[0;34m.\u001b[0m\u001b[0msvm\u001b[0m \u001b[0;32mimport\u001b[0m \u001b[0mLinearSVC\u001b[0m\u001b[0;34m\u001b[0m\u001b[0;34m\u001b[0m\u001b[0m\n\u001b[1;32m     22\u001b[0m \u001b[0;32mfrom\u001b[0m \u001b[0msklearn\u001b[0m\u001b[0;34m.\u001b[0m\u001b[0msvm\u001b[0m \u001b[0;32mimport\u001b[0m \u001b[0mSVC\u001b[0m\u001b[0;34m\u001b[0m\u001b[0;34m\u001b[0m\u001b[0m\n\u001b[0;32m---> 23\u001b[0;31m \u001b[0;32mfrom\u001b[0m \u001b[0mlib\u001b[0m\u001b[0;34m.\u001b[0m\u001b[0mutils\u001b[0m \u001b[0;32mimport\u001b[0m \u001b[0mplot_confusion_matrix\u001b[0m\u001b[0;34m\u001b[0m\u001b[0;34m\u001b[0m\u001b[0m\n\u001b[0m\u001b[1;32m     24\u001b[0m \u001b[0;32mfrom\u001b[0m \u001b[0mlib\u001b[0m\u001b[0;34m.\u001b[0m\u001b[0mutils\u001b[0m \u001b[0;32mimport\u001b[0m \u001b[0mplot_y_proba\u001b[0m\u001b[0;34m\u001b[0m\u001b[0;34m\u001b[0m\u001b[0m\n\u001b[1;32m     25\u001b[0m \u001b[0;32mfrom\u001b[0m \u001b[0mlib\u001b[0m\u001b[0;34m.\u001b[0m\u001b[0mutils\u001b[0m \u001b[0;32mimport\u001b[0m \u001b[0mshow_pred_proba\u001b[0m\u001b[0;34m\u001b[0m\u001b[0;34m\u001b[0m\u001b[0m\n",
            "\u001b[0;31mModuleNotFoundError\u001b[0m: No module named 'lib'",
            "",
            "\u001b[0;31m---------------------------------------------------------------------------\u001b[0;32m\nNOTE: If your import is failing due to a missing package, you can\nmanually install dependencies using either !pip or !apt.\n\nTo view examples of installing some common dependencies, click the\n\"Open Examples\" button below.\n\u001b[0;31m---------------------------------------------------------------------------\u001b[0m\n"
          ]
        }
      ]
    },
    {
      "metadata": {
        "id": "3KjagVMKzLEA",
        "colab_type": "code",
        "outputId": "accd227d-f686-4b4d-91e1-af193e188db3",
        "colab": {
          "base_uri": "https://localhost:8080/",
          "height": 34
        }
      },
      "cell_type": "code",
      "source": [
        "# Import custom library from my github\n",
        "\n",
        "import urllib.request\n",
        "\n",
        "def download(url):\n",
        "    filename = url.split('/')[-1]\n",
        "    print ('Downloading', filename)\n",
        "    f =  urllib.request.urlopen(url)\n",
        "    data = f.read()\n",
        "    f.close()\n",
        "    with open(filename, 'wb') as myfile:\n",
        "        myfile.write(data)\n",
        "\n",
        "# get .py file from repository\n",
        "download('https://raw.githubusercontent.com/learning-stack/Colab-ML-Playbook/master/NLP/Automatic%20tagging%20of%20short%20texts/lib/utils.py')\n",
        "\n",
        "from utils import plot_confusion_matrix\n",
        "from utils import plot_y_proba\n",
        "from utils import show_pred_proba"
      ],
      "execution_count": 0,
      "outputs": [
        {
          "output_type": "stream",
          "text": [
            "Downloading utils.py\n"
          ],
          "name": "stdout"
        }
      ]
    },
    {
      "metadata": {
        "id": "PjeNywnFyh-9",
        "colab_type": "code",
        "colab": {}
      },
      "cell_type": "code",
      "source": [
        "import matplotlib.pyplot as plt\n",
        "%matplotlib notebook\n",
        "%matplotlib inline"
      ],
      "execution_count": 0,
      "outputs": []
    },
    {
      "metadata": {
        "id": "l_t5CgtPyh_C",
        "colab_type": "code",
        "colab": {}
      },
      "cell_type": "code",
      "source": [
        "dict_classes = {\n",
        "    1: 'late/early',\n",
        "    2: 'holidays',\n",
        "    3: 'home office',\n",
        "    4: 'med app',\n",
        "    5: 'ill',\n",
        "    6: 'business',\n",
        "    7: 'in office',\n",
        "    8: 'miscellaneous'\n",
        "}"
      ],
      "execution_count": 0,
      "outputs": []
    },
    {
      "metadata": {
        "id": "61olAN6Hyh_H",
        "colab_type": "code",
        "outputId": "66260664-c703-4c80-a0b3-f709fba6058a",
        "colab": {
          "base_uri": "https://localhost:8080/",
          "height": 102
        }
      },
      "cell_type": "code",
      "source": [
        "nltk.download('stopwords')\n",
        "nltk.download('punkt')"
      ],
      "execution_count": 0,
      "outputs": [
        {
          "output_type": "stream",
          "text": [
            "[nltk_data] Downloading package stopwords to /root/nltk_data...\n",
            "[nltk_data]   Unzipping corpora/stopwords.zip.\n",
            "[nltk_data] Downloading package punkt to /root/nltk_data...\n",
            "[nltk_data]   Unzipping tokenizers/punkt.zip.\n"
          ],
          "name": "stdout"
        },
        {
          "output_type": "execute_result",
          "data": {
            "text/plain": [
              "True"
            ]
          },
          "metadata": {
            "tags": []
          },
          "execution_count": 7
        }
      ]
    },
    {
      "metadata": {
        "id": "493XK2DFyh_L",
        "colab_type": "text"
      },
      "cell_type": "markdown",
      "source": [
        "## Library functions\n",
        "\n",
        "Some helper functions."
      ]
    },
    {
      "metadata": {
        "id": "104tZY6Zyh_N",
        "colab_type": "code",
        "colab": {}
      },
      "cell_type": "code",
      "source": [
        "stemmer = nltk.PorterStemmer()\n",
        "analyzer = CountVectorizer().build_analyzer()\n",
        "\n",
        "\n",
        "def stemmed(doc):\n",
        "    return (stemmer.stem(w) for w in analyzer(doc))\n",
        "\n",
        "\n",
        "def mask_integers(text):\n",
        "    return re.sub(r'\\d+', '_NUMBER', text)\n",
        "\n",
        "\n",
        "def mask_times(text):\n",
        "    \"\"\"\n",
        "    Replaces times written like 12:50, 1PM, 4:15am, etc to _time token.\n",
        "    :param    text    Input text\n",
        "    :return           Output text with replaced times.\n",
        "    \"\"\"\n",
        "    re_time1 = '\\d{1,2}[:.]\\d{2}(?:am|pm|AM|PM)'\n",
        "    re_time2 = '\\d{1,2}[:.]\\d{2}'\n",
        "    re_time3 = '\\d{1,2}(?:am|pm|AM|PM)'\n",
        "    rec_time = re.compile(re_time1 + '|' + re_time2 + '|' + re_time3)\n",
        "    return re.sub(rec_time, '_TIME', text)\n",
        "\n",
        "\n",
        "def mask_emojis(text):\n",
        "    \"\"\"\n",
        "    Replaces all different emojis to _emoji token.\n",
        "    :param    text    Input text\n",
        "    :return           Output text with replaced emojis.    \n",
        "    \"\"\"\n",
        "    re_icons = ':[a-z-_]*:'\n",
        "    re_ldsd = '\\<(.*?)\\>'\n",
        "    rec_icons = re.compile(re_icons + \"|\" + re_ldsd)\n",
        "    return re.sub(rec_icons, '_EMOJI', text)\n",
        "\n",
        "\n",
        "def mask_all(text):\n",
        "    text = mask_times(text)\n",
        "    text = mask_emojis(text)\n",
        "    text = mask_integers(text)\n",
        "    return text\n",
        "\n",
        "\n",
        "def train_and_test(steps, X_train, X_test, y_train, y_test):\n",
        "    \"\"\"\n",
        "    Trains and tests the pipeline with the given steps. \n",
        "    :param steps:       List of operations inside the pipeline.\n",
        "    :param X_train:     Training data\n",
        "    :param X_test:      Training labels\n",
        "    :param y_train:     Testing data\n",
        "    :param y_test:      Testing labels\n",
        "    :return:            Trained model\n",
        "    \"\"\"\n",
        "    pipeline = Pipeline(steps)\n",
        "    folds = 10\n",
        "    xval_score = cross_val_score(pipeline, X_train, y_train, cv=folds, n_jobs=-1)\n",
        "    \n",
        "    xv_min = np.min(xval_score)\n",
        "    xv_max = np.max(xval_score)\n",
        "    xv_mean = np.mean(xval_score)\n",
        "    xv_std = np.std(xval_score)\n",
        "    print('{} fold Cross Validation Score: <{:.2f}, {:.2f}>; µ={:.2f}'.format(folds, xv_min, xv_max, xv_mean))\n",
        "    pipeline = pipeline.fit(X_train, y_train)\n",
        "    print('Score on test set: {:.2f}'.format(pipeline.score(X_test, y_test)))\n",
        "    return pipeline\n",
        "\n",
        "\n",
        "def tag_message(pipeline, message):\n",
        "    y_pred = pipeline.predict([message])[0]\n",
        "    print('{:>20} | {}'.format(dict_classes[y_pred], message))\n",
        "    \n",
        "\n",
        "def multitag_message(pipeline, message):\n",
        "    y_pred = pipeline.predict([message])[0]\n",
        "    tags = [dict_classes[i+1] for i, yi in enumerate(y_pred) if yi == 1]\n",
        "    # Remove `misc` tag if the list contains other tags as well.\n",
        "    if len(tags) > 1 and dict_classes[8] in tags:\n",
        "        del tags[tags.index(dict_classes[8])]\n",
        "    print('{:>30} | {}'.format('['+'] ['.join(tags)+']', message))"
      ],
      "execution_count": 0,
      "outputs": []
    },
    {
      "metadata": {
        "id": "HJc6vbJHyh_S",
        "colab_type": "text"
      },
      "cell_type": "markdown",
      "source": [
        "## Load the annotated data\n",
        "\n",
        "Load the data and split the data in a training and test set. \n",
        "\n",
        "_Note that we load the same annotated dataset as we did for training the single class predictions._ "
      ]
    },
    {
      "metadata": {
        "id": "_l2eapoJ0A2X",
        "colab_type": "code",
        "outputId": "c9474413-cb36-4aea-93c1-804e0afca302",
        "colab": {
          "base_uri": "https://localhost:8080/",
          "height": 357
        }
      },
      "cell_type": "code",
      "source": [
        "!wget https://github.com/gilbertfrancois/pydata2018-tagging/blob/master/data/messages-cls.pkl?raw=true"
      ],
      "execution_count": 0,
      "outputs": [
        {
          "output_type": "stream",
          "text": [
            "--2019-01-05 20:59:40--  https://github.com/gilbertfrancois/pydata2018-tagging/blob/master/data/messages-cls.pkl?raw=true\n",
            "Resolving github.com (github.com)... 192.30.253.113, 192.30.253.112\n",
            "Connecting to github.com (github.com)|192.30.253.113|:443... connected.\n",
            "HTTP request sent, awaiting response... 302 Found\n",
            "Location: https://github.com/gilbertfrancois/pydata2018-tagging/raw/master/data/messages-cls.pkl [following]\n",
            "--2019-01-05 20:59:40--  https://github.com/gilbertfrancois/pydata2018-tagging/raw/master/data/messages-cls.pkl\n",
            "Reusing existing connection to github.com:443.\n",
            "HTTP request sent, awaiting response... 302 Found\n",
            "Location: https://raw.githubusercontent.com/gilbertfrancois/pydata2018-tagging/master/data/messages-cls.pkl [following]\n",
            "--2019-01-05 20:59:41--  https://raw.githubusercontent.com/gilbertfrancois/pydata2018-tagging/master/data/messages-cls.pkl\n",
            "Resolving raw.githubusercontent.com (raw.githubusercontent.com)... 151.101.0.133, 151.101.64.133, 151.101.128.133, ...\n",
            "Connecting to raw.githubusercontent.com (raw.githubusercontent.com)|151.101.0.133|:443... connected.\n",
            "HTTP request sent, awaiting response... 200 OK\n",
            "Length: 224038 (219K) [application/octet-stream]\n",
            "Saving to: ‘messages-cls.pkl?raw=true’\n",
            "\n",
            "messages-cls.pkl?ra 100%[===================>] 218.79K  --.-KB/s    in 0.04s   \n",
            "\n",
            "2019-01-05 20:59:41 (5.26 MB/s) - ‘messages-cls.pkl?raw=true’ saved [224038/224038]\n",
            "\n"
          ],
          "name": "stdout"
        }
      ]
    },
    {
      "metadata": {
        "id": "fToBh5Poyh_T",
        "colab_type": "code",
        "outputId": "4396454a-7de1-4bfc-febc-d4fec5c6d4a9",
        "colab": {
          "base_uri": "https://localhost:8080/",
          "height": 221
        }
      },
      "cell_type": "code",
      "source": [
        "df_messages = pd.read_pickle('messages-cls.pkl?raw=true')\n",
        "\n",
        "# Remove all rows which have no annotation\n",
        "df_messages = df_messages.dropna()\n",
        "\n",
        "# Convert the classification column to unsigned int, in case it is stored as string\n",
        "df_messages['class'] = df_messages.loc[:, 'class'].astype(np.uint8).values\n",
        "\n",
        "X = df_messages['text']\n",
        "y = df_messages['class']\n",
        "\n",
        "print('[.] Number of training samples: {}'.format(len(X)))\n",
        "\n",
        "X_train, X_test, y_train, y_test = train_test_split(X, y, test_size=0.20, random_state=1)\n",
        "\n",
        "df_messages.head(5)"
      ],
      "execution_count": 0,
      "outputs": [
        {
          "output_type": "stream",
          "text": [
            "[.] Number of training samples: 1719\n"
          ],
          "name": "stdout"
        },
        {
          "output_type": "execute_result",
          "data": {
            "text/html": [
              "<div>\n",
              "<style scoped>\n",
              "    .dataframe tbody tr th:only-of-type {\n",
              "        vertical-align: middle;\n",
              "    }\n",
              "\n",
              "    .dataframe tbody tr th {\n",
              "        vertical-align: top;\n",
              "    }\n",
              "\n",
              "    .dataframe thead th {\n",
              "        text-align: right;\n",
              "    }\n",
              "</style>\n",
              "<table border=\"1\" class=\"dataframe\">\n",
              "  <thead>\n",
              "    <tr style=\"text-align: right;\">\n",
              "      <th></th>\n",
              "      <th>ts</th>\n",
              "      <th>user</th>\n",
              "      <th>text</th>\n",
              "      <th>class</th>\n",
              "      <th>key</th>\n",
              "    </tr>\n",
              "  </thead>\n",
              "  <tbody>\n",
              "    <tr>\n",
              "      <th>0</th>\n",
              "      <td>1.503303e+09</td>\n",
              "      <td>Balaemar</td>\n",
              "      <td>I have to pick up my car from the garage tomor...</td>\n",
              "      <td>1</td>\n",
              "      <td>1503303350U035FRUCY</td>\n",
              "    </tr>\n",
              "    <tr>\n",
              "      <th>1</th>\n",
              "      <td>1.503302e+09</td>\n",
              "      <td>Ragaenys</td>\n",
              "      <td>I won’t be here tomorrow, one day vacation</td>\n",
              "      <td>2</td>\n",
              "      <td>1503301710U4A2FRAQ4</td>\n",
              "    </tr>\n",
              "    <tr>\n",
              "      <th>2</th>\n",
              "      <td>1.503296e+09</td>\n",
              "      <td>Myke</td>\n",
              "      <td>Missed connection in Zurich. Will be about 5-1...</td>\n",
              "      <td>1</td>\n",
              "      <td>1503296123U0MGNKETU</td>\n",
              "    </tr>\n",
              "    <tr>\n",
              "      <th>3</th>\n",
              "      <td>1.503260e+09</td>\n",
              "      <td>Drevyn</td>\n",
              "      <td>Enjoy!</td>\n",
              "      <td>8</td>\n",
              "      <td>1503259722U035B8PRU</td>\n",
              "    </tr>\n",
              "    <tr>\n",
              "      <th>4</th>\n",
              "      <td>1.503258e+09</td>\n",
              "      <td>Gaelralis</td>\n",
              "      <td>I am away for 2 weeks in iceland :flag-is:</td>\n",
              "      <td>2</td>\n",
              "      <td>1503258060U0HLAK1T6</td>\n",
              "    </tr>\n",
              "  </tbody>\n",
              "</table>\n",
              "</div>"
            ],
            "text/plain": [
              "             ts       user                                               text  \\\n",
              "0  1.503303e+09   Balaemar  I have to pick up my car from the garage tomor...   \n",
              "1  1.503302e+09   Ragaenys         I won’t be here tomorrow, one day vacation   \n",
              "2  1.503296e+09       Myke  Missed connection in Zurich. Will be about 5-1...   \n",
              "3  1.503260e+09     Drevyn                                             Enjoy!   \n",
              "4  1.503258e+09  Gaelralis         I am away for 2 weeks in iceland :flag-is:   \n",
              "\n",
              "   class                  key  \n",
              "0      1  1503303350U035FRUCY  \n",
              "1      2  1503301710U4A2FRAQ4  \n",
              "2      1  1503296123U0MGNKETU  \n",
              "3      8  1503259722U035B8PRU  \n",
              "4      2  1503258060U0HLAK1T6  "
            ]
          },
          "metadata": {
            "tags": []
          },
          "execution_count": 10
        }
      ]
    },
    {
      "metadata": {
        "id": "uw8nZPNeyh_a",
        "colab_type": "text"
      },
      "cell_type": "markdown",
      "source": [
        "## Multi label predictions with probabilities\n",
        "\n",
        "Let's review our first classifier and see if we can modify it to do multi class predictions. Change the `LinearSVC` to `SVC` with linear kernel and set the parameter `probability` to `True`."
      ]
    },
    {
      "metadata": {
        "id": "u0wB_0kMyh_c",
        "colab_type": "code",
        "outputId": "6669b3ee-0b3d-43e9-f2d5-ff9755ba0e5e",
        "colab": {
          "base_uri": "https://localhost:8080/",
          "height": 51
        }
      },
      "cell_type": "code",
      "source": [
        "steps = [('vectorizer', CountVectorizer()),\n",
        "         ('classifier', SVC(kernel='linear', probability=True, random_state=1))]\n",
        "pipeline1 = train_and_test(steps, X_train, X_test, y_train, y_test)"
      ],
      "execution_count": 0,
      "outputs": [
        {
          "output_type": "stream",
          "text": [
            "10 fold Cross Validation Score: <0.75, 0.86>; µ=0.80\n",
            "Score on test set: 0.80\n"
          ],
          "name": "stdout"
        }
      ]
    },
    {
      "metadata": {
        "id": "0QJKM4Cwyh_g",
        "colab_type": "code",
        "outputId": "034017b0-41e9-4765-f1f6-3b40c0180f27",
        "colab": {
          "base_uri": "https://localhost:8080/",
          "height": 399
        }
      },
      "cell_type": "code",
      "source": [
        "doc_list = ['I do home office.']\n",
        "y_pred_list = pipeline1.predict_proba(doc_list)\n",
        "show_pred_proba(y_pred_list, doc_list, dict_classes, threshold=0.2)"
      ],
      "execution_count": 0,
      "outputs": [
        {
          "output_type": "stream",
          "text": [
            "threshold: 0.200\n",
            "I do home office. \n",
            "\n",
            "y_pred: [0.09356405 0.01027684 0.69266258 0.01931261 0.03338655 0.00718344\n",
            " 0.0170881  0.12652582]\n",
            "* home office\n"
          ],
          "name": "stdout"
        },
        {
          "output_type": "display_data",
          "data": {
            "image/png": "[encoded data removed]",
            "text/plain": [
              "<matplotlib.figure.Figure at 0x7f496d862780>"
            ]
          },
          "metadata": {
            "tags": []
          }
        }
      ]
    },
    {
      "metadata": {
        "id": "MuS6TF_Qyh_l",
        "colab_type": "text"
      },
      "cell_type": "markdown",
      "source": [
        "Now the challenge is how to set the value of the threshold. Possibilities are:\n",
        "- Fixed threshold, e.g. Label is true if $y_{pred}^i > 0.2$\n",
        "- Dynamic threshold, e.g. Label is true if $y_{pred}^i > \\frac{1}{4}\\max(y_{pred})$"
      ]
    },
    {
      "metadata": {
        "id": "tP8kmUzuyh_n",
        "colab_type": "code",
        "outputId": "659fb845-0097-4f2d-a252-b6dc134907e7",
        "colab": {
          "base_uri": "https://localhost:8080/",
          "height": 433
        }
      },
      "cell_type": "code",
      "source": [
        "doc_list = [\n",
        "    'I go a bit earlier, have an appointment at the doctor.  Then I will do home office',\n",
        "]\n",
        "y_pred_list = pipeline1.predict_proba(doc_list)\n",
        "\n",
        "show_pred_proba(y_pred_list, doc_list, dict_classes)"
      ],
      "execution_count": 0,
      "outputs": [
        {
          "output_type": "stream",
          "text": [
            "threshold: 0.119\n",
            "I go a bit earlier, have an appointment at the doctor.  Then I will do home office \n",
            "\n",
            "y_pred: [0.4755781  0.00222734 0.133436   0.34200286 0.03381176 0.0022156\n",
            " 0.00258207 0.00814627]\n",
            "* late/early\n",
            "* home office\n",
            "* med app\n"
          ],
          "name": "stdout"
        },
        {
          "output_type": "display_data",
          "data": {
            "image/png": "[encoded data removed]",
            "text/plain": [
              "<matplotlib.figure.Figure at 0x7f496f3191d0>"
            ]
          },
          "metadata": {
            "tags": []
          }
        }
      ]
    },
    {
      "metadata": {
        "id": "uniQRlxUyh_p",
        "colab_type": "text"
      },
      "cell_type": "markdown",
      "source": [
        "## Multi label predictions with 1-vs-rest classifier"
      ]
    },
    {
      "metadata": {
        "id": "knp5-siw0qRw",
        "colab_type": "code",
        "outputId": "076b7042-a764-41eb-e9ff-c803255deff3",
        "colab": {
          "base_uri": "https://localhost:8080/",
          "height": 357
        }
      },
      "cell_type": "code",
      "source": [
        "!wget https://github.com/gilbertfrancois/pydata2018-tagging/blob/master/data/messages-cls-mc.pkl?raw=true"
      ],
      "execution_count": 0,
      "outputs": [
        {
          "output_type": "stream",
          "text": [
            "--2019-01-05 21:02:32--  https://github.com/gilbertfrancois/pydata2018-tagging/blob/master/data/messages-cls-mc.pkl?raw=true\n",
            "Resolving github.com (github.com)... 192.30.253.112, 192.30.253.113\n",
            "Connecting to github.com (github.com)|192.30.253.112|:443... connected.\n",
            "HTTP request sent, awaiting response... 302 Found\n",
            "Location: https://github.com/gilbertfrancois/pydata2018-tagging/raw/master/data/messages-cls-mc.pkl [following]\n",
            "--2019-01-05 21:02:32--  https://github.com/gilbertfrancois/pydata2018-tagging/raw/master/data/messages-cls-mc.pkl\n",
            "Reusing existing connection to github.com:443.\n",
            "HTTP request sent, awaiting response... 302 Found\n",
            "Location: https://raw.githubusercontent.com/gilbertfrancois/pydata2018-tagging/master/data/messages-cls-mc.pkl [following]\n",
            "--2019-01-05 21:02:32--  https://raw.githubusercontent.com/gilbertfrancois/pydata2018-tagging/master/data/messages-cls-mc.pkl\n",
            "Resolving raw.githubusercontent.com (raw.githubusercontent.com)... 151.101.0.133, 151.101.64.133, 151.101.128.133, ...\n",
            "Connecting to raw.githubusercontent.com (raw.githubusercontent.com)|151.101.0.133|:443... connected.\n",
            "HTTP request sent, awaiting response... 200 OK\n",
            "Length: 235159 (230K) [application/octet-stream]\n",
            "Saving to: ‘messages-cls-mc.pkl?raw=true’\n",
            "\n",
            "messages-cls-mc.pkl 100%[===================>] 229.65K  --.-KB/s    in 0.04s   \n",
            "\n",
            "2019-01-05 21:02:32 (5.54 MB/s) - ‘messages-cls-mc.pkl?raw=true’ saved [235159/235159]\n",
            "\n"
          ],
          "name": "stdout"
        }
      ]
    },
    {
      "metadata": {
        "id": "mK52CUj8yh_q",
        "colab_type": "code",
        "outputId": "b64629aa-4e46-4066-95a8-22fcdc37a54e",
        "colab": {
          "base_uri": "https://localhost:8080/",
          "height": 359
        }
      },
      "cell_type": "code",
      "source": [
        "df_messages = pd.read_pickle('messages-cls-mc.pkl?raw=true')\n",
        "\n",
        "# Remove all rows which have no annotation\n",
        "df_messages = df_messages.dropna()\n",
        "\n",
        "# Convert the classification column to unsigned int, in case it is stored as string\n",
        "df_messages['class'] = df_messages.loc[:, 'class'].astype(np.uint8).values\n",
        "\n",
        "X = df_messages['text']\n",
        "y = df_messages['multiclass']\n",
        "df_messages.head(10)"
      ],
      "execution_count": 0,
      "outputs": [
        {
          "output_type": "execute_result",
          "data": {
            "text/html": [
              "<div>\n",
              "<style scoped>\n",
              "    .dataframe tbody tr th:only-of-type {\n",
              "        vertical-align: middle;\n",
              "    }\n",
              "\n",
              "    .dataframe tbody tr th {\n",
              "        vertical-align: top;\n",
              "    }\n",
              "\n",
              "    .dataframe thead th {\n",
              "        text-align: right;\n",
              "    }\n",
              "</style>\n",
              "<table border=\"1\" class=\"dataframe\">\n",
              "  <thead>\n",
              "    <tr style=\"text-align: right;\">\n",
              "      <th></th>\n",
              "      <th>ts</th>\n",
              "      <th>user</th>\n",
              "      <th>text</th>\n",
              "      <th>class</th>\n",
              "      <th>key</th>\n",
              "      <th>multiclass</th>\n",
              "    </tr>\n",
              "  </thead>\n",
              "  <tbody>\n",
              "    <tr>\n",
              "      <th>0</th>\n",
              "      <td>1.503303e+09</td>\n",
              "      <td>Balaemar</td>\n",
              "      <td>I have to pick up my car from the garage tomor...</td>\n",
              "      <td>1</td>\n",
              "      <td>1503303350U035FRUCY</td>\n",
              "      <td>[1, 8]</td>\n",
              "    </tr>\n",
              "    <tr>\n",
              "      <th>1</th>\n",
              "      <td>1.503302e+09</td>\n",
              "      <td>Ragaenys</td>\n",
              "      <td>I won’t be here tomorrow, one day vacation</td>\n",
              "      <td>2</td>\n",
              "      <td>1503301710U4A2FRAQ4</td>\n",
              "      <td>[2]</td>\n",
              "    </tr>\n",
              "    <tr>\n",
              "      <th>2</th>\n",
              "      <td>1.503296e+09</td>\n",
              "      <td>Myke</td>\n",
              "      <td>Missed connection in Zurich. Will be about 5-1...</td>\n",
              "      <td>1</td>\n",
              "      <td>1503296123U0MGNKETU</td>\n",
              "      <td>[1]</td>\n",
              "    </tr>\n",
              "    <tr>\n",
              "      <th>3</th>\n",
              "      <td>1.503260e+09</td>\n",
              "      <td>Drevyn</td>\n",
              "      <td>Enjoy!</td>\n",
              "      <td>8</td>\n",
              "      <td>1503259722U035B8PRU</td>\n",
              "      <td>[8]</td>\n",
              "    </tr>\n",
              "    <tr>\n",
              "      <th>4</th>\n",
              "      <td>1.503258e+09</td>\n",
              "      <td>Gaelralis</td>\n",
              "      <td>I am away for 2 weeks in iceland :flag-is:</td>\n",
              "      <td>2</td>\n",
              "      <td>1503258060U0HLAK1T6</td>\n",
              "      <td>[2]</td>\n",
              "    </tr>\n",
              "    <tr>\n",
              "      <th>5</th>\n",
              "      <td>1.503223e+09</td>\n",
              "      <td>Gonaleos</td>\n",
              "      <td>Monday is the first day in school for my son a...</td>\n",
              "      <td>1</td>\n",
              "      <td>1503222795U3W886EF4</td>\n",
              "      <td>[1, 8]</td>\n",
              "    </tr>\n",
              "    <tr>\n",
              "      <th>6</th>\n",
              "      <td>1.503063e+09</td>\n",
              "      <td>Vaerys</td>\n",
              "      <td>Going to leave around 4:50 because I need to g...</td>\n",
              "      <td>1</td>\n",
              "      <td>1503063218U0PLNK7EK</td>\n",
              "      <td>[1, 3]</td>\n",
              "    </tr>\n",
              "    <tr>\n",
              "      <th>7</th>\n",
              "      <td>1.503059e+09</td>\n",
              "      <td>Taengaeron</td>\n",
              "      <td>I am away between 3-4 for private stuff, be ba...</td>\n",
              "      <td>1</td>\n",
              "      <td>1503059074U4C55CKGX</td>\n",
              "      <td>[1, 3]</td>\n",
              "    </tr>\n",
              "    <tr>\n",
              "      <th>8</th>\n",
              "      <td>1.503058e+09</td>\n",
              "      <td>Baegar</td>\n",
              "      <td>I will move to HO. I will be in 2 different Te...</td>\n",
              "      <td>3</td>\n",
              "      <td>1503057526U035J4RG4</td>\n",
              "      <td>[3, 6, 8]</td>\n",
              "    </tr>\n",
              "    <tr>\n",
              "      <th>9</th>\n",
              "      <td>1.503057e+09</td>\n",
              "      <td>Eliar</td>\n",
              "      <td>Need to leave around 16:45. Will be available ...</td>\n",
              "      <td>1</td>\n",
              "      <td>1503056595U0A8NPHRD</td>\n",
              "      <td>[1, 3]</td>\n",
              "    </tr>\n",
              "  </tbody>\n",
              "</table>\n",
              "</div>"
            ],
            "text/plain": [
              "             ts        user  \\\n",
              "0  1.503303e+09    Balaemar   \n",
              "1  1.503302e+09    Ragaenys   \n",
              "2  1.503296e+09        Myke   \n",
              "3  1.503260e+09      Drevyn   \n",
              "4  1.503258e+09   Gaelralis   \n",
              "5  1.503223e+09    Gonaleos   \n",
              "6  1.503063e+09      Vaerys   \n",
              "7  1.503059e+09  Taengaeron   \n",
              "8  1.503058e+09      Baegar   \n",
              "9  1.503057e+09       Eliar   \n",
              "\n",
              "                                                text  class  \\\n",
              "0  I have to pick up my car from the garage tomor...      1   \n",
              "1         I won’t be here tomorrow, one day vacation      2   \n",
              "2  Missed connection in Zurich. Will be about 5-1...      1   \n",
              "3                                             Enjoy!      8   \n",
              "4         I am away for 2 weeks in iceland :flag-is:      2   \n",
              "5  Monday is the first day in school for my son a...      1   \n",
              "6  Going to leave around 4:50 because I need to g...      1   \n",
              "7  I am away between 3-4 for private stuff, be ba...      1   \n",
              "8  I will move to HO. I will be in 2 different Te...      3   \n",
              "9  Need to leave around 16:45. Will be available ...      1   \n",
              "\n",
              "                   key multiclass  \n",
              "0  1503303350U035FRUCY     [1, 8]  \n",
              "1  1503301710U4A2FRAQ4        [2]  \n",
              "2  1503296123U0MGNKETU        [1]  \n",
              "3  1503259722U035B8PRU        [8]  \n",
              "4  1503258060U0HLAK1T6        [2]  \n",
              "5  1503222795U3W886EF4     [1, 8]  \n",
              "6  1503063218U0PLNK7EK     [1, 3]  \n",
              "7  1503059074U4C55CKGX     [1, 3]  \n",
              "8  1503057526U035J4RG4  [3, 6, 8]  \n",
              "9  1503056595U0A8NPHRD     [1, 3]  "
            ]
          },
          "metadata": {
            "tags": []
          },
          "execution_count": 16
        }
      ]
    },
    {
      "metadata": {
        "id": "7E7ZoFWzyh_t",
        "colab_type": "text"
      },
      "cell_type": "markdown",
      "source": [
        "Convert the categorical class vectors to binary vectors with `MultiLabelBinarizer`."
      ]
    },
    {
      "metadata": {
        "id": "m8Uenn9oyh_u",
        "colab_type": "code",
        "outputId": "8800c773-5b94-4e33-f02c-0fdbc515cf33",
        "colab": {
          "base_uri": "https://localhost:8080/",
          "height": 153
        }
      },
      "cell_type": "code",
      "source": [
        "ym = MultiLabelBinarizer().fit_transform(y)\n",
        "print(ym.shape)\n",
        "ym"
      ],
      "execution_count": 0,
      "outputs": [
        {
          "output_type": "stream",
          "text": [
            "(1719, 8)\n"
          ],
          "name": "stdout"
        },
        {
          "output_type": "execute_result",
          "data": {
            "text/plain": [
              "array([[1, 0, 0, ..., 0, 0, 1],\n",
              "       [0, 1, 0, ..., 0, 0, 0],\n",
              "       [1, 0, 0, ..., 0, 0, 0],\n",
              "       ...,\n",
              "       [0, 0, 0, ..., 0, 0, 1],\n",
              "       [0, 0, 0, ..., 0, 0, 1],\n",
              "       [0, 0, 0, ..., 0, 0, 1]])"
            ]
          },
          "metadata": {
            "tags": []
          },
          "execution_count": 17
        }
      ]
    },
    {
      "metadata": {
        "id": "-Uc4sbqTyh_y",
        "colab_type": "code",
        "colab": {}
      },
      "cell_type": "code",
      "source": [
        "X_train, X_test, y_train, y_test = train_test_split(X, ym, test_size=0.20, random_state=1)"
      ],
      "execution_count": 0,
      "outputs": []
    },
    {
      "metadata": {
        "id": "hdbvIfbEyh_3",
        "colab_type": "code",
        "outputId": "0ef6daa5-36ea-426a-bdbb-ad165f7ef1ea",
        "colab": {
          "base_uri": "https://localhost:8080/",
          "height": 51
        }
      },
      "cell_type": "code",
      "source": [
        "# Choose one of the step options and see the difference in accuracy.\n",
        "\n",
        "# steps = [('vectorizer', CountVectorizer()),\n",
        "#          ('classifier', OneVsRestClassifier(SVC(kernel='linear')))]\n",
        "\n",
        "steps = [('vectorizer', CountVectorizer(ngram_range=(1,2), \n",
        "                                        preprocessor=mask_all, \n",
        "                                        analyzer=stemmed, \n",
        "                                        stop_words='english')),\n",
        "         ('transformer', TfidfTransformer()),\n",
        "         ('classifier', OneVsRestClassifier(SVC(kernel='linear')))]\n",
        "pipeline2 = train_and_test(steps, X_train, X_test, y_train, y_test)"
      ],
      "execution_count": 0,
      "outputs": [
        {
          "output_type": "stream",
          "text": [
            "10 fold Cross Validation Score: <0.51, 0.69>; µ=0.59\n",
            "Score on test set: 0.62\n"
          ],
          "name": "stdout"
        }
      ]
    },
    {
      "metadata": {
        "id": "cVlIE5w7yh_7",
        "colab_type": "text"
      },
      "cell_type": "markdown",
      "source": [
        "The score seems not so great. Let's look at some misclassified documents to see what is going on..."
      ]
    },
    {
      "metadata": {
        "scrolled": false,
        "id": "TbBpKUp-yh_8",
        "colab_type": "code",
        "outputId": "c18f22f2-643e-455f-e2b9-db095cd9dce4",
        "colab": {
          "base_uri": "https://localhost:8080/",
          "height": 377
        }
      },
      "cell_type": "code",
      "source": [
        "y_pred_list = pipeline2.predict(X_test).tolist()\n",
        "y_test_list = y_test.tolist()\n",
        "for index in range(len(y_pred_list))[:10]:\n",
        "    if y_pred_list[index] != y_test_list[index]:\n",
        "        print('[pred]: ', y_pred_list[index])\n",
        "        print('[true]: ', y_test_list[index])\n",
        "        print('[doc ]: ', X_test.iloc[index])\n",
        "        print()"
      ],
      "execution_count": 0,
      "outputs": [
        {
          "output_type": "stream",
          "text": [
            "[pred]:  [0, 0, 1, 0, 0, 0, 0, 0]\n",
            "[true]:  [0, 0, 1, 0, 0, 0, 0, 1]\n",
            "[doc ]:  I just get the confirmation for my appointment on monday. I will be off in the morning and in HO after lunch time.\n",
            "\n",
            "[pred]:  [1, 0, 0, 0, 0, 0, 0, 0]\n",
            "[true]:  [0, 1, 0, 0, 0, 0, 0, 0]\n",
            "[doc ]:  I will be away from the 25th to the 3rd of December.\n",
            "\n",
            "[pred]:  [1, 0, 1, 0, 0, 0, 0, 1]\n",
            "[true]:  [0, 0, 1, 0, 0, 0, 1, 1]\n",
            "[doc ]:  I do HO in the morning. We are expecting a phone call from the real estate agent around 12:00-13:00. I come to the office after the call. Sorry for the late announcement.\n",
            "\n",
            "[pred]:  [1, 0, 0, 0, 0, 0, 0, 0]\n",
            "[true]:  [1, 0, 0, 0, 0, 0, 0, 1]\n",
            "[doc ]:  Tomorrow I’ll have to head out for a while, our stuff will arrive from Hungary. Don’t know exactly when, the transporter will call. They estimated it around noon.\n",
            "\n",
            "[pred]:  [0, 0, 1, 1, 0, 0, 0, 0]\n",
            "[true]:  [0, 0, 0, 1, 0, 0, 0, 0]\n",
            "[doc ]:  My wife has a doctors appointment today afternoon so i will be in home office after lunch\n",
            "\n"
          ],
          "name": "stdout"
        }
      ]
    },
    {
      "metadata": {
        "id": "O-NKURYuyh_-",
        "colab_type": "text"
      },
      "cell_type": "markdown",
      "source": [
        "When inspecting the `predictions` and compare them to the `true` values, the model is doing better than the cross validation score and test score indicate. One reason for the low scores is that _all_ elements of the $y_{pred}^i$ vector have to be the same as $y_{true}^i$. This is much harder than matching a _one-hot_ vector, like in the case of multi class single label classification. Another reason is that some of the annotations from the dataset are open for debate."
      ]
    },
    {
      "metadata": {
        "id": "btWTodGJyh__",
        "colab_type": "text"
      },
      "cell_type": "markdown",
      "source": [
        "How does the model do with some test documents?"
      ]
    },
    {
      "metadata": {
        "id": "Sy7FJ8IlyiAF",
        "colab_type": "code",
        "outputId": "1f3b083d-4702-48ec-b712-4f3be0345cd8",
        "colab": {
          "base_uri": "https://localhost:8080/",
          "height": 204
        }
      },
      "cell_type": "code",
      "source": [
        "multitag_message(pipeline2, 'I don\\'t feel well, stay home and don\\'t come to the office.')\n",
        "multitag_message(pipeline2, 'My alarm clock was not set properly. I come to the office asap.')\n",
        "multitag_message(pipeline2, 'It is my scheduled day off, see you on Tuesday.')\n",
        "multitag_message(pipeline2, 'I\\'m having a terrible headache, I stay home and work from here.')\n",
        "multitag_message(pipeline2, 'I work at home on Tuesday.')\n",
        "multitag_message(pipeline2, 'In the morning I\\'ve a meeting with IBM, I\\'ll be back at 1pm.')\n",
        "multitag_message(pipeline2, 'I\\'m off, see you tomorrow.')\n",
        "multitag_message(pipeline2, 'get well soon!')\n",
        "multitag_message(pipeline2, 'I\\'m away for a long lunch between 12:00 and 15:30')\n",
        "multitag_message(pipeline2, 'I\\'ve an appointment at 12:00 at the physiotherapy.')\n",
        "multitag_message(pipeline2, 'I go to the doctor and will be online again after 18:00.')"
      ],
      "execution_count": 0,
      "outputs": [
        {
          "output_type": "stream",
          "text": [
            "                         [ill] | I don't feel well, stay home and don't come to the office.\n",
            "                  [late/early] | My alarm clock was not set properly. I come to the office asap.\n",
            "        [holidays] [in office] | It is my scheduled day off, see you on Tuesday.\n",
            "           [home office] [ill] | I'm having a terrible headache, I stay home and work from here.\n",
            "                 [home office] | I work at home on Tuesday.\n",
            "        [business] [in office] | In the morning I've a meeting with IBM, I'll be back at 1pm.\n",
            "        [holidays] [in office] | I'm off, see you tomorrow.\n",
            "               [miscellaneous] | get well soon!\n",
            "                  [late/early] | I'm away for a long lunch between 12:00 and 15:30\n",
            "                     [med app] | I've an appointment at 12:00 at the physiotherapy.\n",
            "       [home office] [med app] | I go to the doctor and will be online again after 18:00.\n"
          ],
          "name": "stdout"
        }
      ]
    },
    {
      "metadata": {
        "id": "RZahFFHvyiAL",
        "colab_type": "text"
      },
      "cell_type": "markdown",
      "source": [
        "Wow, not too bad."
      ]
    },
    {
      "metadata": {
        "id": "p8D1Qqs_yiAL",
        "colab_type": "text"
      },
      "cell_type": "markdown",
      "source": [
        "## Multi label predictions with sentence tokenization\n",
        "\n",
        "### Step 1: Build a sentence tokenizer\n",
        "\n",
        "Let's make the following assumption:\n",
        "- A document has only multiple class labels when it has multiple sentences.\n",
        "- Every sentence contains only one class label.\n",
        "\n",
        "For this model, every document will tokenized in sentences, then every sentence will be classified with a multi class, single label classifier.\n",
        "\n",
        "NLTK has a sentence tokenizer, but combined sentences are not splitted. We have to do this ourselves. We will use part of speech (POS) tagging to analyse the sentence and see if it can be splitted or not."
      ]
    },
    {
      "metadata": {
        "id": "qpD9RUVWyiAN",
        "colab_type": "code",
        "colab": {}
      },
      "cell_type": "code",
      "source": [
        "def sentence_tokenizer(text, verbose=False):\n",
        "    # Some input checking.\n",
        "    if not isinstance(text, str):\n",
        "        print('[!] Input type should be a string, not a {}'.format(type(text)))\n",
        "        exit(1)\n",
        "        \n",
        "    # Split sentences with NLTK\n",
        "    text_list_1 = nltk.sent_tokenize(text)\n",
        "    \n",
        "    # Split sentences with our POS tagging method\n",
        "    text_list_2 = []\n",
        "    for text in text_list_1:\n",
        "        text_list_2 += custom_sentence_tokenizer(text, verbose)\n",
        "    \n",
        "    return text_list_2\n",
        "\n",
        "\n",
        "def custom_sentence_tokenizer(text, verbose=False):\n",
        "    # container for final result\n",
        "    new_split = []\n",
        "    \n",
        "    # Split sentences by a comma, 'and' and 'or'.\n",
        "    text_list = re.split(',| and | or | but | \\(', text)\n",
        "    \n",
        "    # Remove white spaces and empty string elements from the list\n",
        "    text_list = [x.strip() for x in text_list]\n",
        "    text_list = list(filter(None, text_list))\n",
        "        \n",
        "    # Append first list element to the new list.\n",
        "    new_split.append(text_list[0])\n",
        "    \n",
        "    # Check if the splits are valid sentences. If not, glue the parts together again.\n",
        "    for index in range(1, len(text_list)):\n",
        "        \n",
        "        # Keep the split if both parts of the sentences contain a verb.\n",
        "        if has_verb(text_list[index-1], verbose) and has_verb(text_list[index], verbose):\n",
        "            new_split.append(text_list[index])\n",
        "        # Glue the parts together again, since POS requirements are not met.\n",
        "        else:\n",
        "            new_split[-1] += ' ' + text_list[index]\n",
        "    \n",
        "    if verbose:\n",
        "        print('[.] Input sentence:')\n",
        "        print('    ', text)\n",
        "        print('[.] Output sentence(s):')\n",
        "        print('    ', new_split)\n",
        "    return new_split\n",
        "    \n",
        "\n",
        "def has_verb(sentence, verbose=False):\n",
        "    pos_tagged = nltk.pos_tag(nltk.word_tokenize(sentence))\n",
        "    if verbose:\n",
        "        print(pos_tagged)\n",
        "    if 'VB' in [tag[1][:2] for tag in pos_tagged]:\n",
        "        return True\n",
        "    return False\n",
        "\n",
        "\n",
        "def split_sentences_in_dataframe(df, verbose=False):\n",
        "    new_df = pd.DataFrame()\n",
        "    for index, row in df.iterrows():\n",
        "        text = row['text']\n",
        "        text_list = sentence_tokenizer(text, verbose)\n",
        "        for text_part in text_list:\n",
        "            new_row = row.copy()\n",
        "            new_row['text'] = text_part\n",
        "            new_df = new_df.append(new_row)\n",
        "    return new_df"
      ],
      "execution_count": 0,
      "outputs": []
    },
    {
      "metadata": {
        "id": "uTFW5wiRyiAQ",
        "colab_type": "code",
        "colab": {}
      },
      "cell_type": "code",
      "source": [
        "doc = \"I'm afraid I can't explain myself, sir. Because I am not myself, you see?\"\n",
        "doc = \"I have to leave around 11am, having a meeting with alice and will be back after 15:00.\""
      ],
      "execution_count": 0,
      "outputs": []
    },
    {
      "metadata": {
        "id": "zm5C_CEUyiAU",
        "colab_type": "text"
      },
      "cell_type": "markdown",
      "source": [
        "Sentence tokenization with NLTK. Combined sentences are not tokenized."
      ]
    },
    {
      "metadata": {
        "id": "l4pFdibqyiAU",
        "colab_type": "code",
        "outputId": "8aa9eee8-0ee6-4f5b-bdef-8a3c57312ff5",
        "colab": {
          "base_uri": "https://localhost:8080/",
          "height": 34
        }
      },
      "cell_type": "code",
      "source": [
        "nltk.sent_tokenize(doc)"
      ],
      "execution_count": 0,
      "outputs": [
        {
          "output_type": "execute_result",
          "data": {
            "text/plain": [
              "['I have to leave around 11am, having a meeting with alice and will be back after 15:00.']"
            ]
          },
          "metadata": {
            "tags": []
          },
          "execution_count": 24
        }
      ]
    },
    {
      "metadata": {
        "id": "6dDGYvrPyiAY",
        "colab_type": "text"
      },
      "cell_type": "markdown",
      "source": [
        "Sentence tokenization with our own implementation. Combined sentences are now tokenized as well."
      ]
    },
    {
      "metadata": {
        "id": "-vbqAT3kyiAa",
        "colab_type": "code",
        "outputId": "b6236fc7-5f51-4ac7-84eb-f5ec5f5d05b0",
        "colab": {
          "base_uri": "https://localhost:8080/",
          "height": 255
        }
      },
      "cell_type": "code",
      "source": [
        "nltk.download('averaged_perceptron_tagger')\n",
        "\n",
        "sentence_tokenizer(doc, True)"
      ],
      "execution_count": 0,
      "outputs": [
        {
          "output_type": "stream",
          "text": [
            "[nltk_data] Downloading package averaged_perceptron_tagger to\n",
            "[nltk_data]     /root/nltk_data...\n",
            "[nltk_data]   Unzipping taggers/averaged_perceptron_tagger.zip.\n",
            "[('I', 'PRP'), ('have', 'VBP'), ('to', 'TO'), ('leave', 'VB'), ('around', 'RP'), ('11am', 'CD')]\n",
            "[('having', 'VBG'), ('a', 'DT'), ('meeting', 'NN'), ('with', 'IN'), ('alice', 'NN')]\n",
            "[('having', 'VBG'), ('a', 'DT'), ('meeting', 'NN'), ('with', 'IN'), ('alice', 'NN')]\n",
            "[('will', 'MD'), ('be', 'VB'), ('back', 'RB'), ('after', 'IN'), ('15:00', 'CD'), ('.', '.')]\n",
            "[.] Input sentence:\n",
            "     I have to leave around 11am, having a meeting with alice and will be back after 15:00.\n",
            "[.] Output sentence(s):\n",
            "     ['I have to leave around 11am', 'having a meeting with alice', 'will be back after 15:00.']\n"
          ],
          "name": "stdout"
        },
        {
          "output_type": "execute_result",
          "data": {
            "text/plain": [
              "['I have to leave around 11am',\n",
              " 'having a meeting with alice',\n",
              " 'will be back after 15:00.']"
            ]
          },
          "metadata": {
            "tags": []
          },
          "execution_count": 26
        }
      ]
    },
    {
      "metadata": {
        "id": "8sHsyevpyiAi",
        "colab_type": "text"
      },
      "cell_type": "markdown",
      "source": [
        "### Step 2: Tokenize sentences of the original data and annotate\n",
        "\n",
        "Use the above mentioned method to tokenize the documents and start annotating (by hand) the new tokenized documents. When this is done, we can continue with step 3."
      ]
    },
    {
      "metadata": {
        "id": "TO6E3fHYyiAj",
        "colab_type": "text"
      },
      "cell_type": "markdown",
      "source": [
        "### Step 3: Load new annotated data and train"
      ]
    },
    {
      "metadata": {
        "id": "fro2XssQ3IRR",
        "colab_type": "code",
        "outputId": "66c0cd66-76de-4dcc-caf8-20eb5ad88a06",
        "colab": {
          "base_uri": "https://localhost:8080/",
          "height": 357
        }
      },
      "cell_type": "code",
      "source": [
        "!wget https://github.com/gilbertfrancois/pydata2018-tagging/blob/master/data/messages-cls-ms.pkl?raw=true"
      ],
      "execution_count": 0,
      "outputs": [
        {
          "output_type": "stream",
          "text": [
            "--2019-01-05 21:13:13--  https://github.com/gilbertfrancois/pydata2018-tagging/blob/master/data/messages-cls-ms.pkl?raw=true\n",
            "Resolving github.com (github.com)... 192.30.253.113, 192.30.253.112\n",
            "Connecting to github.com (github.com)|192.30.253.113|:443... connected.\n",
            "HTTP request sent, awaiting response... 302 Found\n",
            "Location: https://github.com/gilbertfrancois/pydata2018-tagging/raw/master/data/messages-cls-ms.pkl [following]\n",
            "--2019-01-05 21:13:13--  https://github.com/gilbertfrancois/pydata2018-tagging/raw/master/data/messages-cls-ms.pkl\n",
            "Reusing existing connection to github.com:443.\n",
            "HTTP request sent, awaiting response... 302 Found\n",
            "Location: https://raw.githubusercontent.com/gilbertfrancois/pydata2018-tagging/master/data/messages-cls-ms.pkl [following]\n",
            "--2019-01-05 21:13:13--  https://raw.githubusercontent.com/gilbertfrancois/pydata2018-tagging/master/data/messages-cls-ms.pkl\n",
            "Resolving raw.githubusercontent.com (raw.githubusercontent.com)... 151.101.0.133, 151.101.64.133, 151.101.128.133, ...\n",
            "Connecting to raw.githubusercontent.com (raw.githubusercontent.com)|151.101.0.133|:443... connected.\n",
            "HTTP request sent, awaiting response... 200 OK\n",
            "Length: 264147 (258K) [application/octet-stream]\n",
            "Saving to: ‘messages-cls-ms.pkl?raw=true’\n",
            "\n",
            "\r          messages-   0%[                    ]       0  --.-KB/s               \rmessages-cls-ms.pkl 100%[===================>] 257.96K  --.-KB/s    in 0.04s   \n",
            "\n",
            "2019-01-05 21:13:13 (6.07 MB/s) - ‘messages-cls-ms.pkl?raw=true’ saved [264147/264147]\n",
            "\n"
          ],
          "name": "stdout"
        }
      ]
    },
    {
      "metadata": {
        "id": "DuzdRqfKyiAj",
        "colab_type": "code",
        "outputId": "4c0ec776-f722-4848-dc6c-1d3bc68d3171",
        "colab": {
          "base_uri": "https://localhost:8080/",
          "height": 359
        }
      },
      "cell_type": "code",
      "source": [
        "df_messages = pd.read_pickle('messages-cls-ms.pkl?raw=true')\n",
        "df_messages.head(10)"
      ],
      "execution_count": 0,
      "outputs": [
        {
          "output_type": "execute_result",
          "data": {
            "text/html": [
              "<div>\n",
              "<style scoped>\n",
              "    .dataframe tbody tr th:only-of-type {\n",
              "        vertical-align: middle;\n",
              "    }\n",
              "\n",
              "    .dataframe tbody tr th {\n",
              "        vertical-align: top;\n",
              "    }\n",
              "\n",
              "    .dataframe thead th {\n",
              "        text-align: right;\n",
              "    }\n",
              "</style>\n",
              "<table border=\"1\" class=\"dataframe\">\n",
              "  <thead>\n",
              "    <tr style=\"text-align: right;\">\n",
              "      <th></th>\n",
              "      <th>user</th>\n",
              "      <th>class</th>\n",
              "      <th>text</th>\n",
              "      <th>ts</th>\n",
              "      <th>key</th>\n",
              "    </tr>\n",
              "  </thead>\n",
              "  <tbody>\n",
              "    <tr>\n",
              "      <th>0</th>\n",
              "      <td>Balaemar</td>\n",
              "      <td>8</td>\n",
              "      <td>I have to pick up my car from the garage tomor...</td>\n",
              "      <td>1.503303e+09</td>\n",
              "      <td>1503303350U035FRUCY</td>\n",
              "    </tr>\n",
              "    <tr>\n",
              "      <th>0</th>\n",
              "      <td>Balaemar</td>\n",
              "      <td>1</td>\n",
              "      <td>I have to leave at 15:45 on Thursday.</td>\n",
              "      <td>1.503303e+09</td>\n",
              "      <td>1503303350U035FRUCY</td>\n",
              "    </tr>\n",
              "    <tr>\n",
              "      <th>1</th>\n",
              "      <td>Ragaenys</td>\n",
              "      <td>2</td>\n",
              "      <td>I won’t be here tomorrow one day vacation</td>\n",
              "      <td>1.503302e+09</td>\n",
              "      <td>1503301710U4A2FRAQ4</td>\n",
              "    </tr>\n",
              "    <tr>\n",
              "      <th>2</th>\n",
              "      <td>Myke</td>\n",
              "      <td>1</td>\n",
              "      <td>Missed connection in Zurich.</td>\n",
              "      <td>1.503296e+09</td>\n",
              "      <td>1503296123U0MGNKETU</td>\n",
              "    </tr>\n",
              "    <tr>\n",
              "      <th>2</th>\n",
              "      <td>Myke</td>\n",
              "      <td>1</td>\n",
              "      <td>Will be about 5-10 mins late in the office</td>\n",
              "      <td>1.503296e+09</td>\n",
              "      <td>1503296123U0MGNKETU</td>\n",
              "    </tr>\n",
              "    <tr>\n",
              "      <th>2</th>\n",
              "      <td>Myke</td>\n",
              "      <td>1</td>\n",
              "      <td>so will miss the weekly today.</td>\n",
              "      <td>1.503296e+09</td>\n",
              "      <td>1503296123U0MGNKETU</td>\n",
              "    </tr>\n",
              "    <tr>\n",
              "      <th>3</th>\n",
              "      <td>Drevyn</td>\n",
              "      <td>8</td>\n",
              "      <td>Enjoy!</td>\n",
              "      <td>1.503260e+09</td>\n",
              "      <td>1503259722U035B8PRU</td>\n",
              "    </tr>\n",
              "    <tr>\n",
              "      <th>4</th>\n",
              "      <td>Gaelralis</td>\n",
              "      <td>2</td>\n",
              "      <td>I am away for 2 weeks in iceland :flag-is:</td>\n",
              "      <td>1.503258e+09</td>\n",
              "      <td>1503258060U0HLAK1T6</td>\n",
              "    </tr>\n",
              "    <tr>\n",
              "      <th>5</th>\n",
              "      <td>Gonaleos</td>\n",
              "      <td>8</td>\n",
              "      <td>Monday is the first day in school for my son</td>\n",
              "      <td>1.503223e+09</td>\n",
              "      <td>1503222795U3W886EF4</td>\n",
              "    </tr>\n",
              "    <tr>\n",
              "      <th>5</th>\n",
              "      <td>Gonaleos</td>\n",
              "      <td>8</td>\n",
              "      <td>I am going to go there with him</td>\n",
              "      <td>1.503223e+09</td>\n",
              "      <td>1503222795U3W886EF4</td>\n",
              "    </tr>\n",
              "  </tbody>\n",
              "</table>\n",
              "</div>"
            ],
            "text/plain": [
              "        user  class                                               text  \\\n",
              "0   Balaemar      8  I have to pick up my car from the garage tomor...   \n",
              "0   Balaemar      1              I have to leave at 15:45 on Thursday.   \n",
              "1   Ragaenys      2          I won’t be here tomorrow one day vacation   \n",
              "2       Myke      1                       Missed connection in Zurich.   \n",
              "2       Myke      1         Will be about 5-10 mins late in the office   \n",
              "2       Myke      1                     so will miss the weekly today.   \n",
              "3     Drevyn      8                                             Enjoy!   \n",
              "4  Gaelralis      2         I am away for 2 weeks in iceland :flag-is:   \n",
              "5   Gonaleos      8       Monday is the first day in school for my son   \n",
              "5   Gonaleos      8                    I am going to go there with him   \n",
              "\n",
              "             ts                  key  \n",
              "0  1.503303e+09  1503303350U035FRUCY  \n",
              "0  1.503303e+09  1503303350U035FRUCY  \n",
              "1  1.503302e+09  1503301710U4A2FRAQ4  \n",
              "2  1.503296e+09  1503296123U0MGNKETU  \n",
              "2  1.503296e+09  1503296123U0MGNKETU  \n",
              "2  1.503296e+09  1503296123U0MGNKETU  \n",
              "3  1.503260e+09  1503259722U035B8PRU  \n",
              "4  1.503258e+09  1503258060U0HLAK1T6  \n",
              "5  1.503223e+09  1503222795U3W886EF4  \n",
              "5  1.503223e+09  1503222795U3W886EF4  "
            ]
          },
          "metadata": {
            "tags": []
          },
          "execution_count": 28
        }
      ]
    },
    {
      "metadata": {
        "id": "CQNu_6ItyiAl",
        "colab_type": "code",
        "outputId": "b70bd31e-416d-4417-bf3c-a4a0fbbc09df",
        "colab": {
          "base_uri": "https://localhost:8080/",
          "height": 34
        }
      },
      "cell_type": "code",
      "source": [
        "# Convert the class column to int, it might be stored as a string\n",
        "df_messages['class'] = df_messages.loc[:, 'class'].astype(np.uint8).values\n",
        "print('Number of documents: {}'.format(len(df_messages)))"
      ],
      "execution_count": 0,
      "outputs": [
        {
          "output_type": "stream",
          "text": [
            "Number of documents: 3105\n"
          ],
          "name": "stdout"
        }
      ]
    },
    {
      "metadata": {
        "id": "z6cIecSfyiAo",
        "colab_type": "code",
        "colab": {}
      },
      "cell_type": "code",
      "source": [
        "X_train, X_test, y_train, y_test = train_test_split(df_messages['text'], \n",
        "                                                    df_messages['class'], \n",
        "                                                    test_size=0.20, \n",
        "                                                    random_state=1)"
      ],
      "execution_count": 0,
      "outputs": []
    },
    {
      "metadata": {
        "id": "HtDsf0CLyiAr",
        "colab_type": "text"
      },
      "cell_type": "markdown",
      "source": [
        "*WARNING* Running the gridsearch takes a long time."
      ]
    },
    {
      "metadata": {
        "id": "e0NXLHkCyiAs",
        "colab_type": "code",
        "colab": {}
      },
      "cell_type": "code",
      "source": [
        "%%time\n",
        "steps = [('vectorizer', CountVectorizer()),\n",
        "         ('transformer', TfidfTransformer()),\n",
        "         ('classifier', LinearSVC())]\n",
        "pipeline3 = Pipeline(steps)\n",
        "\n",
        "params = {\n",
        "    'vectorizer__tokenizer': [None, nltk.tokenize.word_tokenize],\n",
        "    'vectorizer__analyzer' : ['word', stemmed],\n",
        "    'vectorizer__stop_words': [None, nltk.corpus.stopwords.words('english'), 'english'],\n",
        "    'vectorizer__ngram_range': [(1, 1), (1, 2), (2, 2), (1, 3)],\n",
        "    'vectorizer__preprocessor': [None, mask_all, mask_integers, mask_times, mask_emojis],\n",
        "    'classifier__C': np.logspace(-2, 2, 5),\n",
        "    'classifier__gamma': np.logspace(-5, 3, 9)\n",
        "}\n",
        "\n",
        "gs = GridSearchCV(pipeline3, params, n_jobs=-1)\n",
        "gs.fit(X_train, y_train)\n",
        "\n",
        "print(gs.best_params_)\n",
        "y_pred = gs.predict(X_test)\n",
        "print(classification_report(y_pred=y_pred, y_true=y_test))\n",
        "print('Score on the test set: {:.2f}'.format(gs.score(X_test, y_test)))"
      ],
      "execution_count": 0,
      "outputs": []
    },
    {
      "metadata": {
        "id": "ppn8Kr8kyiAv",
        "colab_type": "code",
        "outputId": "d6c9189d-0e50-42cc-e088-1c506b6aa744",
        "colab": {
          "base_uri": "https://localhost:8080/",
          "height": 51
        }
      },
      "cell_type": "code",
      "source": [
        "steps = [('vectorizer', CountVectorizer(analyzer=stemmed,\n",
        "                                        ngram_range=(1,2),\n",
        "                                        stop_words='english',\n",
        "                                        preprocessor=mask_all)),\n",
        "         ('transformer', TfidfTransformer()),\n",
        "         ('classifier', LinearSVC(C=1))]\n",
        "pipeline4 = train_and_test(steps, X_train, X_test, y_train, y_test)"
      ],
      "execution_count": 0,
      "outputs": [
        {
          "output_type": "stream",
          "text": [
            "10 fold Cross Validation Score: <0.82, 0.90>; µ=0.87\n",
            "Score on test set: 0.88\n"
          ],
          "name": "stdout"
        }
      ]
    },
    {
      "metadata": {
        "id": "X5Wlt4bVyiAy",
        "colab_type": "code",
        "outputId": "aa7e206f-dcc0-4389-9493-b7f76fcdf571",
        "colab": {
          "base_uri": "https://localhost:8080/",
          "height": 272
        }
      },
      "cell_type": "code",
      "source": [
        "y_pred = pipeline4.predict(X_test)\n",
        "print(classification_report(y_pred=y_pred, y_true=y_test))"
      ],
      "execution_count": 0,
      "outputs": [
        {
          "output_type": "stream",
          "text": [
            "              precision    recall  f1-score   support\n",
            "\n",
            "           1       0.83      0.88      0.86       166\n",
            "           2       0.97      0.91      0.94        32\n",
            "           3       0.97      0.91      0.94       114\n",
            "           4       0.93      0.74      0.83        35\n",
            "           5       0.87      0.81      0.84        32\n",
            "           6       0.88      0.92      0.90        25\n",
            "           7       0.89      0.87      0.88        46\n",
            "           8       0.85      0.89      0.87       171\n",
            "\n",
            "   micro avg       0.88      0.88      0.88       621\n",
            "   macro avg       0.90      0.87      0.88       621\n",
            "weighted avg       0.88      0.88      0.88       621\n",
            "\n"
          ],
          "name": "stdout"
        }
      ]
    },
    {
      "metadata": {
        "id": "FY7NEXxTyiA5",
        "colab_type": "code",
        "outputId": "7ea8f464-9410-4edc-8765-0ea44ad21a2f",
        "colab": {
          "base_uri": "https://localhost:8080/",
          "height": 328
        }
      },
      "cell_type": "code",
      "source": [
        "cm = confusion_matrix(y_pred=y_pred, y_true=y_test)\n",
        "plt.figure()\n",
        "plot_confusion_matrix(cm, classes=dict_classes.values(), normalize=True);"
      ],
      "execution_count": 0,
      "outputs": [
        {
          "output_type": "stream",
          "text": [
            "Normalized confusion matrix\n"
          ],
          "name": "stdout"
        },
        {
          "output_type": "display_data",
          "data": {
            "image/png": "[encoded data removed]",
            "text/plain": [
              "<matplotlib.figure.Figure at 0x7f496af2fe48>"
            ]
          },
          "metadata": {
            "tags": []
          }
        }
      ]
    },
    {
      "metadata": {
        "id": "KfoLT_vFyiA8",
        "colab_type": "code",
        "colab": {}
      },
      "cell_type": "code",
      "source": [
        "def multilabel3_message(model, doc):\n",
        "    doc_list = sentence_tokenizer(doc)\n",
        "    y_pred = pipeline4.predict(doc_list)\n",
        "    # Remove double class predictions\n",
        "    y_pred = list(set(y_pred))\n",
        "    tags = [dict_classes[i] for i in y_pred]\n",
        "    # Remove `misc` tag if the list contains other tags as well.\n",
        "    if len(tags) > 1 and dict_classes[8] in tags:\n",
        "        del tags[tags.index(dict_classes[8])]\n",
        "    print('{:>30} | {}'.format('['+'] ['.join(tags)+']', doc))"
      ],
      "execution_count": 0,
      "outputs": []
    },
    {
      "metadata": {
        "id": "MLXF8sQDyiA-",
        "colab_type": "code",
        "outputId": "566fa5f3-e917-47da-f80a-74cf60a2441a",
        "colab": {
          "base_uri": "https://localhost:8080/",
          "height": 170
        }
      },
      "cell_type": "code",
      "source": [
        "multilabel3_message(pipeline4, 'My alarm clock was not set properly. I come to the office asap.')\n",
        "multilabel3_message(pipeline4, 'It is my scheduled day off, see you on Tuesday.')\n",
        "multilabel3_message(pipeline4, 'Not feeling well today, I stay home and work from here.')\n",
        "multilabel3_message(pipeline4, 'I work at home on Tuesday.')\n",
        "multilabel3_message(pipeline4, 'This morning I have a meeting at ACME.')\n",
        "multilabel3_message(pipeline4, 'I\\'m off, see you tomorrow.')\n",
        "multilabel3_message(pipeline4, 'Get well soon!')\n",
        "multilabel3_message(pipeline4, 'I\\'m away for a long lunch between 12:00 and 15:30')\n",
        "multilabel3_message(pipeline4, 'I\\'ve an appointment at 12:00 at the physiotherapy.')"
      ],
      "execution_count": 0,
      "outputs": [
        {
          "output_type": "stream",
          "text": [
            "                  [late/early] | My alarm clock was not set properly. I come to the office asap.\n",
            "        [holidays] [in office] | It is my scheduled day off, see you on Tuesday.\n",
            "           [home office] [ill] | Not feeling well today, I stay home and work from here.\n",
            "                 [home office] | I work at home on Tuesday.\n",
            "                    [business] | This morning I have a meeting at ACME.\n",
            "        [holidays] [in office] | I'm off, see you tomorrow.\n",
            "               [miscellaneous] | Get well soon!\n",
            "                  [late/early] | I'm away for a long lunch between 12:00 and 15:30\n",
            "                     [med app] | I've an appointment at 12:00 at the physiotherapy.\n"
          ],
          "name": "stdout"
        }
      ]
    },
    {
      "metadata": {
        "id": "l8EZpuRXyiBB",
        "colab_type": "text"
      },
      "cell_type": "markdown",
      "source": [
        "## Notes\n",
        "\n",
        " [1, 2, 3, 4, 5, 6, 7, 8]\n",
        "\n",
        "[1, 2, 3, 4]  [5, 6, 7, 8]\n",
        "\n",
        "[1, 2] [3, 4] [5, 6] [7, 8]\n",
        "\n",
        "[1][2] [3][4] [5][6] [7][8]\n",
        "\n",
        "probability=True, random_state=1"
      ]
    },
    {
      "metadata": {
        "id": "AkCUajCkyiBB",
        "colab_type": "text"
      },
      "cell_type": "markdown",
      "source": [
        "## Multi label predictions with sentence tokenization and ensembles\n",
        "\n",
        "\n",
        "Another idea is to train an ensemble of machines with different hyper parameters. It smoothes out the incluence of a specific hyperparameter and might give a better generalized probability.\n",
        "\n",
        "In the example below, we train 6 machines with different settings and elements in the pipeline. A good approach is to do e.g.:\n",
        "- pipeline with count vectorizer only\n",
        "- pipeline with count vectorizer and TF-IDF transformer\n",
        "- pipeline with count vectorizer and Okapi BM25 transformer"
      ]
    },
    {
      "metadata": {
        "id": "1nmF-VozyiBC",
        "colab_type": "code",
        "outputId": "a791bf6f-39ad-4fc4-9559-24c53d783bf3",
        "colab": {
          "base_uri": "https://localhost:8080/",
          "height": 221
        }
      },
      "cell_type": "code",
      "source": [
        "steps = [('vectorizer', CountVectorizer()),\n",
        "         ('classifier', SVC(kernel='linear', C=1, probability=True, random_state=1))]\n",
        "pipeline10 = train_and_test(steps, X_train, X_test, y_train, y_test)\n",
        "          \n",
        "steps = [('vectorizer', CountVectorizer()),\n",
        "         ('transformer', TfidfTransformer()),\n",
        "         ('classifier', SVC(kernel='linear', C=1, probability=True, random_state=1))]\n",
        "pipeline11 = train_and_test(steps, X_train, X_test, y_train, y_test)\n",
        "\n",
        "steps = [('vectorizer', CountVectorizer(analyzer=stemmed)),\n",
        "         ('transformer', TfidfTransformer()),\n",
        "         ('classifier', SVC(kernel='linear', C=1, probability=True, random_state=1))]\n",
        "pipeline12 = train_and_test(steps, X_train, X_test, y_train, y_test)\n",
        "\n",
        "steps = [('vectorizer', CountVectorizer(analyzer=stemmed, preprocessor=mask_all, ngram_range=(1,3), stop_words='english')),\n",
        "         ('transformer', TfidfTransformer()),\n",
        "         ('classifier', SVC(kernel='linear', C=1, probability=True, random_state=1))]\n",
        "pipeline13 = train_and_test(steps, X_train, X_test, y_train, y_test)\n",
        "\n",
        "steps = [('vectorizer', CountVectorizer(analyzer=stemmed, preprocessor=mask_all, ngram_range=(1,2))),\n",
        "         ('transformer', TfidfTransformer()),\n",
        "         ('classifier', SVC(kernel='linear', C=1, probability=True, random_state=1))]\n",
        "pipeline14 = train_and_test(steps, X_train, X_test, y_train, y_test)\n",
        "\n",
        "steps = [('vectorizer', CountVectorizer(preprocessor=mask_all, stop_words='english')),\n",
        "         ('transformer', TfidfTransformer()),\n",
        "         ('classifier', SVC(kernel='linear', C=1, probability=True, random_state=1))]\n",
        "pipeline15 = train_and_test(steps, X_train, X_test, y_train, y_test)\n",
        "\n"
      ],
      "execution_count": 0,
      "outputs": [
        {
          "output_type": "stream",
          "text": [
            "10 fold Cross Validation Score: <0.81, 0.87>; µ=0.85\n",
            "Score on test set: 0.84\n",
            "10 fold Cross Validation Score: <0.83, 0.88>; µ=0.86\n",
            "Score on test set: 0.86\n",
            "10 fold Cross Validation Score: <0.83, 0.89>; µ=0.86\n",
            "Score on test set: 0.87\n",
            "10 fold Cross Validation Score: <0.83, 0.89>; µ=0.86\n",
            "Score on test set: 0.87\n",
            "10 fold Cross Validation Score: <0.83, 0.89>; µ=0.86\n",
            "Score on test set: 0.87\n",
            "10 fold Cross Validation Score: <0.80, 0.89>; µ=0.83\n",
            "Score on test set: 0.83\n"
          ],
          "name": "stdout"
        }
      ]
    },
    {
      "metadata": {
        "id": "-24LQ5YCyiBG",
        "colab_type": "code",
        "colab": {}
      },
      "cell_type": "code",
      "source": [
        "models = [pipeline10, pipeline11, pipeline12, pipeline13, pipeline14, pipeline15]"
      ],
      "execution_count": 0,
      "outputs": []
    },
    {
      "metadata": {
        "id": "jF9JXUjRyiBI",
        "colab_type": "code",
        "colab": {}
      },
      "cell_type": "code",
      "source": [
        "def ensemble_predict(models, doc):\n",
        "    y_pred_list = []\n",
        "    for model in models:\n",
        "        # Computes a probability vector for every model\n",
        "        y_pred_list.append(model.predict_proba([doc]))\n",
        "    # Stack all vectors to a 2D matrix\n",
        "    y_pred_mat = np.vstack(y_pred_list)\n",
        "    # Sum all predictions and take the argmax as your final prediction\n",
        "    y_pred = np.sum(y_pred_mat, axis=0)\n",
        "    y_pred = np.argmax(y_pred) + 1\n",
        "    return y_pred\n",
        "\n",
        "def multilabel4_tag(models, doc):\n",
        "    doc_list = sentence_tokenizer(doc)\n",
        "    y_pred = [ensemble_predict(models, token) for token in doc_list]\n",
        "    # Remove double class predictions\n",
        "    y_pred = list(set(y_pred))\n",
        "    tags = [dict_classes[i] for i in y_pred]\n",
        "    # Remove `misc` tag if the list contains other tags as well.\n",
        "    if len(tags) > 1 and dict_classes[8] in tags:\n",
        "        del tags[tags.index(dict_classes[8])]\n",
        "    print('{:>30} | {}'.format('['+'] ['.join(tags)+']', doc))"
      ],
      "execution_count": 0,
      "outputs": []
    },
    {
      "metadata": {
        "id": "T7_dMHi-yiBM",
        "colab_type": "code",
        "colab": {}
      },
      "cell_type": "code",
      "source": [
        "y_pred_m = np.vstack(y_pred_list)"
      ],
      "execution_count": 0,
      "outputs": []
    },
    {
      "metadata": {
        "id": "A5Ku-s7ByiBP",
        "colab_type": "code",
        "outputId": "bd1f3fb6-816d-438f-fd79-f574756a4094",
        "colab": {
          "base_uri": "https://localhost:8080/",
          "height": 136
        }
      },
      "cell_type": "code",
      "source": [
        "y_pred_m"
      ],
      "execution_count": 0,
      "outputs": [
        {
          "output_type": "execute_result",
          "data": {
            "text/plain": [
              "array([[0, 0, 1, ..., 0, 0, 0],\n",
              "       [0, 0, 1, ..., 0, 0, 0],\n",
              "       [1, 0, 0, ..., 0, 0, 0],\n",
              "       ...,\n",
              "       [0, 1, 0, ..., 0, 0, 0],\n",
              "       [1, 0, 1, ..., 0, 0, 0],\n",
              "       [0, 0, 0, ..., 0, 0, 1]])"
            ]
          },
          "metadata": {
            "tags": []
          },
          "execution_count": 40
        }
      ]
    },
    {
      "metadata": {
        "id": "cG3sitEvyiBR",
        "colab_type": "code",
        "outputId": "dcb99cdc-2200-4c33-f9b5-ec1237a70c19",
        "colab": {
          "base_uri": "https://localhost:8080/",
          "height": 34
        }
      },
      "cell_type": "code",
      "source": [
        "np.sum(y_pred_m, axis=0)"
      ],
      "execution_count": 0,
      "outputs": [
        {
          "output_type": "execute_result",
          "data": {
            "text/plain": [
              "array([122,  31, 115,  19,   7,  22,  25,  88])"
            ]
          },
          "metadata": {
            "tags": []
          },
          "execution_count": 41
        }
      ]
    },
    {
      "metadata": {
        "id": "Vgk9g2RLyiBS",
        "colab_type": "code",
        "outputId": "af1e45b2-6662-4e61-e7fd-48744dbf8d95",
        "colab": {
          "base_uri": "https://localhost:8080/",
          "height": 170
        }
      },
      "cell_type": "code",
      "source": [
        "multilabel4_tag(models, 'My alarm clock was not set properly. I come to the office asap.')\n",
        "multilabel4_tag(models, 'It is my scheduled day off, see you on Tuesday.')\n",
        "multilabel4_tag(models, 'Not feeling well today, I stay home and work from here.')\n",
        "multilabel4_tag(models, 'I work at home on Tuesday.')\n",
        "multilabel4_tag(models, 'This morning I have a meeting at ACME.')\n",
        "multilabel4_tag(models, 'I\\'m off, see you tomorrow.')\n",
        "multilabel4_tag(models, 'Get well soon!')\n",
        "multilabel4_tag(models, 'I\\'m away for a long lunch between 12:00 and 15:30')\n",
        "multilabel4_tag(models, 'I\\'ve an appointment at 12:00 at the physiotherapy.')"
      ],
      "execution_count": 0,
      "outputs": [
        {
          "output_type": "stream",
          "text": [
            "                  [late/early] | My alarm clock was not set properly. I come to the office asap.\n",
            "        [holidays] [in office] | It is my scheduled day off, see you on Tuesday.\n",
            "           [home office] [ill] | Not feeling well today, I stay home and work from here.\n",
            "                 [home office] | I work at home on Tuesday.\n",
            "                    [business] | This morning I have a meeting at ACME.\n",
            "        [holidays] [in office] | I'm off, see you tomorrow.\n",
            "               [miscellaneous] | Get well soon!\n",
            "                  [late/early] | I'm away for a long lunch between 12:00 and 15:30\n",
            "                     [med app] | I've an appointment at 12:00 at the physiotherapy.\n"
          ],
          "name": "stdout"
        }
      ]
    },
    {
      "metadata": {
        "id": "LrJBVK1HyiBV",
        "colab_type": "code",
        "colab": {}
      },
      "cell_type": "code",
      "source": [
        "y_pred = [ensemble_predict(models, X_test.iloc[i]) for i in range(len(X_test))]"
      ],
      "execution_count": 0,
      "outputs": []
    },
    {
      "metadata": {
        "id": "edbwzY08yiBW",
        "colab_type": "code",
        "outputId": "582da419-1347-4932-f3ac-9a78e5282bf4",
        "colab": {
          "base_uri": "https://localhost:8080/",
          "height": 272
        }
      },
      "cell_type": "code",
      "source": [
        "print(classification_report(y_pred=y_pred, y_true=y_test))"
      ],
      "execution_count": 0,
      "outputs": [
        {
          "output_type": "stream",
          "text": [
            "              precision    recall  f1-score   support\n",
            "\n",
            "           1       0.87      0.84      0.86       166\n",
            "           2       0.85      0.91      0.88        32\n",
            "           3       0.94      0.89      0.91       114\n",
            "           4       0.83      0.86      0.85        35\n",
            "           5       0.84      0.84      0.84        32\n",
            "           6       0.96      0.92      0.94        25\n",
            "           7       0.83      0.83      0.83        46\n",
            "           8       0.88      0.92      0.90       171\n",
            "\n",
            "   micro avg       0.88      0.88      0.88       621\n",
            "   macro avg       0.87      0.88      0.88       621\n",
            "weighted avg       0.88      0.88      0.88       621\n",
            "\n"
          ],
          "name": "stdout"
        }
      ]
    },
    {
      "metadata": {
        "id": "G9W5aWJjyiBb",
        "colab_type": "code",
        "outputId": "e88604bf-db81-44bb-8fb2-743fc05481bf",
        "colab": {
          "base_uri": "https://localhost:8080/",
          "height": 328
        }
      },
      "cell_type": "code",
      "source": [
        "plt.figure()\n",
        "plot_confusion_matrix(cm, classes=dict_classes.values(), normalize=True);"
      ],
      "execution_count": 0,
      "outputs": [
        {
          "output_type": "stream",
          "text": [
            "Normalized confusion matrix\n"
          ],
          "name": "stdout"
        },
        {
          "output_type": "display_data",
          "data": {
            "image/png": "[encoded data removed]",
            "text/plain": [
              "<matplotlib.figure.Figure at 0x7f4968aeb5f8>"
            ]
          },
          "metadata": {
            "tags": []
          }
        }
      ]
    },
    {
      "metadata": {
        "id": "E5gOJnU7yiBd",
        "colab_type": "code",
        "colab": {}
      },
      "cell_type": "code",
      "source": [
        ""
      ],
      "execution_count": 0,
      "outputs": []
    }
  ]
}