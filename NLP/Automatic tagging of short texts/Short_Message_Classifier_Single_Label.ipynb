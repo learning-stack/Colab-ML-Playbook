{
  "nbformat": 4,
  "nbformat_minor": 0,
  "metadata": {
    "colab": {
      "name": "Short_Message_Classifier_Single_Label.ipynb",
      "version": "0.3.2",
      "provenance": []
    },
    "kernelspec": {
      "name": "python3",
      "display_name": "Python 3"
    },
    "accelerator": "TPU"
  },
  "cells": [
    {
      "metadata": {
        "id": "uZldgz5j9X1c",
        "colab_type": "text"
      },
      "cell_type": "markdown",
      "source": [
        "# Message Classifier, Multi Class, Single Label\n",
        "Gilbert François Duivesteijn (gilbert@deep-impact.ch)\n"
      ]
    },
    {
      "metadata": {
        "id": "5tIIv2LD9X1f",
        "colab_type": "text"
      },
      "cell_type": "markdown",
      "source": [
        "<img src=\"https://github.com/learning-stack/Colab-ML-Playbook/blob/master/NLP/Automatic%20tagging%20of%20short%20texts/images/dt010612.gif?raw=1\" width=800>"
      ]
    },
    {
      "metadata": {
        "id": "OM-dpqQa9X1g",
        "colab_type": "code",
        "colab": {}
      },
      "cell_type": "code",
      "source": [
        "import os\n",
        "import pickle as pkl\n",
        "import re\n",
        "import string\n",
        "\n",
        "import matplotlib.pyplot as plt\n",
        "import nltk\n",
        "from nltk import tokenize\n",
        "import numpy as np\n",
        "import pandas as pd\n",
        "from sklearn.feature_extraction.text import CountVectorizer\n",
        "from sklearn.feature_extraction.text import TfidfTransformer\n",
        "from sklearn.metrics import classification_report\n",
        "from sklearn.metrics import confusion_matrix\n",
        "from sklearn.metrics import precision_recall_curve\n",
        "\n",
        "from sklearn.model_selection import GridSearchCV\n",
        "from sklearn.model_selection import cross_val_score\n",
        "from sklearn.model_selection import train_test_split\n",
        "from sklearn.multiclass import OneVsRestClassifier\n",
        "from sklearn.multiclass import OneVsOneClassifier\n",
        "from sklearn.pipeline import Pipeline\n",
        "from sklearn.preprocessing import MultiLabelBinarizer\n",
        "from sklearn.preprocessing import OneHotEncoder\n",
        "from sklearn.svm import LinearSVC\n",
        "from sklearn.svm import SVC\n",
        "from sklearn.ensemble import RandomForestClassifier\n",
        "\n",
        "import matplotlib.pyplot as plt\n",
        "import matplotlib.cm as cm\n",
        "from matplotlib.colors import ListedColormap, BoundaryNorm\n",
        "from sklearn import neighbors\n",
        "import matplotlib.patches as mpatches"
      ],
      "execution_count": 0,
      "outputs": []
    },
    {
      "metadata": {
        "id": "N_rKRRWA_Xiy",
        "colab_type": "code",
        "colab": {}
      },
      "cell_type": "code",
      "source": [
        "# Import custom library from my github\n",
        "\n",
        "import urllib.request\n",
        "\n",
        "def download(url):\n",
        "    filename = url.split('/')[-1]\n",
        "    print ('Downloading', filename)\n",
        "    f =  urllib.request.urlopen(url)\n",
        "    data = f.read()\n",
        "    f.close()\n",
        "    with open(filename, 'wb') as myfile:\n",
        "        myfile.write(data)\n",
        "\n",
        "# get .py file from repository\n",
        "download('https://raw.githubusercontent.com/learning-stack/Colab-ML-Playbook/master/NLP/Automatic%20tagging%20of%20short%20texts/lib/utils.py')\n",
        "\n",
        "# verify the file if necessary\n",
        "# print(open('future_encoders.py').read())"
      ],
      "execution_count": 0,
      "outputs": []
    },
    {
      "metadata": {
        "id": "lGwrN2FT_Poz",
        "colab_type": "code",
        "colab": {}
      },
      "cell_type": "code",
      "source": [
        "from utils import plot_confusion_matrix"
      ],
      "execution_count": 0,
      "outputs": []
    },
    {
      "metadata": {
        "id": "YsnSDlsE9X1o",
        "colab_type": "code",
        "colab": {}
      },
      "cell_type": "code",
      "source": [
        "np.set_printoptions(precision=3, linewidth=100)\n",
        "%matplotlib notebook\n",
        "%matplotlib inline"
      ],
      "execution_count": 0,
      "outputs": []
    },
    {
      "metadata": {
        "id": "XbDl3n7X9X1s",
        "colab_type": "code",
        "colab": {}
      },
      "cell_type": "code",
      "source": [
        "nltk.download('stopwords')\n",
        "nltk.download('punkt')"
      ],
      "execution_count": 0,
      "outputs": []
    },
    {
      "metadata": {
        "id": "agHZWW6M9X1v",
        "colab_type": "text"
      },
      "cell_type": "markdown",
      "source": [
        "## Library functions"
      ]
    },
    {
      "metadata": {
        "id": "yU375Xaw9X1x",
        "colab_type": "code",
        "colab": {}
      },
      "cell_type": "code",
      "source": [
        "stemmer = nltk.PorterStemmer()\n",
        "analyzer = CountVectorizer().build_analyzer()\n",
        "\n",
        "\n",
        "def stemmed(doc):\n",
        "    return [stemmer.stem(w) for w in analyzer(doc)]\n",
        "\n",
        "\n",
        "def no_stemmed(doc):\n",
        "    return [w for w in analyzer(doc)]\n",
        "\n",
        "\n",
        "def mask_integers(s):\n",
        "    return re.sub(r'\\d+', '_INT', s)\n",
        "\n",
        "\n",
        "def mask_times(text):\n",
        "    \"\"\"\n",
        "    Replaces times written like 12:50, 1PM, 4:15am, etc to _time token.\n",
        "    :param    text    Input text\n",
        "    :return           Output text with replaced times.\n",
        "    \"\"\"\n",
        "    re_time1 = '\\d{1,2}[:.]\\d{2}(?:am|pm|AM|PM)'\n",
        "    re_time2 = '\\d{1,2}[:.]\\d{2}'\n",
        "    re_time3 = '\\d{1,2}(?:am|pm|AM|PM)'\n",
        "    rec_time = re.compile(re_time1 + '|' + re_time2 + '|' + re_time3)\n",
        "    return re.sub(rec_time, '_TIME', text)\n",
        "\n",
        "\n",
        "def mask_emojis(text):\n",
        "    \"\"\"\n",
        "    Replaces all different emojis to _emoji token.\n",
        "    :param    text    Input text\n",
        "    :return           Output text with replaced emojis.    \n",
        "    \"\"\"\n",
        "    re_icons = ':[a-z-_]*:'\n",
        "    re_ldsd = '\\<(.*?)\\>'\n",
        "    rec_icons = re.compile(re_icons + \"|\" + re_ldsd)\n",
        "    return re.sub(rec_icons, '_EMOJI', text)\n",
        "\n",
        "\n",
        "def mask_all(text):\n",
        "    text = mask_times(text)\n",
        "    text = mask_emojis(text)\n",
        "    text = mask_integers(text)\n",
        "    return text\n",
        "\n",
        "\n",
        "def train_and_test(steps, X_train, X_test, y_train, y_test):\n",
        "    \"\"\"\n",
        "    Trains and tests the pipeline with the given steps. \n",
        "    :param steps:       List of operations inside the pipeline.\n",
        "    :param X_train:     Training data\n",
        "    :param X_test:      Training labels\n",
        "    :param y_train:     Testing data\n",
        "    :param y_test:      Testing labels\n",
        "    :return:            Trained model\n",
        "    \"\"\"\n",
        "    pipeline = Pipeline(steps)\n",
        "    folds = 10\n",
        "    xval_score = cross_val_score(pipeline, X_train, y_train, cv=folds, n_jobs=-1)\n",
        "    \n",
        "    xv_min = np.min(xval_score)\n",
        "    xv_max = np.max(xval_score)\n",
        "    xv_mean = np.mean(xval_score)\n",
        "    xv_std = np.std(xval_score)\n",
        "    print('{} fold Cross Validation Score: <{:.2f}, {:.2f}>; µ={:.2f}'.format(folds, xv_min, xv_max, xv_mean))\n",
        "    pipeline = pipeline.fit(X_train, y_train)\n",
        "    print('Score on test set: {:.2f}'.format(pipeline.score(X_test, y_test)))\n",
        "    return pipeline\n",
        "\n",
        "\n",
        "def tag_message(pipeline, message):\n",
        "    y_pred = pipeline.predict([message])[0]\n",
        "    print('{:>20} | {}'.format(dict_classes[y_pred], message))"
      ],
      "execution_count": 0,
      "outputs": []
    },
    {
      "metadata": {
        "id": "g6HmPK7p9X11",
        "colab_type": "text"
      },
      "cell_type": "markdown",
      "source": [
        "Challenges:\n",
        "- Real data, not easy separable in different classes.\n",
        "- Multi class classification, more difficult than binary classification.\n",
        "- Small dataset, not a lot of samples to train and test.\n",
        "- Number of samples are not equally divided over the classes."
      ]
    },
    {
      "metadata": {
        "id": "85vxGWXS9X13",
        "colab_type": "text"
      },
      "cell_type": "markdown",
      "source": [
        "| Class | Description                                       |\n",
        "| ----- | ------------------------------------------------- |\n",
        "| 1     | Too late, away during office hours or early leave |\n",
        "| 2     | Holidays or scheduled free days                   |\n",
        "| 3     | Home Office                                       |\n",
        "| 4     | Medical appointment                               |\n",
        "| 5     | Ill, without consulting a medical                 |\n",
        "| 6     | Work related absence (at client, conference)      |\n",
        "| 7     | In office announcement                            |\n",
        "| 8     | Miscellanious                                     |"
      ]
    },
    {
      "metadata": {
        "id": "jzVA-W8m9X15",
        "colab_type": "code",
        "colab": {}
      },
      "cell_type": "code",
      "source": [
        "dict_classes = {\n",
        "    1: 'late/early',\n",
        "    2: 'holidays',\n",
        "    3: 'home office',\n",
        "    4: 'med app',\n",
        "    5: 'ill',\n",
        "    6: 'business',\n",
        "    7: 'in office',\n",
        "    8: 'miscellanious'\n",
        "}"
      ],
      "execution_count": 0,
      "outputs": []
    },
    {
      "metadata": {
        "id": "Du3ZPDqc9X17",
        "colab_type": "text"
      },
      "cell_type": "markdown",
      "source": [
        "## Vector Space Model (VSM)\n",
        "\n",
        "### Vectorizer\n",
        "\n",
        "Before we can use the text messages to train a classifier, we have to transform text into numbers. "
      ]
    },
    {
      "metadata": {
        "scrolled": false,
        "id": "s-4_52Nk9X18",
        "colab_type": "code",
        "colab": {}
      },
      "cell_type": "code",
      "source": [
        "documents = [\n",
        "    \"But I don’t want to go among mad people, Alice remarked.\",\n",
        "    \"Oh, you can’t help that, said the Cat: we’re all mad here. I’m mad. You’re mad.\",\n",
        "    \"How do you know I’m mad? said Alice.\",\n",
        "    \"You must be, said the Cat, or you wouldn’t have come here.\"\n",
        "]\n",
        "\n",
        "vectorizer = CountVectorizer(stop_words='english')\n",
        "# vectorizer = CountVectorizer(tokenizer=nltk.tokenize.word_tokenize, stop_words='english', strip_accents='unicode')\n",
        "X = vectorizer.fit_transform(documents)\n",
        "vectorizer.vocabulary_"
      ],
      "execution_count": 0,
      "outputs": []
    },
    {
      "metadata": {
        "id": "nsmr9HI19X2A",
        "colab_type": "text"
      },
      "cell_type": "markdown",
      "source": [
        "It creates vector for every document:"
      ]
    },
    {
      "metadata": {
        "id": "NdMF5prO9X2B",
        "colab_type": "code",
        "colab": {}
      },
      "cell_type": "code",
      "source": [
        "X.toarray()"
      ],
      "execution_count": 0,
      "outputs": []
    },
    {
      "metadata": {
        "id": "ZYSwQwvF9X2F",
        "colab_type": "text"
      },
      "cell_type": "markdown",
      "source": [
        "When transforming a text with unknown words, like `cat` in this example, vector is empty."
      ]
    },
    {
      "metadata": {
        "id": "Y-EZpkCy9X2G",
        "colab_type": "code",
        "colab": {}
      },
      "cell_type": "code",
      "source": [
        "documents2 = [\"Cat: Where are you going?\",\n",
        "            \"Alice: Which way should I go?\"]\n",
        "X12 = vectorizer.transform(documents2).toarray()\n",
        "X12"
      ],
      "execution_count": 0,
      "outputs": []
    },
    {
      "metadata": {
        "id": "WdMv0LUE9X2L",
        "colab_type": "text"
      },
      "cell_type": "markdown",
      "source": [
        "### Intermezzo: Search engine "
      ]
    },
    {
      "metadata": {
        "id": "qk6noRsv9X2M",
        "colab_type": "code",
        "colab": {}
      },
      "cell_type": "code",
      "source": [
        "# Document collection\n",
        "D = X.toarray()\n",
        "\n",
        "# query\n",
        "q = vectorizer.transform([\"is alice mad?\"]).toarray()\n",
        "\n",
        "# Do the search by computing the dot product\n",
        "res = D * q\n",
        "\n",
        "# Sort highest ranked documents and show only documents with a score > 0\n",
        "res_ranked = np.sum(res, axis=1)\n",
        "res_index_sorted = np.argsort(res_ranked)[::-1]\n",
        "res_index_sorted_filtered = res_index_sorted[res_ranked[res_index_sorted] > 0]\n",
        "\n",
        "# Print the search results\n",
        "for index in res_index_sorted_filtered:\n",
        "    print('[ score: {} ] {}'.format(res_ranked[index], documents[index]))"
      ],
      "execution_count": 0,
      "outputs": []
    },
    {
      "metadata": {
        "id": "biKqp9Pg9X2Q",
        "colab_type": "text"
      },
      "cell_type": "markdown",
      "source": [
        "### Transformer\n",
        "\n",
        "With a count vectorizer, every word gets counted with the same weight, making frequently occuring words too important. There are several ways to penalizing frequent occuring words and rewarding rare occuring words. The most well known method is called term frequency - inverse document frequency (TF-IDF). TfIdf is implemented in scikit-learn as `TfidfTransformer`. Another algoritm is Okapi-BM25. "
      ]
    },
    {
      "metadata": {
        "id": "S6dDYxMs9X2R",
        "colab_type": "code",
        "colab": {}
      },
      "cell_type": "code",
      "source": [
        "transformer = TfidfTransformer()\n",
        "Xt = transformer.fit_transform(X)\n",
        "Xt.toarray()"
      ],
      "execution_count": 0,
      "outputs": []
    },
    {
      "metadata": {
        "id": "XXziQT8U9X2W",
        "colab_type": "text"
      },
      "cell_type": "markdown",
      "source": [
        "### Stopwords"
      ]
    },
    {
      "metadata": {
        "id": "oLFEhNKX9X2Z",
        "colab_type": "text"
      },
      "cell_type": "markdown",
      "source": [
        "Removing common words from the documents can improve the performance of the classifier. Both NLTK as CountVectorizer provide a lists of stopwords in different languages. Beware that the lists are not the same and might give different results."
      ]
    },
    {
      "metadata": {
        "id": "5k9KUZ029X2c",
        "colab_type": "code",
        "colab": {}
      },
      "cell_type": "code",
      "source": [
        "for word in sorted(nltk.corpus.stopwords.words('english')):\n",
        "    print('{}, '.format(word), end='')"
      ],
      "execution_count": 0,
      "outputs": []
    },
    {
      "metadata": {
        "id": "ttPKqW9L9X2h",
        "colab_type": "code",
        "colab": {}
      },
      "cell_type": "code",
      "source": [
        "for word in sorted(vectorizer.get_stop_words()):\n",
        "    print('{}, '.format(word), end='')"
      ],
      "execution_count": 0,
      "outputs": []
    },
    {
      "metadata": {
        "id": "29L9RxWH9X2m",
        "colab_type": "text"
      },
      "cell_type": "markdown",
      "source": [
        "### Stemming"
      ]
    },
    {
      "metadata": {
        "id": "jIMi9C_D9X2n",
        "colab_type": "text"
      },
      "cell_type": "markdown",
      "source": [
        "Stemming truncates variations of words into a same shape which helps the classifier to recognise these words as the same token."
      ]
    },
    {
      "metadata": {
        "id": "-c-IvEC89X2r",
        "colab_type": "code",
        "colab": {}
      },
      "cell_type": "code",
      "source": [
        "doc11 = 'computer computers computing computed'\n",
        "print(no_stemmed(doc11))\n",
        "print(stemmed(doc11))"
      ],
      "execution_count": 0,
      "outputs": []
    },
    {
      "metadata": {
        "id": "54OYmkxq9X2v",
        "colab_type": "text"
      },
      "cell_type": "markdown",
      "source": [
        "## Load and prepare the data"
      ]
    },
    {
      "metadata": {
        "id": "NgsbaeVl97lk",
        "colab_type": "code",
        "colab": {}
      },
      "cell_type": "code",
      "source": [
        "!wget https://github.com/gilbertfrancois/pydata2018-tagging/blob/master/data/messages-cls-mc.pkl?raw=true"
      ],
      "execution_count": 0,
      "outputs": []
    },
    {
      "metadata": {
        "scrolled": true,
        "id": "xLDT-YoE9X2x",
        "colab_type": "code",
        "colab": {}
      },
      "cell_type": "code",
      "source": [
        "df_cls_messages = pd.read_pickle('messages-cls-mc.pkl?raw=true')\n",
        "df_cls_messages.head(10)"
      ],
      "execution_count": 0,
      "outputs": []
    },
    {
      "metadata": {
        "id": "PnF8INln9X28",
        "colab_type": "code",
        "colab": {}
      },
      "cell_type": "code",
      "source": [
        "# Remove all rows which have no annotation\n",
        "samples = df_cls_messages.dropna()\n",
        "\n",
        "# Convert the classification column to unsigned int, in case it is stored as string\n",
        "samples['class'] = samples.loc[:, 'class'].astype(np.uint8).values\n",
        "\n",
        "X = samples['text']\n",
        "y = samples['class']\n",
        "\n",
        "print('[.] Number of training samples: {}'.format(len(X)))"
      ],
      "execution_count": 0,
      "outputs": []
    },
    {
      "metadata": {
        "id": "79ytg4ze9X2_",
        "colab_type": "code",
        "colab": {}
      },
      "cell_type": "code",
      "source": [
        "X_train, X_test, y_train, y_test = train_test_split(X, y, test_size=0.20, random_state=1)"
      ],
      "execution_count": 0,
      "outputs": []
    },
    {
      "metadata": {
        "id": "GlAGjesa9X3D",
        "colab_type": "text"
      },
      "cell_type": "markdown",
      "source": [
        "## Building a pipeline and training the first model\n",
        "\n",
        "Scikit Learn offers a great way to combine the preprocessing (vectorization, stemming, stopword removal, etc) and training/predicting by building a pipeline. Let's see how that works...\n",
        "\n",
        "More information on pipelines, look at this nice blog post:\n",
        "\n",
        "https://buhrmann.github.io/sklearn-pipelines.html"
      ]
    },
    {
      "metadata": {
        "id": "8IEQM8ga9X3E",
        "colab_type": "code",
        "colab": {}
      },
      "cell_type": "code",
      "source": [
        "steps = [('vectorizer', CountVectorizer()),\n",
        "         ('classifier', LinearSVC(random_state=1))]\n",
        "pipeline1 = train_and_test(steps, X_train, X_test, y_train, y_test)"
      ],
      "execution_count": 0,
      "outputs": []
    },
    {
      "metadata": {
        "id": "S2hLHyia9X3I",
        "colab_type": "code",
        "colab": {}
      },
      "cell_type": "code",
      "source": [
        "y_pred = pipeline1.predict(X_test)\n",
        "cm = confusion_matrix(y_pred=y_pred, y_true=y_test)\n",
        "plt.figure()\n",
        "plot_confusion_matrix(cm, classes=dict_classes.values(), normalize=True);"
      ],
      "execution_count": 0,
      "outputs": []
    },
    {
      "metadata": {
        "id": "AlH8A0_49X3M",
        "colab_type": "text"
      },
      "cell_type": "markdown",
      "source": [
        "Let's see what parameters are available and have been set by default:"
      ]
    },
    {
      "metadata": {
        "id": "Cef0fIYN9X3M",
        "colab_type": "code",
        "colab": {}
      },
      "cell_type": "code",
      "source": [
        "pipeline1.get_params()"
      ],
      "execution_count": 0,
      "outputs": []
    },
    {
      "metadata": {
        "id": "WFru1qIt9X3P",
        "colab_type": "text"
      },
      "cell_type": "markdown",
      "source": [
        "All objects in the pipeline are stored in a dictonary. You can easily access them like any ordinary python dictionary. E.g. you want to transform only a document to a vector. This can be useful if you want to have the output of the preprocessing step for plotting or further analysis. "
      ]
    },
    {
      "metadata": {
        "id": "hLUyqQk_9X3Q",
        "colab_type": "code",
        "colab": {}
      },
      "cell_type": "code",
      "source": [
        "vectorizer = pipeline1.get_params()['vectorizer']\n",
        "vectorizer.transform(['A new document']).toarray()"
      ],
      "execution_count": 0,
      "outputs": []
    },
    {
      "metadata": {
        "id": "mBX1vWOp9X3S",
        "colab_type": "text"
      },
      "cell_type": "markdown",
      "source": [
        "Let's add a TF-IDF transformer that suppress the weight of common words and make special words more important."
      ]
    },
    {
      "metadata": {
        "id": "oLJCkeXP9X3U",
        "colab_type": "code",
        "colab": {}
      },
      "cell_type": "code",
      "source": [
        "steps = [('vectorizer', CountVectorizer()),\n",
        "         ('tfidf', TfidfTransformer()),\n",
        "         ('classifier', LinearSVC(random_state=1))]\n",
        "pipeline2 = train_and_test(steps, X_train, X_test, y_train, y_test)"
      ],
      "execution_count": 0,
      "outputs": []
    },
    {
      "metadata": {
        "id": "mHwLyH1D9X3X",
        "colab_type": "code",
        "colab": {}
      },
      "cell_type": "code",
      "source": [
        "steps = [('vectorizer', CountVectorizer(analyzer=stemmed)),\n",
        "         ('tfidf', TfidfTransformer()),\n",
        "         ('classifier', LinearSVC(random_state=1))]\n",
        "pipeline3 = train_and_test(steps, X_train, X_test, y_train, y_test)"
      ],
      "execution_count": 0,
      "outputs": []
    },
    {
      "metadata": {
        "id": "mmRxNmKw9X3d",
        "colab_type": "code",
        "colab": {}
      },
      "cell_type": "code",
      "source": [
        "steps = [('vectorizer', CountVectorizer(analyzer=stemmed, \n",
        "                                        stop_words='english')),\n",
        "        ('tfidf', TfidfTransformer()),\n",
        "        ('classifier', LinearSVC(random_state=1))]\n",
        "pipeline4 = train_and_test(steps, X_train, X_test, y_train, y_test)"
      ],
      "execution_count": 0,
      "outputs": []
    },
    {
      "metadata": {
        "id": "zafRLxsC9X3g",
        "colab_type": "code",
        "colab": {}
      },
      "cell_type": "code",
      "source": [
        "steps = [('vectorizer', CountVectorizer(ngram_range=(1, 2))),\n",
        "         ('tfidf', TfidfTransformer()),\n",
        "         ('classifier', LinearSVC(random_state=1))]\n",
        "pipeline5 = train_and_test(steps, X_train, X_test, y_train, y_test)"
      ],
      "execution_count": 0,
      "outputs": []
    },
    {
      "metadata": {
        "id": "MDAkQNO_9X3k",
        "colab_type": "code",
        "colab": {}
      },
      "cell_type": "code",
      "source": [
        "steps = [('vectorizer', CountVectorizer(ngram_range=(1, 3))),\n",
        "         ('tfidf', TfidfTransformer()),\n",
        "         ('classifier', LinearSVC(random_state=1))]\n",
        "pipeline6 = train_and_test(steps, X_train, X_test, y_train, y_test)"
      ],
      "execution_count": 0,
      "outputs": []
    },
    {
      "metadata": {
        "id": "piEUEWB29X3o",
        "colab_type": "code",
        "colab": {}
      },
      "cell_type": "code",
      "source": [
        "steps = [('vectorizer', CountVectorizer(preprocessor=mask_all, \n",
        "                                        analyzer=stemmed, \n",
        "                                        stop_words='english', \n",
        "                                        ngram_range=(1, 3))),\n",
        "         ('tfidf', TfidfTransformer()),\n",
        "         ('classifier', LinearSVC(random_state=1))]\n",
        "pipeline7 = train_and_test(steps, X_train, X_test, y_train, y_test)"
      ],
      "execution_count": 0,
      "outputs": []
    },
    {
      "metadata": {
        "id": "_rSFmTA39X3u",
        "colab_type": "text"
      },
      "cell_type": "markdown",
      "source": [
        "## One vs Rest Classifiers\n",
        "\n",
        "Let's train 8 classifiers: One vs Rest"
      ]
    },
    {
      "metadata": {
        "id": "1FiVrs5f9X3v",
        "colab_type": "code",
        "colab": {}
      },
      "cell_type": "code",
      "source": [
        "enc = OneHotEncoder()\n",
        "ym_train = enc.fit_transform(np.array(y_train.tolist()).reshape(-1,1))\n",
        "ym_test = enc.transform(np.array(y_test.tolist()).reshape(-1,1))\n",
        "\n",
        "steps = [('vectorizer', CountVectorizer(analyzer=stemmed, \n",
        "                                        stop_words='english', \n",
        "                                        preprocessor=mask_all)),\n",
        "         ('transformer', TfidfTransformer()),\n",
        "         ('classifier', OneVsRestClassifier(LinearSVC(random_state=1, multi_class='ovr')))]\n",
        "pipeline8 = train_and_test(steps, X_train, X_test, ym_train, ym_test)"
      ],
      "execution_count": 0,
      "outputs": []
    },
    {
      "metadata": {
        "scrolled": false,
        "id": "eS8soPqI9X3x",
        "colab_type": "code",
        "colab": {}
      },
      "cell_type": "code",
      "source": [
        "steps = [('vectorizer', CountVectorizer(ngram_range=(1,3), \n",
        "                                        analyzer=stemmed, \n",
        "                                        stop_words='english', \n",
        "                                        preprocessor=mask_all)),\n",
        "         ('transformer', TfidfTransformer()),\n",
        "         ('classifier', OneVsOneClassifier(LinearSVC(random_state=1, multi_class='ovr')))]\n",
        "pipeline9 = train_and_test(steps, X_train, X_test, y_train, y_test)"
      ],
      "execution_count": 0,
      "outputs": []
    },
    {
      "metadata": {
        "id": "q1serbmW9X3z",
        "colab_type": "code",
        "colab": {}
      },
      "cell_type": "code",
      "source": [
        "y_pred = pipeline9.predict(X_test)\n",
        "\n",
        "print(classification_report(y_pred=y_pred, y_true=y_test))"
      ],
      "execution_count": 0,
      "outputs": []
    },
    {
      "metadata": {
        "id": "gMC_0PoB9X30",
        "colab_type": "code",
        "colab": {}
      },
      "cell_type": "code",
      "source": [
        "cm = confusion_matrix(y_pred=y_pred, y_true=y_test)\n",
        "plt.figure()\n",
        "plot_confusion_matrix(cm, classes=dict_classes.values(), normalize=True);"
      ],
      "execution_count": 0,
      "outputs": []
    },
    {
      "metadata": {
        "id": "aEdm_7FW9X33",
        "colab_type": "code",
        "colab": {}
      },
      "cell_type": "code",
      "source": [
        "%%time\n",
        "\n",
        "steps = [('vectorizer', CountVectorizer()),\n",
        "         ('transformer', TfidfTransformer()),\n",
        "         ('classifier', SVC(kernel='linear', random_state=1))]\n",
        "pipeline10 = Pipeline(steps)\n",
        "\n",
        "params = {\n",
        "    'vectorizer__tokenizer': [None, nltk.tokenize.word_tokenize],\n",
        "    'vectorizer__analyzer': ['word', stemmed],\n",
        "    'vectorizer__stop_words': [None, nltk.corpus.stopwords.words('english'), 'english'],\n",
        "    'vectorizer__ngram_range': [(1, 1), (1, 2), (2, 2), (1, 3)],\n",
        "    'vectorizer__preprocessor': [None, mask_all, mask_integers, mask_times, mask_emojis],\n",
        "    'classifier__C': np.logspace(-2, 2, 5),\n",
        "    'classifier__gamma': np.logspace(-5, 3, 9)\n",
        "}\n",
        "\n",
        "gs = GridSearchCV(pipeline10, params, n_jobs=-1)\n",
        "gs.fit(X_train, y_train)\n",
        "\n",
        "print(gs.best_params_)\n",
        "y_pred = gs.predict(X_test)\n",
        "print(classification_report(y_pred=y_pred, y_true=y_test))\n",
        "print('Score on the test set: {:.2f}'.format(gs.score(X_test, y_test)))"
      ],
      "execution_count": 0,
      "outputs": []
    },
    {
      "metadata": {
        "id": "1UZ1XHHv9X34",
        "colab_type": "text"
      },
      "cell_type": "markdown",
      "source": [
        "You can try a gridsearch with another classifier. But it is hard to beat Linear SVM."
      ]
    },
    {
      "metadata": {
        "id": "svqk_0jl9X37",
        "colab_type": "code",
        "colab": {}
      },
      "cell_type": "code",
      "source": [
        "#%%time\n",
        "#\n",
        "#steps = [('vectorizer', CountVectorizer()),\n",
        "#         ('transformer', TfidfTransformer()),\n",
        "#         ('classifier', RandomForestClassifier())]\n",
        "#pipeline11 = Pipeline(steps)\n",
        "\n",
        "#params = {\n",
        "#    'vectorizer__tokenizer': [None, nltk.tokenize.word_tokenize],\n",
        "#    'vectorizer__analyzer': ['word', stemmed],\n",
        "#    'vectorizer__stop_words': [None, nltk.corpus.stopwords.words('english'), 'english'],\n",
        "#    'vectorizer__ngram_range': [(1, 1), (1, 2), (2, 2), (1, 3)],\n",
        "#    'vectorizer__preprocessor': [None, mask_all, mask_integers, mask_times, mask_emojis],\n",
        "#    'classifier__n_estimators': [128, 512, 2048],\n",
        "#    'classifier__bootstrap': [True, False],\n",
        "#    'classifier__criterion': ['gini', 'entropy'], \n",
        "#    'classifier__max_depth': [2, 4, 8, None],\n",
        "#    'classifier__min_samples_leaf': [1, 3, 10], \n",
        "#    'classifier__min_samples_split': [2, 8, 16]\n",
        "#}\n",
        "\n",
        "#gs = GridSearchCV(pipeline11, params, n_jobs=-1)\n",
        "#gs.fit(X_train, y_train)\n",
        "\n",
        "#print(gs.best_params_)\n",
        "#y_pred = gs.predict(X_test)\n",
        "#print(classification_report(y_pred=y_pred, y_true=y_test))\n",
        "#print('Score on the test set: {:.2f}'.format(gs.score(X_test, y_test)))"
      ],
      "execution_count": 0,
      "outputs": []
    },
    {
      "metadata": {
        "id": "4USVmHVi9X39",
        "colab_type": "code",
        "colab": {}
      },
      "cell_type": "code",
      "source": [
        "pipeline = gs\n",
        "\n",
        "tag_message(pipeline, 'My alarm clock was not set properly. I come to the office asap.')\n",
        "tag_message(pipeline, 'It is my scheduled day off, see you on Tuesday.')\n",
        "tag_message(pipeline, 'Not feeling well today, I stay home and work from here.')\n",
        "tag_message(pipeline, 'I work at home on Tuesday.')\n",
        "tag_message(pipeline, 'This morning I have a meeting at SPS.')\n",
        "tag_message(pipeline, 'I\\'m off, see you tomorrow.')\n",
        "tag_message(pipeline, 'get well soon!')\n",
        "tag_message(pipeline, 'I\\'m away for a long lunch between 12:00 and 15:30')\n",
        "tag_message(pipeline, 'I\\'ve an appointment at 12:00 at the physiotherapy.')"
      ],
      "execution_count": 0,
      "outputs": []
    }
  ]
}