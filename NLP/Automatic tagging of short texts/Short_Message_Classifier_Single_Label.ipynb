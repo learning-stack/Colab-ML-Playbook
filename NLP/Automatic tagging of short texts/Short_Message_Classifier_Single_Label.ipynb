{
  "nbformat": 4,
  "nbformat_minor": 0,
  "metadata": {
    "colab": {
      "name": "Short_Message_Classifier_Single_Label.ipynb",
      "version": "0.3.2",
      "provenance": []
    },
    "kernelspec": {
      "name": "python3",
      "display_name": "Python 3"
    },
    "accelerator": "TPU"
  },
  "cells": [
    {
      "metadata": {
        "id": "uZldgz5j9X1c",
        "colab_type": "text"
      },
      "cell_type": "markdown",
      "source": [
        "# Message Classifier, Multi Class, Single Label\n",
        "Gilbert François Duivesteijn (gilbert@deep-impact.ch)\n"
      ]
    },
    {
      "metadata": {
        "id": "5tIIv2LD9X1f",
        "colab_type": "text"
      },
      "cell_type": "markdown",
      "source": [
        "<img src=\"https://github.com/gilbertfrancois/pydata2018-tagging/blob/master/images/dt010612.gif?raw=true\" width=800>"
      ]
    },
    {
      "metadata": {
        "id": "OM-dpqQa9X1g",
        "colab_type": "code",
        "colab": {}
      },
      "cell_type": "code",
      "source": [
        "import os\n",
        "import pickle as pkl\n",
        "import re\n",
        "import string\n",
        "\n",
        "import matplotlib.pyplot as plt\n",
        "import nltk\n",
        "from nltk import tokenize\n",
        "import numpy as np\n",
        "import pandas as pd\n",
        "from sklearn.feature_extraction.text import CountVectorizer\n",
        "from sklearn.feature_extraction.text import TfidfTransformer\n",
        "from sklearn.metrics import classification_report\n",
        "from sklearn.metrics import confusion_matrix\n",
        "from sklearn.metrics import precision_recall_curve\n",
        "\n",
        "from sklearn.model_selection import GridSearchCV\n",
        "from sklearn.model_selection import cross_val_score\n",
        "from sklearn.model_selection import train_test_split\n",
        "from sklearn.multiclass import OneVsRestClassifier\n",
        "from sklearn.multiclass import OneVsOneClassifier\n",
        "from sklearn.pipeline import Pipeline\n",
        "from sklearn.preprocessing import MultiLabelBinarizer\n",
        "from sklearn.preprocessing import OneHotEncoder\n",
        "from sklearn.svm import LinearSVC\n",
        "from sklearn.svm import SVC\n",
        "from sklearn.ensemble import RandomForestClassifier\n",
        "\n",
        "import matplotlib.pyplot as plt\n",
        "import matplotlib.cm as cm\n",
        "from matplotlib.colors import ListedColormap, BoundaryNorm\n",
        "from sklearn import neighbors\n",
        "import matplotlib.patches as mpatches"
      ],
      "execution_count": 0,
      "outputs": []
    },
    {
      "metadata": {
        "id": "N_rKRRWA_Xiy",
        "colab_type": "code",
        "outputId": "3c987275-d794-43ad-b145-6e80ad9a8954",
        "colab": {
          "base_uri": "https://localhost:8080/",
          "height": 34
        }
      },
      "cell_type": "code",
      "source": [
        "# Import custom library from my github\n",
        "\n",
        "import urllib.request\n",
        "\n",
        "def download(url):\n",
        "    filename = url.split('/')[-1]\n",
        "    print ('Downloading', filename)\n",
        "    f =  urllib.request.urlopen(url)\n",
        "    data = f.read()\n",
        "    f.close()\n",
        "    with open(filename, 'wb') as myfile:\n",
        "        myfile.write(data)\n",
        "\n",
        "# get .py file from repository\n",
        "download('https://raw.githubusercontent.com/learning-stack/Colab-ML-Playbook/master/NLP/Automatic%20tagging%20of%20short%20texts/lib/utils.py')\n",
        "\n",
        "# verify the file if necessary\n",
        "# print(open('future_encoders.py').read())"
      ],
      "execution_count": 0,
      "outputs": [
        {
          "output_type": "stream",
          "text": [
            "Downloading utils.py\n"
          ],
          "name": "stdout"
        }
      ]
    },
    {
      "metadata": {
        "id": "lGwrN2FT_Poz",
        "colab_type": "code",
        "colab": {}
      },
      "cell_type": "code",
      "source": [
        "from utils import plot_confusion_matrix"
      ],
      "execution_count": 0,
      "outputs": []
    },
    {
      "metadata": {
        "id": "YsnSDlsE9X1o",
        "colab_type": "code",
        "colab": {}
      },
      "cell_type": "code",
      "source": [
        "np.set_printoptions(precision=3, linewidth=100)\n",
        "%matplotlib notebook\n",
        "%matplotlib inline"
      ],
      "execution_count": 0,
      "outputs": []
    },
    {
      "metadata": {
        "id": "XbDl3n7X9X1s",
        "colab_type": "code",
        "outputId": "8d28b003-a506-4220-b068-a5946040ff2b",
        "colab": {
          "base_uri": "https://localhost:8080/",
          "height": 102
        }
      },
      "cell_type": "code",
      "source": [
        "nltk.download('stopwords')\n",
        "nltk.download('punkt')"
      ],
      "execution_count": 0,
      "outputs": [
        {
          "output_type": "stream",
          "text": [
            "[nltk_data] Downloading package stopwords to /root/nltk_data...\n",
            "[nltk_data]   Unzipping corpora/stopwords.zip.\n",
            "[nltk_data] Downloading package punkt to /root/nltk_data...\n",
            "[nltk_data]   Unzipping tokenizers/punkt.zip.\n"
          ],
          "name": "stdout"
        },
        {
          "output_type": "execute_result",
          "data": {
            "text/plain": [
              "True"
            ]
          },
          "metadata": {
            "tags": []
          },
          "execution_count": 5
        }
      ]
    },
    {
      "metadata": {
        "id": "agHZWW6M9X1v",
        "colab_type": "text"
      },
      "cell_type": "markdown",
      "source": [
        "## Library functions"
      ]
    },
    {
      "metadata": {
        "id": "yU375Xaw9X1x",
        "colab_type": "code",
        "colab": {}
      },
      "cell_type": "code",
      "source": [
        "stemmer = nltk.PorterStemmer()\n",
        "analyzer = CountVectorizer().build_analyzer()\n",
        "\n",
        "\n",
        "def stemmed(doc):\n",
        "    return [stemmer.stem(w) for w in analyzer(doc)]\n",
        "\n",
        "\n",
        "def no_stemmed(doc):\n",
        "    return [w for w in analyzer(doc)]\n",
        "\n",
        "\n",
        "def mask_integers(s):\n",
        "    return re.sub(r'\\d+', '_INT', s)\n",
        "\n",
        "\n",
        "def mask_times(text):\n",
        "    \"\"\"\n",
        "    Replaces times written like 12:50, 1PM, 4:15am, etc to _time token.\n",
        "    :param    text    Input text\n",
        "    :return           Output text with replaced times.\n",
        "    \"\"\"\n",
        "    re_time1 = '\\d{1,2}[:.]\\d{2}(?:am|pm|AM|PM)'\n",
        "    re_time2 = '\\d{1,2}[:.]\\d{2}'\n",
        "    re_time3 = '\\d{1,2}(?:am|pm|AM|PM)'\n",
        "    rec_time = re.compile(re_time1 + '|' + re_time2 + '|' + re_time3)\n",
        "    return re.sub(rec_time, '_TIME', text)\n",
        "\n",
        "\n",
        "def mask_emojis(text):\n",
        "    \"\"\"\n",
        "    Replaces all different emojis to _emoji token.\n",
        "    :param    text    Input text\n",
        "    :return           Output text with replaced emojis.    \n",
        "    \"\"\"\n",
        "    re_icons = ':[a-z-_]*:'\n",
        "    re_ldsd = '\\<(.*?)\\>'\n",
        "    rec_icons = re.compile(re_icons + \"|\" + re_ldsd)\n",
        "    return re.sub(rec_icons, '_EMOJI', text)\n",
        "\n",
        "\n",
        "def mask_all(text):\n",
        "    text = mask_times(text)\n",
        "    text = mask_emojis(text)\n",
        "    text = mask_integers(text)\n",
        "    return text\n",
        "\n",
        "\n",
        "def train_and_test(steps, X_train, X_test, y_train, y_test):\n",
        "    \"\"\"\n",
        "    Trains and tests the pipeline with the given steps. \n",
        "    :param steps:       List of operations inside the pipeline.\n",
        "    :param X_train:     Training data\n",
        "    :param X_test:      Training labels\n",
        "    :param y_train:     Testing data\n",
        "    :param y_test:      Testing labels\n",
        "    :return:            Trained model\n",
        "    \"\"\"\n",
        "    pipeline = Pipeline(steps)\n",
        "    folds = 10\n",
        "    xval_score = cross_val_score(pipeline, X_train, y_train, cv=folds, n_jobs=-1)\n",
        "    \n",
        "    xv_min = np.min(xval_score)\n",
        "    xv_max = np.max(xval_score)\n",
        "    xv_mean = np.mean(xval_score)\n",
        "    xv_std = np.std(xval_score)\n",
        "    print('{} fold Cross Validation Score: <{:.2f}, {:.2f}>; µ={:.2f}'.format(folds, xv_min, xv_max, xv_mean))\n",
        "    pipeline = pipeline.fit(X_train, y_train)\n",
        "    print('Score on test set: {:.2f}'.format(pipeline.score(X_test, y_test)))\n",
        "    return pipeline\n",
        "\n",
        "\n",
        "def tag_message(pipeline, message):\n",
        "    y_pred = pipeline.predict([message])[0]\n",
        "    print('{:>20} | {}'.format(dict_classes[y_pred], message))"
      ],
      "execution_count": 0,
      "outputs": []
    },
    {
      "metadata": {
        "id": "g6HmPK7p9X11",
        "colab_type": "text"
      },
      "cell_type": "markdown",
      "source": [
        "Challenges:\n",
        "- Real data, not easy separable in different classes.\n",
        "- Multi class classification, more difficult than binary classification.\n",
        "- Small dataset, not a lot of samples to train and test.\n",
        "- Number of samples are not equally divided over the classes."
      ]
    },
    {
      "metadata": {
        "id": "85vxGWXS9X13",
        "colab_type": "text"
      },
      "cell_type": "markdown",
      "source": [
        "| Class | Description                                       |\n",
        "| ----- | ------------------------------------------------- |\n",
        "| 1     | Too late, away during office hours or early leave |\n",
        "| 2     | Holidays or scheduled free days                   |\n",
        "| 3     | Home Office                                       |\n",
        "| 4     | Medical appointment                               |\n",
        "| 5     | Ill, without consulting a medical                 |\n",
        "| 6     | Work related absence (at client, conference)      |\n",
        "| 7     | In office announcement                            |\n",
        "| 8     | Miscellanious                                     |"
      ]
    },
    {
      "metadata": {
        "id": "jzVA-W8m9X15",
        "colab_type": "code",
        "colab": {}
      },
      "cell_type": "code",
      "source": [
        "dict_classes = {\n",
        "    1: 'late/early',\n",
        "    2: 'holidays',\n",
        "    3: 'home office',\n",
        "    4: 'med app',\n",
        "    5: 'ill',\n",
        "    6: 'business',\n",
        "    7: 'in office',\n",
        "    8: 'miscellanious'\n",
        "}"
      ],
      "execution_count": 0,
      "outputs": []
    },
    {
      "metadata": {
        "id": "Du3ZPDqc9X17",
        "colab_type": "text"
      },
      "cell_type": "markdown",
      "source": [
        "## Vector Space Model (VSM)\n",
        "\n",
        "### Vectorizer\n",
        "\n",
        "Before we can use the text messages to train a classifier, we have to transform text into numbers. "
      ]
    },
    {
      "metadata": {
        "scrolled": false,
        "id": "s-4_52Nk9X18",
        "colab_type": "code",
        "outputId": "1301f8e3-2ba2-49b3-f5ea-e1f50d38db33",
        "colab": {
          "base_uri": "https://localhost:8080/",
          "height": 238
        }
      },
      "cell_type": "code",
      "source": [
        "documents = [\n",
        "    \"But I don’t want to go among mad people, Alice remarked.\",\n",
        "    \"Oh, you can’t help that, said the Cat: we’re all mad here. I’m mad. You’re mad.\",\n",
        "    \"How do you know I’m mad? said Alice.\",\n",
        "    \"You must be, said the Cat, or you wouldn’t have come here.\"\n",
        "]\n",
        "\n",
        "vectorizer = CountVectorizer(stop_words='english')\n",
        "# vectorizer = CountVectorizer(tokenizer=nltk.tokenize.word_tokenize, stop_words='english', strip_accents='unicode')\n",
        "X = vectorizer.fit_transform(documents)\n",
        "vectorizer.vocabulary_"
      ],
      "execution_count": 0,
      "outputs": [
        {
          "output_type": "execute_result",
          "data": {
            "text/plain": [
              "{'alice': 0,\n",
              " 'cat': 1,\n",
              " 'come': 2,\n",
              " 'don': 3,\n",
              " 'help': 4,\n",
              " 'know': 5,\n",
              " 'mad': 6,\n",
              " 'oh': 7,\n",
              " 'people': 8,\n",
              " 'remarked': 9,\n",
              " 'said': 10,\n",
              " 'want': 11,\n",
              " 'wouldn': 12}"
            ]
          },
          "metadata": {
            "tags": []
          },
          "execution_count": 8
        }
      ]
    },
    {
      "metadata": {
        "id": "nsmr9HI19X2A",
        "colab_type": "text"
      },
      "cell_type": "markdown",
      "source": [
        "It creates vector for every document:"
      ]
    },
    {
      "metadata": {
        "id": "NdMF5prO9X2B",
        "colab_type": "code",
        "outputId": "c78e75df-1692-408a-996e-be140ea88a15",
        "colab": {
          "base_uri": "https://localhost:8080/",
          "height": 85
        }
      },
      "cell_type": "code",
      "source": [
        "X.toarray()"
      ],
      "execution_count": 0,
      "outputs": [
        {
          "output_type": "execute_result",
          "data": {
            "text/plain": [
              "array([[1, 0, 0, 1, 0, 0, 1, 0, 1, 1, 0, 1, 0],\n",
              "       [0, 1, 0, 0, 1, 0, 3, 1, 0, 0, 1, 0, 0],\n",
              "       [1, 0, 0, 0, 0, 1, 1, 0, 0, 0, 1, 0, 0],\n",
              "       [0, 1, 1, 0, 0, 0, 0, 0, 0, 0, 1, 0, 1]], dtype=int64)"
            ]
          },
          "metadata": {
            "tags": []
          },
          "execution_count": 9
        }
      ]
    },
    {
      "metadata": {
        "id": "ZYSwQwvF9X2F",
        "colab_type": "text"
      },
      "cell_type": "markdown",
      "source": [
        "When transforming a text with unknown words, like `cat` in this example, vector is empty."
      ]
    },
    {
      "metadata": {
        "id": "Y-EZpkCy9X2G",
        "colab_type": "code",
        "outputId": "c3b47140-5926-4768-f4b3-4bcc6048ce92",
        "colab": {
          "base_uri": "https://localhost:8080/",
          "height": 51
        }
      },
      "cell_type": "code",
      "source": [
        "documents2 = [\"Cat: Where are you going?\",\n",
        "            \"Alice: Which way should I go?\"]\n",
        "X12 = vectorizer.transform(documents2).toarray()\n",
        "X12"
      ],
      "execution_count": 0,
      "outputs": [
        {
          "output_type": "execute_result",
          "data": {
            "text/plain": [
              "array([[0, 1, 0, 0, 0, 0, 0, 0, 0, 0, 0, 0, 0],\n",
              "       [1, 0, 0, 0, 0, 0, 0, 0, 0, 0, 0, 0, 0]])"
            ]
          },
          "metadata": {
            "tags": []
          },
          "execution_count": 10
        }
      ]
    },
    {
      "metadata": {
        "id": "WdMv0LUE9X2L",
        "colab_type": "text"
      },
      "cell_type": "markdown",
      "source": [
        "### Intermezzo: Search engine "
      ]
    },
    {
      "metadata": {
        "id": "qk6noRsv9X2M",
        "colab_type": "code",
        "outputId": "6ee065d9-5922-466d-f4ae-e731bc840373",
        "colab": {
          "base_uri": "https://localhost:8080/",
          "height": 68
        }
      },
      "cell_type": "code",
      "source": [
        "# Document collection\n",
        "D = X.toarray()\n",
        "\n",
        "# query\n",
        "q = vectorizer.transform([\"is alice mad?\"]).toarray()\n",
        "\n",
        "# Do the search by computing the dot product\n",
        "res = D * q\n",
        "\n",
        "# Sort highest ranked documents and show only documents with a score > 0\n",
        "res_ranked = np.sum(res, axis=1)\n",
        "res_index_sorted = np.argsort(res_ranked)[::-1]\n",
        "res_index_sorted_filtered = res_index_sorted[res_ranked[res_index_sorted] > 0]\n",
        "\n",
        "# Print the search results\n",
        "for index in res_index_sorted_filtered:\n",
        "    print('[ score: {} ] {}'.format(res_ranked[index], documents[index]))"
      ],
      "execution_count": 0,
      "outputs": [
        {
          "output_type": "stream",
          "text": [
            "[ score: 3 ] Oh, you can’t help that, said the Cat: we’re all mad here. I’m mad. You’re mad.\n",
            "[ score: 2 ] How do you know I’m mad? said Alice.\n",
            "[ score: 2 ] But I don’t want to go among mad people, Alice remarked.\n"
          ],
          "name": "stdout"
        }
      ]
    },
    {
      "metadata": {
        "id": "biKqp9Pg9X2Q",
        "colab_type": "text"
      },
      "cell_type": "markdown",
      "source": [
        "### Transformer\n",
        "\n",
        "With a count vectorizer, every word gets counted with the same weight, making frequently occuring words too important. There are several ways to penalizing frequent occuring words and rewarding rare occuring words. The most well known method is called term frequency - inverse document frequency (TF-IDF). TfIdf is implemented in scikit-learn as `TfidfTransformer`. Another algoritm is Okapi-BM25. "
      ]
    },
    {
      "metadata": {
        "id": "S6dDYxMs9X2R",
        "colab_type": "code",
        "outputId": "a52cd92e-3e13-4def-874b-23f0ef419b69",
        "colab": {
          "base_uri": "https://localhost:8080/",
          "height": 85
        }
      },
      "cell_type": "code",
      "source": [
        "transformer = TfidfTransformer()\n",
        "Xt = transformer.fit_transform(X)\n",
        "Xt.toarray()"
      ],
      "execution_count": 0,
      "outputs": [
        {
          "output_type": "execute_result",
          "data": {
            "text/plain": [
              "array([[0.352, 0.   , 0.   , 0.446, 0.   , 0.   , 0.285, 0.   , 0.446, 0.446, 0.   , 0.446, 0.   ],\n",
              "       [0.   , 0.305, 0.   , 0.   , 0.386, 0.   , 0.74 , 0.386, 0.   , 0.   , 0.247, 0.   , 0.   ],\n",
              "       [0.505, 0.   , 0.   , 0.   , 0.   , 0.641, 0.409, 0.   , 0.   , 0.   , 0.409, 0.   , 0.   ],\n",
              "       [0.   , 0.453, 0.575, 0.   , 0.   , 0.   , 0.   , 0.   , 0.   , 0.   , 0.367, 0.   , 0.575]])"
            ]
          },
          "metadata": {
            "tags": []
          },
          "execution_count": 12
        }
      ]
    },
    {
      "metadata": {
        "id": "XXziQT8U9X2W",
        "colab_type": "text"
      },
      "cell_type": "markdown",
      "source": [
        "### Stopwords"
      ]
    },
    {
      "metadata": {
        "id": "oLFEhNKX9X2Z",
        "colab_type": "text"
      },
      "cell_type": "markdown",
      "source": [
        "Removing common words from the documents can improve the performance of the classifier. Both NLTK as CountVectorizer provide a lists of stopwords in different languages. Beware that the lists are not the same and might give different results."
      ]
    },
    {
      "metadata": {
        "id": "5k9KUZ029X2c",
        "colab_type": "code",
        "outputId": "a82bd25c-7f0e-4f8b-aa8d-6a8599e07959",
        "colab": {
          "base_uri": "https://localhost:8080/",
          "height": 54
        }
      },
      "cell_type": "code",
      "source": [
        "for word in sorted(nltk.corpus.stopwords.words('english')):\n",
        "    print('{}, '.format(word), end='')"
      ],
      "execution_count": 0,
      "outputs": [
        {
          "output_type": "stream",
          "text": [
            "a, about, above, after, again, against, ain, all, am, an, and, any, are, aren, aren't, as, at, be, because, been, before, being, below, between, both, but, by, can, couldn, couldn't, d, did, didn, didn't, do, does, doesn, doesn't, doing, don, don't, down, during, each, few, for, from, further, had, hadn, hadn't, has, hasn, hasn't, have, haven, haven't, having, he, her, here, hers, herself, him, himself, his, how, i, if, in, into, is, isn, isn't, it, it's, its, itself, just, ll, m, ma, me, mightn, mightn't, more, most, mustn, mustn't, my, myself, needn, needn't, no, nor, not, now, o, of, off, on, once, only, or, other, our, ours, ourselves, out, over, own, re, s, same, shan, shan't, she, she's, should, should've, shouldn, shouldn't, so, some, such, t, than, that, that'll, the, their, theirs, them, themselves, then, there, these, they, this, those, through, to, too, under, until, up, ve, very, was, wasn, wasn't, we, were, weren, weren't, what, when, where, which, while, who, whom, why, will, with, won, won't, wouldn, wouldn't, y, you, you'd, you'll, you're, you've, your, yours, yourself, yourselves, "
          ],
          "name": "stdout"
        }
      ]
    },
    {
      "metadata": {
        "id": "ttPKqW9L9X2h",
        "colab_type": "code",
        "outputId": "8f7af138-a305-409f-e7d8-c9123bcbe682",
        "colab": {
          "base_uri": "https://localhost:8080/",
          "height": 54
        }
      },
      "cell_type": "code",
      "source": [
        "for word in sorted(vectorizer.get_stop_words()):\n",
        "    print('{}, '.format(word), end='')"
      ],
      "execution_count": 0,
      "outputs": [
        {
          "output_type": "stream",
          "text": [
            "a, about, above, across, after, afterwards, again, against, all, almost, alone, along, already, also, although, always, am, among, amongst, amoungst, amount, an, and, another, any, anyhow, anyone, anything, anyway, anywhere, are, around, as, at, back, be, became, because, become, becomes, becoming, been, before, beforehand, behind, being, below, beside, besides, between, beyond, bill, both, bottom, but, by, call, can, cannot, cant, co, con, could, couldnt, cry, de, describe, detail, do, done, down, due, during, each, eg, eight, either, eleven, else, elsewhere, empty, enough, etc, even, ever, every, everyone, everything, everywhere, except, few, fifteen, fifty, fill, find, fire, first, five, for, former, formerly, forty, found, four, from, front, full, further, get, give, go, had, has, hasnt, have, he, hence, her, here, hereafter, hereby, herein, hereupon, hers, herself, him, himself, his, how, however, hundred, i, ie, if, in, inc, indeed, interest, into, is, it, its, itself, keep, last, latter, latterly, least, less, ltd, made, many, may, me, meanwhile, might, mill, mine, more, moreover, most, mostly, move, much, must, my, myself, name, namely, neither, never, nevertheless, next, nine, no, nobody, none, noone, nor, not, nothing, now, nowhere, of, off, often, on, once, one, only, onto, or, other, others, otherwise, our, ours, ourselves, out, over, own, part, per, perhaps, please, put, rather, re, same, see, seem, seemed, seeming, seems, serious, several, she, should, show, side, since, sincere, six, sixty, so, some, somehow, someone, something, sometime, sometimes, somewhere, still, such, system, take, ten, than, that, the, their, them, themselves, then, thence, there, thereafter, thereby, therefore, therein, thereupon, these, they, thick, thin, third, this, those, though, three, through, throughout, thru, thus, to, together, too, top, toward, towards, twelve, twenty, two, un, under, until, up, upon, us, very, via, was, we, well, were, what, whatever, when, whence, whenever, where, whereafter, whereas, whereby, wherein, whereupon, wherever, whether, which, while, whither, who, whoever, whole, whom, whose, why, will, with, within, without, would, yet, you, your, yours, yourself, yourselves, "
          ],
          "name": "stdout"
        }
      ]
    },
    {
      "metadata": {
        "id": "29L9RxWH9X2m",
        "colab_type": "text"
      },
      "cell_type": "markdown",
      "source": [
        "### Stemming"
      ]
    },
    {
      "metadata": {
        "id": "jIMi9C_D9X2n",
        "colab_type": "text"
      },
      "cell_type": "markdown",
      "source": [
        "Stemming truncates variations of words into a same shape which helps the classifier to recognise these words as the same token."
      ]
    },
    {
      "metadata": {
        "id": "-c-IvEC89X2r",
        "colab_type": "code",
        "outputId": "b8c415ca-8d66-48e4-8ade-e2bdb3a60ae2",
        "colab": {
          "base_uri": "https://localhost:8080/",
          "height": 51
        }
      },
      "cell_type": "code",
      "source": [
        "doc11 = 'computer computers computing computed'\n",
        "print(no_stemmed(doc11))\n",
        "print(stemmed(doc11))"
      ],
      "execution_count": 0,
      "outputs": [
        {
          "output_type": "stream",
          "text": [
            "['computer', 'computers', 'computing', 'computed']\n",
            "['comput', 'comput', 'comput', 'comput']\n"
          ],
          "name": "stdout"
        }
      ]
    },
    {
      "metadata": {
        "id": "54OYmkxq9X2v",
        "colab_type": "text"
      },
      "cell_type": "markdown",
      "source": [
        "## Load and prepare the data"
      ]
    },
    {
      "metadata": {
        "id": "NgsbaeVl97lk",
        "colab_type": "code",
        "outputId": "838ed8cd-28c5-483b-9208-742e9faee747",
        "colab": {
          "base_uri": "https://localhost:8080/",
          "height": 357
        }
      },
      "cell_type": "code",
      "source": [
        "!wget https://github.com/gilbertfrancois/pydata2018-tagging/blob/master/data/messages-cls-mc.pkl?raw=true"
      ],
      "execution_count": 0,
      "outputs": [
        {
          "output_type": "stream",
          "text": [
            "--2019-01-05 12:24:06--  https://github.com/gilbertfrancois/pydata2018-tagging/blob/master/data/messages-cls-mc.pkl?raw=true\n",
            "Resolving github.com (github.com)... 192.30.253.112, 192.30.253.113\n",
            "Connecting to github.com (github.com)|192.30.253.112|:443... connected.\n",
            "HTTP request sent, awaiting response... 302 Found\n",
            "Location: https://github.com/gilbertfrancois/pydata2018-tagging/raw/master/data/messages-cls-mc.pkl [following]\n",
            "--2019-01-05 12:24:06--  https://github.com/gilbertfrancois/pydata2018-tagging/raw/master/data/messages-cls-mc.pkl\n",
            "Reusing existing connection to github.com:443.\n",
            "HTTP request sent, awaiting response... 302 Found\n",
            "Location: https://raw.githubusercontent.com/gilbertfrancois/pydata2018-tagging/master/data/messages-cls-mc.pkl [following]\n",
            "--2019-01-05 12:24:06--  https://raw.githubusercontent.com/gilbertfrancois/pydata2018-tagging/master/data/messages-cls-mc.pkl\n",
            "Resolving raw.githubusercontent.com (raw.githubusercontent.com)... 151.101.0.133, 151.101.64.133, 151.101.128.133, ...\n",
            "Connecting to raw.githubusercontent.com (raw.githubusercontent.com)|151.101.0.133|:443... connected.\n",
            "HTTP request sent, awaiting response... 200 OK\n",
            "Length: 235159 (230K) [application/octet-stream]\n",
            "Saving to: ‘messages-cls-mc.pkl?raw=true’\n",
            "\n",
            "messages-cls-mc.pkl 100%[===================>] 229.65K  --.-KB/s    in 0.04s   \n",
            "\n",
            "2019-01-05 12:24:06 (5.60 MB/s) - ‘messages-cls-mc.pkl?raw=true’ saved [235159/235159]\n",
            "\n"
          ],
          "name": "stdout"
        }
      ]
    },
    {
      "metadata": {
        "scrolled": true,
        "id": "xLDT-YoE9X2x",
        "colab_type": "code",
        "outputId": "bf3318ce-7c85-4b63-8739-22285ab32719",
        "colab": {
          "base_uri": "https://localhost:8080/",
          "height": 359
        }
      },
      "cell_type": "code",
      "source": [
        "df_cls_messages = pd.read_pickle('messages-cls-mc.pkl?raw=true')\n",
        "df_cls_messages.head(10)"
      ],
      "execution_count": 0,
      "outputs": [
        {
          "output_type": "execute_result",
          "data": {
            "text/html": [
              "<div>\n",
              "<style scoped>\n",
              "    .dataframe tbody tr th:only-of-type {\n",
              "        vertical-align: middle;\n",
              "    }\n",
              "\n",
              "    .dataframe tbody tr th {\n",
              "        vertical-align: top;\n",
              "    }\n",
              "\n",
              "    .dataframe thead th {\n",
              "        text-align: right;\n",
              "    }\n",
              "</style>\n",
              "<table border=\"1\" class=\"dataframe\">\n",
              "  <thead>\n",
              "    <tr style=\"text-align: right;\">\n",
              "      <th></th>\n",
              "      <th>ts</th>\n",
              "      <th>user</th>\n",
              "      <th>text</th>\n",
              "      <th>class</th>\n",
              "      <th>key</th>\n",
              "      <th>multiclass</th>\n",
              "    </tr>\n",
              "  </thead>\n",
              "  <tbody>\n",
              "    <tr>\n",
              "      <th>0</th>\n",
              "      <td>1.503303e+09</td>\n",
              "      <td>Balaemar</td>\n",
              "      <td>I have to pick up my car from the garage tomor...</td>\n",
              "      <td>1</td>\n",
              "      <td>1503303350U035FRUCY</td>\n",
              "      <td>[1, 8]</td>\n",
              "    </tr>\n",
              "    <tr>\n",
              "      <th>1</th>\n",
              "      <td>1.503302e+09</td>\n",
              "      <td>Ragaenys</td>\n",
              "      <td>I won’t be here tomorrow, one day vacation</td>\n",
              "      <td>2</td>\n",
              "      <td>1503301710U4A2FRAQ4</td>\n",
              "      <td>[2]</td>\n",
              "    </tr>\n",
              "    <tr>\n",
              "      <th>2</th>\n",
              "      <td>1.503296e+09</td>\n",
              "      <td>Myke</td>\n",
              "      <td>Missed connection in Zurich. Will be about 5-1...</td>\n",
              "      <td>1</td>\n",
              "      <td>1503296123U0MGNKETU</td>\n",
              "      <td>[1]</td>\n",
              "    </tr>\n",
              "    <tr>\n",
              "      <th>3</th>\n",
              "      <td>1.503260e+09</td>\n",
              "      <td>Drevyn</td>\n",
              "      <td>Enjoy!</td>\n",
              "      <td>8</td>\n",
              "      <td>1503259722U035B8PRU</td>\n",
              "      <td>[8]</td>\n",
              "    </tr>\n",
              "    <tr>\n",
              "      <th>4</th>\n",
              "      <td>1.503258e+09</td>\n",
              "      <td>Gaelralis</td>\n",
              "      <td>I am away for 2 weeks in iceland :flag-is:</td>\n",
              "      <td>2</td>\n",
              "      <td>1503258060U0HLAK1T6</td>\n",
              "      <td>[2]</td>\n",
              "    </tr>\n",
              "    <tr>\n",
              "      <th>5</th>\n",
              "      <td>1.503223e+09</td>\n",
              "      <td>Gonaleos</td>\n",
              "      <td>Monday is the first day in school for my son a...</td>\n",
              "      <td>1</td>\n",
              "      <td>1503222795U3W886EF4</td>\n",
              "      <td>[1, 8]</td>\n",
              "    </tr>\n",
              "    <tr>\n",
              "      <th>6</th>\n",
              "      <td>1.503063e+09</td>\n",
              "      <td>Vaerys</td>\n",
              "      <td>Going to leave around 4:50 because I need to g...</td>\n",
              "      <td>1</td>\n",
              "      <td>1503063218U0PLNK7EK</td>\n",
              "      <td>[1, 3]</td>\n",
              "    </tr>\n",
              "    <tr>\n",
              "      <th>7</th>\n",
              "      <td>1.503059e+09</td>\n",
              "      <td>Taengaeron</td>\n",
              "      <td>I am away between 3-4 for private stuff, be ba...</td>\n",
              "      <td>1</td>\n",
              "      <td>1503059074U4C55CKGX</td>\n",
              "      <td>[1, 3]</td>\n",
              "    </tr>\n",
              "    <tr>\n",
              "      <th>8</th>\n",
              "      <td>1.503058e+09</td>\n",
              "      <td>Baegar</td>\n",
              "      <td>I will move to HO. I will be in 2 different Te...</td>\n",
              "      <td>3</td>\n",
              "      <td>1503057526U035J4RG4</td>\n",
              "      <td>[3, 6, 8]</td>\n",
              "    </tr>\n",
              "    <tr>\n",
              "      <th>9</th>\n",
              "      <td>1.503057e+09</td>\n",
              "      <td>Eliar</td>\n",
              "      <td>Need to leave around 16:45. Will be available ...</td>\n",
              "      <td>1</td>\n",
              "      <td>1503056595U0A8NPHRD</td>\n",
              "      <td>[1, 3]</td>\n",
              "    </tr>\n",
              "  </tbody>\n",
              "</table>\n",
              "</div>"
            ],
            "text/plain": [
              "             ts        user  \\\n",
              "0  1.503303e+09    Balaemar   \n",
              "1  1.503302e+09    Ragaenys   \n",
              "2  1.503296e+09        Myke   \n",
              "3  1.503260e+09      Drevyn   \n",
              "4  1.503258e+09   Gaelralis   \n",
              "5  1.503223e+09    Gonaleos   \n",
              "6  1.503063e+09      Vaerys   \n",
              "7  1.503059e+09  Taengaeron   \n",
              "8  1.503058e+09      Baegar   \n",
              "9  1.503057e+09       Eliar   \n",
              "\n",
              "                                                text  class  \\\n",
              "0  I have to pick up my car from the garage tomor...      1   \n",
              "1         I won’t be here tomorrow, one day vacation      2   \n",
              "2  Missed connection in Zurich. Will be about 5-1...      1   \n",
              "3                                             Enjoy!      8   \n",
              "4         I am away for 2 weeks in iceland :flag-is:      2   \n",
              "5  Monday is the first day in school for my son a...      1   \n",
              "6  Going to leave around 4:50 because I need to g...      1   \n",
              "7  I am away between 3-4 for private stuff, be ba...      1   \n",
              "8  I will move to HO. I will be in 2 different Te...      3   \n",
              "9  Need to leave around 16:45. Will be available ...      1   \n",
              "\n",
              "                   key multiclass  \n",
              "0  1503303350U035FRUCY     [1, 8]  \n",
              "1  1503301710U4A2FRAQ4        [2]  \n",
              "2  1503296123U0MGNKETU        [1]  \n",
              "3  1503259722U035B8PRU        [8]  \n",
              "4  1503258060U0HLAK1T6        [2]  \n",
              "5  1503222795U3W886EF4     [1, 8]  \n",
              "6  1503063218U0PLNK7EK     [1, 3]  \n",
              "7  1503059074U4C55CKGX     [1, 3]  \n",
              "8  1503057526U035J4RG4  [3, 6, 8]  \n",
              "9  1503056595U0A8NPHRD     [1, 3]  "
            ]
          },
          "metadata": {
            "tags": []
          },
          "execution_count": 17
        }
      ]
    },
    {
      "metadata": {
        "id": "PnF8INln9X28",
        "colab_type": "code",
        "outputId": "2d5648f3-896e-4754-af8d-2f554519f47d",
        "colab": {
          "base_uri": "https://localhost:8080/",
          "height": 34
        }
      },
      "cell_type": "code",
      "source": [
        "# Remove all rows which have no annotation\n",
        "samples = df_cls_messages.dropna()\n",
        "\n",
        "# Convert the classification column to unsigned int, in case it is stored as string\n",
        "samples['class'] = samples.loc[:, 'class'].astype(np.uint8).values\n",
        "\n",
        "X = samples['text']\n",
        "y = samples['class']\n",
        "\n",
        "print('[.] Number of training samples: {}'.format(len(X)))"
      ],
      "execution_count": 0,
      "outputs": [
        {
          "output_type": "stream",
          "text": [
            "[.] Number of training samples: 1719\n"
          ],
          "name": "stdout"
        }
      ]
    },
    {
      "metadata": {
        "id": "79ytg4ze9X2_",
        "colab_type": "code",
        "colab": {}
      },
      "cell_type": "code",
      "source": [
        "X_train, X_test, y_train, y_test = train_test_split(X, y, test_size=0.20, random_state=1)"
      ],
      "execution_count": 0,
      "outputs": []
    },
    {
      "metadata": {
        "id": "GlAGjesa9X3D",
        "colab_type": "text"
      },
      "cell_type": "markdown",
      "source": [
        "## Building a pipeline and training the first model\n",
        "\n",
        "Scikit Learn offers a great way to combine the preprocessing (vectorization, stemming, stopword removal, etc) and training/predicting by building a pipeline. Let's see how that works...\n",
        "\n",
        "More information on pipelines, look at this nice blog post:\n",
        "\n",
        "https://buhrmann.github.io/sklearn-pipelines.html"
      ]
    },
    {
      "metadata": {
        "id": "8IEQM8ga9X3E",
        "colab_type": "code",
        "outputId": "6bd7ddc7-3a47-4974-8917-07cef680325e",
        "colab": {
          "base_uri": "https://localhost:8080/",
          "height": 51
        }
      },
      "cell_type": "code",
      "source": [
        "steps = [('vectorizer', CountVectorizer()),\n",
        "         ('classifier', LinearSVC(random_state=1))]\n",
        "pipeline1 = train_and_test(steps, X_train, X_test, y_train, y_test)"
      ],
      "execution_count": 0,
      "outputs": [
        {
          "output_type": "stream",
          "text": [
            "10 fold Cross Validation Score: <0.75, 0.85>; µ=0.81\n",
            "Score on test set: 0.82\n"
          ],
          "name": "stdout"
        }
      ]
    },
    {
      "metadata": {
        "id": "S2hLHyia9X3I",
        "colab_type": "code",
        "outputId": "87356b7a-add4-4b86-81c7-72b0d92629b3",
        "colab": {
          "base_uri": "https://localhost:8080/",
          "height": 328
        }
      },
      "cell_type": "code",
      "source": [
        "y_pred = pipeline1.predict(X_test)\n",
        "cm = confusion_matrix(y_pred=y_pred, y_true=y_test)\n",
        "plt.figure()\n",
        "plot_confusion_matrix(cm, classes=dict_classes.values(), normalize=True);"
      ],
      "execution_count": 0,
      "outputs": [
        {
          "output_type": "stream",
          "text": [
            "Normalized confusion matrix\n"
          ],
          "name": "stdout"
        },
        {
          "output_type": "display_data",
          "data": {
            "image/png": "[encoded data removed]",
            "text/plain": [
              "<matplotlib.figure.Figure at 0x7f8b67c77fd0>"
            ]
          },
          "metadata": {
            "tags": []
          }
        }
      ]
    },
    {
      "metadata": {
        "id": "AlH8A0_49X3M",
        "colab_type": "text"
      },
      "cell_type": "markdown",
      "source": [
        "Let's see what parameters are available and have been set by default:"
      ]
    },
    {
      "metadata": {
        "id": "Cef0fIYN9X3M",
        "colab_type": "code",
        "outputId": "69d64ae5-21fe-46ab-fe78-3ee07a73df29",
        "colab": {
          "base_uri": "https://localhost:8080/",
          "height": 901
        }
      },
      "cell_type": "code",
      "source": [
        "pipeline1.get_params()"
      ],
      "execution_count": 0,
      "outputs": [
        {
          "output_type": "execute_result",
          "data": {
            "text/plain": [
              "{'classifier': LinearSVC(C=1.0, class_weight=None, dual=True, fit_intercept=True,\n",
              "      intercept_scaling=1, loss='squared_hinge', max_iter=1000,\n",
              "      multi_class='ovr', penalty='l2', random_state=1, tol=0.0001,\n",
              "      verbose=0),\n",
              " 'classifier__C': 1.0,\n",
              " 'classifier__class_weight': None,\n",
              " 'classifier__dual': True,\n",
              " 'classifier__fit_intercept': True,\n",
              " 'classifier__intercept_scaling': 1,\n",
              " 'classifier__loss': 'squared_hinge',\n",
              " 'classifier__max_iter': 1000,\n",
              " 'classifier__multi_class': 'ovr',\n",
              " 'classifier__penalty': 'l2',\n",
              " 'classifier__random_state': 1,\n",
              " 'classifier__tol': 0.0001,\n",
              " 'classifier__verbose': 0,\n",
              " 'memory': None,\n",
              " 'steps': [('vectorizer',\n",
              "   CountVectorizer(analyzer='word', binary=False, decode_error='strict',\n",
              "           dtype=<class 'numpy.int64'>, encoding='utf-8', input='content',\n",
              "           lowercase=True, max_df=1.0, max_features=None, min_df=1,\n",
              "           ngram_range=(1, 1), preprocessor=None, stop_words=None,\n",
              "           strip_accents=None, token_pattern='(?u)\\\\b\\\\w\\\\w+\\\\b',\n",
              "           tokenizer=None, vocabulary=None)),\n",
              "  ('classifier',\n",
              "   LinearSVC(C=1.0, class_weight=None, dual=True, fit_intercept=True,\n",
              "        intercept_scaling=1, loss='squared_hinge', max_iter=1000,\n",
              "        multi_class='ovr', penalty='l2', random_state=1, tol=0.0001,\n",
              "        verbose=0))],\n",
              " 'vectorizer': CountVectorizer(analyzer='word', binary=False, decode_error='strict',\n",
              "         dtype=<class 'numpy.int64'>, encoding='utf-8', input='content',\n",
              "         lowercase=True, max_df=1.0, max_features=None, min_df=1,\n",
              "         ngram_range=(1, 1), preprocessor=None, stop_words=None,\n",
              "         strip_accents=None, token_pattern='(?u)\\\\b\\\\w\\\\w+\\\\b',\n",
              "         tokenizer=None, vocabulary=None),\n",
              " 'vectorizer__analyzer': 'word',\n",
              " 'vectorizer__binary': False,\n",
              " 'vectorizer__decode_error': 'strict',\n",
              " 'vectorizer__dtype': numpy.int64,\n",
              " 'vectorizer__encoding': 'utf-8',\n",
              " 'vectorizer__input': 'content',\n",
              " 'vectorizer__lowercase': True,\n",
              " 'vectorizer__max_df': 1.0,\n",
              " 'vectorizer__max_features': None,\n",
              " 'vectorizer__min_df': 1,\n",
              " 'vectorizer__ngram_range': (1, 1),\n",
              " 'vectorizer__preprocessor': None,\n",
              " 'vectorizer__stop_words': None,\n",
              " 'vectorizer__strip_accents': None,\n",
              " 'vectorizer__token_pattern': '(?u)\\\\b\\\\w\\\\w+\\\\b',\n",
              " 'vectorizer__tokenizer': None,\n",
              " 'vectorizer__vocabulary': None}"
            ]
          },
          "metadata": {
            "tags": []
          },
          "execution_count": 22
        }
      ]
    },
    {
      "metadata": {
        "id": "WFru1qIt9X3P",
        "colab_type": "text"
      },
      "cell_type": "markdown",
      "source": [
        "All objects in the pipeline are stored in a dictonary. You can easily access them like any ordinary python dictionary. E.g. you want to transform only a document to a vector. This can be useful if you want to have the output of the preprocessing step for plotting or further analysis. "
      ]
    },
    {
      "metadata": {
        "id": "hLUyqQk_9X3Q",
        "colab_type": "code",
        "outputId": "e037a2eb-9019-4173-f5c9-8e89d4b142a2",
        "colab": {
          "base_uri": "https://localhost:8080/",
          "height": 34
        }
      },
      "cell_type": "code",
      "source": [
        "vectorizer = pipeline1.get_params()['vectorizer']\n",
        "vectorizer.transform(['A new document']).toarray()"
      ],
      "execution_count": 0,
      "outputs": [
        {
          "output_type": "execute_result",
          "data": {
            "text/plain": [
              "array([[0, 0, 0, ..., 0, 0, 0]])"
            ]
          },
          "metadata": {
            "tags": []
          },
          "execution_count": 23
        }
      ]
    },
    {
      "metadata": {
        "id": "mBX1vWOp9X3S",
        "colab_type": "text"
      },
      "cell_type": "markdown",
      "source": [
        "Let's add a TF-IDF transformer that suppress the weight of common words and make special words more important."
      ]
    },
    {
      "metadata": {
        "id": "oLJCkeXP9X3U",
        "colab_type": "code",
        "outputId": "23e13585-802a-45b1-8281-4f79b61a2945",
        "colab": {
          "base_uri": "https://localhost:8080/",
          "height": 51
        }
      },
      "cell_type": "code",
      "source": [
        "steps = [('vectorizer', CountVectorizer()),\n",
        "         ('tfidf', TfidfTransformer()),\n",
        "         ('classifier', LinearSVC(random_state=1))]\n",
        "pipeline2 = train_and_test(steps, X_train, X_test, y_train, y_test)"
      ],
      "execution_count": 0,
      "outputs": [
        {
          "output_type": "stream",
          "text": [
            "10 fold Cross Validation Score: <0.80, 0.87>; µ=0.83\n",
            "Score on test set: 0.84\n"
          ],
          "name": "stdout"
        }
      ]
    },
    {
      "metadata": {
        "id": "mHwLyH1D9X3X",
        "colab_type": "code",
        "outputId": "a63aec79-bdb9-48f6-9d0d-b1b20dff68f4",
        "colab": {
          "base_uri": "https://localhost:8080/",
          "height": 51
        }
      },
      "cell_type": "code",
      "source": [
        "steps = [('vectorizer', CountVectorizer(analyzer=stemmed)),\n",
        "         ('tfidf', TfidfTransformer()),\n",
        "         ('classifier', LinearSVC(random_state=1))]\n",
        "pipeline3 = train_and_test(steps, X_train, X_test, y_train, y_test)"
      ],
      "execution_count": 0,
      "outputs": [
        {
          "output_type": "stream",
          "text": [
            "10 fold Cross Validation Score: <0.80, 0.88>; µ=0.84\n",
            "Score on test set: 0.85\n"
          ],
          "name": "stdout"
        }
      ]
    },
    {
      "metadata": {
        "id": "mmRxNmKw9X3d",
        "colab_type": "code",
        "outputId": "41da163f-3d9e-4300-bdea-8651db68801c",
        "colab": {
          "base_uri": "https://localhost:8080/",
          "height": 51
        }
      },
      "cell_type": "code",
      "source": [
        "steps = [('vectorizer', CountVectorizer(analyzer=stemmed, \n",
        "                                        stop_words='english')),\n",
        "        ('tfidf', TfidfTransformer()),\n",
        "        ('classifier', LinearSVC(random_state=1))]\n",
        "pipeline4 = train_and_test(steps, X_train, X_test, y_train, y_test)"
      ],
      "execution_count": 0,
      "outputs": [
        {
          "output_type": "stream",
          "text": [
            "10 fold Cross Validation Score: <0.80, 0.88>; µ=0.84\n",
            "Score on test set: 0.85\n"
          ],
          "name": "stdout"
        }
      ]
    },
    {
      "metadata": {
        "id": "zafRLxsC9X3g",
        "colab_type": "code",
        "outputId": "befe017d-e4b1-4b1c-a46e-b5ea4d57a2ee",
        "colab": {
          "base_uri": "https://localhost:8080/",
          "height": 51
        }
      },
      "cell_type": "code",
      "source": [
        "steps = [('vectorizer', CountVectorizer(ngram_range=(1, 2))),\n",
        "         ('tfidf', TfidfTransformer()),\n",
        "         ('classifier', LinearSVC(random_state=1))]\n",
        "pipeline5 = train_and_test(steps, X_train, X_test, y_train, y_test)"
      ],
      "execution_count": 0,
      "outputs": [
        {
          "output_type": "stream",
          "text": [
            "10 fold Cross Validation Score: <0.79, 0.86>; µ=0.83\n",
            "Score on test set: 0.85\n"
          ],
          "name": "stdout"
        }
      ]
    },
    {
      "metadata": {
        "id": "MDAkQNO_9X3k",
        "colab_type": "code",
        "outputId": "478b9609-4112-422e-f0f2-c2c283cf94c1",
        "colab": {
          "base_uri": "https://localhost:8080/",
          "height": 51
        }
      },
      "cell_type": "code",
      "source": [
        "steps = [('vectorizer', CountVectorizer(ngram_range=(1, 3))),\n",
        "         ('tfidf', TfidfTransformer()),\n",
        "         ('classifier', LinearSVC(random_state=1))]\n",
        "pipeline6 = train_and_test(steps, X_train, X_test, y_train, y_test)"
      ],
      "execution_count": 0,
      "outputs": [
        {
          "output_type": "stream",
          "text": [
            "10 fold Cross Validation Score: <0.80, 0.85>; µ=0.83\n",
            "Score on test set: 0.86\n"
          ],
          "name": "stdout"
        }
      ]
    },
    {
      "metadata": {
        "id": "piEUEWB29X3o",
        "colab_type": "code",
        "outputId": "4c3476ea-adbe-451b-c787-7ea7e8cafb35",
        "colab": {
          "base_uri": "https://localhost:8080/",
          "height": 51
        }
      },
      "cell_type": "code",
      "source": [
        "steps = [('vectorizer', CountVectorizer(preprocessor=mask_all, \n",
        "                                        analyzer=stemmed, \n",
        "                                        stop_words='english', \n",
        "                                        ngram_range=(1, 3))),\n",
        "         ('tfidf', TfidfTransformer()),\n",
        "         ('classifier', LinearSVC(random_state=1))]\n",
        "pipeline7 = train_and_test(steps, X_train, X_test, y_train, y_test)"
      ],
      "execution_count": 0,
      "outputs": [
        {
          "output_type": "stream",
          "text": [
            "10 fold Cross Validation Score: <0.80, 0.88>; µ=0.84\n",
            "Score on test set: 0.85\n"
          ],
          "name": "stdout"
        }
      ]
    },
    {
      "metadata": {
        "id": "_rSFmTA39X3u",
        "colab_type": "text"
      },
      "cell_type": "markdown",
      "source": [
        "## One vs Rest Classifiers\n",
        "\n",
        "Let's train 8 classifiers: One vs Rest"
      ]
    },
    {
      "metadata": {
        "id": "1FiVrs5f9X3v",
        "colab_type": "code",
        "outputId": "a7163f27-6a0d-4254-db7b-314e961ba793",
        "colab": {
          "base_uri": "https://localhost:8080/",
          "height": 139
        }
      },
      "cell_type": "code",
      "source": [
        "enc = OneHotEncoder()\n",
        "ym_train = enc.fit_transform(np.array(y_train.tolist()).reshape(-1,1))\n",
        "ym_test = enc.transform(np.array(y_test.tolist()).reshape(-1,1))\n",
        "\n",
        "steps = [('vectorizer', CountVectorizer(analyzer=stemmed, \n",
        "                                        stop_words='english', \n",
        "                                        preprocessor=mask_all)),\n",
        "         ('transformer', TfidfTransformer()),\n",
        "         ('classifier', OneVsRestClassifier(LinearSVC(random_state=1, multi_class='ovr')))]\n",
        "pipeline8 = train_and_test(steps, X_train, X_test, ym_train, ym_test)"
      ],
      "execution_count": 0,
      "outputs": [
        {
          "output_type": "stream",
          "text": [
            "/usr/local/lib/python3.6/dist-packages/sklearn/preprocessing/_encoders.py:368: FutureWarning: The handling of integer data will change in version 0.22. Currently, the categories are determined based on the range [0, max(values)], while in the future they will be determined based on the unique values.\n",
            "If you want the future behaviour and silence this warning, you can specify \"categories='auto'\".\n",
            "In case you used a LabelEncoder before this OneHotEncoder to convert the categories to integers, then you can now use the OneHotEncoder directly.\n",
            "  warnings.warn(msg, FutureWarning)\n"
          ],
          "name": "stderr"
        },
        {
          "output_type": "stream",
          "text": [
            "10 fold Cross Validation Score: <0.67, 0.78>; µ=0.73\n",
            "Score on test set: 0.74\n"
          ],
          "name": "stdout"
        }
      ]
    },
    {
      "metadata": {
        "scrolled": false,
        "id": "eS8soPqI9X3x",
        "colab_type": "code",
        "outputId": "f1df7be6-85c2-4165-b4d2-81a021290499",
        "colab": {
          "base_uri": "https://localhost:8080/",
          "height": 51
        }
      },
      "cell_type": "code",
      "source": [
        "steps = [('vectorizer', CountVectorizer(ngram_range=(1,3), \n",
        "                                        analyzer=stemmed, \n",
        "                                        stop_words='english', \n",
        "                                        preprocessor=mask_all)),\n",
        "         ('transformer', TfidfTransformer()),\n",
        "         ('classifier', OneVsOneClassifier(LinearSVC(random_state=1, multi_class='ovr')))]\n",
        "pipeline9 = train_and_test(steps, X_train, X_test, y_train, y_test)"
      ],
      "execution_count": 0,
      "outputs": [
        {
          "output_type": "stream",
          "text": [
            "10 fold Cross Validation Score: <0.80, 0.87>; µ=0.83\n",
            "Score on test set: 0.82\n"
          ],
          "name": "stdout"
        }
      ]
    },
    {
      "metadata": {
        "id": "q1serbmW9X3z",
        "colab_type": "code",
        "outputId": "d8f86d9c-8658-4387-f172-cf287376cd47",
        "colab": {
          "base_uri": "https://localhost:8080/",
          "height": 272
        }
      },
      "cell_type": "code",
      "source": [
        "y_pred = pipeline9.predict(X_test)\n",
        "\n",
        "print(classification_report(y_pred=y_pred, y_true=y_test))"
      ],
      "execution_count": 0,
      "outputs": [
        {
          "output_type": "stream",
          "text": [
            "              precision    recall  f1-score   support\n",
            "\n",
            "           1       0.76      0.91      0.83       100\n",
            "           2       0.80      0.80      0.80        35\n",
            "           3       0.87      0.82      0.84        95\n",
            "           4       0.89      0.65      0.76        26\n",
            "           5       0.71      0.45      0.56        11\n",
            "           6       0.92      0.77      0.84        30\n",
            "           7       0.50      0.33      0.40         6\n",
            "           8       0.89      0.95      0.92        41\n",
            "\n",
            "   micro avg       0.82      0.82      0.82       344\n",
            "   macro avg       0.79      0.71      0.74       344\n",
            "weighted avg       0.83      0.82      0.82       344\n",
            "\n"
          ],
          "name": "stdout"
        }
      ]
    },
    {
      "metadata": {
        "id": "gMC_0PoB9X30",
        "colab_type": "code",
        "outputId": "3ea0db1c-4857-4dd1-b323-3bea4b383dfe",
        "colab": {
          "base_uri": "https://localhost:8080/",
          "height": 328
        }
      },
      "cell_type": "code",
      "source": [
        "cm = confusion_matrix(y_pred=y_pred, y_true=y_test)\n",
        "plt.figure()\n",
        "plot_confusion_matrix(cm, classes=dict_classes.values(), normalize=True);"
      ],
      "execution_count": 0,
      "outputs": [
        {
          "output_type": "stream",
          "text": [
            "Normalized confusion matrix\n"
          ],
          "name": "stdout"
        },
        {
          "output_type": "display_data",
          "data": {
            "image/png": "[encoded data removed]",
            "text/plain": [
              "<matplotlib.figure.Figure at 0x7f8b651ffc50>"
            ]
          },
          "metadata": {
            "tags": []
          }
        }
      ]
    },
    {
      "metadata": {
        "id": "aEdm_7FW9X33",
        "colab_type": "code",
        "outputId": "a1529428-77b4-4370-f919-b29aabb61e00",
        "colab": {
          "base_uri": "https://localhost:8080/",
          "height": 394
        }
      },
      "cell_type": "code",
      "source": [
        "%%time\n",
        "\n",
        "steps = [('vectorizer', CountVectorizer()),\n",
        "         ('transformer', TfidfTransformer()),\n",
        "         ('classifier', SVC(kernel='linear', random_state=1))]\n",
        "pipeline10 = Pipeline(steps)\n",
        "\n",
        "params = {\n",
        "    'vectorizer__tokenizer': [None, nltk.tokenize.word_tokenize],\n",
        "    'vectorizer__analyzer': ['word', stemmed],\n",
        "    'vectorizer__stop_words': [None, nltk.corpus.stopwords.words('english'), 'english'],\n",
        "    'vectorizer__ngram_range': [(1, 1), (1, 2), (2, 2), (1, 3)],\n",
        "    'vectorizer__preprocessor': [None, mask_all, mask_integers, mask_times, mask_emojis],\n",
        "    'classifier__C': np.logspace(-2, 2, 5),\n",
        "    'classifier__gamma': np.logspace(-5, 3, 9)\n",
        "}\n",
        "\n",
        "gs = GridSearchCV(pipeline10, params, n_jobs=-1)\n",
        "gs.fit(X_train, y_train)\n",
        "\n",
        "print(gs.best_params_)\n",
        "y_pred = gs.predict(X_test)\n",
        "print(classification_report(y_pred=y_pred, y_true=y_test))\n",
        "print('Score on the test set: {:.2f}'.format(gs.score(X_test, y_test)))"
      ],
      "execution_count": 0,
      "outputs": [
        {
          "output_type": "stream",
          "text": [
            "/usr/local/lib/python3.6/dist-packages/sklearn/model_selection/_split.py:2053: FutureWarning: You should specify a value for 'cv' instead of relying on the default value. The default value will change from 3 to 5 in version 0.22.\n",
            "  warnings.warn(CV_WARNING, FutureWarning)\n"
          ],
          "name": "stderr"
        },
        {
          "output_type": "stream",
          "text": [
            "{'classifier__C': 1.0, 'classifier__gamma': 1e-05, 'vectorizer__analyzer': <function stemmed at 0x7f8b69ebed08>, 'vectorizer__ngram_range': (1, 1), 'vectorizer__preprocessor': None, 'vectorizer__stop_words': None, 'vectorizer__tokenizer': None}\n",
            "              precision    recall  f1-score   support\n",
            "\n",
            "           1       0.76      0.89      0.82       100\n",
            "           2       0.80      0.80      0.80        35\n",
            "           3       0.86      0.83      0.84        95\n",
            "           4       0.89      0.65      0.76        26\n",
            "           5       0.71      0.45      0.56        11\n",
            "           6       0.89      0.80      0.84        30\n",
            "           7       0.67      0.33      0.44         6\n",
            "           8       0.89      0.95      0.92        41\n",
            "\n",
            "   micro avg       0.82      0.82      0.82       344\n",
            "   macro avg       0.81      0.71      0.75       344\n",
            "weighted avg       0.82      0.82      0.82       344\n",
            "\n",
            "Score on the test set: 0.82\n",
            "CPU times: user 4min 24s, sys: 4.92 s, total: 4min 29s\n",
            "Wall time: 5h 37min 26s\n"
          ],
          "name": "stdout"
        }
      ]
    },
    {
      "metadata": {
        "id": "1UZ1XHHv9X34",
        "colab_type": "text"
      },
      "cell_type": "markdown",
      "source": [
        "You can try a gridsearch with another classifier. But it is hard to beat Linear SVM."
      ]
    },
    {
      "metadata": {
        "id": "svqk_0jl9X37",
        "colab_type": "code",
        "colab": {}
      },
      "cell_type": "code",
      "source": [
        "#%%time\n",
        "#\n",
        "#steps = [('vectorizer', CountVectorizer()),\n",
        "#         ('transformer', TfidfTransformer()),\n",
        "#         ('classifier', RandomForestClassifier())]\n",
        "#pipeline11 = Pipeline(steps)\n",
        "\n",
        "#params = {\n",
        "#    'vectorizer__tokenizer': [None, nltk.tokenize.word_tokenize],\n",
        "#    'vectorizer__analyzer': ['word', stemmed],\n",
        "#    'vectorizer__stop_words': [None, nltk.corpus.stopwords.words('english'), 'english'],\n",
        "#    'vectorizer__ngram_range': [(1, 1), (1, 2), (2, 2), (1, 3)],\n",
        "#    'vectorizer__preprocessor': [None, mask_all, mask_integers, mask_times, mask_emojis],\n",
        "#    'classifier__n_estimators': [128, 512, 2048],\n",
        "#    'classifier__bootstrap': [True, False],\n",
        "#    'classifier__criterion': ['gini', 'entropy'], \n",
        "#    'classifier__max_depth': [2, 4, 8, None],\n",
        "#    'classifier__min_samples_leaf': [1, 3, 10], \n",
        "#    'classifier__min_samples_split': [2, 8, 16]\n",
        "#}\n",
        "\n",
        "#gs = GridSearchCV(pipeline11, params, n_jobs=-1)\n",
        "#gs.fit(X_train, y_train)\n",
        "\n",
        "#print(gs.best_params_)\n",
        "#y_pred = gs.predict(X_test)\n",
        "#print(classification_report(y_pred=y_pred, y_true=y_test))\n",
        "#print('Score on the test set: {:.2f}'.format(gs.score(X_test, y_test)))"
      ],
      "execution_count": 0,
      "outputs": []
    },
    {
      "metadata": {
        "id": "4USVmHVi9X39",
        "colab_type": "code",
        "outputId": "2cf093e8-5e80-4eea-9d25-17dcdb479e12",
        "colab": {
          "base_uri": "https://localhost:8080/",
          "height": 170
        }
      },
      "cell_type": "code",
      "source": [
        "pipeline = gs\n",
        "\n",
        "tag_message(pipeline, 'My alarm clock was not set properly. I come to the office asap.')\n",
        "tag_message(pipeline, 'It is my scheduled day off, see you on Tuesday.')\n",
        "tag_message(pipeline, 'Not feeling well today, I stay home and work from here.')\n",
        "tag_message(pipeline, 'I work at home on Tuesday.')\n",
        "tag_message(pipeline, 'This morning I have a meeting at SPS.')\n",
        "tag_message(pipeline, 'I\\'m off, see you tomorrow.')\n",
        "tag_message(pipeline, 'get well soon!')\n",
        "tag_message(pipeline, 'I\\'m away for a long lunch between 12:00 and 15:30')\n",
        "tag_message(pipeline, 'I\\'ve an appointment at 12:00 at the physiotherapy.')"
      ],
      "execution_count": 0,
      "outputs": [
        {
          "output_type": "stream",
          "text": [
            "          late/early | My alarm clock was not set properly. I come to the office asap.\n",
            "            holidays | It is my scheduled day off, see you on Tuesday.\n",
            "                 ill | Not feeling well today, I stay home and work from here.\n",
            "         home office | I work at home on Tuesday.\n",
            "            business | This morning I have a meeting at SPS.\n",
            "            holidays | I'm off, see you tomorrow.\n",
            "       miscellanious | get well soon!\n",
            "          late/early | I'm away for a long lunch between 12:00 and 15:30\n",
            "             med app | I've an appointment at 12:00 at the physiotherapy.\n"
          ],
          "name": "stdout"
        }
      ]
    }
  ]
}