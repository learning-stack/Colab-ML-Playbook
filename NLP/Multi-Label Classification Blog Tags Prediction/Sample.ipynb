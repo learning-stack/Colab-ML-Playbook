{
  "nbformat": 4,
  "nbformat_minor": 0,
  "metadata": {
    "colab": {
      "name": "Sample.ipynb",
      "version": "0.3.2",
      "provenance": []
    },
    "kernelspec": {
      "display_name": "Python 3",
      "language": "python",
      "name": "python3"
    }
  },
  "cells": [
    {
      "metadata": {
        "id": "o_RAI252GwQX",
        "colab_type": "text"
      },
      "cell_type": "markdown",
      "source": [
        "# NLP - Code for Word2Vec neural network (Tensorflow)\n",
        "## by Madhu Sanjeevi"
      ]
    },
    {
      "metadata": {
        "id": "CRoTfR4vG1pt",
        "colab_type": "text"
      },
      "cell_type": "markdown",
      "source": [
        "https://medium.com/deep-math-machine-learning-ai/chapter-9-1-nlp-word-vectors-d51bff9628c1"
      ]
    },
    {
      "metadata": {
        "id": "lYypl3nmHQ7E",
        "colab_type": "text"
      },
      "cell_type": "markdown",
      "source": [
        "<table class=\"tfo-notebook-buttons\" align=\"left\">\n",
        "  <td>\n",
        "    <a target=\"_blank\" href=\"https://colab.research.google.com/github/learning-stack/Colab-ML-Playbook/blob/master/NLP/NLP1%20-%20Word%20vectors/Data_preprocessing.ipynb\"><img src=\"https://www.tensorflow.org/images/colab_logo_32px.png\" />Run in Google Colab</a>\n",
        "  </td>\n",
        "  <td>\n",
        "    <a target=\"_blank\" href=\"https://github.com/learning-stack/Colab-ML-Playbook/blob/master/NLP/NLP1%20-%20Word%20vectors/Data_preprocessing.ipynb\"><img src=\"https://www.tensorflow.org/images/GitHub-Mark-32px.png\" />View source on GitHub</a>\n",
        "  </td>\n",
        "</table>"
      ]
    },
    {
      "metadata": {
        "id": "0z6GKDTNGqoT",
        "colab_type": "text"
      },
      "cell_type": "markdown",
      "source": [
        "### Tokenization"
      ]
    },
    {
      "metadata": {
        "id": "jhKGxl5PGqoW",
        "colab_type": "code",
        "outputId": "70adb5e7-1055-4179-9a16-451e7b760888",
        "colab": {
          "base_uri": "https://localhost:8080/",
          "height": 68
        }
      },
      "cell_type": "code",
      "source": [
        "import nltk\n",
        "nltk.download('punkt')\n",
        "\n",
        "from nltk.tokenize import word_tokenize\n",
        "text = \"I love programming\"\n",
        "word_tokenize(text)"
      ],
      "execution_count": 0,
      "outputs": [
        {
          "output_type": "stream",
          "text": [
            "[nltk_data] Downloading package punkt to /root/nltk_data...\n",
            "[nltk_data]   Unzipping tokenizers/punkt.zip.\n"
          ],
          "name": "stdout"
        },
        {
          "output_type": "execute_result",
          "data": {
            "text/plain": [
              "['I', 'love', 'programming']"
            ]
          },
          "metadata": {
            "tags": []
          },
          "execution_count": 1
        }
      ]
    },
    {
      "metadata": {
        "id": "L77k656iGqoe",
        "colab_type": "code",
        "colab": {}
      },
      "cell_type": "code",
      "source": [
        "text = \"I love programming and programming also loves me\"\n",
        "tokens=word_tokenize(text)"
      ],
      "execution_count": 0,
      "outputs": []
    },
    {
      "metadata": {
        "id": "3XBqB2QGGqog",
        "colab_type": "code",
        "outputId": "f27ee0a9-f038-4afc-e748-9fd6b592b859",
        "colab": {
          "base_uri": "https://localhost:8080/",
          "height": 34
        }
      },
      "cell_type": "code",
      "source": [
        "tokens"
      ],
      "execution_count": 0,
      "outputs": [
        {
          "output_type": "execute_result",
          "data": {
            "text/plain": [
              "['I', 'love', 'programming', 'and', 'programming', 'also', 'loves', 'me']"
            ]
          },
          "metadata": {
            "tags": []
          },
          "execution_count": 3
        }
      ]
    },
    {
      "metadata": {
        "id": "WnUpyCd-Gqok",
        "colab_type": "text"
      },
      "cell_type": "markdown",
      "source": [
        "### Lemmatization"
      ]
    },
    {
      "metadata": {
        "id": "L1VgdwCTGqok",
        "colab_type": "code",
        "outputId": "8bdb8265-f0b6-4180-ddeb-8c2508761b86",
        "colab": {
          "base_uri": "https://localhost:8080/",
          "height": 68
        }
      },
      "cell_type": "code",
      "source": [
        "nltk.download('wordnet')\n",
        "\n",
        "from nltk.tokenize import word_tokenize\n",
        "text = \"I love programming and programming also loves me\"\n",
        "tokens=word_tokenize(text)\n",
        "\n",
        "from nltk.stem import WordNetLemmatizer\n",
        "lemmatizer = WordNetLemmatizer()\n",
        "tokens=[lemmatizer.lemmatize(word) for word in tokens]\n",
        "print(tokens)"
      ],
      "execution_count": 0,
      "outputs": [
        {
          "output_type": "stream",
          "text": [
            "[nltk_data] Downloading package wordnet to /root/nltk_data...\n",
            "[nltk_data]   Unzipping corpora/wordnet.zip.\n",
            "['I', 'love', 'programming', 'and', 'programming', 'also', 'love', 'me']\n"
          ],
          "name": "stdout"
        }
      ]
    },
    {
      "metadata": {
        "id": "wM5Ys0ORGqoq",
        "colab_type": "text"
      },
      "cell_type": "markdown",
      "source": [
        "### Stemming"
      ]
    },
    {
      "metadata": {
        "id": "1A-K4uwmGqoq",
        "colab_type": "code",
        "outputId": "c3e6248f-f1bf-4e4e-87c9-0eb4295ef5f0",
        "colab": {
          "base_uri": "https://localhost:8080/",
          "height": 34
        }
      },
      "cell_type": "code",
      "source": [
        "from nltk.stem import PorterStemmer\n",
        "from nltk.tokenize import word_tokenize\n",
        "text = \"I love programming and programming also loves me\"\n",
        "tokens=word_tokenize(text.lower())\n",
        "\n",
        "ps = PorterStemmer()\n",
        "tokens=[ps.stem(word) for word in tokens]\n",
        "print(tokens)"
      ],
      "execution_count": 0,
      "outputs": [
        {
          "output_type": "stream",
          "text": [
            "['i', 'love', 'program', 'and', 'program', 'also', 'love', 'me']\n"
          ],
          "name": "stdout"
        }
      ]
    },
    {
      "metadata": {
        "id": "bqoQg1b2Gqou",
        "colab_type": "text"
      },
      "cell_type": "markdown",
      "source": [
        "### Stop words"
      ]
    },
    {
      "metadata": {
        "scrolled": false,
        "id": "PvObq_QPGqov",
        "colab_type": "code",
        "outputId": "853914d6-10ed-414d-b60f-a3b4b2195488",
        "colab": {
          "base_uri": "https://localhost:8080/",
          "height": 88
        }
      },
      "cell_type": "code",
      "source": [
        "import nltk\n",
        "nltk.download('stopwords')\n",
        "stopwords = nltk.corpus.stopwords.words('english')\n",
        "print(stopwords)"
      ],
      "execution_count": 0,
      "outputs": [
        {
          "output_type": "stream",
          "text": [
            "[nltk_data] Downloading package stopwords to /root/nltk_data...\n",
            "[nltk_data]   Unzipping corpora/stopwords.zip.\n",
            "['i', 'me', 'my', 'myself', 'we', 'our', 'ours', 'ourselves', 'you', \"you're\", \"you've\", \"you'll\", \"you'd\", 'your', 'yours', 'yourself', 'yourselves', 'he', 'him', 'his', 'himself', 'she', \"she's\", 'her', 'hers', 'herself', 'it', \"it's\", 'its', 'itself', 'they', 'them', 'their', 'theirs', 'themselves', 'what', 'which', 'who', 'whom', 'this', 'that', \"that'll\", 'these', 'those', 'am', 'is', 'are', 'was', 'were', 'be', 'been', 'being', 'have', 'has', 'had', 'having', 'do', 'does', 'did', 'doing', 'a', 'an', 'the', 'and', 'but', 'if', 'or', 'because', 'as', 'until', 'while', 'of', 'at', 'by', 'for', 'with', 'about', 'against', 'between', 'into', 'through', 'during', 'before', 'after', 'above', 'below', 'to', 'from', 'up', 'down', 'in', 'out', 'on', 'off', 'over', 'under', 'again', 'further', 'then', 'once', 'here', 'there', 'when', 'where', 'why', 'how', 'all', 'any', 'both', 'each', 'few', 'more', 'most', 'other', 'some', 'such', 'no', 'nor', 'not', 'only', 'own', 'same', 'so', 'than', 'too', 'very', 's', 't', 'can', 'will', 'just', 'don', \"don't\", 'should', \"should've\", 'now', 'd', 'll', 'm', 'o', 're', 've', 'y', 'ain', 'aren', \"aren't\", 'couldn', \"couldn't\", 'didn', \"didn't\", 'doesn', \"doesn't\", 'hadn', \"hadn't\", 'hasn', \"hasn't\", 'haven', \"haven't\", 'isn', \"isn't\", 'ma', 'mightn', \"mightn't\", 'mustn', \"mustn't\", 'needn', \"needn't\", 'shan', \"shan't\", 'shouldn', \"shouldn't\", 'wasn', \"wasn't\", 'weren', \"weren't\", 'won', \"won't\", 'wouldn', \"wouldn't\"]\n"
          ],
          "name": "stdout"
        }
      ]
    },
    {
      "metadata": {
        "id": "9bUW8KVLGqoy",
        "colab_type": "code",
        "outputId": "3db5e403-e3f3-4f90-8e8c-005cad81aaa8",
        "colab": {
          "base_uri": "https://localhost:8080/",
          "height": 34
        }
      },
      "cell_type": "code",
      "source": [
        "newtokens=[]\n",
        "for token in tokens:\n",
        "    if token not in stopwords:\n",
        "        newtokens.append(token)\n",
        "        \n",
        "print(newtokens)"
      ],
      "execution_count": 0,
      "outputs": [
        {
          "output_type": "stream",
          "text": [
            "['love', 'program', 'program', 'also', 'love']\n"
          ],
          "name": "stdout"
        }
      ]
    },
    {
      "metadata": {
        "id": "fDdUqHK-Gqo1",
        "colab_type": "text"
      },
      "cell_type": "markdown",
      "source": [
        "### Normalization"
      ]
    },
    {
      "metadata": {
        "id": "6JLGFSjYGqo3",
        "colab_type": "code",
        "outputId": "13600627-5de4-4e49-cf72-88a5a6a27b67",
        "colab": {
          "base_uri": "https://localhost:8080/",
          "height": 34
        }
      },
      "cell_type": "code",
      "source": [
        "tweet = 'China has new \"AI Development Plan.\" I think this will really help Chinese and global AI. http://www.gov.cn/zhengce/content/2017-07/20/content_5211996.htm'\n",
        "print(tweet)"
      ],
      "execution_count": 0,
      "outputs": [
        {
          "output_type": "stream",
          "text": [
            "China has new \"AI Development Plan.\" I think this will really help Chinese and global AI. http://www.gov.cn/zhengce/content/2017-07/20/content_5211996.htm\n"
          ],
          "name": "stdout"
        }
      ]
    },
    {
      "metadata": {
        "id": "7oUugI7gGqo8",
        "colab_type": "code",
        "colab": {}
      },
      "cell_type": "code",
      "source": [
        "import re\n",
        "def normalize_text(text):\n",
        "    text=text.lower()\n",
        "    text = re.sub('((www\\.[^\\s]+)|(https?://[^\\s]+)|(pic\\.twitter\\.com/[^\\s]+))','', text)\n",
        "    text = re.sub('@[^\\s]+','', text)\n",
        "    text = re.sub('#([^\\s]+)', '', text)\n",
        "    text = re.sub('[:;>?<=*+()&,\\-#!$%\\{˜|\\}\\[^_\\\\@\\]1234567890’‘]',' ', text)\n",
        "    text = re.sub('[\\d]','', text)\n",
        "    text = text.replace(\".\", '')\n",
        "    text = text.replace(\"'\", '')\n",
        "    text = text.replace(\"`\", '')\n",
        "    text = text.replace(\"'s\", '')\n",
        "    text = text.replace(\"/\", ' ')\n",
        "    text = text.replace(\"\\\"\", ' ')\n",
        "    text = text.replace(\"\\\\\", '')\n",
        "    #text =  re.sub(r\"\\b[a-z]\\b\", \"\", text)\n",
        "    text=re.sub( '\\s+', ' ', text).strip()\n",
        "    \n",
        "    return text"
      ],
      "execution_count": 0,
      "outputs": []
    },
    {
      "metadata": {
        "id": "dq66fa4HGqo_",
        "colab_type": "code",
        "outputId": "004fd634-6a99-4e6e-de9e-ed3bbb568b62",
        "colab": {
          "base_uri": "https://localhost:8080/",
          "height": 34
        }
      },
      "cell_type": "code",
      "source": [
        "normalized_tweet=normalize_text(tweet)\n",
        "print(normalized_tweet)"
      ],
      "execution_count": 0,
      "outputs": [
        {
          "output_type": "stream",
          "text": [
            "china has new ai development plan i think this will really help chinese and global ai\n"
          ],
          "name": "stdout"
        }
      ]
    },
    {
      "metadata": {
        "id": "vMH5HaelGqpC",
        "colab_type": "code",
        "outputId": "3ef140c2-e16c-4690-bf93-4c1f93af8df2",
        "colab": {
          "base_uri": "https://localhost:8080/",
          "height": 34
        }
      },
      "cell_type": "code",
      "source": [
        "from nltk.tokenize import word_tokenize\n",
        "tokens=word_tokenize(normalized_tweet)\n",
        "\n",
        "from nltk.stem import WordNetLemmatizer\n",
        "lemmatizer = WordNetLemmatizer()\n",
        "tokens=[lemmatizer.lemmatize(word) for word in tokens]\n",
        "\n",
        "newtokens=[]\n",
        "for token in tokens:\n",
        "    if token not in stopwords:\n",
        "        newtokens.append(token)\n",
        "        \n",
        "print(set(newtokens))"
      ],
      "execution_count": 0,
      "outputs": [
        {
          "output_type": "stream",
          "text": [
            "{'china', 'chinese', 'plan', 'global', 'development', 'ai', 'help', 'think', 'ha', 'really', 'new'}\n"
          ],
          "name": "stdout"
        }
      ]
    },
    {
      "metadata": {
        "id": "VT4lTHIiGqpI",
        "colab_type": "text"
      },
      "cell_type": "markdown",
      "source": [
        "### Document Vectorization"
      ]
    },
    {
      "metadata": {
        "id": "Bv24DlF2GqpK",
        "colab_type": "code",
        "colab": {}
      },
      "cell_type": "code",
      "source": [
        "documents= [' I love programming' , 'Programming also loves me']"
      ],
      "execution_count": 0,
      "outputs": []
    },
    {
      "metadata": {
        "id": "pV2lsP0BGqpP",
        "colab_type": "code",
        "colab": {}
      },
      "cell_type": "code",
      "source": [
        "from nltk.tokenize import word_tokenize\n",
        "from nltk.stem import WordNetLemmatizer\n",
        "lemmatizer = WordNetLemmatizer()\n",
        "docs=[]\n",
        "for document in documents:\n",
        "    text=normalize_text(document)\n",
        "    nl_text=''\n",
        "    for word in word_tokenize(text):\n",
        "        if word not in stopwords:\n",
        "            nl_text+=(lemmatizer.lemmatize(word))+' '\n",
        "    docs.append(nl_text)    "
      ],
      "execution_count": 0,
      "outputs": []
    },
    {
      "metadata": {
        "id": "iuzWrVSuGqpT",
        "colab_type": "code",
        "outputId": "cd3a6974-43df-4db1-df3d-3e5481adc0e2",
        "colab": {
          "base_uri": "https://localhost:8080/",
          "height": 34
        }
      },
      "cell_type": "code",
      "source": [
        "docs"
      ],
      "execution_count": 0,
      "outputs": [
        {
          "output_type": "execute_result",
          "data": {
            "text/plain": [
              "['love programming ', 'programming also love ']"
            ]
          },
          "metadata": {
            "tags": []
          },
          "execution_count": 16
        }
      ]
    },
    {
      "metadata": {
        "id": "ibu2RjiKGqpc",
        "colab_type": "code",
        "outputId": "1cbed76f-1b3a-4ae1-bff0-ce489c96c2fe",
        "colab": {
          "base_uri": "https://localhost:8080/",
          "height": 34
        }
      },
      "cell_type": "code",
      "source": [
        "import collections\n",
        "words=\" \".join(docs).split() \n",
        "count= collections.Counter(words).most_common()\n",
        "print(count)"
      ],
      "execution_count": 0,
      "outputs": [
        {
          "output_type": "stream",
          "text": [
            "[('love', 2), ('programming', 2), ('also', 1)]\n"
          ],
          "name": "stdout"
        }
      ]
    },
    {
      "metadata": {
        "id": "2_tdxF0MGqpj",
        "colab_type": "code",
        "outputId": "57d33269-0358-438b-aedf-9cadd8774376",
        "colab": {
          "base_uri": "https://localhost:8080/",
          "height": 34
        }
      },
      "cell_type": "code",
      "source": [
        "#create a lexicon [features]\n",
        "features=[c[0] for c in count]\n",
        "print(features)"
      ],
      "execution_count": 0,
      "outputs": [
        {
          "output_type": "stream",
          "text": [
            "['love', 'programming', 'also']\n"
          ],
          "name": "stdout"
        }
      ]
    },
    {
      "metadata": {
        "id": "j7eRbTxjGqpm",
        "colab_type": "code",
        "colab": {}
      },
      "cell_type": "code",
      "source": [
        "import numpy as np\n",
        "training_examples=[]\n",
        "for doc in docs:\n",
        "    doc_feature_values = np.zeros(len(features))\n",
        "    for word in word_tokenize(doc):\n",
        "        if word in features:\n",
        "            index=features.index(word)\n",
        "            doc_feature_values[index] +=1\n",
        "            \n",
        "    training_examples.append(doc_feature_values)"
      ],
      "execution_count": 0,
      "outputs": []
    },
    {
      "metadata": {
        "id": "79Sywt0pGqpq",
        "colab_type": "code",
        "outputId": "c02e6f0b-d72c-4e6e-81c6-c13b84f408de",
        "colab": {
          "base_uri": "https://localhost:8080/",
          "height": 34
        }
      },
      "cell_type": "code",
      "source": [
        "training_examples"
      ],
      "execution_count": 0,
      "outputs": [
        {
          "output_type": "execute_result",
          "data": {
            "text/plain": [
              "[array([1., 1., 0.]), array([1., 1., 1.])]"
            ]
          },
          "metadata": {
            "tags": []
          },
          "execution_count": 20
        }
      ]
    },
    {
      "metadata": {
        "id": "ndVkaR-iGqpu",
        "colab_type": "code",
        "outputId": "bb3178a6-cd8f-4be7-8ce5-3a4494056ea9",
        "colab": {
          "base_uri": "https://localhost:8080/",
          "height": 34
        }
      },
      "cell_type": "code",
      "source": [
        "from sklearn.feature_extraction.text import CountVectorizer\n",
        "vectorizer = CountVectorizer()\n",
        "\n",
        "bow = vectorizer.fit_transform(docs)\n",
        "freqs = [(word, bow.getcol(idx).sum()) for word, idx in vectorizer.vocabulary_.items()]\n",
        "results=sorted (freqs, key = lambda x: -x[1])\n",
        "print(results)"
      ],
      "execution_count": 0,
      "outputs": [
        {
          "output_type": "stream",
          "text": [
            "[('love', 2), ('programming', 2), ('also', 1)]\n"
          ],
          "name": "stdout"
        }
      ]
    },
    {
      "metadata": {
        "id": "ZdlWhEMKGqpx",
        "colab_type": "code",
        "outputId": "4c5ee827-bfec-42a4-a879-4de31424c8bb",
        "colab": {
          "base_uri": "https://localhost:8080/",
          "height": 111
        }
      },
      "cell_type": "code",
      "source": [
        "import pandas as pd\n",
        "\n",
        "feature_names = vectorizer.get_feature_names()\n",
        "corpus_index = [n for n in docs]\n",
        "\n",
        "df = pd.DataFrame(bow.todense(), index=corpus_index, columns=feature_names)\n",
        "df"
      ],
      "execution_count": 0,
      "outputs": [
        {
          "output_type": "execute_result",
          "data": {
            "text/html": [
              "<div>\n",
              "<style scoped>\n",
              "    .dataframe tbody tr th:only-of-type {\n",
              "        vertical-align: middle;\n",
              "    }\n",
              "\n",
              "    .dataframe tbody tr th {\n",
              "        vertical-align: top;\n",
              "    }\n",
              "\n",
              "    .dataframe thead th {\n",
              "        text-align: right;\n",
              "    }\n",
              "</style>\n",
              "<table border=\"1\" class=\"dataframe\">\n",
              "  <thead>\n",
              "    <tr style=\"text-align: right;\">\n",
              "      <th></th>\n",
              "      <th>also</th>\n",
              "      <th>love</th>\n",
              "      <th>programming</th>\n",
              "    </tr>\n",
              "  </thead>\n",
              "  <tbody>\n",
              "    <tr>\n",
              "      <th>love programming</th>\n",
              "      <td>0</td>\n",
              "      <td>1</td>\n",
              "      <td>1</td>\n",
              "    </tr>\n",
              "    <tr>\n",
              "      <th>programming also love</th>\n",
              "      <td>1</td>\n",
              "      <td>1</td>\n",
              "      <td>1</td>\n",
              "    </tr>\n",
              "  </tbody>\n",
              "</table>\n",
              "</div>"
            ],
            "text/plain": [
              "                        also  love  programming\n",
              "love programming           0     1            1\n",
              "programming also love      1     1            1"
            ]
          },
          "metadata": {
            "tags": []
          },
          "execution_count": 22
        }
      ]
    },
    {
      "metadata": {
        "collapsed": true,
        "id": "URCJfXOGGqp1",
        "colab_type": "text"
      },
      "cell_type": "markdown",
      "source": [
        "### Term frequency and inverse term frequency (TF-IDF)"
      ]
    },
    {
      "metadata": {
        "id": "jl9OtsJyGqp1",
        "colab_type": "code",
        "outputId": "fac233ee-f63e-42e3-9bd4-b5bf1b1317a1",
        "colab": {
          "base_uri": "https://localhost:8080/",
          "height": 34
        }
      },
      "cell_type": "code",
      "source": [
        "from sklearn.feature_extraction.text import TfidfVectorizer\n",
        "\n",
        "vectorizer1 = TfidfVectorizer(sublinear_tf=True, max_df=1.0)\n",
        "bow1 = vectorizer1.fit_transform(docs)\n",
        "\n",
        "freqs1 = [(word, bow1.getcol(idx).sum()) for word, idx in vectorizer1.vocabulary_.items()]\n",
        "results1=sorted (freqs1, key = lambda x: -x[1])\n",
        "print(results1)"
      ],
      "execution_count": 0,
      "outputs": [
        {
          "output_type": "stream",
          "text": [
            "[('love', 1.2086556882809263), ('programming', 1.2086556882809263), ('also', 0.7049094889309326)]\n"
          ],
          "name": "stdout"
        }
      ]
    },
    {
      "metadata": {
        "id": "w0UjCE-sGqp8",
        "colab_type": "code",
        "outputId": "9943bb73-0ee0-4da3-bbff-005d55548c8e",
        "colab": {
          "base_uri": "https://localhost:8080/",
          "height": 111
        }
      },
      "cell_type": "code",
      "source": [
        "feature_names = vectorizer1.get_feature_names()\n",
        "corpus_index = [n for n in docs]\n",
        "\n",
        "import pandas as pd\n",
        "df = pd.DataFrame(bow1.todense(), index=corpus_index, columns=feature_names)\n",
        "df"
      ],
      "execution_count": 0,
      "outputs": [
        {
          "output_type": "execute_result",
          "data": {
            "text/html": [
              "<div>\n",
              "<style scoped>\n",
              "    .dataframe tbody tr th:only-of-type {\n",
              "        vertical-align: middle;\n",
              "    }\n",
              "\n",
              "    .dataframe tbody tr th {\n",
              "        vertical-align: top;\n",
              "    }\n",
              "\n",
              "    .dataframe thead th {\n",
              "        text-align: right;\n",
              "    }\n",
              "</style>\n",
              "<table border=\"1\" class=\"dataframe\">\n",
              "  <thead>\n",
              "    <tr style=\"text-align: right;\">\n",
              "      <th></th>\n",
              "      <th>also</th>\n",
              "      <th>love</th>\n",
              "      <th>programming</th>\n",
              "    </tr>\n",
              "  </thead>\n",
              "  <tbody>\n",
              "    <tr>\n",
              "      <th>love programming</th>\n",
              "      <td>0.000000</td>\n",
              "      <td>0.707107</td>\n",
              "      <td>0.707107</td>\n",
              "    </tr>\n",
              "    <tr>\n",
              "      <th>programming also love</th>\n",
              "      <td>0.704909</td>\n",
              "      <td>0.501549</td>\n",
              "      <td>0.501549</td>\n",
              "    </tr>\n",
              "  </tbody>\n",
              "</table>\n",
              "</div>"
            ],
            "text/plain": [
              "                            also      love  programming\n",
              "love programming        0.000000  0.707107     0.707107\n",
              "programming also love   0.704909  0.501549     0.501549"
            ]
          },
          "metadata": {
            "tags": []
          },
          "execution_count": 24
        }
      ]
    },
    {
      "metadata": {
        "id": "RPd5lPghGqqA",
        "colab_type": "code",
        "colab": {}
      },
      "cell_type": "code",
      "source": [
        ""
      ],
      "execution_count": 0,
      "outputs": []
    }
  ]
}