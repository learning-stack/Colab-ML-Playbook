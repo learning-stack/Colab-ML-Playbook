{
  "nbformat": 4,
  "nbformat_minor": 0,
  "metadata": {
    "kernelspec": {
      "display_name": "Python 3",
      "language": "python",
      "name": "python3"
    },
    "language_info": {
      "codemirror_mode": {
        "name": "ipython",
        "version": 3
      },
      "file_extension": ".py",
      "mimetype": "text/x-python",
      "name": "python",
      "nbconvert_exporter": "python",
      "pygments_lexer": "ipython3",
      "version": "3.6.5"
    },
    "colab": {
      "name": "run_similarity_queries.ipynb",
      "provenance": []
    }
  },
  "cells": [
    {
      "cell_type": "code",
      "metadata": {
        "id": "zZJxsdUXsLI1",
        "colab_type": "code",
        "colab": {}
      },
      "source": [
        "%matplotlib inline"
      ],
      "execution_count": 0,
      "outputs": []
    },
    {
      "cell_type": "markdown",
      "metadata": {
        "id": "4iHNZ_SdsLJJ",
        "colab_type": "text"
      },
      "source": [
        "\n",
        "Similarity Queries\n",
        "==================\n",
        "\n",
        "Demonstrates querying a corpus for similar documents.\n",
        "\n"
      ]
    },
    {
      "cell_type": "markdown",
      "metadata": {
        "id": "bitnUAVrsXRx",
        "colab_type": "text"
      },
      "source": [
        "<table class=\"tfo-notebook-buttons\" align=\"left\">\n",
        "  <td>\n",
        "    <a target=\"_blank\" href=\"https://colab.research.google.com/github/learning-stack/Colab-ML-Playbook/blob/master/NLP/Gensim-run_similarity_queries/run_similarity_queries.ipynb\"><img src=\"https://www.tensorflow.org/images/colab_logo_32px.png\" />Run in Google Colab</a>\n",
        "  </td>\n",
        "  <td>\n",
        "    <a target=\"_blank\" href=\"https://github.com/learning-stack/Colab-ML-Playbook/blob/master/NLP/Gensim-run_similarity_queries/run_similarity_queries.ipynb\"><img src=\"https://www.tensorflow.org/images/GitHub-Mark-32px.png\" />View source on GitHub</a>\n",
        "  </td>\n",
        "</table>"
      ]
    },
    {
      "cell_type": "code",
      "metadata": {
        "id": "n6BRjf8OsLJO",
        "colab_type": "code",
        "colab": {}
      },
      "source": [
        "import logging\n",
        "logging.basicConfig(format='%(asctime)s : %(levelname)s : %(message)s', level=logging.INFO)"
      ],
      "execution_count": 0,
      "outputs": []
    },
    {
      "cell_type": "markdown",
      "metadata": {
        "id": "bapE7tbxsLJV",
        "colab_type": "text"
      },
      "source": [
        "Creating the Corpus\n",
        "-------------------\n",
        "\n",
        "First, we need to create a corpus to work with.\n",
        "This step is the same as in the previous tutorial;\n",
        "if you completed it, feel free to skip to the next section.\n",
        "\n"
      ]
    },
    {
      "cell_type": "code",
      "metadata": {
        "id": "lWsSom1rsLJY",
        "colab_type": "code",
        "colab": {}
      },
      "source": [
        "from collections import defaultdict\n",
        "from gensim import corpora\n",
        "\n",
        "documents = [\n",
        "    \"Human machine interface for lab abc computer applications\",\n",
        "    \"A survey of user opinion of computer system response time\",\n",
        "    \"The EPS user interface management system\",\n",
        "    \"System and human system engineering testing of EPS\",\n",
        "    \"Relation of user perceived response time to error measurement\",\n",
        "    \"The generation of random binary unordered trees\",\n",
        "    \"The intersection graph of paths in trees\",\n",
        "    \"Graph minors IV Widths of trees and well quasi ordering\",\n",
        "    \"Graph minors A survey\",\n",
        "]\n",
        "\n",
        "# remove common words and tokenize\n",
        "stoplist = set('for a of the and to in'.split())\n",
        "texts = [\n",
        "    [word for word in document.lower().split() if word not in stoplist]\n",
        "    for document in documents\n",
        "]\n",
        "\n",
        "# remove words that appear only once\n",
        "frequency = defaultdict(int)\n",
        "for text in texts:\n",
        "    for token in text:\n",
        "        frequency[token] += 1\n",
        "\n",
        "texts = [\n",
        "    [token for token in text if frequency[token] > 1]\n",
        "    for text in texts\n",
        "]\n",
        "\n",
        "dictionary = corpora.Dictionary(texts)\n",
        "corpus = [dictionary.doc2bow(text) for text in texts]"
      ],
      "execution_count": 0,
      "outputs": []
    },
    {
      "cell_type": "markdown",
      "metadata": {
        "id": "4kg1Iy1gsLJh",
        "colab_type": "text"
      },
      "source": [
        "Similarity interface\n",
        "--------------------\n",
        "\n",
        "In the previous tutorials on\n",
        "`sphx_glr_auto_examples_core_run_corpora_and_vector_spaces.py`\n",
        "and\n",
        "`sphx_glr_auto_examples_core_run_topics_and_transformations.py`,\n",
        "we covered what it means to create a corpus in the Vector Space Model and how\n",
        "to transform it between different vector spaces. A common reason for such a\n",
        "charade is that we want to determine **similarity between pairs of\n",
        "documents**, or the **similarity between a specific document and a set of\n",
        "other documents** (such as a user query vs. indexed documents).\n",
        "\n",
        "To show how this can be done in gensim, let us consider the same corpus as in the\n",
        "previous examples (which really originally comes from Deerwester et al.'s\n",
        "`\"Indexing by Latent Semantic Analysis\" <http://www.cs.bham.ac.uk/~pxt/IDA/lsa_ind.pdf>`_\n",
        "seminal 1990 article).\n",
        "To follow Deerwester's example, we first use this tiny corpus to define a 2-dimensional\n",
        "LSI space:\n",
        "\n"
      ]
    },
    {
      "cell_type": "code",
      "metadata": {
        "id": "hrX-idohsLJl",
        "colab_type": "code",
        "colab": {}
      },
      "source": [
        "from gensim import models\n",
        "lsi = models.LsiModel(corpus, id2word=dictionary, num_topics=2)"
      ],
      "execution_count": 0,
      "outputs": []
    },
    {
      "cell_type": "markdown",
      "metadata": {
        "id": "afMMAVuWsLJ0",
        "colab_type": "text"
      },
      "source": [
        "For the purposes of this tutorial, there are only two things you need to know about LSI.\n",
        "First, it's just another transformation: it transforms vectors from one space to another.\n",
        "Second, the benefit of LSI is that enables identifying patterns and relationships between terms (in our case, words in a document) and topics.\n",
        "Our LSI space is two-dimensional (`num_topics = 2`) so there are two topics, but this is arbitrary.\n",
        "If you're interested, you can read more about LSI here: `Latent Semantic Indexing <https://en.wikipedia.org/wiki/Latent_semantic_indexing>`_:\n",
        "\n",
        "Now suppose a user typed in the query `\"Human computer interaction\"`. We would\n",
        "like to sort our nine corpus documents in decreasing order of relevance to this query.\n",
        "Unlike modern search engines, here we only concentrate on a single aspect of possible\n",
        "similarities---on apparent semantic relatedness of their texts (words). No hyperlinks,\n",
        "no random-walk static ranks, just a semantic extension over the boolean keyword match:\n",
        "\n"
      ]
    },
    {
      "cell_type": "code",
      "metadata": {
        "id": "6gzX3MagsLJ4",
        "colab_type": "code",
        "colab": {}
      },
      "source": [
        "doc = \"Human computer interaction\"\n",
        "vec_bow = dictionary.doc2bow(doc.lower().split())\n",
        "vec_lsi = lsi[vec_bow]  # convert the query to LSI space\n",
        "print(vec_lsi)"
      ],
      "execution_count": 0,
      "outputs": []
    },
    {
      "cell_type": "markdown",
      "metadata": {
        "id": "XIWvireOsLKD",
        "colab_type": "text"
      },
      "source": [
        "In addition, we will be considering `cosine similarity <http://en.wikipedia.org/wiki/Cosine_similarity>`_\n",
        "to determine the similarity of two vectors. Cosine similarity is a standard measure\n",
        "in Vector Space Modeling, but wherever the vectors represent probability distributions,\n",
        "`different similarity measures <http://en.wikipedia.org/wiki/Kullback%E2%80%93Leibler_divergence#Symmetrised_divergence>`_\n",
        "may be more appropriate.\n",
        "\n",
        "Initializing query structures\n",
        "++++++++++++++++++++++++++++++++\n",
        "\n",
        "To prepare for similarity queries, we need to enter all documents which we want\n",
        "to compare against subsequent queries. In our case, they are the same nine documents\n",
        "used for training LSI, converted to 2-D LSA space. But that's only incidental, we\n",
        "might also be indexing a different corpus altogether.\n",
        "\n"
      ]
    },
    {
      "cell_type": "code",
      "metadata": {
        "id": "4V9p6qPasLKK",
        "colab_type": "code",
        "colab": {}
      },
      "source": [
        "from gensim import similarities\n",
        "index = similarities.MatrixSimilarity(lsi[corpus])  # transform corpus to LSI space and index it"
      ],
      "execution_count": 0,
      "outputs": []
    },
    {
      "cell_type": "markdown",
      "metadata": {
        "id": "YFrQyfdTsLKa",
        "colab_type": "text"
      },
      "source": [
        "<div class=\"alert alert-danger\"><h4>Warning</h4><p>The class :class:`similarities.MatrixSimilarity` is only appropriate when the whole\n",
        "  set of vectors fits into memory. For example, a corpus of one million documents\n",
        "  would require 2GB of RAM in a 256-dimensional LSI space, when used with this class.\n",
        "\n",
        "  Without 2GB of free RAM, you would need to use the :class:`similarities.Similarity` class.\n",
        "  This class operates in fixed memory, by splitting the index across multiple files on disk, called shards.\n",
        "  It uses :class:`similarities.MatrixSimilarity` and :class:`similarities.SparseMatrixSimilarity` internally,\n",
        "  so it is still fast, although slightly more complex.</p></div>\n",
        "\n",
        "Index persistency is handled via the standard :func:`save` and :func:`load` functions:\n",
        "\n"
      ]
    },
    {
      "cell_type": "code",
      "metadata": {
        "id": "34VUZTwlsLKc",
        "colab_type": "code",
        "colab": {}
      },
      "source": [
        "index.save('/tmp/deerwester.index')\n",
        "index = similarities.MatrixSimilarity.load('/tmp/deerwester.index')"
      ],
      "execution_count": 0,
      "outputs": []
    },
    {
      "cell_type": "markdown",
      "metadata": {
        "id": "88Dy3oUqsLKo",
        "colab_type": "text"
      },
      "source": [
        "This is true for all similarity indexing classes (:class:`similarities.Similarity`,\n",
        ":class:`similarities.MatrixSimilarity` and :class:`similarities.SparseMatrixSimilarity`).\n",
        "Also in the following, `index` can be an object of any of these. When in doubt,\n",
        "use :class:`similarities.Similarity`, as it is the most scalable version, and it also\n",
        "supports adding more documents to the index later.\n",
        "\n",
        "Performing queries\n",
        "++++++++++++++++++\n",
        "\n",
        "To obtain similarities of our query document against the nine indexed documents:\n",
        "\n"
      ]
    },
    {
      "cell_type": "code",
      "metadata": {
        "id": "HgSmiV1LsLKt",
        "colab_type": "code",
        "colab": {}
      },
      "source": [
        "sims = index[vec_lsi]  # perform a similarity query against the corpus\n",
        "print(list(enumerate(sims)))  # print (document_number, document_similarity) 2-tuples"
      ],
      "execution_count": 0,
      "outputs": []
    },
    {
      "cell_type": "markdown",
      "metadata": {
        "id": "ZRn_m5HzsLK5",
        "colab_type": "text"
      },
      "source": [
        "Cosine measure returns similarities in the range `<-1, 1>` (the greater, the more similar),\n",
        "so that the first document has a score of 0.99809301 etc.\n",
        "\n",
        "With some standard Python magic we sort these similarities into descending\n",
        "order, and obtain the final answer to the query `\"Human computer interaction\"`:\n",
        "\n"
      ]
    },
    {
      "cell_type": "code",
      "metadata": {
        "id": "H4-bbd6_sLLD",
        "colab_type": "code",
        "colab": {}
      },
      "source": [
        "sims = sorted(enumerate(sims), key=lambda item: -item[1])\n",
        "for i, s in enumerate(sims):\n",
        "    print(s, documents[i])"
      ],
      "execution_count": 0,
      "outputs": []
    },
    {
      "cell_type": "markdown",
      "metadata": {
        "id": "pRbtkhs5sLLK",
        "colab_type": "text"
      },
      "source": [
        "The thing to note here is that documents no. 2 (``\"The EPS user interface management system\"``)\n",
        "and 4 (``\"Relation of user perceived response time to error measurement\"``) would never be returned by\n",
        "a standard boolean fulltext search, because they do not share any common words with ``\"Human\n",
        "computer interaction\"``. However, after applying LSI, we can observe that both of\n",
        "them received quite high similarity scores (no. 2 is actually the most similar!),\n",
        "which corresponds better to our intuition of\n",
        "them sharing a \"computer-human\" related topic with the query. In fact, this semantic\n",
        "generalization is the reason why we apply transformations and do topic modelling\n",
        "in the first place.\n",
        "\n",
        "Where next?\n",
        "------------\n",
        "\n",
        "Congratulations, you have finished the tutorials -- now you know how gensim works :-)\n",
        "To delve into more details, you can browse through the `apiref`,\n",
        "see the `wiki` or perhaps check out `distributed` in `gensim`.\n",
        "\n",
        "Gensim is a fairly mature package that has been used successfully by many individuals and companies, both for rapid prototyping and in production.\n",
        "That doesn't mean it's perfect though:\n",
        "\n",
        "* there are parts that could be implemented more efficiently (in C, for example), or make better use of parallelism (multiple machines cores)\n",
        "* new algorithms are published all the time; help gensim keep up by `discussing them <http://groups.google.com/group/gensim>`_ and `contributing code <https://github.com/piskvorky/gensim/wiki/Developer-page>`_\n",
        "* your **feedback is most welcome** and appreciated (and it's not just the code!):\n",
        "  `bug reports <https://github.com/piskvorky/gensim/issues>`_ or\n",
        "  `user stories and general questions <http://groups.google.com/group/gensim/topics>`_.\n",
        "\n",
        "Gensim has no ambition to become an all-encompassing framework, across all NLP (or even Machine Learning) subfields.\n",
        "Its mission is to help NLP practitioners try out popular topic modelling algorithms\n",
        "on large datasets easily, and to facilitate prototyping of new algorithms for researchers.\n",
        "\n"
      ]
    },
    {
      "cell_type": "code",
      "metadata": {
        "id": "fbItlc_rsLLM",
        "colab_type": "code",
        "colab": {}
      },
      "source": [
        "import matplotlib.pyplot as plt\n",
        "import matplotlib.image as mpimg\n",
        "img = mpimg.imread('run_similarity_queries.png')\n",
        "imgplot = plt.imshow(img)\n",
        "plt.axis('off')\n",
        "plt.show()"
      ],
      "execution_count": 0,
      "outputs": []
    }
  ]
}