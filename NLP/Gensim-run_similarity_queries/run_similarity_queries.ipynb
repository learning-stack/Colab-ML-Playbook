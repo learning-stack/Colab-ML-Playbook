{
  "nbformat": 4,
  "nbformat_minor": 0,
  "metadata": {
    "kernelspec": {
      "display_name": "Python 3",
      "language": "python",
      "name": "python3"
    },
    "language_info": {
      "codemirror_mode": {
        "name": "ipython",
        "version": 3
      },
      "file_extension": ".py",
      "mimetype": "text/x-python",
      "name": "python",
      "nbconvert_exporter": "python",
      "pygments_lexer": "ipython3",
      "version": "3.6.5"
    },
    "colab": {
      "name": "run_similarity_queries.ipynb",
      "provenance": []
    }
  },
  "cells": [
    {
      "cell_type": "code",
      "metadata": {
        "id": "zZJxsdUXsLI1",
        "colab_type": "code",
        "colab": {}
      },
      "source": [
        "%matplotlib inline"
      ],
      "execution_count": 0,
      "outputs": []
    },
    {
      "cell_type": "markdown",
      "metadata": {
        "id": "4iHNZ_SdsLJJ",
        "colab_type": "text"
      },
      "source": [
        "\n",
        "Similarity Queries\n",
        "==================\n",
        "\n",
        "Demonstrates querying a corpus for similar documents.\n",
        "\n"
      ]
    },
    {
      "cell_type": "markdown",
      "metadata": {
        "id": "bitnUAVrsXRx",
        "colab_type": "text"
      },
      "source": [
        "<table class=\"tfo-notebook-buttons\" align=\"left\">\n",
        "  <td>\n",
        "    <a target=\"_blank\" href=\"https://colab.research.google.com/github/learning-stack/Colab-ML-Playbook/blob/master/NLP/Gensim-run_similarity_queries/run_similarity_queries.ipynb\"><img src=\"https://www.tensorflow.org/images/colab_logo_32px.png\" />Run in Google Colab</a>\n",
        "  </td>\n",
        "  <td>\n",
        "    <a target=\"_blank\" href=\"https://github.com/learning-stack/Colab-ML-Playbook/blob/master/NLP/Gensim-run_similarity_queries/run_similarity_queries.ipynb\"><img src=\"https://www.tensorflow.org/images/GitHub-Mark-32px.png\" />View source on GitHub</a>\n",
        "  </td>\n",
        "</table>"
      ]
    },
    {
      "cell_type": "code",
      "metadata": {
        "id": "n6BRjf8OsLJO",
        "colab_type": "code",
        "colab": {}
      },
      "source": [
        "import logging\n",
        "logging.basicConfig(format='%(asctime)s : %(levelname)s : %(message)s', level=logging.INFO)"
      ],
      "execution_count": 0,
      "outputs": []
    },
    {
      "cell_type": "markdown",
      "metadata": {
        "id": "bapE7tbxsLJV",
        "colab_type": "text"
      },
      "source": [
        "Creating the Corpus\n",
        "-------------------\n",
        "\n",
        "First, we need to create a corpus to work with.\n",
        "This step is the same as in the previous tutorial;\n",
        "if you completed it, feel free to skip to the next section.\n",
        "\n"
      ]
    },
    {
      "cell_type": "code",
      "metadata": {
        "id": "lWsSom1rsLJY",
        "colab_type": "code",
        "colab": {
          "base_uri": "https://localhost:8080/",
          "height": 88
        },
        "outputId": "5681f568-fd43-43db-f743-dbbc639a0c78"
      },
      "source": [
        "from collections import defaultdict\n",
        "from gensim import corpora\n",
        "\n",
        "documents = [\n",
        "    \"Human machine interface for lab abc computer applications\",\n",
        "    \"A survey of user opinion of computer system response time\",\n",
        "    \"The EPS user interface management system\",\n",
        "    \"System and human system engineering testing of EPS\",\n",
        "    \"Relation of user perceived response time to error measurement\",\n",
        "    \"The generation of random binary unordered trees\",\n",
        "    \"The intersection graph of paths in trees\",\n",
        "    \"Graph minors IV Widths of trees and well quasi ordering\",\n",
        "    \"Graph minors A survey\",\n",
        "]\n",
        "\n",
        "# remove common words and tokenize\n",
        "stoplist = set('for a of the and to in'.split())\n",
        "texts = [\n",
        "    [word for word in document.lower().split() if word not in stoplist]\n",
        "    for document in documents\n",
        "]\n",
        "\n",
        "# remove words that appear only once\n",
        "frequency = defaultdict(int)\n",
        "for text in texts:\n",
        "    for token in text:\n",
        "        frequency[token] += 1\n",
        "\n",
        "texts = [\n",
        "    [token for token in text if frequency[token] > 1]\n",
        "    for text in texts\n",
        "]\n",
        "\n",
        "dictionary = corpora.Dictionary(texts)\n",
        "corpus = [dictionary.doc2bow(text) for text in texts]"
      ],
      "execution_count": 3,
      "outputs": [
        {
          "output_type": "stream",
          "text": [
            "2020-01-24 21:40:05,061 : INFO : 'pattern' package not found; tag filters are not available for English\n",
            "2020-01-24 21:40:05,073 : INFO : adding document #0 to Dictionary(0 unique tokens: [])\n",
            "2020-01-24 21:40:05,075 : INFO : built Dictionary(12 unique tokens: ['computer', 'human', 'interface', 'response', 'survey']...) from 9 documents (total 29 corpus positions)\n"
          ],
          "name": "stderr"
        }
      ]
    },
    {
      "cell_type": "markdown",
      "metadata": {
        "id": "4kg1Iy1gsLJh",
        "colab_type": "text"
      },
      "source": [
        "Similarity interface\n",
        "--------------------\n",
        "\n",
        "In the previous tutorials on\n",
        "`sphx_glr_auto_examples_core_run_corpora_and_vector_spaces.py`\n",
        "and\n",
        "`sphx_glr_auto_examples_core_run_topics_and_transformations.py`,\n",
        "we covered what it means to create a corpus in the Vector Space Model and how\n",
        "to transform it between different vector spaces. A common reason for such a\n",
        "charade is that we want to determine **similarity between pairs of\n",
        "documents**, or the **similarity between a specific document and a set of\n",
        "other documents** (such as a user query vs. indexed documents).\n",
        "\n",
        "To show how this can be done in gensim, let us consider the same corpus as in the\n",
        "previous examples (which really originally comes from Deerwester et al.'s\n",
        "`\"Indexing by Latent Semantic Analysis\" <http://www.cs.bham.ac.uk/~pxt/IDA/lsa_ind.pdf>`_\n",
        "seminal 1990 article).\n",
        "To follow Deerwester's example, we first use this tiny corpus to define a 2-dimensional\n",
        "LSI space:\n",
        "\n"
      ]
    },
    {
      "cell_type": "code",
      "metadata": {
        "id": "hrX-idohsLJl",
        "colab_type": "code",
        "colab": {
          "base_uri": "https://localhost:8080/",
          "height": 241
        },
        "outputId": "bdf969af-3a48-416d-b054-3daa47e5116f"
      },
      "source": [
        "from gensim import models\n",
        "lsi = models.LsiModel(corpus, id2word=dictionary, num_topics=2)"
      ],
      "execution_count": 4,
      "outputs": [
        {
          "output_type": "stream",
          "text": [
            "2020-01-24 21:40:05,087 : INFO : using serial LSI version on this node\n",
            "2020-01-24 21:40:05,089 : INFO : updating model with new documents\n",
            "2020-01-24 21:40:05,090 : INFO : preparing a new chunk of documents\n",
            "2020-01-24 21:40:05,097 : INFO : using 100 extra samples and 2 power iterations\n",
            "2020-01-24 21:40:05,098 : INFO : 1st phase: constructing (12, 102) action matrix\n",
            "2020-01-24 21:40:05,104 : INFO : orthonormalizing (12, 102) action matrix\n",
            "2020-01-24 21:40:05,128 : INFO : 2nd phase: running dense svd on (12, 9) matrix\n",
            "2020-01-24 21:40:05,134 : INFO : computing the final decomposition\n",
            "2020-01-24 21:40:05,135 : INFO : keeping 2 factors (discarding 43.156% of energy spectrum)\n",
            "2020-01-24 21:40:05,140 : INFO : processed documents up to #9\n",
            "2020-01-24 21:40:05,144 : INFO : topic #0(3.341): 0.644*\"system\" + 0.404*\"user\" + 0.301*\"eps\" + 0.265*\"time\" + 0.265*\"response\" + 0.240*\"computer\" + 0.221*\"human\" + 0.206*\"survey\" + 0.198*\"interface\" + 0.036*\"graph\"\n",
            "2020-01-24 21:40:05,145 : INFO : topic #1(2.542): 0.623*\"graph\" + 0.490*\"trees\" + 0.451*\"minors\" + 0.274*\"survey\" + -0.167*\"system\" + -0.141*\"eps\" + -0.113*\"human\" + 0.107*\"response\" + 0.107*\"time\" + -0.072*\"interface\"\n"
          ],
          "name": "stderr"
        }
      ]
    },
    {
      "cell_type": "markdown",
      "metadata": {
        "id": "afMMAVuWsLJ0",
        "colab_type": "text"
      },
      "source": [
        "For the purposes of this tutorial, there are only two things you need to know about LSI.\n",
        "First, it's just another transformation: it transforms vectors from one space to another.\n",
        "Second, the benefit of LSI is that enables identifying patterns and relationships between terms (in our case, words in a document) and topics.\n",
        "Our LSI space is two-dimensional (`num_topics = 2`) so there are two topics, but this is arbitrary.\n",
        "If you're interested, you can read more about LSI here: `Latent Semantic Indexing <https://en.wikipedia.org/wiki/Latent_semantic_indexing>`_:\n",
        "\n",
        "Now suppose a user typed in the query `\"Human computer interaction\"`. We would\n",
        "like to sort our nine corpus documents in decreasing order of relevance to this query.\n",
        "Unlike modern search engines, here we only concentrate on a single aspect of possible\n",
        "similarities---on apparent semantic relatedness of their texts (words). No hyperlinks,\n",
        "no random-walk static ranks, just a semantic extension over the boolean keyword match:\n",
        "\n"
      ]
    },
    {
      "cell_type": "code",
      "metadata": {
        "id": "6gzX3MagsLJ4",
        "colab_type": "code",
        "colab": {
          "base_uri": "https://localhost:8080/",
          "height": 34
        },
        "outputId": "11abcfa1-ce11-4bbb-8336-ddd59eb15685"
      },
      "source": [
        "doc = \"Graph minors A survey\"\n",
        "vec_bow = dictionary.doc2bow(doc.lower().split())\n",
        "vec_lsi = lsi[vec_bow]  # convert the query to LSI space\n",
        "print(vec_lsi)"
      ],
      "execution_count": 11,
      "outputs": [
        {
          "output_type": "stream",
          "text": [
            "[(0, 0.2738100392127572), (1, 1.3469415849537696)]\n"
          ],
          "name": "stdout"
        }
      ]
    },
    {
      "cell_type": "markdown",
      "metadata": {
        "id": "XIWvireOsLKD",
        "colab_type": "text"
      },
      "source": [
        "In addition, we will be considering `cosine similarity <http://en.wikipedia.org/wiki/Cosine_similarity>`_\n",
        "to determine the similarity of two vectors. Cosine similarity is a standard measure\n",
        "in Vector Space Modeling, but wherever the vectors represent probability distributions,\n",
        "`different similarity measures <http://en.wikipedia.org/wiki/Kullback%E2%80%93Leibler_divergence#Symmetrised_divergence>`_\n",
        "may be more appropriate.\n",
        "\n",
        "Initializing query structures\n",
        "++++++++++++++++++++++++++++++++\n",
        "\n",
        "To prepare for similarity queries, we need to enter all documents which we want\n",
        "to compare against subsequent queries. In our case, they are the same nine documents\n",
        "used for training LSI, converted to 2-D LSA space. But that's only incidental, we\n",
        "might also be indexing a different corpus altogether.\n",
        "\n"
      ]
    },
    {
      "cell_type": "code",
      "metadata": {
        "id": "4V9p6qPasLKK",
        "colab_type": "code",
        "colab": {
          "base_uri": "https://localhost:8080/",
          "height": 105
        },
        "outputId": "97decf95-72f1-4b20-9683-4e6c8dec5e9a"
      },
      "source": [
        "from gensim import similarities\n",
        "index = similarities.MatrixSimilarity(lsi[corpus])  # transform corpus to LSI space and index it"
      ],
      "execution_count": 12,
      "outputs": [
        {
          "output_type": "stream",
          "text": [
            "2020-01-24 21:40:38,624 : WARNING : scanning corpus to determine the number of features (consider setting `num_features` explicitly)\n",
            "2020-01-24 21:40:38,629 : INFO : creating matrix with 9 documents and 2 features\n",
            "/usr/local/lib/python3.6/dist-packages/gensim/matutils.py:737: FutureWarning: Conversion of the second argument of issubdtype from `int` to `np.signedinteger` is deprecated. In future, it will be treated as `np.int64 == np.dtype(int).type`.\n",
            "  if np.issubdtype(vec.dtype, np.int):\n"
          ],
          "name": "stderr"
        }
      ]
    },
    {
      "cell_type": "markdown",
      "metadata": {
        "id": "YFrQyfdTsLKa",
        "colab_type": "text"
      },
      "source": [
        "<div class=\"alert alert-danger\"><h4>Warning</h4><p>The class :class:`similarities.MatrixSimilarity` is only appropriate when the whole\n",
        "  set of vectors fits into memory. For example, a corpus of one million documents\n",
        "  would require 2GB of RAM in a 256-dimensional LSI space, when used with this class.\n",
        "\n",
        "  Without 2GB of free RAM, you would need to use the :class:`similarities.Similarity` class.\n",
        "  This class operates in fixed memory, by splitting the index across multiple files on disk, called shards.\n",
        "  It uses :class:`similarities.MatrixSimilarity` and :class:`similarities.SparseMatrixSimilarity` internally,\n",
        "  so it is still fast, although slightly more complex.</p></div>\n",
        "\n",
        "Index persistency is handled via the standard :func:`save` and :func:`load` functions:\n",
        "\n"
      ]
    },
    {
      "cell_type": "code",
      "metadata": {
        "id": "34VUZTwlsLKc",
        "colab_type": "code",
        "colab": {
          "base_uri": "https://localhost:8080/",
          "height": 139
        },
        "outputId": "f7508834-d881-4899-8980-2b748023edfc"
      },
      "source": [
        "index.save('/tmp/deerwester.index')\n",
        "index = similarities.MatrixSimilarity.load('/tmp/deerwester.index')"
      ],
      "execution_count": 13,
      "outputs": [
        {
          "output_type": "stream",
          "text": [
            "2020-01-24 21:40:41,186 : INFO : saving MatrixSimilarity object under /tmp/deerwester.index, separately None\n",
            "/usr/local/lib/python3.6/dist-packages/smart_open/smart_open_lib.py:402: UserWarning: This function is deprecated, use smart_open.open instead. See the migration notes for details: https://github.com/RaRe-Technologies/smart_open/blob/master/README.rst#migrating-to-the-new-open-function\n",
            "  'See the migration notes for details: %s' % _MIGRATION_NOTES_URL\n",
            "2020-01-24 21:40:41,190 : INFO : saved /tmp/deerwester.index\n",
            "2020-01-24 21:40:41,192 : INFO : loading MatrixSimilarity object from /tmp/deerwester.index\n",
            "2020-01-24 21:40:41,195 : INFO : loaded /tmp/deerwester.index\n"
          ],
          "name": "stderr"
        }
      ]
    },
    {
      "cell_type": "markdown",
      "metadata": {
        "id": "88Dy3oUqsLKo",
        "colab_type": "text"
      },
      "source": [
        "This is true for all similarity indexing classes (:class:`similarities.Similarity`,\n",
        ":class:`similarities.MatrixSimilarity` and :class:`similarities.SparseMatrixSimilarity`).\n",
        "Also in the following, `index` can be an object of any of these. When in doubt,\n",
        "use :class:`similarities.Similarity`, as it is the most scalable version, and it also\n",
        "supports adding more documents to the index later.\n",
        "\n",
        "Performing queries\n",
        "++++++++++++++++++\n",
        "\n",
        "To obtain similarities of our query document against the nine indexed documents:\n",
        "\n"
      ]
    },
    {
      "cell_type": "code",
      "metadata": {
        "id": "HgSmiV1LsLKt",
        "colab_type": "code",
        "colab": {
          "base_uri": "https://localhost:8080/",
          "height": 34
        },
        "outputId": "e426ea2c-515e-41d9-825c-c92f36e75439"
      },
      "source": [
        "sims = index[vec_lsi]  # perform a similarity query against the corpus\n",
        "print(list(enumerate(sims)))  # print (document_number, document_similarity) 2-tuples"
      ],
      "execution_count": 25,
      "outputs": [
        {
          "output_type": "stream",
          "text": [
            "[(0, -0.011704296), (1, 0.39449948), (2, -0.005706832), (3, -0.113651246), (4, 0.4648134), (5, 0.98480445), (6, 0.9877544), (7, 0.98891723), (8, 1.0)]\n"
          ],
          "name": "stdout"
        }
      ]
    },
    {
      "cell_type": "markdown",
      "metadata": {
        "id": "ZRn_m5HzsLK5",
        "colab_type": "text"
      },
      "source": [
        "Cosine measure returns similarities in the range `<-1, 1>` (the greater, the more similar),\n",
        "so that the first document has a score of 0.99809301 etc.\n",
        "\n",
        "With some standard Python magic we sort these similarities into descending\n",
        "order, and obtain the final answer to the query `\"Human computer interaction\"`:\n",
        "\n"
      ]
    },
    {
      "cell_type": "code",
      "metadata": {
        "id": "H4-bbd6_sLLD",
        "colab_type": "code",
        "colab": {
          "base_uri": "https://localhost:8080/",
          "height": 170
        },
        "outputId": "69c22f42-5287-4c9c-d468-bbdf873a6766"
      },
      "source": [
        "sims = sorted(enumerate(sims), key=lambda item: -item[1])\n",
        "for i, s in enumerate(sims):\n",
        "    print(s, documents[s[0]])"
      ],
      "execution_count": 26,
      "outputs": [
        {
          "output_type": "stream",
          "text": [
            "(8, 1.0) Graph minors A survey\n",
            "(7, 0.98891723) Graph minors IV Widths of trees and well quasi ordering\n",
            "(6, 0.9877544) The intersection graph of paths in trees\n",
            "(5, 0.98480445) The generation of random binary unordered trees\n",
            "(4, 0.4648134) Relation of user perceived response time to error measurement\n",
            "(1, 0.39449948) A survey of user opinion of computer system response time\n",
            "(2, -0.005706832) The EPS user interface management system\n",
            "(0, -0.011704296) Human machine interface for lab abc computer applications\n",
            "(3, -0.113651246) System and human system engineering testing of EPS\n"
          ],
          "name": "stdout"
        }
      ]
    },
    {
      "cell_type": "markdown",
      "metadata": {
        "id": "pRbtkhs5sLLK",
        "colab_type": "text"
      },
      "source": [
        "The thing to note here is that documents no. 2 (``\"The EPS user interface management system\"``)\n",
        "and 4 (``\"Relation of user perceived response time to error measurement\"``) would never be returned by\n",
        "a standard boolean fulltext search, because they do not share any common words with ``\"Human\n",
        "computer interaction\"``. However, after applying LSI, we can observe that both of\n",
        "them received quite high similarity scores (no. 2 is actually the most similar!),\n",
        "which corresponds better to our intuition of\n",
        "them sharing a \"computer-human\" related topic with the query. In fact, this semantic\n",
        "generalization is the reason why we apply transformations and do topic modelling\n",
        "in the first place.\n",
        "\n",
        "Where next?\n",
        "------------\n",
        "\n",
        "Congratulations, you have finished the tutorials -- now you know how gensim works :-)\n",
        "To delve into more details, you can browse through the `apiref`,\n",
        "see the `wiki` or perhaps check out `distributed` in `gensim`.\n",
        "\n",
        "Gensim is a fairly mature package that has been used successfully by many individuals and companies, both for rapid prototyping and in production.\n",
        "That doesn't mean it's perfect though:\n",
        "\n",
        "* there are parts that could be implemented more efficiently (in C, for example), or make better use of parallelism (multiple machines cores)\n",
        "* new algorithms are published all the time; help gensim keep up by `discussing them <http://groups.google.com/group/gensim>`_ and `contributing code <https://github.com/piskvorky/gensim/wiki/Developer-page>`_\n",
        "* your **feedback is most welcome** and appreciated (and it's not just the code!):\n",
        "  `bug reports <https://github.com/piskvorky/gensim/issues>`_ or\n",
        "  `user stories and general questions <http://groups.google.com/group/gensim/topics>`_.\n",
        "\n",
        "Gensim has no ambition to become an all-encompassing framework, across all NLP (or even Machine Learning) subfields.\n",
        "Its mission is to help NLP practitioners try out popular topic modelling algorithms\n",
        "on large datasets easily, and to facilitate prototyping of new algorithms for researchers.\n",
        "\n"
      ]
    },
    {
      "cell_type": "code",
      "metadata": {
        "id": "fbItlc_rsLLM",
        "colab_type": "code",
        "colab": {
          "base_uri": "https://localhost:8080/",
          "height": 350
        },
        "outputId": "48c7d48a-3a9b-4a13-ca25-410e585304da"
      },
      "source": [
        "import matplotlib.pyplot as plt\n",
        "import matplotlib.image as mpimg\n",
        "img = mpimg.imread('run_similarity_queries.png')\n",
        "imgplot = plt.imshow(img)\n",
        "plt.axis('off')\n",
        "plt.show()"
      ],
      "execution_count": 10,
      "outputs": [
        {
          "output_type": "error",
          "ename": "FileNotFoundError",
          "evalue": "ignored",
          "traceback": [
            "\u001b[0;31m---------------------------------------------------------------------------\u001b[0m",
            "\u001b[0;31mFileNotFoundError\u001b[0m                         Traceback (most recent call last)",
            "\u001b[0;32m<ipython-input-10-f25a17912dac>\u001b[0m in \u001b[0;36m<module>\u001b[0;34m()\u001b[0m\n\u001b[1;32m      1\u001b[0m \u001b[0;32mimport\u001b[0m \u001b[0mmatplotlib\u001b[0m\u001b[0;34m.\u001b[0m\u001b[0mpyplot\u001b[0m \u001b[0;32mas\u001b[0m \u001b[0mplt\u001b[0m\u001b[0;34m\u001b[0m\u001b[0;34m\u001b[0m\u001b[0m\n\u001b[1;32m      2\u001b[0m \u001b[0;32mimport\u001b[0m \u001b[0mmatplotlib\u001b[0m\u001b[0;34m.\u001b[0m\u001b[0mimage\u001b[0m \u001b[0;32mas\u001b[0m \u001b[0mmpimg\u001b[0m\u001b[0;34m\u001b[0m\u001b[0;34m\u001b[0m\u001b[0m\n\u001b[0;32m----> 3\u001b[0;31m \u001b[0mimg\u001b[0m \u001b[0;34m=\u001b[0m \u001b[0mmpimg\u001b[0m\u001b[0;34m.\u001b[0m\u001b[0mimread\u001b[0m\u001b[0;34m(\u001b[0m\u001b[0;34m'run_similarity_queries.png'\u001b[0m\u001b[0;34m)\u001b[0m\u001b[0;34m\u001b[0m\u001b[0;34m\u001b[0m\u001b[0m\n\u001b[0m\u001b[1;32m      4\u001b[0m \u001b[0mimgplot\u001b[0m \u001b[0;34m=\u001b[0m \u001b[0mplt\u001b[0m\u001b[0;34m.\u001b[0m\u001b[0mimshow\u001b[0m\u001b[0;34m(\u001b[0m\u001b[0mimg\u001b[0m\u001b[0;34m)\u001b[0m\u001b[0;34m\u001b[0m\u001b[0;34m\u001b[0m\u001b[0m\n\u001b[1;32m      5\u001b[0m \u001b[0mplt\u001b[0m\u001b[0;34m.\u001b[0m\u001b[0maxis\u001b[0m\u001b[0;34m(\u001b[0m\u001b[0;34m'off'\u001b[0m\u001b[0;34m)\u001b[0m\u001b[0;34m\u001b[0m\u001b[0;34m\u001b[0m\u001b[0m\n",
            "\u001b[0;32m/usr/local/lib/python3.6/dist-packages/matplotlib/image.py\u001b[0m in \u001b[0;36mimread\u001b[0;34m(fname, format)\u001b[0m\n\u001b[1;32m   1431\u001b[0m             \u001b[0;32mreturn\u001b[0m \u001b[0mhandler\u001b[0m\u001b[0;34m(\u001b[0m\u001b[0mfd\u001b[0m\u001b[0;34m)\u001b[0m\u001b[0;34m\u001b[0m\u001b[0;34m\u001b[0m\u001b[0m\n\u001b[1;32m   1432\u001b[0m         \u001b[0;32melse\u001b[0m\u001b[0;34m:\u001b[0m\u001b[0;34m\u001b[0m\u001b[0;34m\u001b[0m\u001b[0m\n\u001b[0;32m-> 1433\u001b[0;31m             \u001b[0;32mwith\u001b[0m \u001b[0mopen\u001b[0m\u001b[0;34m(\u001b[0m\u001b[0mfname\u001b[0m\u001b[0;34m,\u001b[0m \u001b[0;34m'rb'\u001b[0m\u001b[0;34m)\u001b[0m \u001b[0;32mas\u001b[0m \u001b[0mfd\u001b[0m\u001b[0;34m:\u001b[0m\u001b[0;34m\u001b[0m\u001b[0;34m\u001b[0m\u001b[0m\n\u001b[0m\u001b[1;32m   1434\u001b[0m                 \u001b[0;32mreturn\u001b[0m \u001b[0mhandler\u001b[0m\u001b[0;34m(\u001b[0m\u001b[0mfd\u001b[0m\u001b[0;34m)\u001b[0m\u001b[0;34m\u001b[0m\u001b[0;34m\u001b[0m\u001b[0m\n\u001b[1;32m   1435\u001b[0m     \u001b[0;32melse\u001b[0m\u001b[0;34m:\u001b[0m\u001b[0;34m\u001b[0m\u001b[0;34m\u001b[0m\u001b[0m\n",
            "\u001b[0;31mFileNotFoundError\u001b[0m: [Errno 2] No such file or directory: 'run_similarity_queries.png'"
          ]
        }
      ]
    }
  ]
}