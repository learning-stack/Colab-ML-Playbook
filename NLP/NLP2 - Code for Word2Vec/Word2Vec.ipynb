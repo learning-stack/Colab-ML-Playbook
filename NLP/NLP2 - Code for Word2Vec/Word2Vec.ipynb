{
  "nbformat": 4,
  "nbformat_minor": 0,
  "metadata": {
    "colab": {
      "name": "Word2Vec.ipynb",
      "version": "0.3.2",
      "provenance": []
    },
    "kernelspec": {
      "display_name": "Python 3",
      "language": "python",
      "name": "python3"
    }
  },
  "cells": [
    {
      "metadata": {
        "collapsed": true,
        "id": "Fd9ZREqSWfMZ",
        "colab_type": "text"
      },
      "cell_type": "markdown",
      "source": [
        "# NLP- Code for Word2Vec neural network(Tensorflow)\n",
        "## by Madhu Sanjeevi"
      ]
    },
    {
      "metadata": {
        "id": "gdJHMkGQWq6J",
        "colab_type": "text"
      },
      "cell_type": "markdown",
      "source": [
        "https://medium.com/deep-math-machine-learning-ai/chapter-9-2-nlp-code-for-word2vec-neural-network-tensorflow-544db99f5334"
      ]
    },
    {
      "metadata": {
        "id": "GU4ZtQC_Wx3Q",
        "colab_type": "text"
      },
      "cell_type": "markdown",
      "source": [
        "<table class=\"tfo-notebook-buttons\" align=\"left\">\n",
        "  <td>\n",
        "    <a target=\"_blank\" href=\"https://colab.research.google.com/github/learning-stack/Colab-ML-Playbook/blob/master/NLP/NLP2%20-%20Code%20for%20Word2Vec/Word2Vec.ipynb\"><img src=\"https://www.tensorflow.org/images/colab_logo_32px.png\" />Run in Google Colab</a>\n",
        "  </td>\n",
        "  <td>\n",
        "    <a target=\"_blank\" href=\"https://github.com/learning-stack/Colab-ML-Playbook/blob/master/NLP/NLP2%20-%20Code%20for%20Word2Vec/Word2Vec.ipynb\"><img src=\"https://www.tensorflow.org/images/GitHub-Mark-32px.png\" />View source on GitHub</a>\n",
        "  </td>\n",
        "</table>"
      ]
    },
    {
      "metadata": {
        "id": "exRcZJigWfMd",
        "colab_type": "code",
        "colab": {
          "base_uri": "https://localhost:8080/",
          "height": 204
        },
        "outputId": "1db9d521-fda9-4089-de6d-230c59063f75"
      },
      "cell_type": "code",
      "source": [
        "import numpy as np\n",
        "import matplotlib.pyplot as plt\n",
        "import pandas as pd\n",
        "import codecs\n",
        "\n",
        "!wget https://raw.githubusercontent.com/mneedham/neo4j-himym/master/data/import/sentences.csv\n",
        "\n",
        "input_file = codecs.open(\"sentences.csv\", \"r\",encoding='utf-8', errors='replace')\n",
        "\n",
        "data = pd.read_csv(input_file)"
      ],
      "execution_count": 1,
      "outputs": [
        {
          "output_type": "stream",
          "text": [
            "--2018-12-29 14:56:07--  https://raw.githubusercontent.com/mneedham/neo4j-himym/master/data/import/sentences.csv\n",
            "Resolving raw.githubusercontent.com (raw.githubusercontent.com)... 151.101.0.133, 151.101.64.133, 151.101.128.133, ...\n",
            "Connecting to raw.githubusercontent.com (raw.githubusercontent.com)|151.101.0.133|:443... connected.\n",
            "HTTP request sent, awaiting response... 200 OK\n",
            "Length: 4802481 (4.6M) [text/plain]\n",
            "Saving to: ‘sentences.csv’\n",
            "\n",
            "sentences.csv       100%[===================>]   4.58M  --.-KB/s    in 0.09s   \n",
            "\n",
            "2018-12-29 14:56:08 (51.9 MB/s) - ‘sentences.csv’ saved [4802481/4802481]\n",
            "\n"
          ],
          "name": "stdout"
        }
      ]
    },
    {
      "metadata": {
        "id": "1_zPkZcPWfMi",
        "colab_type": "code",
        "colab": {
          "base_uri": "https://localhost:8080/",
          "height": 204
        },
        "outputId": "de70ad27-e19a-4be7-bc8d-3bece1d9324d"
      },
      "cell_type": "code",
      "source": [
        "data.head()"
      ],
      "execution_count": 2,
      "outputs": [
        {
          "output_type": "execute_result",
          "data": {
            "text/html": [
              "<div>\n",
              "<style scoped>\n",
              "    .dataframe tbody tr th:only-of-type {\n",
              "        vertical-align: middle;\n",
              "    }\n",
              "\n",
              "    .dataframe tbody tr th {\n",
              "        vertical-align: top;\n",
              "    }\n",
              "\n",
              "    .dataframe thead th {\n",
              "        text-align: right;\n",
              "    }\n",
              "</style>\n",
              "<table border=\"1\" class=\"dataframe\">\n",
              "  <thead>\n",
              "    <tr style=\"text-align: right;\">\n",
              "      <th></th>\n",
              "      <th>SentenceId</th>\n",
              "      <th>EpisodeId</th>\n",
              "      <th>Season</th>\n",
              "      <th>Episode</th>\n",
              "      <th>Sentence</th>\n",
              "    </tr>\n",
              "  </thead>\n",
              "  <tbody>\n",
              "    <tr>\n",
              "      <th>0</th>\n",
              "      <td>1</td>\n",
              "      <td>1</td>\n",
              "      <td>1</td>\n",
              "      <td>1</td>\n",
              "      <td>Pilot</td>\n",
              "    </tr>\n",
              "    <tr>\n",
              "      <th>1</th>\n",
              "      <td>2</td>\n",
              "      <td>1</td>\n",
              "      <td>1</td>\n",
              "      <td>1</td>\n",
              "      <td>Scene One</td>\n",
              "    </tr>\n",
              "    <tr>\n",
              "      <th>2</th>\n",
              "      <td>3</td>\n",
              "      <td>1</td>\n",
              "      <td>1</td>\n",
              "      <td>1</td>\n",
              "      <td>[Title: The Year 2030]</td>\n",
              "    </tr>\n",
              "    <tr>\n",
              "      <th>3</th>\n",
              "      <td>4</td>\n",
              "      <td>1</td>\n",
              "      <td>1</td>\n",
              "      <td>1</td>\n",
              "      <td>Narrator: Kids, I'm going to tell you an incre...</td>\n",
              "    </tr>\n",
              "    <tr>\n",
              "      <th>4</th>\n",
              "      <td>5</td>\n",
              "      <td>1</td>\n",
              "      <td>1</td>\n",
              "      <td>1</td>\n",
              "      <td>Son: Are we being punished for something?</td>\n",
              "    </tr>\n",
              "  </tbody>\n",
              "</table>\n",
              "</div>"
            ],
            "text/plain": [
              "   SentenceId  EpisodeId  Season  Episode  \\\n",
              "0           1          1       1        1   \n",
              "1           2          1       1        1   \n",
              "2           3          1       1        1   \n",
              "3           4          1       1        1   \n",
              "4           5          1       1        1   \n",
              "\n",
              "                                            Sentence  \n",
              "0                                              Pilot  \n",
              "1                                          Scene One  \n",
              "2                             [Title: The Year 2030]  \n",
              "3  Narrator: Kids, I'm going to tell you an incre...  \n",
              "4          Son: Are we being punished for something?  "
            ]
          },
          "metadata": {
            "tags": []
          },
          "execution_count": 2
        }
      ]
    },
    {
      "metadata": {
        "id": "9oMZCn2jWfMr",
        "colab_type": "code",
        "colab": {}
      },
      "cell_type": "code",
      "source": [
        "df= data.loc[data['Season']==1]\n",
        "df=df.fillna(\"(\")"
      ],
      "execution_count": 0,
      "outputs": []
    },
    {
      "metadata": {
        "id": "CmdRQMJYWfMu",
        "colab_type": "code",
        "colab": {
          "base_uri": "https://localhost:8080/",
          "height": 88
        },
        "outputId": "ed6affe7-7765-4e57-a935-0ce85b88a9b7"
      },
      "cell_type": "code",
      "source": [
        "df['Character']=\"\"\n",
        "for sen,id in zip(df[\"Sentence\"],df[\"SentenceId\"]):\n",
        "    \n",
        "    if \"[\" is sen[0] or \"(\" is sen[0] or \"Scene\" in sen[0:5] or \":\" not in sen:\n",
        "        df = df.drop(df[df['Sentence']==sen].index)\n",
        "        \n",
        "    else:\n",
        "        value=\"\"\n",
        "        for c in sen:\n",
        "            if c==\":\":\n",
        "                df.set_value(id-1, 'Sentence', sen[len(value)+1:])\n",
        "                break\n",
        "                \n",
        "            else:\n",
        "                value+=c\n",
        "                \n",
        "        \n",
        "        if \"(\" in value:\n",
        "            index=value.index(\"(\")\n",
        "            value=value[:index-1]\n",
        "            \n",
        "        value=value.lower()    \n",
        "        #df.loc[df['Sentence'] == sen,'Character']=sen #setting the values\n",
        "        df.set_value(id-1, 'Character', value)\n",
        "\n",
        "#re arrange the order \n",
        "df = df[['SentenceId','EpisodeId','Season','Episode','Character','Sentence']]"
      ],
      "execution_count": 4,
      "outputs": [
        {
          "output_type": "stream",
          "text": [
            "/usr/local/lib/python3.6/dist-packages/ipykernel_launcher.py:11: FutureWarning: set_value is deprecated and will be removed in a future release. Please use .at[] or .iat[] accessors instead\n",
            "  # This is added back by InteractiveShellApp.init_path()\n",
            "/usr/local/lib/python3.6/dist-packages/ipykernel_launcher.py:24: FutureWarning: set_value is deprecated and will be removed in a future release. Please use .at[] or .iat[] accessors instead\n"
          ],
          "name": "stderr"
        }
      ]
    },
    {
      "metadata": {
        "id": "JQplgBJyWfMx",
        "colab_type": "code",
        "colab": {
          "base_uri": "https://localhost:8080/",
          "height": 204
        },
        "outputId": "0c229ae2-fb8a-45e6-96bd-543049b85ecd"
      },
      "cell_type": "code",
      "source": [
        "df[:5]"
      ],
      "execution_count": 5,
      "outputs": [
        {
          "output_type": "execute_result",
          "data": {
            "text/html": [
              "<div>\n",
              "<style scoped>\n",
              "    .dataframe tbody tr th:only-of-type {\n",
              "        vertical-align: middle;\n",
              "    }\n",
              "\n",
              "    .dataframe tbody tr th {\n",
              "        vertical-align: top;\n",
              "    }\n",
              "\n",
              "    .dataframe thead th {\n",
              "        text-align: right;\n",
              "    }\n",
              "</style>\n",
              "<table border=\"1\" class=\"dataframe\">\n",
              "  <thead>\n",
              "    <tr style=\"text-align: right;\">\n",
              "      <th></th>\n",
              "      <th>SentenceId</th>\n",
              "      <th>EpisodeId</th>\n",
              "      <th>Season</th>\n",
              "      <th>Episode</th>\n",
              "      <th>Character</th>\n",
              "      <th>Sentence</th>\n",
              "    </tr>\n",
              "  </thead>\n",
              "  <tbody>\n",
              "    <tr>\n",
              "      <th>3</th>\n",
              "      <td>4</td>\n",
              "      <td>1</td>\n",
              "      <td>1</td>\n",
              "      <td>1</td>\n",
              "      <td>narrator</td>\n",
              "      <td>Kids, I'm going to tell you an incredible sto...</td>\n",
              "    </tr>\n",
              "    <tr>\n",
              "      <th>4</th>\n",
              "      <td>5</td>\n",
              "      <td>1</td>\n",
              "      <td>1</td>\n",
              "      <td>1</td>\n",
              "      <td>son</td>\n",
              "      <td>Are we being punished for something?</td>\n",
              "    </tr>\n",
              "    <tr>\n",
              "      <th>5</th>\n",
              "      <td>6</td>\n",
              "      <td>1</td>\n",
              "      <td>1</td>\n",
              "      <td>1</td>\n",
              "      <td>narrator</td>\n",
              "      <td>No</td>\n",
              "    </tr>\n",
              "    <tr>\n",
              "      <th>6</th>\n",
              "      <td>7</td>\n",
              "      <td>1</td>\n",
              "      <td>1</td>\n",
              "      <td>1</td>\n",
              "      <td>daughter</td>\n",
              "      <td>Yeah, is this going to take a while?</td>\n",
              "    </tr>\n",
              "    <tr>\n",
              "      <th>7</th>\n",
              "      <td>8</td>\n",
              "      <td>1</td>\n",
              "      <td>1</td>\n",
              "      <td>1</td>\n",
              "      <td>narrator</td>\n",
              "      <td>Yes. (Kids are annoyed) Twenty-five years ago...</td>\n",
              "    </tr>\n",
              "  </tbody>\n",
              "</table>\n",
              "</div>"
            ],
            "text/plain": [
              "   SentenceId  EpisodeId  Season  Episode Character  \\\n",
              "3           4          1       1        1  narrator   \n",
              "4           5          1       1        1       son   \n",
              "5           6          1       1        1  narrator   \n",
              "6           7          1       1        1  daughter   \n",
              "7           8          1       1        1  narrator   \n",
              "\n",
              "                                            Sentence  \n",
              "3   Kids, I'm going to tell you an incredible sto...  \n",
              "4               Are we being punished for something?  \n",
              "5                                                 No  \n",
              "6               Yeah, is this going to take a while?  \n",
              "7   Yes. (Kids are annoyed) Twenty-five years ago...  "
            ]
          },
          "metadata": {
            "tags": []
          },
          "execution_count": 5
        }
      ]
    },
    {
      "metadata": {
        "id": "ocr_Ja2xWfM2",
        "colab_type": "code",
        "colab": {
          "base_uri": "https://localhost:8080/",
          "height": 390
        },
        "outputId": "1be6f5e9-0273-4f5d-cbcd-6681e0eb16a4"
      },
      "cell_type": "code",
      "source": [
        "# for labeling in plotting\n",
        "def autolabel(rects):\n",
        "    for rect in rects:\n",
        "        height = rect.get_height()\n",
        "        ax.text(rect.get_x() + rect.get_width()/2., 1.02*height,\n",
        "                '%d' % int(height),\n",
        "                ha='center', va='bottom')\n",
        "\n",
        "topchar=df.Character.value_counts()[:7]\n",
        "labels=np.array(topchar.keys())\n",
        "values=np.array(topchar)\n",
        "ind=np.arange(len(labels))\n",
        "\n",
        "fig,ax=plt.subplots()\n",
        "rects=ax.bar(ind,values,color='g')\n",
        "ax.set_xticklabels(labels,rotation='vertical')\n",
        "ax.set_xticks(ind)\n",
        "ax.set_ylabel(\"Count\")\n",
        "ax.set_title(\"Top characters with most dialogs\")\n",
        "autolabel(rects)\n",
        "plt.show()"
      ],
      "execution_count": 6,
      "outputs": [
        {
          "output_type": "display_data",
          "data": {
            "image/png": "[encoded data removed]",
            "text/plain": [
              "<matplotlib.figure.Figure at 0x7fcead0be0f0>"
            ]
          },
          "metadata": {
            "tags": []
          }
        }
      ]
    },
    {
      "metadata": {
        "id": "HmGSsukIWfM6",
        "colab_type": "code",
        "colab": {}
      },
      "cell_type": "code",
      "source": [
        "#pre processing the text \n",
        "import re\n",
        "def normalize_text(text):\n",
        "\n",
        "    text=text.lower()\n",
        "    text = re.sub('((www\\.[^\\s]+)|(https?://[^\\s]+)|(pic\\.twitter\\.com/[^\\s]+))','', text)\n",
        "    text = re.sub('@[^\\s]+','', text)\n",
        "    text = re.sub('#([^\\s]+)', '', text)\n",
        "    text = re.sub('[:;>?<=*+()&,\\-#!$%\\{˜|\\}\\[^_\\\\@\\]1234567890’‘]',' ', text)\n",
        "    text = re.sub('[\\d]','', text)\n",
        "    text = text.replace(\".\", '')\n",
        "    text = text.replace(\"'\", '')\n",
        "    text = text.replace(\"`\", '')\n",
        "    text = text.replace(\"'s\", '')\n",
        "    text = text.replace(\"/\", ' ')\n",
        "    text = text.replace(\"\\\"\", ' ')\n",
        "    text = text.replace(\"\\\\\", '')\n",
        "    re.sub(' +', ' ', text)\n",
        "    text=text.replace('\\n', ' ').replace('\\r', ' ').replace('\\t', ' ')\n",
        "    #normalize some utf8 encoding\n",
        "    text = text.replace(\"\\x9d\",'').replace(\"\\x8c\",'')\n",
        "    text = text.replace(\"\\xa0\",'')\n",
        "    text = text.replace(\"\\x9d\\x92\", '').replace(\"\\x9a\\xaa\\xf0\\x9f\\x94\\xb5\", '').replace(\"\\xf0\\x9f\\x91\\x8d\\x87\\xba\\xf0\\x9f\\x87\\xb8\", '').replace(\"\\x9f\",'').replace(\"\\x91\\x8d\",'')\n",
        "    text = text.replace(\"\\xf0\\x9f\\x87\\xba\\xf0\\x9f\\x87\\xb8\",'').replace(\"\\xf0\",'').replace('\\xf0x9f','').replace(\"\\x9f\\x91\\x8d\",'').replace(\"\\x87\\xba\\x87\\xb8\",'')\n",
        "    text = text.replace(\"\\xe2\\x80\\x94\",'').replace(\"\\x9d\\xa4\",'').replace(\"\\x96\\x91\",'').replace(\"\\xe1\\x91\\xac\\xc9\\x8c\\xce\\x90\\xc8\\xbb\\xef\\xbb\\x89\\xd4\\xbc\\xef\\xbb\\x89\\xc5\\xa0\\xc5\\xa0\\xc2\\xb8\",'')\n",
        "    text = text.replace(\"\\xe2\\x80\\x99s\", \"\").replace(\"\\xe2\\x80\\x98\", '').replace(\"\\xe2\\x80\\x99\", '').replace(\"\\xe2\\x80\\x9c\", \"\").replace(\"\\xe2\\x80\\x9d\", \"\")\n",
        "    text = text.replace(\"\\xe2\\x82\\xac\", \"\").replace(\"\\xc2\\xa3\", \"\").replace(\"\\xc2\\xa0\", \"\").replace(\"\\xc2\\xab\", \"\").replace(\"\\xf0\\x9f\\x94\\xb4\", \"\").replace(\"\\xf0\\x9f\\x87\\xba\\xf0\\x9f\\x87\\xb8\\xf0\\x9f\", \"\")\n",
        "    text =  re.sub(r\"\\b[a-z]\\b\", \"\", text)\n",
        "    text=re.sub( '\\s+', ' ', text).strip()\n",
        "    \n",
        "    text=re.sub(r'\\.+', \".\", text)\n",
        "    text=re.sub(r'\\.\\.+', ' ', text).replace('.', '')\n",
        "    # Replace multiple dots with space\n",
        "    text = re.sub('\\.\\.+', ' ', text) \n",
        "    # Remove single dots\n",
        "    text = re.sub('\\.', '', text)\n",
        "    text = re.sub(r'\\.{2,}', ' ', text)\n",
        "    text = re.sub(r'\\.{1}', '', text)\n",
        "    \n",
        "    return text"
      ],
      "execution_count": 0,
      "outputs": []
    },
    {
      "metadata": {
        "id": "-nJ30GEoWfNE",
        "colab_type": "code",
        "colab": {}
      },
      "cell_type": "code",
      "source": [
        "sentences=df[\"Sentence\"].tolist()\n",
        "normalized_sentences=[]\n",
        "for sentence in sentences:\n",
        "    norm_sent=normalize_text(sentence)\n",
        "    normalized_sentences.append(norm_sent)"
      ],
      "execution_count": 0,
      "outputs": []
    },
    {
      "metadata": {
        "id": "VNNv9O6uWfNG",
        "colab_type": "code",
        "colab": {
          "base_uri": "https://localhost:8080/",
          "height": 34
        },
        "outputId": "28f19a1e-d148-4dff-9edb-1cbe3bb3493f"
      },
      "cell_type": "code",
      "source": [
        "import collections\n",
        "# sentences to words and count\n",
        "words=\" \".join(normalized_sentences).split() \n",
        "count= collections.Counter(words).most_common() \n",
        "print (\"Word count\", count[:5])"
      ],
      "execution_count": 9,
      "outputs": [
        {
          "output_type": "stream",
          "text": [
            "Word count [('you', 2061), ('the', 1585), ('to', 1537), ('and', 1027), ('it', 839)]\n"
          ],
          "name": "stdout"
        }
      ]
    },
    {
      "metadata": {
        "id": "a_WDlYT8WfNK",
        "colab_type": "code",
        "colab": {}
      },
      "cell_type": "code",
      "source": [
        "# Build dictionaries\n",
        "unique_words =  [i[0] for i in count]\n",
        "dic = {w: i for i, w in enumerate(unique_words)} #dic, word -> id cats:0 dogs:1 ......\n",
        "voc_size = len(dic)"
      ],
      "execution_count": 0,
      "outputs": []
    },
    {
      "metadata": {
        "id": "7k8I44GCWfNO",
        "colab_type": "code",
        "colab": {
          "base_uri": "https://localhost:8080/",
          "height": 34
        },
        "outputId": "22b75ea2-5411-43d7-a3cf-fad4984519bf"
      },
      "cell_type": "code",
      "source": [
        "voc_size"
      ],
      "execution_count": 11,
      "outputs": [
        {
          "output_type": "execute_result",
          "data": {
            "text/plain": [
              "5057"
            ]
          },
          "metadata": {
            "tags": []
          },
          "execution_count": 11
        }
      ]
    },
    {
      "metadata": {
        "id": "PrYGkH6BWfNS",
        "colab_type": "code",
        "colab": {
          "base_uri": "https://localhost:8080/",
          "height": 34
        },
        "outputId": "6a2c1009-844e-4ec9-8f81-8da8918eecef"
      },
      "cell_type": "code",
      "source": [
        "# Make indexed word data\n",
        "data = [dic[word] for word in words] #count rank for every word in words\n",
        "print('Sample data', data[:10], words[:10])"
      ],
      "execution_count": 12,
      "outputs": [
        {
          "output_type": "stream",
          "text": [
            "Sample data [198, 8, 42, 2, 125, 0, 77, 839, 185, 1] ['kids', 'im', 'going', 'to', 'tell', 'you', 'an', 'incredible', 'story', 'the']\n"
          ],
          "name": "stdout"
        }
      ]
    },
    {
      "metadata": {
        "id": "4opbGoZPWfNV",
        "colab_type": "code",
        "colab": {
          "base_uri": "https://localhost:8080/",
          "height": 68
        },
        "outputId": "3e77de92-224d-4980-b317-1985a47d45f1"
      },
      "cell_type": "code",
      "source": [
        "# Let's make a training data for window size 1 for simplicity\n",
        "\n",
        "cbow_pairs = []\n",
        "for i in range(1, len(data)-1) :\n",
        "    cbow_pairs.append([[data[i-1], data[i+1]], data[i]]);\n",
        "    \n",
        "print('Context pairs rank ids', cbow_pairs[:5])\n",
        "print()\n",
        "\n",
        "cbow_pairs_words = []\n",
        "for i in range(1, len(words)-1) :\n",
        "    cbow_pairs_words.append([[words[i-1], words[i+1]], words[i]]);\n",
        "print('Context pairs words', cbow_pairs_words[:5])"
      ],
      "execution_count": 13,
      "outputs": [
        {
          "output_type": "stream",
          "text": [
            "Context pairs rank ids [[[198, 42], 8], [[8, 2], 42], [[42, 125], 2], [[2, 0], 125], [[125, 77], 0]]\n",
            "\n",
            "Context pairs words [[['kids', 'going'], 'im'], [['im', 'to'], 'going'], [['going', 'tell'], 'to'], [['to', 'you'], 'tell'], [['tell', 'an'], 'you']]\n"
          ],
          "name": "stdout"
        }
      ]
    },
    {
      "metadata": {
        "id": "DCgCTwxoWfNa",
        "colab_type": "code",
        "colab": {
          "base_uri": "https://localhost:8080/",
          "height": 68
        },
        "outputId": "9a03a4a9-6dbf-4132-e0f7-f4d2be444564"
      },
      "cell_type": "code",
      "source": [
        "# Let's make skip-gram pairs\n",
        "# (quick, the), (quick, brown), (brown, quick), (brown, fox), ...\n",
        "skip_gram_pairs=[]\n",
        "\n",
        "for c in cbow_pairs:\n",
        "    skip_gram_pairs.append([c[1],c[0][0]])\n",
        "    skip_gram_pairs.append([c[1],c[0][1]])\n",
        "print('skip-gram pairs', skip_gram_pairs[:5])\n",
        "print()\n",
        "skip_gram_pairs_words=[]\n",
        "for c in cbow_pairs_words:\n",
        "    skip_gram_pairs_words.append([c[1],c[0][0]])\n",
        "    skip_gram_pairs_words.append([c[1],c[0][1]])\n",
        "print('skip-gram pairs words', skip_gram_pairs_words[:5])"
      ],
      "execution_count": 14,
      "outputs": [
        {
          "output_type": "stream",
          "text": [
            "skip-gram pairs [[8, 198], [8, 42], [42, 8], [42, 2], [2, 42]]\n",
            "\n",
            "skip-gram pairs words [['im', 'kids'], ['im', 'going'], ['going', 'im'], ['going', 'to'], ['to', 'going']]\n"
          ],
          "name": "stdout"
        }
      ]
    },
    {
      "metadata": {
        "id": "jiNUIkEAWfNh",
        "colab_type": "code",
        "colab": {
          "base_uri": "https://localhost:8080/",
          "height": 34
        },
        "outputId": "1ab2eb42-f873-4d46-899c-25314ed73d97"
      },
      "cell_type": "code",
      "source": [
        "def get_batch(size):\n",
        "    assert size<len(skip_gram_pairs)\n",
        "    X=[]\n",
        "    Y=[]\n",
        "    rdm = np.random.choice(range(len(skip_gram_pairs)),size,replace=False)\n",
        "    \n",
        "    for r in rdm:\n",
        "        X.append(skip_gram_pairs[r][0])\n",
        "        Y.append([skip_gram_pairs[r][1]])\n",
        "    return X , Y\n",
        "\n",
        "# generate_batch test\n",
        "print ('Batches (x, y)', get_batch(3))"
      ],
      "execution_count": 15,
      "outputs": [
        {
          "output_type": "stream",
          "text": [
            "Batches (x, y) ([177, 312, 3], [[195], [12], [2]])\n"
          ],
          "name": "stdout"
        }
      ]
    },
    {
      "metadata": {
        "id": "vu5F6qprWfNl",
        "colab_type": "code",
        "colab": {}
      },
      "cell_type": "code",
      "source": [
        "#tensor flow code\n",
        "import tensorflow as tf\n",
        "\n",
        "batch_size = 20\n",
        "embedding_size = 2\n",
        "num_sampled = 15    # Number of negative examples to sample.\n",
        "\n",
        "X= tf.placeholder(tf.int32,shape=[batch_size]) #inputs\n",
        "Y= tf.placeholder(tf.int32,shape=[batch_size,1]) #labels\n",
        "\n",
        "with tf.device(\"/cpu:0\"):\n",
        "      # Look up embeddings for inputs.\n",
        "    embeddings = tf.Variable(tf.random_uniform([voc_size,embedding_size],-1.0,1.0))\n",
        "    embed = tf.nn.embedding_lookup(embeddings, X) # lookup table\n",
        "    \n",
        "# Construct the variables for the NCE loss\n",
        "nce_weights = tf.Variable(tf.random_uniform([voc_size, embedding_size],-1.0, 1.0))\n",
        "nce_biases = tf.Variable(tf.zeros([voc_size]))\n",
        "\n",
        "# Compute the average NCE loss for the batch.\n",
        "# This does the magic:\n",
        "#   tf.nn.nce_loss(weights, biases, inputs, labels, num_sampled, num_classes ...)\n",
        "# It automatically draws negative samples when we evaluate the loss.\n",
        "loss = tf.reduce_mean(tf.nn.nce_loss(nce_weights, nce_biases, Y, embed, num_sampled, voc_size))\n",
        "# Use the adam optimizer\n",
        "optimizer = tf.train.AdamOptimizer(1e-1).minimize(loss)"
      ],
      "execution_count": 0,
      "outputs": []
    },
    {
      "metadata": {
        "id": "yK_XhblwWfNr",
        "colab_type": "code",
        "colab": {
          "base_uri": "https://localhost:8080/",
          "height": 517
        },
        "outputId": "9c89c18c-517a-495e-f0e1-6b56896a554c"
      },
      "cell_type": "code",
      "source": [
        "epochs=10000\n",
        "with tf.Session() as sess:\n",
        "    sess.run(tf.global_variables_initializer())\n",
        "    \n",
        "    for epoch in range(epochs):\n",
        "        \n",
        "        batch_inputs, batch_labels = get_batch(batch_size)\n",
        "        _,loss_val=sess.run([optimizer,loss],feed_dict = {X : batch_inputs, Y : batch_labels })\n",
        "        \n",
        "        if epoch % 1000 == 0:\n",
        "            print(\"Loss at \", epoch, loss_val) # Report the loss\n",
        "    \n",
        "    # Final embeddings are ready for you to use. Need to normalize for practical use\n",
        "    trained_embeddings = embeddings.eval()\n",
        "    \n",
        "\n",
        "import matplotlib.pyplot as plt\n",
        "# Show word2vec if dim is 2\n",
        "if trained_embeddings.shape[1] == 2:\n",
        "    labels = unique_words[:50] # Show top 10 words\n",
        "    for i, label in enumerate(labels):\n",
        "        x, y = trained_embeddings[i,:]\n",
        "        plt.scatter(x, y)\n",
        "        plt.annotate(label, xy=(x, y), xytext=(5, 2),\n",
        "            textcoords='offset points', ha='right', va='bottom')\n",
        "    #plt.savefig(\"word2vec.png\")\n",
        "    plt.show()"
      ],
      "execution_count": 17,
      "outputs": [
        {
          "output_type": "stream",
          "text": [
            "Loss at  0 61.676186\n",
            "Loss at  1000 18.395035\n",
            "Loss at  2000 6.0951877\n",
            "Loss at  3000 21.366167\n",
            "Loss at  4000 5.5646486\n",
            "Loss at  5000 5.221749\n",
            "Loss at  6000 12.625856\n",
            "Loss at  7000 7.557269\n",
            "Loss at  8000 10.118664\n",
            "Loss at  9000 12.341404\n"
          ],
          "name": "stdout"
        },
        {
          "output_type": "display_data",
          "data": {
            "image/png": "[encoded data removed]",
            "text/plain": [
              "<matplotlib.figure.Figure at 0x7fce989c2e10>"
            ]
          },
          "metadata": {
            "tags": []
          }
        }
      ]
    },
    {
      "metadata": {
        "id": "NLizq5FfWfNz",
        "colab_type": "code",
        "colab": {
          "base_uri": "https://localhost:8080/",
          "height": 347
        },
        "outputId": "06c9431f-981f-45d2-8cd1-fd85b4552ccd"
      },
      "cell_type": "code",
      "source": [
        "import matplotlib.pyplot as plt\n",
        "# Show word2vec if dim is 2\n",
        "if trained_embeddings.shape[1] == 2:\n",
        "    labels = unique_words[30:60] # Show top 10 words\n",
        "    for i, label in enumerate(labels):\n",
        "        x, y = trained_embeddings[i,:]\n",
        "        plt.scatter(x, y)\n",
        "        plt.annotate(label, xy=(x, y), xytext=(5, 2),\n",
        "            textcoords='offset points', ha='right', va='bottom')\n",
        "    #plt.savefig(\"word2vec.png\")\n",
        "    plt.show()"
      ],
      "execution_count": 18,
      "outputs": [
        {
          "output_type": "display_data",
          "data": {
            "image/png": "[encoded data removed]",
            "text/plain": [
              "<matplotlib.figure.Figure at 0x7fceacb4a4a8>"
            ]
          },
          "metadata": {
            "tags": []
          }
        }
      ]
    },
    {
      "metadata": {
        "id": "BsgXTfaeWfN4",
        "colab_type": "code",
        "colab": {}
      },
      "cell_type": "code",
      "source": [
        ""
      ],
      "execution_count": 0,
      "outputs": []
    }
  ]
}