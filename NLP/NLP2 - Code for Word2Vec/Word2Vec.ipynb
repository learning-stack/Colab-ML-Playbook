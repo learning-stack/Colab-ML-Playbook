{
 "cells": [
  {
   "cell_type": "markdown",
   "metadata": {
    "collapsed": true
   },
   "source": [
    "## Word 2 Vec"
   ]
  },
  {
   "cell_type": "code",
   "execution_count": 1,
   "metadata": {
    "collapsed": false
   },
   "outputs": [],
   "source": [
    "import numpy as np\n",
    "import matplotlib.pyplot as plt\n",
    "import pandas as pd\n",
    "\n",
    "filename=\"C:/Users/Madhu/Desktop/\"\n",
    "data = pd.read_csv(filename+'sentences.csv')"
   ]
  },
  {
   "cell_type": "code",
   "execution_count": 2,
   "metadata": {
    "collapsed": false
   },
   "outputs": [
    {
     "data": {
      "text/html": [
       "<div>\n",
       "<style>\n",
       "    .dataframe thead tr:only-child th {\n",
       "        text-align: right;\n",
       "    }\n",
       "\n",
       "    .dataframe thead th {\n",
       "        text-align: left;\n",
       "    }\n",
       "\n",
       "    .dataframe tbody tr th {\n",
       "        vertical-align: top;\n",
       "    }\n",
       "</style>\n",
       "<table border=\"1\" class=\"dataframe\">\n",
       "  <thead>\n",
       "    <tr style=\"text-align: right;\">\n",
       "      <th></th>\n",
       "      <th>SentenceId</th>\n",
       "      <th>EpisodeId</th>\n",
       "      <th>Season</th>\n",
       "      <th>Episode</th>\n",
       "      <th>Sentence</th>\n",
       "    </tr>\n",
       "  </thead>\n",
       "  <tbody>\n",
       "    <tr>\n",
       "      <th>0</th>\n",
       "      <td>1</td>\n",
       "      <td>1</td>\n",
       "      <td>1</td>\n",
       "      <td>1</td>\n",
       "      <td>Pilot</td>\n",
       "    </tr>\n",
       "    <tr>\n",
       "      <th>1</th>\n",
       "      <td>2</td>\n",
       "      <td>1</td>\n",
       "      <td>1</td>\n",
       "      <td>1</td>\n",
       "      <td>Scene One</td>\n",
       "    </tr>\n",
       "    <tr>\n",
       "      <th>2</th>\n",
       "      <td>3</td>\n",
       "      <td>1</td>\n",
       "      <td>1</td>\n",
       "      <td>1</td>\n",
       "      <td>[Title: The Year 2030]</td>\n",
       "    </tr>\n",
       "    <tr>\n",
       "      <th>3</th>\n",
       "      <td>4</td>\n",
       "      <td>1</td>\n",
       "      <td>1</td>\n",
       "      <td>1</td>\n",
       "      <td>Narrator: Kids, I'm going to tell you an incre...</td>\n",
       "    </tr>\n",
       "    <tr>\n",
       "      <th>4</th>\n",
       "      <td>5</td>\n",
       "      <td>1</td>\n",
       "      <td>1</td>\n",
       "      <td>1</td>\n",
       "      <td>Son: Are we being punished for something?</td>\n",
       "    </tr>\n",
       "  </tbody>\n",
       "</table>\n",
       "</div>"
      ],
      "text/plain": [
       "   SentenceId  EpisodeId  Season  Episode  \\\n",
       "0           1          1       1        1   \n",
       "1           2          1       1        1   \n",
       "2           3          1       1        1   \n",
       "3           4          1       1        1   \n",
       "4           5          1       1        1   \n",
       "\n",
       "                                            Sentence  \n",
       "0                                              Pilot  \n",
       "1                                          Scene One  \n",
       "2                             [Title: The Year 2030]  \n",
       "3  Narrator: Kids, I'm going to tell you an incre...  \n",
       "4          Son: Are we being punished for something?  "
      ]
     },
     "execution_count": 2,
     "metadata": {},
     "output_type": "execute_result"
    }
   ],
   "source": [
    "data.head()"
   ]
  },
  {
   "cell_type": "code",
   "execution_count": 3,
   "metadata": {
    "collapsed": false
   },
   "outputs": [],
   "source": [
    "df= data.loc[data['Season']==1]\n",
    "df=df.fillna(\"(\")"
   ]
  },
  {
   "cell_type": "code",
   "execution_count": 4,
   "metadata": {
    "collapsed": false
   },
   "outputs": [],
   "source": [
    "df['Character']=\"\"\n",
    "for sen,id in zip(df[\"Sentence\"],df[\"SentenceId\"]):\n",
    "    \n",
    "    if \"[\" is sen[0] or \"(\" is sen[0] or \"Scene\" in sen[0:5] or \":\" not in sen:\n",
    "        df = df.drop(df[df['Sentence']==sen].index)\n",
    "        \n",
    "    else:\n",
    "        value=\"\"\n",
    "        for c in sen:\n",
    "            if c==\":\":\n",
    "                df.set_value(id-1, 'Sentence', sen[len(value)+1:])\n",
    "                break\n",
    "                \n",
    "            else:\n",
    "                value+=c\n",
    "                \n",
    "        \n",
    "        if \"(\" in value:\n",
    "            index=value.index(\"(\")\n",
    "            value=value[:index-1]\n",
    "            \n",
    "        value=value.lower()    \n",
    "        #df.loc[df['Sentence'] == sen,'Character']=sen #setting the values\n",
    "        df.set_value(id-1, 'Character', value)\n",
    "\n",
    "#re arrange the order \n",
    "df = df[['SentenceId','EpisodeId','Season','Episode','Character','Sentence']]"
   ]
  },
  {
   "cell_type": "code",
   "execution_count": 5,
   "metadata": {
    "collapsed": false
   },
   "outputs": [
    {
     "data": {
      "text/html": [
       "<div>\n",
       "<style>\n",
       "    .dataframe thead tr:only-child th {\n",
       "        text-align: right;\n",
       "    }\n",
       "\n",
       "    .dataframe thead th {\n",
       "        text-align: left;\n",
       "    }\n",
       "\n",
       "    .dataframe tbody tr th {\n",
       "        vertical-align: top;\n",
       "    }\n",
       "</style>\n",
       "<table border=\"1\" class=\"dataframe\">\n",
       "  <thead>\n",
       "    <tr style=\"text-align: right;\">\n",
       "      <th></th>\n",
       "      <th>SentenceId</th>\n",
       "      <th>EpisodeId</th>\n",
       "      <th>Season</th>\n",
       "      <th>Episode</th>\n",
       "      <th>Character</th>\n",
       "      <th>Sentence</th>\n",
       "    </tr>\n",
       "  </thead>\n",
       "  <tbody>\n",
       "    <tr>\n",
       "      <th>3</th>\n",
       "      <td>4</td>\n",
       "      <td>1</td>\n",
       "      <td>1</td>\n",
       "      <td>1</td>\n",
       "      <td>narrator</td>\n",
       "      <td>Kids, I'm going to tell you an incredible sto...</td>\n",
       "    </tr>\n",
       "    <tr>\n",
       "      <th>4</th>\n",
       "      <td>5</td>\n",
       "      <td>1</td>\n",
       "      <td>1</td>\n",
       "      <td>1</td>\n",
       "      <td>son</td>\n",
       "      <td>Are we being punished for something?</td>\n",
       "    </tr>\n",
       "    <tr>\n",
       "      <th>5</th>\n",
       "      <td>6</td>\n",
       "      <td>1</td>\n",
       "      <td>1</td>\n",
       "      <td>1</td>\n",
       "      <td>narrator</td>\n",
       "      <td>No</td>\n",
       "    </tr>\n",
       "    <tr>\n",
       "      <th>6</th>\n",
       "      <td>7</td>\n",
       "      <td>1</td>\n",
       "      <td>1</td>\n",
       "      <td>1</td>\n",
       "      <td>daughter</td>\n",
       "      <td>Yeah, is this going to take a while?</td>\n",
       "    </tr>\n",
       "    <tr>\n",
       "      <th>7</th>\n",
       "      <td>8</td>\n",
       "      <td>1</td>\n",
       "      <td>1</td>\n",
       "      <td>1</td>\n",
       "      <td>narrator</td>\n",
       "      <td>Yes. (Kids are annoyed) Twenty-five years ago...</td>\n",
       "    </tr>\n",
       "  </tbody>\n",
       "</table>\n",
       "</div>"
      ],
      "text/plain": [
       "   SentenceId  EpisodeId  Season  Episode Character  \\\n",
       "3           4          1       1        1  narrator   \n",
       "4           5          1       1        1       son   \n",
       "5           6          1       1        1  narrator   \n",
       "6           7          1       1        1  daughter   \n",
       "7           8          1       1        1  narrator   \n",
       "\n",
       "                                            Sentence  \n",
       "3   Kids, I'm going to tell you an incredible sto...  \n",
       "4               Are we being punished for something?  \n",
       "5                                                 No  \n",
       "6               Yeah, is this going to take a while?  \n",
       "7   Yes. (Kids are annoyed) Twenty-five years ago...  "
      ]
     },
     "execution_count": 5,
     "metadata": {},
     "output_type": "execute_result"
    }
   ],
   "source": [
    "df[:5]"
   ]
  },
  {
   "cell_type": "code",
   "execution_count": 6,
   "metadata": {
    "collapsed": false
   },
   "outputs": [
    {
     "data": {
      "image/png": "[encoded data removed]",
      "text/plain": [
       "<matplotlib.figure.Figure at 0x20303168da0>"
      ]
     },
     "metadata": {},
     "output_type": "display_data"
    }
   ],
   "source": [
    "# for labeling in plotting\n",
    "def autolabel(rects):\n",
    "    for rect in rects:\n",
    "        height = rect.get_height()\n",
    "        ax.text(rect.get_x() + rect.get_width()/2., 1.02*height,\n",
    "                '%d' % int(height),\n",
    "                ha='center', va='bottom')\n",
    "\n",
    "topchar=df.Character.value_counts()[:7]\n",
    "labels=np.array(topchar.keys())\n",
    "values=np.array(topchar)\n",
    "ind=np.arange(len(labels))\n",
    "\n",
    "fig,ax=plt.subplots()\n",
    "rects=ax.bar(ind,values,color='g')\n",
    "ax.set_xticklabels(labels,rotation='vertical')\n",
    "ax.set_xticks(ind)\n",
    "ax.set_ylabel(\"Count\")\n",
    "ax.set_title(\"Top characters with most dialogs\")\n",
    "autolabel(rects)\n",
    "plt.show()"
   ]
  },
  {
   "cell_type": "code",
   "execution_count": 7,
   "metadata": {
    "collapsed": false
   },
   "outputs": [],
   "source": [
    "#pre processing the text \n",
    "import re\n",
    "def normalize_text(text):\n",
    "\n",
    "    text=text.lower()\n",
    "    text = re.sub('((www\\.[^\\s]+)|(https?://[^\\s]+)|(pic\\.twitter\\.com/[^\\s]+))','', text)\n",
    "    text = re.sub('@[^\\s]+','', text)\n",
    "    text = re.sub('#([^\\s]+)', '', text)\n",
    "    text = re.sub('[:;>?<=*+()&,\\-#!$%\\{˜|\\}\\[^_\\\\@\\]1234567890’‘]',' ', text)\n",
    "    text = re.sub('[\\d]','', text)\n",
    "    text = text.replace(\".\", '')\n",
    "    text = text.replace(\"'\", '')\n",
    "    text = text.replace(\"`\", '')\n",
    "    text = text.replace(\"'s\", '')\n",
    "    text = text.replace(\"/\", ' ')\n",
    "    text = text.replace(\"\\\"\", ' ')\n",
    "    text = text.replace(\"\\\\\", '')\n",
    "    re.sub(' +', ' ', text)\n",
    "    text=text.replace('\\n', ' ').replace('\\r', ' ').replace('\\t', ' ')\n",
    "    #normalize some utf8 encoding\n",
    "    text = text.replace(\"\\x9d\",'').replace(\"\\x8c\",'')\n",
    "    text = text.replace(\"\\xa0\",'')\n",
    "    text = text.replace(\"\\x9d\\x92\", '').replace(\"\\x9a\\xaa\\xf0\\x9f\\x94\\xb5\", '').replace(\"\\xf0\\x9f\\x91\\x8d\\x87\\xba\\xf0\\x9f\\x87\\xb8\", '').replace(\"\\x9f\",'').replace(\"\\x91\\x8d\",'')\n",
    "    text = text.replace(\"\\xf0\\x9f\\x87\\xba\\xf0\\x9f\\x87\\xb8\",'').replace(\"\\xf0\",'').replace('\\xf0x9f','').replace(\"\\x9f\\x91\\x8d\",'').replace(\"\\x87\\xba\\x87\\xb8\",'')\n",
    "    text = text.replace(\"\\xe2\\x80\\x94\",'').replace(\"\\x9d\\xa4\",'').replace(\"\\x96\\x91\",'').replace(\"\\xe1\\x91\\xac\\xc9\\x8c\\xce\\x90\\xc8\\xbb\\xef\\xbb\\x89\\xd4\\xbc\\xef\\xbb\\x89\\xc5\\xa0\\xc5\\xa0\\xc2\\xb8\",'')\n",
    "    text = text.replace(\"\\xe2\\x80\\x99s\", \"\").replace(\"\\xe2\\x80\\x98\", '').replace(\"\\xe2\\x80\\x99\", '').replace(\"\\xe2\\x80\\x9c\", \"\").replace(\"\\xe2\\x80\\x9d\", \"\")\n",
    "    text = text.replace(\"\\xe2\\x82\\xac\", \"\").replace(\"\\xc2\\xa3\", \"\").replace(\"\\xc2\\xa0\", \"\").replace(\"\\xc2\\xab\", \"\").replace(\"\\xf0\\x9f\\x94\\xb4\", \"\").replace(\"\\xf0\\x9f\\x87\\xba\\xf0\\x9f\\x87\\xb8\\xf0\\x9f\", \"\")\n",
    "    text =  re.sub(r\"\\b[a-z]\\b\", \"\", text)\n",
    "    text=re.sub( '\\s+', ' ', text).strip()\n",
    "    \n",
    "    text=re.sub(r'\\.+', \".\", text)\n",
    "    text=re.sub(r'\\.\\.+', ' ', text).replace('.', '')\n",
    "    # Replace multiple dots with space\n",
    "    text = re.sub('\\.\\.+', ' ', text) \n",
    "    # Remove single dots\n",
    "    text = re.sub('\\.', '', text)\n",
    "    text = re.sub(r'\\.{2,}', ' ', text)\n",
    "    text = re.sub(r'\\.{1}', '', text)\n",
    "    \n",
    "    return text"
   ]
  },
  {
   "cell_type": "code",
   "execution_count": 8,
   "metadata": {
    "collapsed": false
   },
   "outputs": [],
   "source": [
    "sentences=df[\"Sentence\"].tolist()\n",
    "normalized_sentences=[]\n",
    "for sentence in sentences:\n",
    "    norm_sent=normalize_text(sentence)\n",
    "    normalized_sentences.append(norm_sent)"
   ]
  },
  {
   "cell_type": "code",
   "execution_count": 9,
   "metadata": {
    "collapsed": false
   },
   "outputs": [
    {
     "name": "stdout",
     "output_type": "stream",
     "text": [
      "Word count [('you', 2061), ('the', 1585), ('to', 1537), ('and', 1027), ('it', 839)]\n"
     ]
    }
   ],
   "source": [
    "import collections\n",
    "# sentences to words and count\n",
    "words=\" \".join(normalized_sentences).split() \n",
    "count= collections.Counter(words).most_common() \n",
    "print (\"Word count\", count[:5])"
   ]
  },
  {
   "cell_type": "code",
   "execution_count": 10,
   "metadata": {
    "collapsed": true
   },
   "outputs": [],
   "source": [
    "# Build dictionaries\n",
    "unique_words =  [i[0] for i in count]\n",
    "dic = {w: i for i, w in enumerate(unique_words)} #dic, word -> id cats:0 dogs:1 ......\n",
    "voc_size = len(dic)"
   ]
  },
  {
   "cell_type": "code",
   "execution_count": 11,
   "metadata": {
    "collapsed": false
   },
   "outputs": [
    {
     "data": {
      "text/plain": [
       "5057"
      ]
     },
     "execution_count": 11,
     "metadata": {},
     "output_type": "execute_result"
    }
   ],
   "source": [
    "voc_size"
   ]
  },
  {
   "cell_type": "code",
   "execution_count": 12,
   "metadata": {
    "collapsed": false
   },
   "outputs": [
    {
     "name": "stdout",
     "output_type": "stream",
     "text": [
      "Sample data [198, 8, 42, 2, 125, 0, 77, 839, 185, 1] ['kids', 'im', 'going', 'to', 'tell', 'you', 'an', 'incredible', 'story', 'the']\n"
     ]
    }
   ],
   "source": [
    "# Make indexed word data\n",
    "data = [dic[word] for word in words] #count rank for every word in words\n",
    "print('Sample data', data[:10], words[:10])"
   ]
  },
  {
   "cell_type": "code",
   "execution_count": 13,
   "metadata": {
    "collapsed": false
   },
   "outputs": [
    {
     "name": "stdout",
     "output_type": "stream",
     "text": [
      "Context pairs rank ids [[[198, 42], 8], [[8, 2], 42], [[42, 125], 2], [[2, 0], 125], [[125, 77], 0]]\n",
      "\n",
      "Context pairs words [[['kids', 'going'], 'im'], [['im', 'to'], 'going'], [['going', 'tell'], 'to'], [['to', 'you'], 'tell'], [['tell', 'an'], 'you']]\n"
     ]
    }
   ],
   "source": [
    "# Let's make a training data for window size 1 for simplicity\n",
    "\n",
    "cbow_pairs = []\n",
    "for i in range(1, len(data)-1) :\n",
    "    cbow_pairs.append([[data[i-1], data[i+1]], data[i]]);\n",
    "    \n",
    "print('Context pairs rank ids', cbow_pairs[:5])\n",
    "print()\n",
    "\n",
    "cbow_pairs_words = []\n",
    "for i in range(1, len(words)-1) :\n",
    "    cbow_pairs_words.append([[words[i-1], words[i+1]], words[i]]);\n",
    "print('Context pairs words', cbow_pairs_words[:5])"
   ]
  },
  {
   "cell_type": "code",
   "execution_count": 14,
   "metadata": {
    "collapsed": false
   },
   "outputs": [
    {
     "name": "stdout",
     "output_type": "stream",
     "text": [
      "skip-gram pairs [[8, 198], [8, 42], [42, 8], [42, 2], [2, 42]]\n",
      "\n",
      "skip-gram pairs words [['im', 'kids'], ['im', 'going'], ['going', 'im'], ['going', 'to'], ['to', 'going']]\n"
     ]
    }
   ],
   "source": [
    "# Let's make skip-gram pairs\n",
    "# (quick, the), (quick, brown), (brown, quick), (brown, fox), ...\n",
    "skip_gram_pairs=[]\n",
    "\n",
    "for c in cbow_pairs:\n",
    "    skip_gram_pairs.append([c[1],c[0][0]])\n",
    "    skip_gram_pairs.append([c[1],c[0][1]])\n",
    "print('skip-gram pairs', skip_gram_pairs[:5])\n",
    "print()\n",
    "skip_gram_pairs_words=[]\n",
    "for c in cbow_pairs_words:\n",
    "    skip_gram_pairs_words.append([c[1],c[0][0]])\n",
    "    skip_gram_pairs_words.append([c[1],c[0][1]])\n",
    "print('skip-gram pairs words', skip_gram_pairs_words[:5])"
   ]
  },
  {
   "cell_type": "code",
   "execution_count": 15,
   "metadata": {
    "collapsed": false
   },
   "outputs": [
    {
     "name": "stdout",
     "output_type": "stream",
     "text": [
      "Batches (x, y) ([51, 15, 281], [[1347], [11], [106]])\n"
     ]
    }
   ],
   "source": [
    "def get_batch(size):\n",
    "    assert size<len(skip_gram_pairs)\n",
    "    X=[]\n",
    "    Y=[]\n",
    "    rdm = np.random.choice(range(len(skip_gram_pairs)),size,replace=False)\n",
    "    \n",
    "    for r in rdm:\n",
    "        X.append(skip_gram_pairs[r][0])\n",
    "        Y.append([skip_gram_pairs[r][1]])\n",
    "    return X , Y\n",
    "\n",
    "# generate_batch test\n",
    "print ('Batches (x, y)', get_batch(3))"
   ]
  },
  {
   "cell_type": "code",
   "execution_count": 16,
   "metadata": {
    "collapsed": true
   },
   "outputs": [],
   "source": [
    "#tensor flow code\n",
    "import tensorflow as tf\n",
    "\n",
    "batch_size = 20\n",
    "embedding_size = 2\n",
    "num_sampled = 15    # Number of negative examples to sample.\n",
    "\n",
    "X= tf.placeholder(tf.int32,shape=[batch_size]) #inputs\n",
    "Y= tf.placeholder(tf.int32,shape=[batch_size,1]) #labels\n",
    "\n",
    "with tf.device(\"/cpu:0\"):\n",
    "      # Look up embeddings for inputs.\n",
    "    embeddings = tf.Variable(tf.random_uniform([voc_size,embedding_size],-1.0,1.0))\n",
    "    embed = tf.nn.embedding_lookup(embeddings, X) # lookup table\n",
    "    \n",
    "# Construct the variables for the NCE loss\n",
    "nce_weights = tf.Variable(tf.random_uniform([voc_size, embedding_size],-1.0, 1.0))\n",
    "nce_biases = tf.Variable(tf.zeros([voc_size]))\n",
    "\n",
    "# Compute the average NCE loss for the batch.\n",
    "# This does the magic:\n",
    "#   tf.nn.nce_loss(weights, biases, inputs, labels, num_sampled, num_classes ...)\n",
    "# It automatically draws negative samples when we evaluate the loss.\n",
    "loss = tf.reduce_mean(tf.nn.nce_loss(nce_weights, nce_biases, Y, embed, num_sampled, voc_size))\n",
    "# Use the adam optimizer\n",
    "optimizer = tf.train.AdamOptimizer(1e-1).minimize(loss)"
   ]
  },
  {
   "cell_type": "code",
   "execution_count": 20,
   "metadata": {
    "collapsed": false
   },
   "outputs": [
    {
     "name": "stdout",
     "output_type": "stream",
     "text": [
      "Loss at  0 67.6239\n",
      "Loss at  1000 27.5269\n",
      "Loss at  2000 11.6259\n",
      "Loss at  3000 8.19029\n",
      "Loss at  4000 4.84377\n",
      "Loss at  5000 5.21787\n",
      "Loss at  6000 5.9497\n",
      "Loss at  7000 5.17859\n",
      "Loss at  8000 7.05449\n",
      "Loss at  9000 4.89466\n"
     ]
    },
    {
     "data": {
      "image/png": "[encoded data removed]",
      "text/plain": [
       "<matplotlib.figure.Figure at 0x2030ac33da0>"
      ]
     },
     "metadata": {},
     "output_type": "display_data"
    }
   ],
   "source": [
    "epochs=10000\n",
    "with tf.Session() as sess:\n",
    "    sess.run(tf.global_variables_initializer())\n",
    "    \n",
    "    for epoch in range(epochs):\n",
    "        \n",
    "        batch_inputs, batch_labels = get_batch(batch_size)\n",
    "        _,loss_val=sess.run([optimizer,loss],feed_dict = {X : batch_inputs, Y : batch_labels })\n",
    "        \n",
    "        if epoch % 1000 == 0:\n",
    "            print(\"Loss at \", epoch, loss_val) # Report the loss\n",
    "    \n",
    "    # Final embeddings are ready for you to use. Need to normalize for practical use\n",
    "    trained_embeddings = embeddings.eval()\n",
    "    \n",
    "\n",
    "import matplotlib.pyplot as plt\n",
    "# Show word2vec if dim is 2\n",
    "if trained_embeddings.shape[1] == 2:\n",
    "    labels = unique_words[:50] # Show top 10 words\n",
    "    for i, label in enumerate(labels):\n",
    "        x, y = trained_embeddings[i,:]\n",
    "        plt.scatter(x, y)\n",
    "        plt.annotate(label, xy=(x, y), xytext=(5, 2),\n",
    "            textcoords='offset points', ha='right', va='bottom')\n",
    "    #plt.savefig(\"word2vec.png\")\n",
    "    plt.show()"
   ]
  },
  {
   "cell_type": "code",
   "execution_count": 26,
   "metadata": {
    "collapsed": false
   },
   "outputs": [
    {
     "data": {
      "image/png": "[encoded data removed]",
      "text/plain": [
       "<matplotlib.figure.Figure at 0x2030b56e198>"
      ]
     },
     "metadata": {},
     "output_type": "display_data"
    }
   ],
   "source": [
    "import matplotlib.pyplot as plt\n",
    "# Show word2vec if dim is 2\n",
    "if trained_embeddings.shape[1] == 2:\n",
    "    labels = unique_words[30:60] # Show top 10 words\n",
    "    for i, label in enumerate(labels):\n",
    "        x, y = trained_embeddings[i,:]\n",
    "        plt.scatter(x, y)\n",
    "        plt.annotate(label, xy=(x, y), xytext=(5, 2),\n",
    "            textcoords='offset points', ha='right', va='bottom')\n",
    "    #plt.savefig(\"word2vec.png\")\n",
    "    plt.show()"
   ]
  },
  {
   "cell_type": "code",
   "execution_count": null,
   "metadata": {
    "collapsed": true
   },
   "outputs": [],
   "source": []
  }
 ],
 "metadata": {
  "kernelspec": {
   "display_name": "Python 3",
   "language": "python",
   "name": "python3"
  },
  "language_info": {
   "codemirror_mode": {
    "name": "ipython",
    "version": 3
   },
   "file_extension": ".py",
   "mimetype": "text/x-python",
   "name": "python",
   "nbconvert_exporter": "python",
   "pygments_lexer": "ipython3",
   "version": "3.6.0"
  }
 },
 "nbformat": 4,
 "nbformat_minor": 2
}