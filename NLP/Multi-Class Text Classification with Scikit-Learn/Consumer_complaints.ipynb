{
  "nbformat": 4,
  "nbformat_minor": 0,
  "metadata": {
    "colab": {
      "name": "Consumer_complaints.ipynb",
      "version": "0.3.2",
      "provenance": []
    },
    "kernelspec": {
      "name": "python3",
      "display_name": "Python 3"
    },
    "accelerator": "TPU"
  },
  "cells": [
    {
      "metadata": {
        "id": "nz0Dv9IatggY",
        "colab_type": "text"
      },
      "cell_type": "markdown",
      "source": [
        "#Multi-Class Text Classification with Scikit-Learn\n",
        "## by Susan Li"
      ]
    },
    {
      "metadata": {
        "id": "621oOx4StxS2",
        "colab_type": "text"
      },
      "cell_type": "markdown",
      "source": [
        "https://towardsdatascience.com/multi-class-text-classification-with-scikit-learn-12f1e60e0a9f"
      ]
    },
    {
      "metadata": {
        "id": "mCEgXpbGtzv2",
        "colab_type": "text"
      },
      "cell_type": "markdown",
      "source": [
        "<table class=\"tfo-notebook-buttons\" align=\"left\">\n",
        "  <td>\n",
        "    <a target=\"_blank\" href=\"https://colab.research.google.com/github/learning-stack/Colab-ML-Playbook/blob/master/NLP/Multi-Class%20Text%20Classification%20with%20Scikit-Learn/Consumer_complaints.ipynb\"><img src=\"https://www.tensorflow.org/images/colab_logo_32px.png\" />Run in Google Colab</a>\n",
        "  </td>\n",
        "  <td>\n",
        "    <a target=\"_blank\" href=\"https://github.com/learning-stack/Colab-ML-Playbook/blob/master/NLP/Multi-Class%20Text%20Classification%20with%20Scikit-Learn/Consumer_complaints.ipynb\"><img src=\"https://www.tensorflow.org/images/GitHub-Mark-32px.png\" />View source on GitHub</a>\n",
        "  </td>\n",
        "</table>"
      ]
    },
    {
      "metadata": {
        "id": "IDVWBl6yvKeY",
        "colab_type": "code",
        "colab": {
          "base_uri": "https://localhost:8080/",
          "height": 204
        },
        "outputId": "962c108e-8f3a-471a-8311-187d5a0967aa"
      },
      "cell_type": "code",
      "source": [
        "!wget https://data.consumerfinance.gov/api/views/s6ew-h6mp/rows.csv?accessType=DOWNLOAD"
      ],
      "execution_count": 1,
      "outputs": [
        {
          "output_type": "stream",
          "text": [
            "--2018-12-31 14:59:36--  https://data.consumerfinance.gov/api/views/s6ew-h6mp/rows.csv?accessType=DOWNLOAD\n",
            "Resolving data.consumerfinance.gov (data.consumerfinance.gov)... 52.206.68.26, 52.206.140.199, 52.206.140.205\n",
            "Connecting to data.consumerfinance.gov (data.consumerfinance.gov)|52.206.68.26|:443... connected.\n",
            "HTTP request sent, awaiting response... 200 OK\n",
            "Length: unspecified [text/csv]\n",
            "Saving to: ‘rows.csv?accessType=DOWNLOAD’\n",
            "\n",
            "rows.csv?accessType     [      <=>           ] 644.82M  4.96MB/s    in 90s     \n",
            "\n",
            "2018-12-31 15:01:09 (7.15 MB/s) - ‘rows.csv?accessType=DOWNLOAD’ saved [676147933]\n",
            "\n"
          ],
          "name": "stdout"
        }
      ]
    },
    {
      "metadata": {
        "id": "Bcx8Lns9te-i",
        "colab_type": "code",
        "outputId": "e7a917b4-6fcb-4c72-f4ff-b6ee5614c3e6",
        "colab": {
          "base_uri": "https://localhost:8080/",
          "height": 581
        }
      },
      "cell_type": "code",
      "source": [
        "import pandas as pd\n",
        "df = pd.read_csv('rows.csv?accessType=DOWNLOAD', nrows=30000)\n",
        "df.head()"
      ],
      "execution_count": 23,
      "outputs": [
        {
          "output_type": "execute_result",
          "data": {
            "text/html": [
              "<div>\n",
              "<style scoped>\n",
              "    .dataframe tbody tr th:only-of-type {\n",
              "        vertical-align: middle;\n",
              "    }\n",
              "\n",
              "    .dataframe tbody tr th {\n",
              "        vertical-align: top;\n",
              "    }\n",
              "\n",
              "    .dataframe thead th {\n",
              "        text-align: right;\n",
              "    }\n",
              "</style>\n",
              "<table border=\"1\" class=\"dataframe\">\n",
              "  <thead>\n",
              "    <tr style=\"text-align: right;\">\n",
              "      <th></th>\n",
              "      <th>Date received</th>\n",
              "      <th>Product</th>\n",
              "      <th>Sub-product</th>\n",
              "      <th>Issue</th>\n",
              "      <th>Sub-issue</th>\n",
              "      <th>Consumer complaint narrative</th>\n",
              "      <th>Company public response</th>\n",
              "      <th>Company</th>\n",
              "      <th>State</th>\n",
              "      <th>ZIP code</th>\n",
              "      <th>Tags</th>\n",
              "      <th>Consumer consent provided?</th>\n",
              "      <th>Submitted via</th>\n",
              "      <th>Date sent to company</th>\n",
              "      <th>Company response to consumer</th>\n",
              "      <th>Timely response?</th>\n",
              "      <th>Consumer disputed?</th>\n",
              "      <th>Complaint ID</th>\n",
              "    </tr>\n",
              "  </thead>\n",
              "  <tbody>\n",
              "    <tr>\n",
              "      <th>0</th>\n",
              "      <td>12/31/2018</td>\n",
              "      <td>Credit reporting, credit repair services, or o...</td>\n",
              "      <td>Credit reporting</td>\n",
              "      <td>Improper use of your report</td>\n",
              "      <td>Credit inquiries on your report that you don't...</td>\n",
              "      <td>NaN</td>\n",
              "      <td>NaN</td>\n",
              "      <td>ALLY FINANCIAL INC.</td>\n",
              "      <td>MI</td>\n",
              "      <td>48708</td>\n",
              "      <td>NaN</td>\n",
              "      <td>NaN</td>\n",
              "      <td>Web</td>\n",
              "      <td>12/31/2018</td>\n",
              "      <td>In progress</td>\n",
              "      <td>Yes</td>\n",
              "      <td>NaN</td>\n",
              "      <td>3113150</td>\n",
              "    </tr>\n",
              "    <tr>\n",
              "      <th>1</th>\n",
              "      <td>12/29/2018</td>\n",
              "      <td>Debt collection</td>\n",
              "      <td>Other debt</td>\n",
              "      <td>Attempts to collect debt not owed</td>\n",
              "      <td>Debt was paid</td>\n",
              "      <td>NaN</td>\n",
              "      <td>NaN</td>\n",
              "      <td>First Financial Resources, Inc.</td>\n",
              "      <td>MA</td>\n",
              "      <td>023XX</td>\n",
              "      <td>NaN</td>\n",
              "      <td>NaN</td>\n",
              "      <td>Web</td>\n",
              "      <td>12/29/2018</td>\n",
              "      <td>Closed with explanation</td>\n",
              "      <td>Yes</td>\n",
              "      <td>NaN</td>\n",
              "      <td>3112037</td>\n",
              "    </tr>\n",
              "    <tr>\n",
              "      <th>2</th>\n",
              "      <td>12/29/2018</td>\n",
              "      <td>Debt collection</td>\n",
              "      <td>Medical debt</td>\n",
              "      <td>Attempts to collect debt not owed</td>\n",
              "      <td>Debt is not yours</td>\n",
              "      <td>NaN</td>\n",
              "      <td>NaN</td>\n",
              "      <td>Sequoia Financial Services</td>\n",
              "      <td>CA</td>\n",
              "      <td>90024</td>\n",
              "      <td>NaN</td>\n",
              "      <td>NaN</td>\n",
              "      <td>Web</td>\n",
              "      <td>12/29/2018</td>\n",
              "      <td>Closed with explanation</td>\n",
              "      <td>Yes</td>\n",
              "      <td>NaN</td>\n",
              "      <td>3112413</td>\n",
              "    </tr>\n",
              "    <tr>\n",
              "      <th>3</th>\n",
              "      <td>12/28/2018</td>\n",
              "      <td>Checking or savings account</td>\n",
              "      <td>CD (Certificate of Deposit)</td>\n",
              "      <td>Managing an account</td>\n",
              "      <td>Deposits or withdrawals</td>\n",
              "      <td>NaN</td>\n",
              "      <td>NaN</td>\n",
              "      <td>ALLY FINANCIAL INC.</td>\n",
              "      <td>NY</td>\n",
              "      <td>10024</td>\n",
              "      <td>NaN</td>\n",
              "      <td>NaN</td>\n",
              "      <td>Referral</td>\n",
              "      <td>12/28/2018</td>\n",
              "      <td>In progress</td>\n",
              "      <td>Yes</td>\n",
              "      <td>NaN</td>\n",
              "      <td>3111837</td>\n",
              "    </tr>\n",
              "    <tr>\n",
              "      <th>4</th>\n",
              "      <td>12/28/2018</td>\n",
              "      <td>Debt collection</td>\n",
              "      <td>Other debt</td>\n",
              "      <td>Attempts to collect debt not owed</td>\n",
              "      <td>Debt is not yours</td>\n",
              "      <td>NaN</td>\n",
              "      <td>Company believes it acted appropriately as aut...</td>\n",
              "      <td>Sequium Asset Solutions, LLC</td>\n",
              "      <td>TN</td>\n",
              "      <td>38111</td>\n",
              "      <td>NaN</td>\n",
              "      <td>Consent not provided</td>\n",
              "      <td>Web</td>\n",
              "      <td>12/28/2018</td>\n",
              "      <td>Closed with explanation</td>\n",
              "      <td>Yes</td>\n",
              "      <td>NaN</td>\n",
              "      <td>3111333</td>\n",
              "    </tr>\n",
              "  </tbody>\n",
              "</table>\n",
              "</div>"
            ],
            "text/plain": [
              "  Date received                                            Product  \\\n",
              "0    12/31/2018  Credit reporting, credit repair services, or o...   \n",
              "1    12/29/2018                                    Debt collection   \n",
              "2    12/29/2018                                    Debt collection   \n",
              "3    12/28/2018                        Checking or savings account   \n",
              "4    12/28/2018                                    Debt collection   \n",
              "\n",
              "                   Sub-product                              Issue  \\\n",
              "0             Credit reporting        Improper use of your report   \n",
              "1                   Other debt  Attempts to collect debt not owed   \n",
              "2                 Medical debt  Attempts to collect debt not owed   \n",
              "3  CD (Certificate of Deposit)                Managing an account   \n",
              "4                   Other debt  Attempts to collect debt not owed   \n",
              "\n",
              "                                           Sub-issue  \\\n",
              "0  Credit inquiries on your report that you don't...   \n",
              "1                                      Debt was paid   \n",
              "2                                  Debt is not yours   \n",
              "3                            Deposits or withdrawals   \n",
              "4                                  Debt is not yours   \n",
              "\n",
              "  Consumer complaint narrative  \\\n",
              "0                          NaN   \n",
              "1                          NaN   \n",
              "2                          NaN   \n",
              "3                          NaN   \n",
              "4                          NaN   \n",
              "\n",
              "                             Company public response  \\\n",
              "0                                                NaN   \n",
              "1                                                NaN   \n",
              "2                                                NaN   \n",
              "3                                                NaN   \n",
              "4  Company believes it acted appropriately as aut...   \n",
              "\n",
              "                           Company State ZIP code Tags  \\\n",
              "0              ALLY FINANCIAL INC.    MI    48708  NaN   \n",
              "1  First Financial Resources, Inc.    MA    023XX  NaN   \n",
              "2       Sequoia Financial Services    CA    90024  NaN   \n",
              "3              ALLY FINANCIAL INC.    NY    10024  NaN   \n",
              "4     Sequium Asset Solutions, LLC    TN    38111  NaN   \n",
              "\n",
              "  Consumer consent provided? Submitted via Date sent to company  \\\n",
              "0                        NaN           Web           12/31/2018   \n",
              "1                        NaN           Web           12/29/2018   \n",
              "2                        NaN           Web           12/29/2018   \n",
              "3                        NaN      Referral           12/28/2018   \n",
              "4       Consent not provided           Web           12/28/2018   \n",
              "\n",
              "  Company response to consumer Timely response?  Consumer disputed?  \\\n",
              "0                  In progress              Yes                 NaN   \n",
              "1      Closed with explanation              Yes                 NaN   \n",
              "2      Closed with explanation              Yes                 NaN   \n",
              "3                  In progress              Yes                 NaN   \n",
              "4      Closed with explanation              Yes                 NaN   \n",
              "\n",
              "   Complaint ID  \n",
              "0       3113150  \n",
              "1       3112037  \n",
              "2       3112413  \n",
              "3       3111837  \n",
              "4       3111333  "
            ]
          },
          "metadata": {
            "tags": []
          },
          "execution_count": 23
        }
      ]
    },
    {
      "metadata": {
        "id": "pjEjvzDlte-s",
        "colab_type": "code",
        "colab": {}
      },
      "cell_type": "code",
      "source": [
        "df = df[pd.notnull(df['Consumer complaint narrative'])]"
      ],
      "execution_count": 0,
      "outputs": []
    },
    {
      "metadata": {
        "id": "pl2umA4cte-w",
        "colab_type": "code",
        "outputId": "9d33da2d-6a2b-4d90-c864-6d602d2c5974",
        "colab": {
          "base_uri": "https://localhost:8080/",
          "height": 408
        }
      },
      "cell_type": "code",
      "source": [
        "df.info()"
      ],
      "execution_count": 25,
      "outputs": [
        {
          "output_type": "stream",
          "text": [
            "<class 'pandas.core.frame.DataFrame'>\n",
            "Int64Index: 5131 entries, 285 to 29997\n",
            "Data columns (total 18 columns):\n",
            "Date received                   5131 non-null object\n",
            "Product                         5131 non-null object\n",
            "Sub-product                     5131 non-null object\n",
            "Issue                           5131 non-null object\n",
            "Sub-issue                       4541 non-null object\n",
            "Consumer complaint narrative    5131 non-null object\n",
            "Company public response         5131 non-null object\n",
            "Company                         5131 non-null object\n",
            "State                           5101 non-null object\n",
            "ZIP code                        3977 non-null object\n",
            "Tags                            850 non-null object\n",
            "Consumer consent provided?      5131 non-null object\n",
            "Submitted via                   5131 non-null object\n",
            "Date sent to company            5131 non-null object\n",
            "Company response to consumer    5131 non-null object\n",
            "Timely response?                5131 non-null object\n",
            "Consumer disputed?              0 non-null float64\n",
            "Complaint ID                    5131 non-null int64\n",
            "dtypes: float64(1), int64(1), object(16)\n",
            "memory usage: 761.6+ KB\n"
          ],
          "name": "stdout"
        }
      ]
    },
    {
      "metadata": {
        "id": "Qn1AE5HYte-1",
        "colab_type": "code",
        "colab": {}
      },
      "cell_type": "code",
      "source": [
        "col = ['Product', 'Consumer complaint narrative']\n",
        "df = df[col]"
      ],
      "execution_count": 0,
      "outputs": []
    },
    {
      "metadata": {
        "id": "BsibIfh7te-4",
        "colab_type": "code",
        "outputId": "9db1f027-4b54-44ff-c852-dd0620eef488",
        "colab": {
          "base_uri": "https://localhost:8080/",
          "height": 34
        }
      },
      "cell_type": "code",
      "source": [
        "df.columns"
      ],
      "execution_count": 27,
      "outputs": [
        {
          "output_type": "execute_result",
          "data": {
            "text/plain": [
              "Index(['Product', 'Consumer complaint narrative'], dtype='object')"
            ]
          },
          "metadata": {
            "tags": []
          },
          "execution_count": 27
        }
      ]
    },
    {
      "metadata": {
        "id": "U0urD-2cte-8",
        "colab_type": "code",
        "colab": {}
      },
      "cell_type": "code",
      "source": [
        "df.columns = ['Product', 'Consumer_complaint_narrative']"
      ],
      "execution_count": 0,
      "outputs": []
    },
    {
      "metadata": {
        "id": "nCpm2JgTxHyj",
        "colab_type": "text"
      },
      "cell_type": "markdown",
      "source": [
        "For this project, we need only two columns — “Product” and “Consumer complaint narrative”.\n",
        "\n",
        "**Input**: Consumer_complaint_narrative\n",
        "\n",
        "Example: “ I have outdated information on my credit report that I have previously disputed that has yet to be removed this information is more then seven years old and does not meet credit reporting requirements”\n",
        "\n",
        "**Output**: product\n",
        "\n",
        "Example: Credit reporting\n",
        "\n",
        "We will remove missing values in “Consumer complaints narrative” column, and add a column encoding the product as an integer because categorical variables are often better represented by integers than strings.\n",
        "\n",
        "We also create a couple of dictionaries for future use.\n",
        "\n",
        "After cleaning up, this is the first five rows of the data we will be working on:"
      ]
    },
    {
      "metadata": {
        "id": "A49DKn7mte--",
        "colab_type": "code",
        "colab": {}
      },
      "cell_type": "code",
      "source": [
        "df['category_id'] = df['Product'].factorize()[0]\n",
        "from io import StringIO\n",
        "category_id_df = df[['Product', 'category_id']].drop_duplicates().sort_values('category_id')\n",
        "category_to_id = dict(category_id_df.values)\n",
        "id_to_category = dict(category_id_df[['category_id', 'Product']].values)"
      ],
      "execution_count": 0,
      "outputs": []
    },
    {
      "metadata": {
        "id": "7Vf-jHXPte_C",
        "colab_type": "code",
        "outputId": "a4cfb32f-2ebb-4621-f2c0-d5b50bac8fb7",
        "colab": {
          "base_uri": "https://localhost:8080/",
          "height": 204
        }
      },
      "cell_type": "code",
      "source": [
        "df.head()"
      ],
      "execution_count": 30,
      "outputs": [
        {
          "output_type": "execute_result",
          "data": {
            "text/html": [
              "<div>\n",
              "<style scoped>\n",
              "    .dataframe tbody tr th:only-of-type {\n",
              "        vertical-align: middle;\n",
              "    }\n",
              "\n",
              "    .dataframe tbody tr th {\n",
              "        vertical-align: top;\n",
              "    }\n",
              "\n",
              "    .dataframe thead th {\n",
              "        text-align: right;\n",
              "    }\n",
              "</style>\n",
              "<table border=\"1\" class=\"dataframe\">\n",
              "  <thead>\n",
              "    <tr style=\"text-align: right;\">\n",
              "      <th></th>\n",
              "      <th>Product</th>\n",
              "      <th>Consumer_complaint_narrative</th>\n",
              "      <th>category_id</th>\n",
              "    </tr>\n",
              "  </thead>\n",
              "  <tbody>\n",
              "    <tr>\n",
              "      <th>285</th>\n",
              "      <td>Credit reporting, credit repair services, or o...</td>\n",
              "      <td>All dates on accounts are almost showing prese...</td>\n",
              "      <td>0</td>\n",
              "    </tr>\n",
              "    <tr>\n",
              "      <th>304</th>\n",
              "      <td>Debt collection</td>\n",
              "      <td>I am beyond exhausted with all my efforts to r...</td>\n",
              "      <td>1</td>\n",
              "    </tr>\n",
              "    <tr>\n",
              "      <th>408</th>\n",
              "      <td>Debt collection</td>\n",
              "      <td>I checked my credit, but I never got any notif...</td>\n",
              "      <td>1</td>\n",
              "    </tr>\n",
              "    <tr>\n",
              "      <th>413</th>\n",
              "      <td>Credit reporting, credit repair services, or o...</td>\n",
              "      <td>I would like to request a security freeze plac...</td>\n",
              "      <td>0</td>\n",
              "    </tr>\n",
              "    <tr>\n",
              "      <th>414</th>\n",
              "      <td>Debt collection</td>\n",
              "      <td>In XX/XX/XXXX LJ Ross Associates began contact...</td>\n",
              "      <td>1</td>\n",
              "    </tr>\n",
              "  </tbody>\n",
              "</table>\n",
              "</div>"
            ],
            "text/plain": [
              "                                               Product  \\\n",
              "285  Credit reporting, credit repair services, or o...   \n",
              "304                                    Debt collection   \n",
              "408                                    Debt collection   \n",
              "413  Credit reporting, credit repair services, or o...   \n",
              "414                                    Debt collection   \n",
              "\n",
              "                          Consumer_complaint_narrative  category_id  \n",
              "285  All dates on accounts are almost showing prese...            0  \n",
              "304  I am beyond exhausted with all my efforts to r...            1  \n",
              "408  I checked my credit, but I never got any notif...            1  \n",
              "413  I would like to request a security freeze plac...            0  \n",
              "414  In XX/XX/XXXX LJ Ross Associates began contact...            1  "
            ]
          },
          "metadata": {
            "tags": []
          },
          "execution_count": 30
        }
      ]
    },
    {
      "metadata": {
        "id": "SB0qH3PMxVHz",
        "colab_type": "text"
      },
      "cell_type": "markdown",
      "source": [
        "## Imbalanced Classes\n",
        "We see that the number of complaints per product is imbalanced. Consumers’ complaints are more biased towards Debt collection, Credit reporting and Mortgage."
      ]
    },
    {
      "metadata": {
        "id": "QxIdSuHqte_F",
        "colab_type": "code",
        "outputId": "8706097a-d0b1-40ac-8aea-3e3ad9828d87",
        "colab": {
          "base_uri": "https://localhost:8080/",
          "height": 705
        }
      },
      "cell_type": "code",
      "source": [
        "import matplotlib.pyplot as plt\n",
        "fig = plt.figure(figsize=(8,6))\n",
        "df.groupby('Product').Consumer_complaint_narrative.count().plot.bar(ylim=0)\n",
        "plt.show()"
      ],
      "execution_count": 31,
      "outputs": [
        {
          "output_type": "display_data",
          "data": {
            "image/png": "[encoded data removed]",
            "text/plain": [
              "<matplotlib.figure.Figure at 0x7f02072f67f0>"
            ]
          },
          "metadata": {
            "tags": []
          }
        }
      ]
    },
    {
      "metadata": {
        "id": "TJ1G6v6GxcJ2",
        "colab_type": "text"
      },
      "cell_type": "markdown",
      "source": [
        "When we encounter such problems, we are bound to have difficulties solving them with standard algorithms. Conventional algorithms are often biased towards the majority class, not taking the data distribution into consideration. In the worst case, minority classes are treated as outliers and ignored. For some cases, such as fraud detection or cancer prediction, we would need to carefully configure our model or artificially balance the dataset, for example by undersampling or oversampling each class.\n",
        "\n",
        "However, in our case of learning imbalanced data, the majority classes might be of our great interest. It is desirable to have a classifier that gives high prediction accuracy over the majority class, while maintaining reasonable accuracy for the minority classes. Therefore, we will leave it as it is."
      ]
    },
    {
      "metadata": {
        "id": "kjerVLJo1ZWQ",
        "colab_type": "text"
      },
      "cell_type": "markdown",
      "source": [
        "## Text Representation\n",
        "The classifiers and learning algorithms can not directly process the text documents in their original form, as most of them expect numerical feature vectors with a fixed size rather than the raw text documents with variable length. Therefore, during the preprocessing step, the texts are converted to a more manageable representation.\n",
        "\n",
        "One common approach for extracting features from text is to use the bag of words model: a model where for each document, a complaint narrative in our case, the presence (and often the frequency) of words is taken into consideration, but the order in which they occur is ignored.\n",
        "\n",
        "Specifically, for each term in our dataset, we will calculate a measure called Term Frequency, Inverse Document Frequency, abbreviated to tf-idf. We will use sklearn.feature_extraction.text.TfidfVectorizer to calculate a tf-idf vector for each of consumer complaint narratives:\n",
        "\n",
        "* *sublinear_df* is set to *True* to use a logarithmic form for frequency.\n",
        "* *min_df* is the minimum numbers of documents a word must be present in to be kept.\n",
        "* *norm* is set to *l2*, to ensure all our feature vectors have a euclidian norm of 1.\n",
        "* *ngram_range* is set to* (1, 2)* to indicate that we want to consider both unigrams and bigrams.\n",
        "* *stop_words* is set to \"*english*\" to remove all common pronouns (\"a\", \"the\", ...) to reduce the number of noisy features."
      ]
    },
    {
      "metadata": {
        "id": "zQhrrsxQte_K",
        "colab_type": "code",
        "outputId": "ad64cc4f-3151-487e-dafd-5921d2473f0a",
        "colab": {
          "base_uri": "https://localhost:8080/",
          "height": 34
        }
      },
      "cell_type": "code",
      "source": [
        "from sklearn.feature_extraction.text import TfidfVectorizer\n",
        "\n",
        "tfidf = TfidfVectorizer(sublinear_tf=True, min_df=5, norm='l2', encoding='latin-1', ngram_range=(1, 2), stop_words='english')\n",
        "\n",
        "features = tfidf.fit_transform(df.Consumer_complaint_narrative).toarray()\n",
        "labels = df.category_id\n",
        "features.shape"
      ],
      "execution_count": 32,
      "outputs": [
        {
          "output_type": "execute_result",
          "data": {
            "text/plain": [
              "(5131, 14304)"
            ]
          },
          "metadata": {
            "tags": []
          },
          "execution_count": 32
        }
      ]
    },
    {
      "metadata": {
        "id": "urz5n3OE2Aam",
        "colab_type": "text"
      },
      "cell_type": "markdown",
      "source": [
        "Now, each of 5131 consumer complaint narratives is represented by 14304 features, representing the tf-idf score for different unigrams and bigrams."
      ]
    },
    {
      "metadata": {
        "id": "m7c_zW0W2H2O",
        "colab_type": "text"
      },
      "cell_type": "markdown",
      "source": [
        "We can use *sklearn.feature_selection.chi2* to find the terms that are the most correlated with each of the products:"
      ]
    },
    {
      "metadata": {
        "scrolled": false,
        "id": "3GwfhfVzte_O",
        "colab_type": "code",
        "outputId": "290c5c05-dedd-450a-86fe-87eee54c6892",
        "colab": {
          "base_uri": "https://localhost:8080/",
          "height": 1088
        }
      },
      "cell_type": "code",
      "source": [
        "from sklearn.feature_selection import chi2\n",
        "import numpy as np\n",
        "\n",
        "N = 2\n",
        "for Product, category_id in sorted(category_to_id.items()):\n",
        "  features_chi2 = chi2(features, labels == category_id)\n",
        "  indices = np.argsort(features_chi2[0])\n",
        "  feature_names = np.array(tfidf.get_feature_names())[indices]\n",
        "  unigrams = [v for v in feature_names if len(v.split(' ')) == 1]\n",
        "  bigrams = [v for v in feature_names if len(v.split(' ')) == 2]\n",
        "  print(\"# '{}':\".format(Product))\n",
        "  print(\"  . Most correlated unigrams:\\n       . {}\".format('\\n       . '.join(unigrams[-N:])))\n",
        "  print(\"  . Most correlated bigrams:\\n       . {}\".format('\\n       . '.join(bigrams[-N:])))"
      ],
      "execution_count": 33,
      "outputs": [
        {
          "output_type": "stream",
          "text": [
            "# 'Checking or savings account':\n",
            "  . Most correlated unigrams:\n",
            "       . deposit\n",
            "       . bonus\n",
            "  . Most correlated bigrams:\n",
            "       . savings account\n",
            "       . checking account\n",
            "# 'Credit card or prepaid card':\n",
            "  . Most correlated unigrams:\n",
            "       . citi\n",
            "       . card\n",
            "  . Most correlated bigrams:\n",
            "       . believe payments\n",
            "       . credit card\n",
            "# 'Credit reporting, credit repair services, or other personal consumer reports':\n",
            "  . Most correlated unigrams:\n",
            "       . report\n",
            "       . transunion\n",
            "  . Most correlated bigrams:\n",
            "       . report understanding\n",
            "       . appear report\n",
            "# 'Debt collection':\n",
            "  . Most correlated unigrams:\n",
            "       . collection\n",
            "       . debt\n",
            "  . Most correlated bigrams:\n",
            "       . anguish slandering\n",
            "       . collect debt\n",
            "# 'Money transfer, virtual currency, or money service':\n",
            "  . Most correlated unigrams:\n",
            "       . wire\n",
            "       . tickets\n",
            "  . Most correlated bigrams:\n",
            "       . wire transfer\n",
            "       . bank wells\n",
            "# 'Mortgage':\n",
            "  . Most correlated unigrams:\n",
            "       . escrow\n",
            "       . mortgage\n",
            "  . Most correlated bigrams:\n",
            "       . loan modification\n",
            "       . freedom mortgage\n",
            "# 'Payday loan, title loan, or personal loan':\n",
            "  . Most correlated unigrams:\n",
            "       . borrowed\n",
            "       . payday\n",
            "  . Most correlated bigrams:\n",
            "       . got loan\n",
            "       . 00 loan\n",
            "# 'Student loan':\n",
            "  . Most correlated unigrams:\n",
            "       . equitable\n",
            "       . lakes\n",
            "  . Most correlated bigrams:\n",
            "       . equitable acceptance\n",
            "       . great lakes\n",
            "# 'Vehicle loan or lease':\n",
            "  . Most correlated unigrams:\n",
            "       . car\n",
            "       . vehicle\n",
            "  . Most correlated bigrams:\n",
            "       . provide voiceover\n",
            "       . financed xxxx\n"
          ],
          "name": "stdout"
        }
      ]
    },
    {
      "metadata": {
        "id": "d9mawLKI2r_H",
        "colab_type": "text"
      },
      "cell_type": "markdown",
      "source": [
        "## Multi-Class Classifier: Features and Design\n",
        "* To train supervised classifiers, we first transformed the “Consumer complaint narrative” into a vector of numbers. We explored vector representations such as TF-IDF weighted vectors.\n",
        "* After having this vector representations of the text we can train supervised classifiers to train unseen “Consumer complaint narrative” and predict the “product” on which they fall.\n",
        "\n",
        "After all the above data transformation, now that we have all the features and labels, it is time to train the classifiers. There are a number of algorithms we can use for this type of problem.\n",
        "\n",
        "Naive Bayes Classifier: the one most suitable for word counts is the multinomial variant:"
      ]
    },
    {
      "metadata": {
        "id": "vuP14jsste_R",
        "colab_type": "code",
        "colab": {}
      },
      "cell_type": "code",
      "source": [
        "from sklearn.model_selection import train_test_split\n",
        "from sklearn.feature_extraction.text import CountVectorizer\n",
        "from sklearn.feature_extraction.text import TfidfTransformer\n",
        "from sklearn.naive_bayes import MultinomialNB\n",
        "\n",
        "X_train, X_test, y_train, y_test = train_test_split(df['Consumer_complaint_narrative'], df['Product'], random_state = 0)\n",
        "count_vect = CountVectorizer()\n",
        "X_train_counts = count_vect.fit_transform(X_train)\n",
        "tfidf_transformer = TfidfTransformer()\n",
        "X_train_tfidf = tfidf_transformer.fit_transform(X_train_counts)\n",
        "\n",
        "clf = MultinomialNB().fit(X_train_tfidf, y_train)"
      ],
      "execution_count": 0,
      "outputs": []
    },
    {
      "metadata": {
        "id": "l4RWmzvY3IfO",
        "colab_type": "text"
      },
      "cell_type": "markdown",
      "source": [
        "After fitting the training set, let’s make some predictions."
      ]
    },
    {
      "metadata": {
        "id": "AVLMOAHJte_U",
        "colab_type": "code",
        "outputId": "8b7e0ddd-f8a2-47aa-888d-37141e09e3f0",
        "colab": {
          "base_uri": "https://localhost:8080/",
          "height": 34
        }
      },
      "cell_type": "code",
      "source": [
        "print(clf.predict(count_vect.transform([\"This company refuses to provide me verification and validation of debt per my right under the FDCPA. I do not believe this debt is mine.\"])))"
      ],
      "execution_count": 35,
      "outputs": [
        {
          "output_type": "stream",
          "text": [
            "['Credit reporting, credit repair services, or other personal consumer reports']\n"
          ],
          "name": "stdout"
        }
      ]
    },
    {
      "metadata": {
        "id": "9uks3a70te_Y",
        "colab_type": "code",
        "outputId": "29da45b4-028d-4d38-be5e-ac474319b8db",
        "colab": {
          "base_uri": "https://localhost:8080/",
          "height": 34
        }
      },
      "cell_type": "code",
      "source": [
        "print(clf.predict(count_vect.transform([\"I am disputing the inaccurate information the Chex-Systems has on my credit report. I initially submitted a police report on XXXX/XXXX/16 and Chex Systems only deleted the items that I mentioned in the letter and not all the items that were actually listed on the police report. In other words they wanted me to say word for word to them what items were fraudulent. The total disregard of the police report and what accounts that it states that are fraudulent. If they just had paid a little closer attention to the police report I would not been in this position now and they would n't have to research once again. I would like the reported information to be removed : XXXX XXXX XXXX\"])))"
      ],
      "execution_count": 36,
      "outputs": [
        {
          "output_type": "stream",
          "text": [
            "['Credit reporting, credit repair services, or other personal consumer reports']\n"
          ],
          "name": "stdout"
        }
      ]
    },
    {
      "metadata": {
        "id": "hW9xtnsYte_d",
        "colab_type": "code",
        "outputId": "a3a2c6ae-d441-40b3-a3f3-844afb5baeb1",
        "colab": {
          "base_uri": "https://localhost:8080/",
          "height": 49
        }
      },
      "cell_type": "code",
      "source": [
        "df[df['Consumer_complaint_narrative'] == \"This company refuses to provide me verification and validation of debt per my right under the FDCPA. I do not believe this debt is mine.\"]"
      ],
      "execution_count": 37,
      "outputs": [
        {
          "output_type": "execute_result",
          "data": {
            "text/html": [
              "<div>\n",
              "<style scoped>\n",
              "    .dataframe tbody tr th:only-of-type {\n",
              "        vertical-align: middle;\n",
              "    }\n",
              "\n",
              "    .dataframe tbody tr th {\n",
              "        vertical-align: top;\n",
              "    }\n",
              "\n",
              "    .dataframe thead th {\n",
              "        text-align: right;\n",
              "    }\n",
              "</style>\n",
              "<table border=\"1\" class=\"dataframe\">\n",
              "  <thead>\n",
              "    <tr style=\"text-align: right;\">\n",
              "      <th></th>\n",
              "      <th>Product</th>\n",
              "      <th>Consumer_complaint_narrative</th>\n",
              "      <th>category_id</th>\n",
              "    </tr>\n",
              "  </thead>\n",
              "  <tbody>\n",
              "  </tbody>\n",
              "</table>\n",
              "</div>"
            ],
            "text/plain": [
              "Empty DataFrame\n",
              "Columns: [Product, Consumer_complaint_narrative, category_id]\n",
              "Index: []"
            ]
          },
          "metadata": {
            "tags": []
          },
          "execution_count": 37
        }
      ]
    },
    {
      "metadata": {
        "id": "KTD2-_iBte_k",
        "colab_type": "code",
        "outputId": "382ad465-0d6e-4398-8624-4f4e925e6a3e",
        "colab": {
          "base_uri": "https://localhost:8080/",
          "height": 49
        }
      },
      "cell_type": "code",
      "source": [
        "df[df['Consumer_complaint_narrative'] == \"I am disputing the inaccurate information the Chex-Systems has on my credit report. I initially submitted a police report on XXXX/XXXX/16 and Chex Systems only deleted the items that I mentioned in the letter and not all the items that were actually listed on the police report. In other words they wanted me to say word for word to them what items were fraudulent. The total disregard of the police report and what accounts that it states that are fraudulent. If they just had paid a little closer attention to the police report I would not been in this position now and they would n't have to research once again. I would like the reported information to be removed : XXXX XXXX XXXX\"]"
      ],
      "execution_count": 38,
      "outputs": [
        {
          "output_type": "execute_result",
          "data": {
            "text/html": [
              "<div>\n",
              "<style scoped>\n",
              "    .dataframe tbody tr th:only-of-type {\n",
              "        vertical-align: middle;\n",
              "    }\n",
              "\n",
              "    .dataframe tbody tr th {\n",
              "        vertical-align: top;\n",
              "    }\n",
              "\n",
              "    .dataframe thead th {\n",
              "        text-align: right;\n",
              "    }\n",
              "</style>\n",
              "<table border=\"1\" class=\"dataframe\">\n",
              "  <thead>\n",
              "    <tr style=\"text-align: right;\">\n",
              "      <th></th>\n",
              "      <th>Product</th>\n",
              "      <th>Consumer_complaint_narrative</th>\n",
              "      <th>category_id</th>\n",
              "    </tr>\n",
              "  </thead>\n",
              "  <tbody>\n",
              "  </tbody>\n",
              "</table>\n",
              "</div>"
            ],
            "text/plain": [
              "Empty DataFrame\n",
              "Columns: [Product, Consumer_complaint_narrative, category_id]\n",
              "Index: []"
            ]
          },
          "metadata": {
            "tags": []
          },
          "execution_count": 38
        }
      ]
    },
    {
      "metadata": {
        "id": "8yxJHRoF4Zne",
        "colab_type": "text"
      },
      "cell_type": "markdown",
      "source": [
        "## Model Selection\n",
        "We are now ready to experiment with different machine learning models, evaluate their accuracy and find the source of any potential issues.\n",
        "\n",
        "We will benchmark the following four models:\n",
        "\n",
        "* Logistic Regression\n",
        "* (Multinomial) Naive Bayes\n",
        "* Linear Support Vector Machine\n",
        "* Random Forest"
      ]
    },
    {
      "metadata": {
        "id": "ZVpfX4Jnte_t",
        "colab_type": "code",
        "outputId": "44f94ec9-4d12-4df0-fb6d-00eaaa7292f7",
        "colab": {
          "base_uri": "https://localhost:8080/",
          "height": 377
        }
      },
      "cell_type": "code",
      "source": [
        "from sklearn.linear_model import LogisticRegression\n",
        "from sklearn.ensemble import RandomForestClassifier\n",
        "from sklearn.naive_bayes import MultinomialNB\n",
        "from sklearn.svm import LinearSVC\n",
        "\n",
        "from sklearn.model_selection import cross_val_score\n",
        "\n",
        "\n",
        "models = [\n",
        "    RandomForestClassifier(n_estimators=200, max_depth=3, random_state=0),\n",
        "    LinearSVC(),\n",
        "    MultinomialNB(),\n",
        "    LogisticRegression(random_state=0),\n",
        "]\n",
        "CV = 5\n",
        "cv_df = pd.DataFrame(index=range(CV * len(models)))\n",
        "entries = []\n",
        "for model in models:\n",
        "  model_name = model.__class__.__name__\n",
        "  accuracies = cross_val_score(model, features, labels, scoring='accuracy', cv=CV)\n",
        "  for fold_idx, accuracy in enumerate(accuracies):\n",
        "    entries.append((model_name, fold_idx, accuracy))\n",
        "cv_df = pd.DataFrame(entries, columns=['model_name', 'fold_idx', 'accuracy'])"
      ],
      "execution_count": 39,
      "outputs": [
        {
          "output_type": "stream",
          "text": [
            "/usr/local/lib/python3.6/dist-packages/sklearn/linear_model/logistic.py:433: FutureWarning: Default solver will be changed to 'lbfgs' in 0.22. Specify a solver to silence this warning.\n",
            "  FutureWarning)\n",
            "/usr/local/lib/python3.6/dist-packages/sklearn/linear_model/logistic.py:460: FutureWarning: Default multi_class will be changed to 'auto' in 0.22. Specify the multi_class option to silence this warning.\n",
            "  \"this warning.\", FutureWarning)\n",
            "/usr/local/lib/python3.6/dist-packages/sklearn/linear_model/logistic.py:433: FutureWarning: Default solver will be changed to 'lbfgs' in 0.22. Specify a solver to silence this warning.\n",
            "  FutureWarning)\n",
            "/usr/local/lib/python3.6/dist-packages/sklearn/linear_model/logistic.py:460: FutureWarning: Default multi_class will be changed to 'auto' in 0.22. Specify the multi_class option to silence this warning.\n",
            "  \"this warning.\", FutureWarning)\n",
            "/usr/local/lib/python3.6/dist-packages/sklearn/linear_model/logistic.py:433: FutureWarning: Default solver will be changed to 'lbfgs' in 0.22. Specify a solver to silence this warning.\n",
            "  FutureWarning)\n",
            "/usr/local/lib/python3.6/dist-packages/sklearn/linear_model/logistic.py:460: FutureWarning: Default multi_class will be changed to 'auto' in 0.22. Specify the multi_class option to silence this warning.\n",
            "  \"this warning.\", FutureWarning)\n",
            "/usr/local/lib/python3.6/dist-packages/sklearn/linear_model/logistic.py:433: FutureWarning: Default solver will be changed to 'lbfgs' in 0.22. Specify a solver to silence this warning.\n",
            "  FutureWarning)\n",
            "/usr/local/lib/python3.6/dist-packages/sklearn/linear_model/logistic.py:460: FutureWarning: Default multi_class will be changed to 'auto' in 0.22. Specify the multi_class option to silence this warning.\n",
            "  \"this warning.\", FutureWarning)\n",
            "/usr/local/lib/python3.6/dist-packages/sklearn/linear_model/logistic.py:433: FutureWarning: Default solver will be changed to 'lbfgs' in 0.22. Specify a solver to silence this warning.\n",
            "  FutureWarning)\n",
            "/usr/local/lib/python3.6/dist-packages/sklearn/linear_model/logistic.py:460: FutureWarning: Default multi_class will be changed to 'auto' in 0.22. Specify the multi_class option to silence this warning.\n",
            "  \"this warning.\", FutureWarning)\n"
          ],
          "name": "stderr"
        }
      ]
    },
    {
      "metadata": {
        "id": "D3lhBqlCte_x",
        "colab_type": "code",
        "outputId": "81505348-8b15-4498-ca65-05b4ab28fb8c",
        "colab": {
          "base_uri": "https://localhost:8080/",
          "height": 395
        }
      },
      "cell_type": "code",
      "source": [
        "import seaborn as sns\n",
        "\n",
        "sns.boxplot(x='model_name', y='accuracy', data=cv_df)\n",
        "sns.stripplot(x='model_name', y='accuracy', data=cv_df, \n",
        "              size=8, jitter=True, edgecolor=\"gray\", linewidth=2)\n",
        "plt.show()"
      ],
      "execution_count": 40,
      "outputs": [
        {
          "output_type": "stream",
          "text": [
            "/usr/local/lib/python3.6/dist-packages/seaborn/categorical.py:454: FutureWarning: remove_na is deprecated and is a private function. Do not use.\n",
            "  box_data = remove_na(group_data)\n"
          ],
          "name": "stderr"
        },
        {
          "output_type": "display_data",
          "data": {
            "image/png": "[encoded data removed]",
            "text/plain": [
              "<matplotlib.figure.Figure at 0x7f02051e0860>"
            ]
          },
          "metadata": {
            "tags": []
          }
        }
      ]
    },
    {
      "metadata": {
        "id": "2TGVLp5hte_2",
        "colab_type": "code",
        "outputId": "5a3f79ec-3825-4f4a-bc2e-449f946006dd",
        "colab": {
          "base_uri": "https://localhost:8080/",
          "height": 119
        }
      },
      "cell_type": "code",
      "source": [
        "cv_df.groupby('model_name').accuracy.mean()"
      ],
      "execution_count": 41,
      "outputs": [
        {
          "output_type": "execute_result",
          "data": {
            "text/plain": [
              "model_name\n",
              "LinearSVC                 0.845829\n",
              "LogisticRegression        0.806463\n",
              "MultinomialNB             0.685641\n",
              "RandomForestClassifier    0.540637\n",
              "Name: accuracy, dtype: float64"
            ]
          },
          "metadata": {
            "tags": []
          },
          "execution_count": 41
        }
      ]
    },
    {
      "metadata": {
        "id": "yfhw15gM5ivn",
        "colab_type": "text"
      },
      "cell_type": "markdown",
      "source": [
        "## Model Evaluation\n",
        "Continue with our best model (LinearSVC), we are going to look at the confusion matrix, and show the discrepancies between predicted and actual labels."
      ]
    },
    {
      "metadata": {
        "id": "lYOE4pbJte_5",
        "colab_type": "code",
        "colab": {}
      },
      "cell_type": "code",
      "source": [
        "from sklearn.model_selection import train_test_split\n",
        "\n",
        "model = LinearSVC()\n",
        "\n",
        "X_train, X_test, y_train, y_test, indices_train, indices_test = train_test_split(features, labels, df.index, test_size=0.33, random_state=0)\n",
        "model.fit(X_train, y_train)\n",
        "y_pred = model.predict(X_test)"
      ],
      "execution_count": 0,
      "outputs": []
    },
    {
      "metadata": {
        "id": "lipNKkYTte_8",
        "colab_type": "code",
        "outputId": "f6f3a36e-f1e4-43de-abef-73660e953f17",
        "colab": {
          "base_uri": "https://localhost:8080/",
          "height": 705
        }
      },
      "cell_type": "code",
      "source": [
        "from sklearn.metrics import confusion_matrix\n",
        "\n",
        "conf_mat = confusion_matrix(y_test, y_pred)\n",
        "fig, ax = plt.subplots(figsize=(8,6))\n",
        "sns.heatmap(conf_mat, annot=True, fmt='d',\n",
        "            xticklabels=category_id_df.Product.values, yticklabels=category_id_df.Product.values)\n",
        "plt.ylabel('Actual')\n",
        "plt.xlabel('Predicted')\n",
        "plt.show()"
      ],
      "execution_count": 43,
      "outputs": [
        {
          "output_type": "display_data",
          "data": {
            "image/png": "[encoded data removed]",
            "text/plain": [
              "<matplotlib.figure.Figure at 0x7f02057e3630>"
            ]
          },
          "metadata": {
            "tags": []
          }
        }
      ]
    },
    {
      "metadata": {
        "id": "4hh81W_g5rv_",
        "colab_type": "text"
      },
      "cell_type": "markdown",
      "source": [
        "The vast majority of the predictions end up on the diagonal (predicted label = actual label), where we want them to be. However, there are a number of misclassifications, and it might be interesting to see what those are caused by:"
      ]
    },
    {
      "metadata": {
        "scrolled": false,
        "id": "dfbZtKBxtfAA",
        "colab_type": "code",
        "outputId": "83ed2950-7a77-4502-ab43-9978059bb9a5",
        "colab": {
          "base_uri": "https://localhost:8080/",
          "height": 6517
        }
      },
      "cell_type": "code",
      "source": [
        "from IPython.display import display\n",
        "\n",
        "for predicted in category_id_df.category_id:\n",
        "  for actual in category_id_df.category_id:\n",
        "    if predicted != actual and conf_mat[actual, predicted] >= 6:\n",
        "      print(\"'{}' predicted as '{}' : {} examples.\".format(id_to_category[actual], id_to_category[predicted], conf_mat[actual, predicted]))\n",
        "      display(df.loc[indices_test[(y_test == actual) & (y_pred == predicted)]][['Product', 'Consumer_complaint_narrative']])\n",
        "      print('')"
      ],
      "execution_count": 44,
      "outputs": [
        {
          "output_type": "stream",
          "text": [
            "'Debt collection' predicted as 'Credit reporting, credit repair services, or other personal consumer reports' : 59 examples.\n"
          ],
          "name": "stdout"
        },
        {
          "output_type": "display_data",
          "data": {
            "text/html": [
              "<div>\n",
              "<style scoped>\n",
              "    .dataframe tbody tr th:only-of-type {\n",
              "        vertical-align: middle;\n",
              "    }\n",
              "\n",
              "    .dataframe tbody tr th {\n",
              "        vertical-align: top;\n",
              "    }\n",
              "\n",
              "    .dataframe thead th {\n",
              "        text-align: right;\n",
              "    }\n",
              "</style>\n",
              "<table border=\"1\" class=\"dataframe\">\n",
              "  <thead>\n",
              "    <tr style=\"text-align: right;\">\n",
              "      <th></th>\n",
              "      <th>Product</th>\n",
              "      <th>Consumer_complaint_narrative</th>\n",
              "    </tr>\n",
              "  </thead>\n",
              "  <tbody>\n",
              "    <tr>\n",
              "      <th>2777</th>\n",
              "      <td>Debt collection</td>\n",
              "      <td>This complaint is based on violations of the F...</td>\n",
              "    </tr>\n",
              "    <tr>\n",
              "      <th>20851</th>\n",
              "      <td>Debt collection</td>\n",
              "      <td>The aforementioned account with XXXX, formerly...</td>\n",
              "    </tr>\n",
              "    <tr>\n",
              "      <th>25082</th>\n",
              "      <td>Debt collection</td>\n",
              "      <td>TransUnion continues to report inaccurate info...</td>\n",
              "    </tr>\n",
              "    <tr>\n",
              "      <th>21545</th>\n",
              "      <td>Debt collection</td>\n",
              "      <td>XXXXXXXX XXXX XXXXXXXX has a charge off on my ...</td>\n",
              "    </tr>\n",
              "    <tr>\n",
              "      <th>8335</th>\n",
              "      <td>Debt collection</td>\n",
              "      <td>this company tried to contact me at my old con...</td>\n",
              "    </tr>\n",
              "    <tr>\n",
              "      <th>12190</th>\n",
              "      <td>Debt collection</td>\n",
              "      <td>I have been requesting validation since XXXX o...</td>\n",
              "    </tr>\n",
              "    <tr>\n",
              "      <th>15523</th>\n",
              "      <td>Debt collection</td>\n",
              "      <td>I have recently filed with the FTC and CFPB th...</td>\n",
              "    </tr>\n",
              "    <tr>\n",
              "      <th>20490</th>\n",
              "      <td>Debt collection</td>\n",
              "      <td>I have received a letter from XXXX XXXX XXXX. ...</td>\n",
              "    </tr>\n",
              "    <tr>\n",
              "      <th>19218</th>\n",
              "      <td>Debt collection</td>\n",
              "      <td>This fraudulent account has been previously re...</td>\n",
              "    </tr>\n",
              "    <tr>\n",
              "      <th>17460</th>\n",
              "      <td>Debt collection</td>\n",
              "      <td>XXXX XXXX is a small lending company that oper...</td>\n",
              "    </tr>\n",
              "    <tr>\n",
              "      <th>15910</th>\n",
              "      <td>Debt collection</td>\n",
              "      <td>I sent a certified handwritten letter asking f...</td>\n",
              "    </tr>\n",
              "    <tr>\n",
              "      <th>18323</th>\n",
              "      <td>Debt collection</td>\n",
              "      <td>on XX/XX/2017 accelerated financial open a dep...</td>\n",
              "    </tr>\n",
              "    <tr>\n",
              "      <th>994</th>\n",
              "      <td>Debt collection</td>\n",
              "      <td>We have returned all equipment to XXXX XXXX. D...</td>\n",
              "    </tr>\n",
              "    <tr>\n",
              "      <th>10542</th>\n",
              "      <td>Debt collection</td>\n",
              "      <td>Reporting to my XXXX credit report as XXXX XXX...</td>\n",
              "    </tr>\n",
              "    <tr>\n",
              "      <th>6900</th>\n",
              "      <td>Debt collection</td>\n",
              "      <td>On XX/XX/2018 at XXXX XXXX XXXX we received a ...</td>\n",
              "    </tr>\n",
              "    <tr>\n",
              "      <th>29767</th>\n",
              "      <td>Debt collection</td>\n",
              "      <td>XXXX  ( XXXX XXXX XXXX ) has listed an item as...</td>\n",
              "    </tr>\n",
              "    <tr>\n",
              "      <th>18370</th>\n",
              "      <td>Debt collection</td>\n",
              "      <td>UNIVERSAL RECOVERY CORPORATION IS REPORTING ON...</td>\n",
              "    </tr>\n",
              "    <tr>\n",
              "      <th>15533</th>\n",
              "      <td>Debt collection</td>\n",
              "      <td>This company is trying to collect a debt that ...</td>\n",
              "    </tr>\n",
              "    <tr>\n",
              "      <th>13696</th>\n",
              "      <td>Debt collection</td>\n",
              "      <td>Company has failed to follow through with just...</td>\n",
              "    </tr>\n",
              "    <tr>\n",
              "      <th>28323</th>\n",
              "      <td>Debt collection</td>\n",
              "      <td>Contacting my parents instead of contacting me...</td>\n",
              "    </tr>\n",
              "    <tr>\n",
              "      <th>24693</th>\n",
              "      <td>Debt collection</td>\n",
              "      <td>My complaint is against Experian I have been t...</td>\n",
              "    </tr>\n",
              "    <tr>\n",
              "      <th>24798</th>\n",
              "      <td>Debt collection</td>\n",
              "      <td>Collections and charged off accounts are not m...</td>\n",
              "    </tr>\n",
              "    <tr>\n",
              "      <th>7353</th>\n",
              "      <td>Debt collection</td>\n",
              "      <td>I have filled out a financial hardship form an...</td>\n",
              "    </tr>\n",
              "    <tr>\n",
              "      <th>26568</th>\n",
              "      <td>Debt collection</td>\n",
              "      <td>I am having issues about Merchants Acceptance ...</td>\n",
              "    </tr>\n",
              "    <tr>\n",
              "      <th>22070</th>\n",
              "      <td>Debt collection</td>\n",
              "      <td>On XX/XX/2018 I submitted a dispute to all 3 m...</td>\n",
              "    </tr>\n",
              "    <tr>\n",
              "      <th>16097</th>\n",
              "      <td>Debt collection</td>\n",
              "      <td>When the company called me, they wanted to ver...</td>\n",
              "    </tr>\n",
              "    <tr>\n",
              "      <th>8600</th>\n",
              "      <td>Debt collection</td>\n",
              "      <td>The debts that are reporting are not accurate ...</td>\n",
              "    </tr>\n",
              "    <tr>\n",
              "      <th>16332</th>\n",
              "      <td>Debt collection</td>\n",
              "      <td>I am a victim of identity theft and learned th...</td>\n",
              "    </tr>\n",
              "    <tr>\n",
              "      <th>26157</th>\n",
              "      <td>Debt collection</td>\n",
              "      <td>I had an ingrown toe nail removed and was unde...</td>\n",
              "    </tr>\n",
              "    <tr>\n",
              "      <th>1035</th>\n",
              "      <td>Debt collection</td>\n",
              "      <td>SYNCB/XXXX we discussed back in XX/XX/2016 to ...</td>\n",
              "    </tr>\n",
              "    <tr>\n",
              "      <th>12289</th>\n",
              "      <td>Debt collection</td>\n",
              "      <td>My credit report reflects a charge for somethi...</td>\n",
              "    </tr>\n",
              "    <tr>\n",
              "      <th>7358</th>\n",
              "      <td>Debt collection</td>\n",
              "      <td>Amsher the information you are reporting is th...</td>\n",
              "    </tr>\n",
              "    <tr>\n",
              "      <th>10467</th>\n",
              "      <td>Debt collection</td>\n",
              "      <td>I was trying to take a loan out of my sun trus...</td>\n",
              "    </tr>\n",
              "    <tr>\n",
              "      <th>21338</th>\n",
              "      <td>Debt collection</td>\n",
              "      <td>This is a Notice of Direct Dispute under the p...</td>\n",
              "    </tr>\n",
              "    <tr>\n",
              "      <th>24399</th>\n",
              "      <td>Debt collection</td>\n",
              "      <td>I have disputed an account with XXXX  several ...</td>\n",
              "    </tr>\n",
              "    <tr>\n",
              "      <th>24840</th>\n",
              "      <td>Debt collection</td>\n",
              "      <td>I am a victim of Identity theft and have file ...</td>\n",
              "    </tr>\n",
              "    <tr>\n",
              "      <th>15760</th>\n",
              "      <td>Debt collection</td>\n",
              "      <td>This account has not provided any documentatio...</td>\n",
              "    </tr>\n",
              "    <tr>\n",
              "      <th>11045</th>\n",
              "      <td>Debt collection</td>\n",
              "      <td>XXXX XXXX has that I owe money for medical fro...</td>\n",
              "    </tr>\n",
              "    <tr>\n",
              "      <th>22445</th>\n",
              "      <td>Debt collection</td>\n",
              "      <td>I wrote a letter to the collection agency agre...</td>\n",
              "    </tr>\n",
              "    <tr>\n",
              "      <th>26408</th>\n",
              "      <td>Debt collection</td>\n",
              "      <td>This account was reported to XXXX XXXXPayPal a...</td>\n",
              "    </tr>\n",
              "    <tr>\n",
              "      <th>14557</th>\n",
              "      <td>Debt collection</td>\n",
              "      <td>XXXX XXXX XXXX claims I owe more than {$150.00...</td>\n",
              "    </tr>\n",
              "    <tr>\n",
              "      <th>27074</th>\n",
              "      <td>Debt collection</td>\n",
              "      <td>can a bank refuse credit based on their own in...</td>\n",
              "    </tr>\n",
              "    <tr>\n",
              "      <th>24612</th>\n",
              "      <td>Debt collection</td>\n",
              "      <td>I received 3 return packets from XXXX. I opene...</td>\n",
              "    </tr>\n",
              "    <tr>\n",
              "      <th>13330</th>\n",
              "      <td>Debt collection</td>\n",
              "      <td>After reviewing your letter and several discon...</td>\n",
              "    </tr>\n",
              "    <tr>\n",
              "      <th>19268</th>\n",
              "      <td>Debt collection</td>\n",
              "      <td>i have no knowledge of this account</td>\n",
              "    </tr>\n",
              "    <tr>\n",
              "      <th>7266</th>\n",
              "      <td>Debt collection</td>\n",
              "      <td>You are reporting a paid medical collection on...</td>\n",
              "    </tr>\n",
              "    <tr>\n",
              "      <th>11309</th>\n",
              "      <td>Debt collection</td>\n",
              "      <td>Sent them a Debt validation letter and they ne...</td>\n",
              "    </tr>\n",
              "    <tr>\n",
              "      <th>1062</th>\n",
              "      <td>Debt collection</td>\n",
              "      <td>AAMS XXXX {$2400.00} I DONT OWE THIS COMPANY A...</td>\n",
              "    </tr>\n",
              "    <tr>\n",
              "      <th>11165</th>\n",
              "      <td>Debt collection</td>\n",
              "      <td>Several years ago, XXXX decided that I did not...</td>\n",
              "    </tr>\n",
              "    <tr>\n",
              "      <th>15463</th>\n",
              "      <td>Debt collection</td>\n",
              "      <td>XX/XX/2018, {$690.00} disputed inaccurate info...</td>\n",
              "    </tr>\n",
              "    <tr>\n",
              "      <th>3364</th>\n",
              "      <td>Debt collection</td>\n",
              "      <td>I XXXX XXXX have a collection placed on my cre...</td>\n",
              "    </tr>\n",
              "    <tr>\n",
              "      <th>23209</th>\n",
              "      <td>Debt collection</td>\n",
              "      <td>Submitted both electronic and mail disputes wi...</td>\n",
              "    </tr>\n",
              "    <tr>\n",
              "      <th>29396</th>\n",
              "      <td>Debt collection</td>\n",
              "      <td>I was notified that this debt existed with Con...</td>\n",
              "    </tr>\n",
              "    <tr>\n",
              "      <th>16871</th>\n",
              "      <td>Debt collection</td>\n",
              "      <td>Barclay settled debt with me XX/XX/2018, accou...</td>\n",
              "    </tr>\n",
              "    <tr>\n",
              "      <th>13790</th>\n",
              "      <td>Debt collection</td>\n",
              "      <td>The company reported an amount to the credit b...</td>\n",
              "    </tr>\n",
              "    <tr>\n",
              "      <th>4873</th>\n",
              "      <td>Debt collection</td>\n",
              "      <td>On XX/XX/2018 I submitted a dispute to all 3 m...</td>\n",
              "    </tr>\n",
              "    <tr>\n",
              "      <th>28128</th>\n",
              "      <td>Debt collection</td>\n",
              "      <td>I do not owe any debts to Merchant &amp; Professio...</td>\n",
              "    </tr>\n",
              "    <tr>\n",
              "      <th>29710</th>\n",
              "      <td>Debt collection</td>\n",
              "      <td>I rented a car from XXXX XXXX in XXXX on XX/XX...</td>\n",
              "    </tr>\n",
              "    <tr>\n",
              "      <th>27505</th>\n",
              "      <td>Debt collection</td>\n",
              "      <td>75 Months Date Opened XX/XX/XXXX Account Statu...</td>\n",
              "    </tr>\n",
              "  </tbody>\n",
              "</table>\n",
              "</div>"
            ],
            "text/plain": [
              "               Product                       Consumer_complaint_narrative\n",
              "2777   Debt collection  This complaint is based on violations of the F...\n",
              "20851  Debt collection  The aforementioned account with XXXX, formerly...\n",
              "25082  Debt collection  TransUnion continues to report inaccurate info...\n",
              "21545  Debt collection  XXXXXXXX XXXX XXXXXXXX has a charge off on my ...\n",
              "8335   Debt collection  this company tried to contact me at my old con...\n",
              "12190  Debt collection  I have been requesting validation since XXXX o...\n",
              "15523  Debt collection  I have recently filed with the FTC and CFPB th...\n",
              "20490  Debt collection  I have received a letter from XXXX XXXX XXXX. ...\n",
              "19218  Debt collection  This fraudulent account has been previously re...\n",
              "17460  Debt collection  XXXX XXXX is a small lending company that oper...\n",
              "15910  Debt collection  I sent a certified handwritten letter asking f...\n",
              "18323  Debt collection  on XX/XX/2017 accelerated financial open a dep...\n",
              "994    Debt collection  We have returned all equipment to XXXX XXXX. D...\n",
              "10542  Debt collection  Reporting to my XXXX credit report as XXXX XXX...\n",
              "6900   Debt collection  On XX/XX/2018 at XXXX XXXX XXXX we received a ...\n",
              "29767  Debt collection  XXXX  ( XXXX XXXX XXXX ) has listed an item as...\n",
              "18370  Debt collection  UNIVERSAL RECOVERY CORPORATION IS REPORTING ON...\n",
              "15533  Debt collection  This company is trying to collect a debt that ...\n",
              "13696  Debt collection  Company has failed to follow through with just...\n",
              "28323  Debt collection  Contacting my parents instead of contacting me...\n",
              "24693  Debt collection  My complaint is against Experian I have been t...\n",
              "24798  Debt collection  Collections and charged off accounts are not m...\n",
              "7353   Debt collection  I have filled out a financial hardship form an...\n",
              "26568  Debt collection  I am having issues about Merchants Acceptance ...\n",
              "22070  Debt collection  On XX/XX/2018 I submitted a dispute to all 3 m...\n",
              "16097  Debt collection  When the company called me, they wanted to ver...\n",
              "8600   Debt collection  The debts that are reporting are not accurate ...\n",
              "16332  Debt collection  I am a victim of identity theft and learned th...\n",
              "26157  Debt collection  I had an ingrown toe nail removed and was unde...\n",
              "1035   Debt collection  SYNCB/XXXX we discussed back in XX/XX/2016 to ...\n",
              "12289  Debt collection  My credit report reflects a charge for somethi...\n",
              "7358   Debt collection  Amsher the information you are reporting is th...\n",
              "10467  Debt collection  I was trying to take a loan out of my sun trus...\n",
              "21338  Debt collection  This is a Notice of Direct Dispute under the p...\n",
              "24399  Debt collection  I have disputed an account with XXXX  several ...\n",
              "24840  Debt collection  I am a victim of Identity theft and have file ...\n",
              "15760  Debt collection  This account has not provided any documentatio...\n",
              "11045  Debt collection  XXXX XXXX has that I owe money for medical fro...\n",
              "22445  Debt collection  I wrote a letter to the collection agency agre...\n",
              "26408  Debt collection  This account was reported to XXXX XXXXPayPal a...\n",
              "14557  Debt collection  XXXX XXXX XXXX claims I owe more than {$150.00...\n",
              "27074  Debt collection  can a bank refuse credit based on their own in...\n",
              "24612  Debt collection  I received 3 return packets from XXXX. I opene...\n",
              "13330  Debt collection  After reviewing your letter and several discon...\n",
              "19268  Debt collection                i have no knowledge of this account\n",
              "7266   Debt collection  You are reporting a paid medical collection on...\n",
              "11309  Debt collection  Sent them a Debt validation letter and they ne...\n",
              "1062   Debt collection  AAMS XXXX {$2400.00} I DONT OWE THIS COMPANY A...\n",
              "11165  Debt collection  Several years ago, XXXX decided that I did not...\n",
              "15463  Debt collection  XX/XX/2018, {$690.00} disputed inaccurate info...\n",
              "3364   Debt collection  I XXXX XXXX have a collection placed on my cre...\n",
              "23209  Debt collection  Submitted both electronic and mail disputes wi...\n",
              "29396  Debt collection  I was notified that this debt existed with Con...\n",
              "16871  Debt collection  Barclay settled debt with me XX/XX/2018, accou...\n",
              "13790  Debt collection  The company reported an amount to the credit b...\n",
              "4873   Debt collection  On XX/XX/2018 I submitted a dispute to all 3 m...\n",
              "28128  Debt collection  I do not owe any debts to Merchant & Professio...\n",
              "29710  Debt collection  I rented a car from XXXX XXXX in XXXX on XX/XX...\n",
              "27505  Debt collection  75 Months Date Opened XX/XX/XXXX Account Statu..."
            ]
          },
          "metadata": {
            "tags": []
          }
        },
        {
          "output_type": "stream",
          "text": [
            "\n",
            "'Credit card or prepaid card' predicted as 'Credit reporting, credit repair services, or other personal consumer reports' : 15 examples.\n"
          ],
          "name": "stdout"
        },
        {
          "output_type": "display_data",
          "data": {
            "text/html": [
              "<div>\n",
              "<style scoped>\n",
              "    .dataframe tbody tr th:only-of-type {\n",
              "        vertical-align: middle;\n",
              "    }\n",
              "\n",
              "    .dataframe tbody tr th {\n",
              "        vertical-align: top;\n",
              "    }\n",
              "\n",
              "    .dataframe thead th {\n",
              "        text-align: right;\n",
              "    }\n",
              "</style>\n",
              "<table border=\"1\" class=\"dataframe\">\n",
              "  <thead>\n",
              "    <tr style=\"text-align: right;\">\n",
              "      <th></th>\n",
              "      <th>Product</th>\n",
              "      <th>Consumer_complaint_narrative</th>\n",
              "    </tr>\n",
              "  </thead>\n",
              "  <tbody>\n",
              "    <tr>\n",
              "      <th>27562</th>\n",
              "      <td>Credit card or prepaid card</td>\n",
              "      <td>1. Alleged Name and Address of Creditor 2. Nam...</td>\n",
              "    </tr>\n",
              "    <tr>\n",
              "      <th>25958</th>\n",
              "      <td>Credit card or prepaid card</td>\n",
              "      <td>XXXX  has been non-compliant with removing the...</td>\n",
              "    </tr>\n",
              "    <tr>\n",
              "      <th>19101</th>\n",
              "      <td>Credit card or prepaid card</td>\n",
              "      <td>This account is being illegally reported on my...</td>\n",
              "    </tr>\n",
              "    <tr>\n",
              "      <th>584</th>\n",
              "      <td>Credit card or prepaid card</td>\n",
              "      <td>I signed up for this card back in XXXX in stor...</td>\n",
              "    </tr>\n",
              "    <tr>\n",
              "      <th>26848</th>\n",
              "      <td>Credit card or prepaid card</td>\n",
              "      <td>Barclay 's Card has submitted hard inquiries w...</td>\n",
              "    </tr>\n",
              "    <tr>\n",
              "      <th>12559</th>\n",
              "      <td>Credit card or prepaid card</td>\n",
              "      <td>Pentagon Federal Credit Union was paid an amou...</td>\n",
              "    </tr>\n",
              "    <tr>\n",
              "      <th>10587</th>\n",
              "      <td>Credit card or prepaid card</td>\n",
              "      <td>XXXX, XXXX, payments were made by XXXX from XX...</td>\n",
              "    </tr>\n",
              "    <tr>\n",
              "      <th>12382</th>\n",
              "      <td>Credit card or prepaid card</td>\n",
              "      <td>XXXX has been non-compliant with removing the ...</td>\n",
              "    </tr>\n",
              "    <tr>\n",
              "      <th>28380</th>\n",
              "      <td>Credit card or prepaid card</td>\n",
              "      <td>This credit card account was supposed to be in...</td>\n",
              "    </tr>\n",
              "    <tr>\n",
              "      <th>9758</th>\n",
              "      <td>Credit card or prepaid card</td>\n",
              "      <td>THD/CBNA ON XX/XX/XXXX did a hard Inquiry that...</td>\n",
              "    </tr>\n",
              "    <tr>\n",
              "      <th>13807</th>\n",
              "      <td>Credit card or prepaid card</td>\n",
              "      <td>I was notified on XX/XX/18 via credit monitori...</td>\n",
              "    </tr>\n",
              "    <tr>\n",
              "      <th>27032</th>\n",
              "      <td>Credit card or prepaid card</td>\n",
              "      <td>XXXX  has been non-compliant with removing the...</td>\n",
              "    </tr>\n",
              "    <tr>\n",
              "      <th>28184</th>\n",
              "      <td>Credit card or prepaid card</td>\n",
              "      <td>Thanks current PayPal account it is impossible...</td>\n",
              "    </tr>\n",
              "    <tr>\n",
              "      <th>28881</th>\n",
              "      <td>Credit card or prepaid card</td>\n",
              "      <td>They reported late payment onto my Credit Repo...</td>\n",
              "    </tr>\n",
              "    <tr>\n",
              "      <th>17627</th>\n",
              "      <td>Credit card or prepaid card</td>\n",
              "      <td>On XX/XX/2018, I received a letter from US Ban...</td>\n",
              "    </tr>\n",
              "  </tbody>\n",
              "</table>\n",
              "</div>"
            ],
            "text/plain": [
              "                           Product  \\\n",
              "27562  Credit card or prepaid card   \n",
              "25958  Credit card or prepaid card   \n",
              "19101  Credit card or prepaid card   \n",
              "584    Credit card or prepaid card   \n",
              "26848  Credit card or prepaid card   \n",
              "12559  Credit card or prepaid card   \n",
              "10587  Credit card or prepaid card   \n",
              "12382  Credit card or prepaid card   \n",
              "28380  Credit card or prepaid card   \n",
              "9758   Credit card or prepaid card   \n",
              "13807  Credit card or prepaid card   \n",
              "27032  Credit card or prepaid card   \n",
              "28184  Credit card or prepaid card   \n",
              "28881  Credit card or prepaid card   \n",
              "17627  Credit card or prepaid card   \n",
              "\n",
              "                            Consumer_complaint_narrative  \n",
              "27562  1. Alleged Name and Address of Creditor 2. Nam...  \n",
              "25958  XXXX  has been non-compliant with removing the...  \n",
              "19101  This account is being illegally reported on my...  \n",
              "584    I signed up for this card back in XXXX in stor...  \n",
              "26848  Barclay 's Card has submitted hard inquiries w...  \n",
              "12559  Pentagon Federal Credit Union was paid an amou...  \n",
              "10587  XXXX, XXXX, payments were made by XXXX from XX...  \n",
              "12382  XXXX has been non-compliant with removing the ...  \n",
              "28380  This credit card account was supposed to be in...  \n",
              "9758   THD/CBNA ON XX/XX/XXXX did a hard Inquiry that...  \n",
              "13807  I was notified on XX/XX/18 via credit monitori...  \n",
              "27032  XXXX  has been non-compliant with removing the...  \n",
              "28184  Thanks current PayPal account it is impossible...  \n",
              "28881  They reported late payment onto my Credit Repo...  \n",
              "17627  On XX/XX/2018, I received a letter from US Ban...  "
            ]
          },
          "metadata": {
            "tags": []
          }
        },
        {
          "output_type": "stream",
          "text": [
            "\n",
            "'Vehicle loan or lease' predicted as 'Credit reporting, credit repair services, or other personal consumer reports' : 10 examples.\n"
          ],
          "name": "stdout"
        },
        {
          "output_type": "display_data",
          "data": {
            "text/html": [
              "<div>\n",
              "<style scoped>\n",
              "    .dataframe tbody tr th:only-of-type {\n",
              "        vertical-align: middle;\n",
              "    }\n",
              "\n",
              "    .dataframe tbody tr th {\n",
              "        vertical-align: top;\n",
              "    }\n",
              "\n",
              "    .dataframe thead th {\n",
              "        text-align: right;\n",
              "    }\n",
              "</style>\n",
              "<table border=\"1\" class=\"dataframe\">\n",
              "  <thead>\n",
              "    <tr style=\"text-align: right;\">\n",
              "      <th></th>\n",
              "      <th>Product</th>\n",
              "      <th>Consumer_complaint_narrative</th>\n",
              "    </tr>\n",
              "  </thead>\n",
              "  <tbody>\n",
              "    <tr>\n",
              "      <th>8254</th>\n",
              "      <td>Vehicle loan or lease</td>\n",
              "      <td>Bank of the West performed a double withdrawal...</td>\n",
              "    </tr>\n",
              "    <tr>\n",
              "      <th>9266</th>\n",
              "      <td>Vehicle loan or lease</td>\n",
              "      <td>Requested payment extension to make my payment...</td>\n",
              "    </tr>\n",
              "    <tr>\n",
              "      <th>12214</th>\n",
              "      <td>Vehicle loan or lease</td>\n",
              "      <td>XX/XX/2016 Dispute 1 : slammed with GAP insura...</td>\n",
              "    </tr>\n",
              "    <tr>\n",
              "      <th>19249</th>\n",
              "      <td>Vehicle loan or lease</td>\n",
              "      <td>American Credit Acceptance report inaccurate p...</td>\n",
              "    </tr>\n",
              "    <tr>\n",
              "      <th>14461</th>\n",
              "      <td>Vehicle loan or lease</td>\n",
              "      <td>XXXX has been non-compliant with removing the ...</td>\n",
              "    </tr>\n",
              "    <tr>\n",
              "      <th>20935</th>\n",
              "      <td>Vehicle loan or lease</td>\n",
              "      <td>I have an issue with M &amp; T bank I financed a v...</td>\n",
              "    </tr>\n",
              "    <tr>\n",
              "      <th>2514</th>\n",
              "      <td>Vehicle loan or lease</td>\n",
              "      <td>Experian removed XXXX  auto loan account that ...</td>\n",
              "    </tr>\n",
              "    <tr>\n",
              "      <th>23996</th>\n",
              "      <td>Vehicle loan or lease</td>\n",
              "      <td>XXXX  has been non-compliant with removing the...</td>\n",
              "    </tr>\n",
              "    <tr>\n",
              "      <th>8093</th>\n",
              "      <td>Vehicle loan or lease</td>\n",
              "      <td>XXXX  has been non-compliant with removing the...</td>\n",
              "    </tr>\n",
              "    <tr>\n",
              "      <th>28315</th>\n",
              "      <td>Vehicle loan or lease</td>\n",
              "      <td>On XX/XX/XXXX, applied for an auto loan but no...</td>\n",
              "    </tr>\n",
              "  </tbody>\n",
              "</table>\n",
              "</div>"
            ],
            "text/plain": [
              "                     Product  \\\n",
              "8254   Vehicle loan or lease   \n",
              "9266   Vehicle loan or lease   \n",
              "12214  Vehicle loan or lease   \n",
              "19249  Vehicle loan or lease   \n",
              "14461  Vehicle loan or lease   \n",
              "20935  Vehicle loan or lease   \n",
              "2514   Vehicle loan or lease   \n",
              "23996  Vehicle loan or lease   \n",
              "8093   Vehicle loan or lease   \n",
              "28315  Vehicle loan or lease   \n",
              "\n",
              "                            Consumer_complaint_narrative  \n",
              "8254   Bank of the West performed a double withdrawal...  \n",
              "9266   Requested payment extension to make my payment...  \n",
              "12214  XX/XX/2016 Dispute 1 : slammed with GAP insura...  \n",
              "19249  American Credit Acceptance report inaccurate p...  \n",
              "14461  XXXX has been non-compliant with removing the ...  \n",
              "20935  I have an issue with M & T bank I financed a v...  \n",
              "2514   Experian removed XXXX  auto loan account that ...  \n",
              "23996  XXXX  has been non-compliant with removing the...  \n",
              "8093   XXXX  has been non-compliant with removing the...  \n",
              "28315  On XX/XX/XXXX, applied for an auto loan but no...  "
            ]
          },
          "metadata": {
            "tags": []
          }
        },
        {
          "output_type": "stream",
          "text": [
            "\n",
            "'Mortgage' predicted as 'Credit reporting, credit repair services, or other personal consumer reports' : 6 examples.\n"
          ],
          "name": "stdout"
        },
        {
          "output_type": "display_data",
          "data": {
            "text/html": [
              "<div>\n",
              "<style scoped>\n",
              "    .dataframe tbody tr th:only-of-type {\n",
              "        vertical-align: middle;\n",
              "    }\n",
              "\n",
              "    .dataframe tbody tr th {\n",
              "        vertical-align: top;\n",
              "    }\n",
              "\n",
              "    .dataframe thead th {\n",
              "        text-align: right;\n",
              "    }\n",
              "</style>\n",
              "<table border=\"1\" class=\"dataframe\">\n",
              "  <thead>\n",
              "    <tr style=\"text-align: right;\">\n",
              "      <th></th>\n",
              "      <th>Product</th>\n",
              "      <th>Consumer_complaint_narrative</th>\n",
              "    </tr>\n",
              "  </thead>\n",
              "  <tbody>\n",
              "    <tr>\n",
              "      <th>15505</th>\n",
              "      <td>Mortgage</td>\n",
              "      <td>When I began the process of purchasing my firs...</td>\n",
              "    </tr>\n",
              "    <tr>\n",
              "      <th>17088</th>\n",
              "      <td>Mortgage</td>\n",
              "      <td>My name is XXXX XXXX XXXX, and recently I was ...</td>\n",
              "    </tr>\n",
              "    <tr>\n",
              "      <th>22840</th>\n",
              "      <td>Mortgage</td>\n",
              "      <td>In XX/XX/XXXX and XX/XX/XXXX Freedom Mortgage ...</td>\n",
              "    </tr>\n",
              "    <tr>\n",
              "      <th>29108</th>\n",
              "      <td>Mortgage</td>\n",
              "      <td>Wells Fargo Home Mortgage transferred my mortg...</td>\n",
              "    </tr>\n",
              "    <tr>\n",
              "      <th>22313</th>\n",
              "      <td>Mortgage</td>\n",
              "      <td>We are trying to refinance the mortgage due to...</td>\n",
              "    </tr>\n",
              "    <tr>\n",
              "      <th>16174</th>\n",
              "      <td>Mortgage</td>\n",
              "      <td>I submitted my basic information on XXXX XXXX,...</td>\n",
              "    </tr>\n",
              "  </tbody>\n",
              "</table>\n",
              "</div>"
            ],
            "text/plain": [
              "        Product                       Consumer_complaint_narrative\n",
              "15505  Mortgage  When I began the process of purchasing my firs...\n",
              "17088  Mortgage  My name is XXXX XXXX XXXX, and recently I was ...\n",
              "22840  Mortgage  In XX/XX/XXXX and XX/XX/XXXX Freedom Mortgage ...\n",
              "29108  Mortgage  Wells Fargo Home Mortgage transferred my mortg...\n",
              "22313  Mortgage  We are trying to refinance the mortgage due to...\n",
              "16174  Mortgage  I submitted my basic information on XXXX XXXX,..."
            ]
          },
          "metadata": {
            "tags": []
          }
        },
        {
          "output_type": "stream",
          "text": [
            "\n",
            "'Student loan' predicted as 'Credit reporting, credit repair services, or other personal consumer reports' : 9 examples.\n"
          ],
          "name": "stdout"
        },
        {
          "output_type": "display_data",
          "data": {
            "text/html": [
              "<div>\n",
              "<style scoped>\n",
              "    .dataframe tbody tr th:only-of-type {\n",
              "        vertical-align: middle;\n",
              "    }\n",
              "\n",
              "    .dataframe tbody tr th {\n",
              "        vertical-align: top;\n",
              "    }\n",
              "\n",
              "    .dataframe thead th {\n",
              "        text-align: right;\n",
              "    }\n",
              "</style>\n",
              "<table border=\"1\" class=\"dataframe\">\n",
              "  <thead>\n",
              "    <tr style=\"text-align: right;\">\n",
              "      <th></th>\n",
              "      <th>Product</th>\n",
              "      <th>Consumer_complaint_narrative</th>\n",
              "    </tr>\n",
              "  </thead>\n",
              "  <tbody>\n",
              "    <tr>\n",
              "      <th>15433</th>\n",
              "      <td>Student loan</td>\n",
              "      <td>I had Citi Student loans. Some where transferr...</td>\n",
              "    </tr>\n",
              "    <tr>\n",
              "      <th>28581</th>\n",
              "      <td>Student loan</td>\n",
              "      <td>I have ad repeated issues with the collection ...</td>\n",
              "    </tr>\n",
              "    <tr>\n",
              "      <th>7658</th>\n",
              "      <td>Student loan</td>\n",
              "      <td>I am unemployed not recieving anymore unemploy...</td>\n",
              "    </tr>\n",
              "    <tr>\n",
              "      <th>15519</th>\n",
              "      <td>Student loan</td>\n",
              "      <td>Well In XX/XX/XXXX my loans went into default ...</td>\n",
              "    </tr>\n",
              "    <tr>\n",
              "      <th>14524</th>\n",
              "      <td>Student loan</td>\n",
              "      <td>Someone used my identity to ATTEND COLLEGE dis...</td>\n",
              "    </tr>\n",
              "    <tr>\n",
              "      <th>9741</th>\n",
              "      <td>Student loan</td>\n",
              "      <td>i have been trying to get my student loan out ...</td>\n",
              "    </tr>\n",
              "    <tr>\n",
              "      <th>23517</th>\n",
              "      <td>Student loan</td>\n",
              "      <td>The letters sent went to addresses that I no l...</td>\n",
              "    </tr>\n",
              "    <tr>\n",
              "      <th>23575</th>\n",
              "      <td>Student loan</td>\n",
              "      <td>on XXXX XXXX i received a dept collection lett...</td>\n",
              "    </tr>\n",
              "    <tr>\n",
              "      <th>27435</th>\n",
              "      <td>Student loan</td>\n",
              "      <td>XXXX XXXX ( XXXX ) XXXX Higher Education Servi...</td>\n",
              "    </tr>\n",
              "  </tbody>\n",
              "</table>\n",
              "</div>"
            ],
            "text/plain": [
              "            Product                       Consumer_complaint_narrative\n",
              "15433  Student loan  I had Citi Student loans. Some where transferr...\n",
              "28581  Student loan  I have ad repeated issues with the collection ...\n",
              "7658   Student loan  I am unemployed not recieving anymore unemploy...\n",
              "15519  Student loan  Well In XX/XX/XXXX my loans went into default ...\n",
              "14524  Student loan  Someone used my identity to ATTEND COLLEGE dis...\n",
              "9741   Student loan  i have been trying to get my student loan out ...\n",
              "23517  Student loan  The letters sent went to addresses that I no l...\n",
              "23575  Student loan  on XXXX XXXX i received a dept collection lett...\n",
              "27435  Student loan  XXXX XXXX ( XXXX ) XXXX Higher Education Servi..."
            ]
          },
          "metadata": {
            "tags": []
          }
        },
        {
          "output_type": "stream",
          "text": [
            "\n",
            "'Credit reporting, credit repair services, or other personal consumer reports' predicted as 'Debt collection' : 24 examples.\n"
          ],
          "name": "stdout"
        },
        {
          "output_type": "display_data",
          "data": {
            "text/html": [
              "<div>\n",
              "<style scoped>\n",
              "    .dataframe tbody tr th:only-of-type {\n",
              "        vertical-align: middle;\n",
              "    }\n",
              "\n",
              "    .dataframe tbody tr th {\n",
              "        vertical-align: top;\n",
              "    }\n",
              "\n",
              "    .dataframe thead th {\n",
              "        text-align: right;\n",
              "    }\n",
              "</style>\n",
              "<table border=\"1\" class=\"dataframe\">\n",
              "  <thead>\n",
              "    <tr style=\"text-align: right;\">\n",
              "      <th></th>\n",
              "      <th>Product</th>\n",
              "      <th>Consumer_complaint_narrative</th>\n",
              "    </tr>\n",
              "  </thead>\n",
              "  <tbody>\n",
              "    <tr>\n",
              "      <th>24737</th>\n",
              "      <td>Credit reporting, credit repair services, or o...</td>\n",
              "      <td>I have sent 3 req asking for the validity of t...</td>\n",
              "    </tr>\n",
              "    <tr>\n",
              "      <th>3209</th>\n",
              "      <td>Credit reporting, credit repair services, or o...</td>\n",
              "      <td>I have deep concerns over fraudulent practices...</td>\n",
              "    </tr>\n",
              "    <tr>\n",
              "      <th>18844</th>\n",
              "      <td>Credit reporting, credit repair services, or o...</td>\n",
              "      <td>Between XX/XX/2018 and XX/XX/2018, a new accou...</td>\n",
              "    </tr>\n",
              "    <tr>\n",
              "      <th>18015</th>\n",
              "      <td>Credit reporting, credit repair services, or o...</td>\n",
              "      <td>Received communication from XXXX XXXX XXXX sta...</td>\n",
              "    </tr>\n",
              "    <tr>\n",
              "      <th>28884</th>\n",
              "      <td>Credit reporting, credit repair services, or o...</td>\n",
              "      <td>I completed an online APPLICATION only - for a...</td>\n",
              "    </tr>\n",
              "    <tr>\n",
              "      <th>3700</th>\n",
              "      <td>Credit reporting, credit repair services, or o...</td>\n",
              "      <td>my complaint is with XXXX XXXX XXXX  company I...</td>\n",
              "    </tr>\n",
              "    <tr>\n",
              "      <th>22934</th>\n",
              "      <td>Credit reporting, credit repair services, or o...</td>\n",
              "      <td>XXXX CONTINUES TO REPORT A BALANCE OF {$27000....</td>\n",
              "    </tr>\n",
              "    <tr>\n",
              "      <th>25595</th>\n",
              "      <td>Credit reporting, credit repair services, or o...</td>\n",
              "      <td>As of XX/XX/2018 I paid for deletion of this a...</td>\n",
              "    </tr>\n",
              "    <tr>\n",
              "      <th>20629</th>\n",
              "      <td>Credit reporting, credit repair services, or o...</td>\n",
              "      <td>Im having a problem with XXXX XXXX XXXX states...</td>\n",
              "    </tr>\n",
              "    <tr>\n",
              "      <th>29479</th>\n",
              "      <td>Credit reporting, credit repair services, or o...</td>\n",
              "      <td>I noticed a negative account on my credit repo...</td>\n",
              "    </tr>\n",
              "    <tr>\n",
              "      <th>14067</th>\n",
              "      <td>Credit reporting, credit repair services, or o...</td>\n",
              "      <td>After requesting \" proof of contract '' from c...</td>\n",
              "    </tr>\n",
              "    <tr>\n",
              "      <th>24806</th>\n",
              "      <td>Credit reporting, credit repair services, or o...</td>\n",
              "      <td>I have sent 3 req asking for the validity of t...</td>\n",
              "    </tr>\n",
              "    <tr>\n",
              "      <th>1832</th>\n",
              "      <td>Credit reporting, credit repair services, or o...</td>\n",
              "      <td>i noticed that XXXX XXXX  is claiming that i o...</td>\n",
              "    </tr>\n",
              "    <tr>\n",
              "      <th>15390</th>\n",
              "      <td>Credit reporting, credit repair services, or o...</td>\n",
              "      <td>I received a collection from XXXX XXXX on my r...</td>\n",
              "    </tr>\n",
              "    <tr>\n",
              "      <th>20061</th>\n",
              "      <td>Credit reporting, credit repair services, or o...</td>\n",
              "      <td>I have a a unverified account from XXXX XXXX #...</td>\n",
              "    </tr>\n",
              "    <tr>\n",
              "      <th>6749</th>\n",
              "      <td>Credit reporting, credit repair services, or o...</td>\n",
              "      <td>I had an installment loan for an online colleg...</td>\n",
              "    </tr>\n",
              "    <tr>\n",
              "      <th>14009</th>\n",
              "      <td>Credit reporting, credit repair services, or o...</td>\n",
              "      <td>This is the second time that I have requested ...</td>\n",
              "    </tr>\n",
              "    <tr>\n",
              "      <th>4785</th>\n",
              "      <td>Credit reporting, credit repair services, or o...</td>\n",
              "      <td>XXXX XXXX XXXX XXXX. XXXX XXXX XXXX. This is n...</td>\n",
              "    </tr>\n",
              "    <tr>\n",
              "      <th>23761</th>\n",
              "      <td>Credit reporting, credit repair services, or o...</td>\n",
              "      <td>This is in reference to XXXX on XX/XX/2018 i p...</td>\n",
              "    </tr>\n",
              "    <tr>\n",
              "      <th>23105</th>\n",
              "      <td>Credit reporting, credit repair services, or o...</td>\n",
              "      <td>XXXX XXXX XXXX Credit report indicates date of...</td>\n",
              "    </tr>\n",
              "    <tr>\n",
              "      <th>10554</th>\n",
              "      <td>Credit reporting, credit repair services, or o...</td>\n",
              "      <td>I checked my credit report and noticed three n...</td>\n",
              "    </tr>\n",
              "    <tr>\n",
              "      <th>6596</th>\n",
              "      <td>Credit reporting, credit repair services, or o...</td>\n",
              "      <td>I contacted transunion through a certified let...</td>\n",
              "    </tr>\n",
              "    <tr>\n",
              "      <th>7424</th>\n",
              "      <td>Credit reporting, credit repair services, or o...</td>\n",
              "      <td>To whom this may concern, I contacted XXXX XXX...</td>\n",
              "    </tr>\n",
              "    <tr>\n",
              "      <th>26305</th>\n",
              "      <td>Credit reporting, credit repair services, or o...</td>\n",
              "      <td>On XX/XX/2018 I submitted a dispute to XXXX in...</td>\n",
              "    </tr>\n",
              "  </tbody>\n",
              "</table>\n",
              "</div>"
            ],
            "text/plain": [
              "                                                 Product  \\\n",
              "24737  Credit reporting, credit repair services, or o...   \n",
              "3209   Credit reporting, credit repair services, or o...   \n",
              "18844  Credit reporting, credit repair services, or o...   \n",
              "18015  Credit reporting, credit repair services, or o...   \n",
              "28884  Credit reporting, credit repair services, or o...   \n",
              "3700   Credit reporting, credit repair services, or o...   \n",
              "22934  Credit reporting, credit repair services, or o...   \n",
              "25595  Credit reporting, credit repair services, or o...   \n",
              "20629  Credit reporting, credit repair services, or o...   \n",
              "29479  Credit reporting, credit repair services, or o...   \n",
              "14067  Credit reporting, credit repair services, or o...   \n",
              "24806  Credit reporting, credit repair services, or o...   \n",
              "1832   Credit reporting, credit repair services, or o...   \n",
              "15390  Credit reporting, credit repair services, or o...   \n",
              "20061  Credit reporting, credit repair services, or o...   \n",
              "6749   Credit reporting, credit repair services, or o...   \n",
              "14009  Credit reporting, credit repair services, or o...   \n",
              "4785   Credit reporting, credit repair services, or o...   \n",
              "23761  Credit reporting, credit repair services, or o...   \n",
              "23105  Credit reporting, credit repair services, or o...   \n",
              "10554  Credit reporting, credit repair services, or o...   \n",
              "6596   Credit reporting, credit repair services, or o...   \n",
              "7424   Credit reporting, credit repair services, or o...   \n",
              "26305  Credit reporting, credit repair services, or o...   \n",
              "\n",
              "                            Consumer_complaint_narrative  \n",
              "24737  I have sent 3 req asking for the validity of t...  \n",
              "3209   I have deep concerns over fraudulent practices...  \n",
              "18844  Between XX/XX/2018 and XX/XX/2018, a new accou...  \n",
              "18015  Received communication from XXXX XXXX XXXX sta...  \n",
              "28884  I completed an online APPLICATION only - for a...  \n",
              "3700   my complaint is with XXXX XXXX XXXX  company I...  \n",
              "22934  XXXX CONTINUES TO REPORT A BALANCE OF {$27000....  \n",
              "25595  As of XX/XX/2018 I paid for deletion of this a...  \n",
              "20629  Im having a problem with XXXX XXXX XXXX states...  \n",
              "29479  I noticed a negative account on my credit repo...  \n",
              "14067  After requesting \" proof of contract '' from c...  \n",
              "24806  I have sent 3 req asking for the validity of t...  \n",
              "1832   i noticed that XXXX XXXX  is claiming that i o...  \n",
              "15390  I received a collection from XXXX XXXX on my r...  \n",
              "20061  I have a a unverified account from XXXX XXXX #...  \n",
              "6749   I had an installment loan for an online colleg...  \n",
              "14009  This is the second time that I have requested ...  \n",
              "4785   XXXX XXXX XXXX XXXX. XXXX XXXX XXXX. This is n...  \n",
              "23761  This is in reference to XXXX on XX/XX/2018 i p...  \n",
              "23105  XXXX XXXX XXXX Credit report indicates date of...  \n",
              "10554  I checked my credit report and noticed three n...  \n",
              "6596   I contacted transunion through a certified let...  \n",
              "7424   To whom this may concern, I contacted XXXX XXX...  \n",
              "26305  On XX/XX/2018 I submitted a dispute to XXXX in...  "
            ]
          },
          "metadata": {
            "tags": []
          }
        },
        {
          "output_type": "stream",
          "text": [
            "\n",
            "'Payday loan, title loan, or personal loan' predicted as 'Debt collection' : 8 examples.\n"
          ],
          "name": "stdout"
        },
        {
          "output_type": "display_data",
          "data": {
            "text/html": [
              "<div>\n",
              "<style scoped>\n",
              "    .dataframe tbody tr th:only-of-type {\n",
              "        vertical-align: middle;\n",
              "    }\n",
              "\n",
              "    .dataframe tbody tr th {\n",
              "        vertical-align: top;\n",
              "    }\n",
              "\n",
              "    .dataframe thead th {\n",
              "        text-align: right;\n",
              "    }\n",
              "</style>\n",
              "<table border=\"1\" class=\"dataframe\">\n",
              "  <thead>\n",
              "    <tr style=\"text-align: right;\">\n",
              "      <th></th>\n",
              "      <th>Product</th>\n",
              "      <th>Consumer_complaint_narrative</th>\n",
              "    </tr>\n",
              "  </thead>\n",
              "  <tbody>\n",
              "    <tr>\n",
              "      <th>6673</th>\n",
              "      <td>Payday loan, title loan, or personal loan</td>\n",
              "      <td>Notice of Fault and Opportunity to Cure and to...</td>\n",
              "    </tr>\n",
              "    <tr>\n",
              "      <th>3667</th>\n",
              "      <td>Payday loan, title loan, or personal loan</td>\n",
              "      <td>I called in XX/XX/2018 and asked to have my ac...</td>\n",
              "    </tr>\n",
              "    <tr>\n",
              "      <th>27303</th>\n",
              "      <td>Payday loan, title loan, or personal loan</td>\n",
              "      <td>On XX/XX/2018 I went to the bank to pull money...</td>\n",
              "    </tr>\n",
              "    <tr>\n",
              "      <th>8498</th>\n",
              "      <td>Payday loan, title loan, or personal loan</td>\n",
              "      <td>I borrowed money from cashnetUSA on XX/XX/XXXX...</td>\n",
              "    </tr>\n",
              "    <tr>\n",
              "      <th>27424</th>\n",
              "      <td>Payday loan, title loan, or personal loan</td>\n",
              "      <td>Called Sun Loan Company on XX/XX/2018 to speak...</td>\n",
              "    </tr>\n",
              "    <tr>\n",
              "      <th>7777</th>\n",
              "      <td>Payday loan, title loan, or personal loan</td>\n",
              "      <td>I got a loan for {$1200.00} and every other we...</td>\n",
              "    </tr>\n",
              "    <tr>\n",
              "      <th>17198</th>\n",
              "      <td>Payday loan, title loan, or personal loan</td>\n",
              "      <td>I told them not to contact me at work and the ...</td>\n",
              "    </tr>\n",
              "    <tr>\n",
              "      <th>26964</th>\n",
              "      <td>Payday loan, title loan, or personal loan</td>\n",
              "      <td>XX/XX/XXXX ( XXXX XXXX, PST ) At all relevant ...</td>\n",
              "    </tr>\n",
              "  </tbody>\n",
              "</table>\n",
              "</div>"
            ],
            "text/plain": [
              "                                         Product  \\\n",
              "6673   Payday loan, title loan, or personal loan   \n",
              "3667   Payday loan, title loan, or personal loan   \n",
              "27303  Payday loan, title loan, or personal loan   \n",
              "8498   Payday loan, title loan, or personal loan   \n",
              "27424  Payday loan, title loan, or personal loan   \n",
              "7777   Payday loan, title loan, or personal loan   \n",
              "17198  Payday loan, title loan, or personal loan   \n",
              "26964  Payday loan, title loan, or personal loan   \n",
              "\n",
              "                            Consumer_complaint_narrative  \n",
              "6673   Notice of Fault and Opportunity to Cure and to...  \n",
              "3667   I called in XX/XX/2018 and asked to have my ac...  \n",
              "27303  On XX/XX/2018 I went to the bank to pull money...  \n",
              "8498   I borrowed money from cashnetUSA on XX/XX/XXXX...  \n",
              "27424  Called Sun Loan Company on XX/XX/2018 to speak...  \n",
              "7777   I got a loan for {$1200.00} and every other we...  \n",
              "17198  I told them not to contact me at work and the ...  \n",
              "26964  XX/XX/XXXX ( XXXX XXXX, PST ) At all relevant ...  "
            ]
          },
          "metadata": {
            "tags": []
          }
        },
        {
          "output_type": "stream",
          "text": [
            "\n",
            "'Vehicle loan or lease' predicted as 'Debt collection' : 6 examples.\n"
          ],
          "name": "stdout"
        },
        {
          "output_type": "display_data",
          "data": {
            "text/html": [
              "<div>\n",
              "<style scoped>\n",
              "    .dataframe tbody tr th:only-of-type {\n",
              "        vertical-align: middle;\n",
              "    }\n",
              "\n",
              "    .dataframe tbody tr th {\n",
              "        vertical-align: top;\n",
              "    }\n",
              "\n",
              "    .dataframe thead th {\n",
              "        text-align: right;\n",
              "    }\n",
              "</style>\n",
              "<table border=\"1\" class=\"dataframe\">\n",
              "  <thead>\n",
              "    <tr style=\"text-align: right;\">\n",
              "      <th></th>\n",
              "      <th>Product</th>\n",
              "      <th>Consumer_complaint_narrative</th>\n",
              "    </tr>\n",
              "  </thead>\n",
              "  <tbody>\n",
              "    <tr>\n",
              "      <th>21632</th>\n",
              "      <td>Vehicle loan or lease</td>\n",
              "      <td>XX/XX/2018 XXXX from XXXX XXXX called a reside...</td>\n",
              "    </tr>\n",
              "    <tr>\n",
              "      <th>20459</th>\n",
              "      <td>Vehicle loan or lease</td>\n",
              "      <td>I requested a rewrite to lower my monthly paym...</td>\n",
              "    </tr>\n",
              "    <tr>\n",
              "      <th>22443</th>\n",
              "      <td>Vehicle loan or lease</td>\n",
              "      <td>In XX/XX/2018, I notified Carvant Financial to...</td>\n",
              "    </tr>\n",
              "    <tr>\n",
              "      <th>23843</th>\n",
              "      <td>Vehicle loan or lease</td>\n",
              "      <td>I filed bankruptcy in XX/XX/XXXX as a single f...</td>\n",
              "    </tr>\n",
              "    <tr>\n",
              "      <th>27598</th>\n",
              "      <td>Vehicle loan or lease</td>\n",
              "      <td>The amount owe is not the right amount The rig...</td>\n",
              "    </tr>\n",
              "    <tr>\n",
              "      <th>3625</th>\n",
              "      <td>Vehicle loan or lease</td>\n",
              "      <td>Due to unforeseen circumstances we requested a...</td>\n",
              "    </tr>\n",
              "  </tbody>\n",
              "</table>\n",
              "</div>"
            ],
            "text/plain": [
              "                     Product  \\\n",
              "21632  Vehicle loan or lease   \n",
              "20459  Vehicle loan or lease   \n",
              "22443  Vehicle loan or lease   \n",
              "23843  Vehicle loan or lease   \n",
              "27598  Vehicle loan or lease   \n",
              "3625   Vehicle loan or lease   \n",
              "\n",
              "                            Consumer_complaint_narrative  \n",
              "21632  XX/XX/2018 XXXX from XXXX XXXX called a reside...  \n",
              "20459  I requested a rewrite to lower my monthly paym...  \n",
              "22443  In XX/XX/2018, I notified Carvant Financial to...  \n",
              "23843  I filed bankruptcy in XX/XX/XXXX as a single f...  \n",
              "27598  The amount owe is not the right amount The rig...  \n",
              "3625   Due to unforeseen circumstances we requested a...  "
            ]
          },
          "metadata": {
            "tags": []
          }
        },
        {
          "output_type": "stream",
          "text": [
            "\n",
            "'Credit reporting, credit repair services, or other personal consumer reports' predicted as 'Credit card or prepaid card' : 13 examples.\n"
          ],
          "name": "stdout"
        },
        {
          "output_type": "display_data",
          "data": {
            "text/html": [
              "<div>\n",
              "<style scoped>\n",
              "    .dataframe tbody tr th:only-of-type {\n",
              "        vertical-align: middle;\n",
              "    }\n",
              "\n",
              "    .dataframe tbody tr th {\n",
              "        vertical-align: top;\n",
              "    }\n",
              "\n",
              "    .dataframe thead th {\n",
              "        text-align: right;\n",
              "    }\n",
              "</style>\n",
              "<table border=\"1\" class=\"dataframe\">\n",
              "  <thead>\n",
              "    <tr style=\"text-align: right;\">\n",
              "      <th></th>\n",
              "      <th>Product</th>\n",
              "      <th>Consumer_complaint_narrative</th>\n",
              "    </tr>\n",
              "  </thead>\n",
              "  <tbody>\n",
              "    <tr>\n",
              "      <th>23648</th>\n",
              "      <td>Credit reporting, credit repair services, or o...</td>\n",
              "      <td>On XX/XX/2016 a credit card was opened in my n...</td>\n",
              "    </tr>\n",
              "    <tr>\n",
              "      <th>21202</th>\n",
              "      <td>Credit reporting, credit repair services, or o...</td>\n",
              "      <td>My dispute is with Citi-Bank and XXXX XXXX. Du...</td>\n",
              "    </tr>\n",
              "    <tr>\n",
              "      <th>11669</th>\n",
              "      <td>Credit reporting, credit repair services, or o...</td>\n",
              "      <td>On XX/XX/2016 my card was lost or stolen, so X...</td>\n",
              "    </tr>\n",
              "    <tr>\n",
              "      <th>16161</th>\n",
              "      <td>Credit reporting, credit repair services, or o...</td>\n",
              "      <td>I received an email saying that I miss a payme...</td>\n",
              "    </tr>\n",
              "    <tr>\n",
              "      <th>26586</th>\n",
              "      <td>Credit reporting, credit repair services, or o...</td>\n",
              "      <td>Previous Complaint Number XXXX - was closed du...</td>\n",
              "    </tr>\n",
              "    <tr>\n",
              "      <th>28386</th>\n",
              "      <td>Credit reporting, credit repair services, or o...</td>\n",
              "      <td>I was shocked when I reviewed my credit report...</td>\n",
              "    </tr>\n",
              "    <tr>\n",
              "      <th>16156</th>\n",
              "      <td>Credit reporting, credit repair services, or o...</td>\n",
              "      <td>In the month of XX/XX/2018, while on a XXXX XX...</td>\n",
              "    </tr>\n",
              "    <tr>\n",
              "      <th>16189</th>\n",
              "      <td>Credit reporting, credit repair services, or o...</td>\n",
              "      <td>I received an email saying that I miss a payme...</td>\n",
              "    </tr>\n",
              "    <tr>\n",
              "      <th>28622</th>\n",
              "      <td>Credit reporting, credit repair services, or o...</td>\n",
              "      <td>Citibank sent me a letter that they closed my ...</td>\n",
              "    </tr>\n",
              "    <tr>\n",
              "      <th>19144</th>\n",
              "      <td>Credit reporting, credit repair services, or o...</td>\n",
              "      <td>I don't have a credit card with us bank and ne...</td>\n",
              "    </tr>\n",
              "    <tr>\n",
              "      <th>3433</th>\n",
              "      <td>Credit reporting, credit repair services, or o...</td>\n",
              "      <td>Hi, I sent out a letter to XXXX/XXXX which was...</td>\n",
              "    </tr>\n",
              "    <tr>\n",
              "      <th>18513</th>\n",
              "      <td>Credit reporting, credit repair services, or o...</td>\n",
              "      <td>I have 2 issues with Citibank. \\n# 1 ). XXXX c...</td>\n",
              "    </tr>\n",
              "    <tr>\n",
              "      <th>11476</th>\n",
              "      <td>Credit reporting, credit repair services, or o...</td>\n",
              "      <td>Account is fraud</td>\n",
              "    </tr>\n",
              "  </tbody>\n",
              "</table>\n",
              "</div>"
            ],
            "text/plain": [
              "                                                 Product  \\\n",
              "23648  Credit reporting, credit repair services, or o...   \n",
              "21202  Credit reporting, credit repair services, or o...   \n",
              "11669  Credit reporting, credit repair services, or o...   \n",
              "16161  Credit reporting, credit repair services, or o...   \n",
              "26586  Credit reporting, credit repair services, or o...   \n",
              "28386  Credit reporting, credit repair services, or o...   \n",
              "16156  Credit reporting, credit repair services, or o...   \n",
              "16189  Credit reporting, credit repair services, or o...   \n",
              "28622  Credit reporting, credit repair services, or o...   \n",
              "19144  Credit reporting, credit repair services, or o...   \n",
              "3433   Credit reporting, credit repair services, or o...   \n",
              "18513  Credit reporting, credit repair services, or o...   \n",
              "11476  Credit reporting, credit repair services, or o...   \n",
              "\n",
              "                            Consumer_complaint_narrative  \n",
              "23648  On XX/XX/2016 a credit card was opened in my n...  \n",
              "21202  My dispute is with Citi-Bank and XXXX XXXX. Du...  \n",
              "11669  On XX/XX/2016 my card was lost or stolen, so X...  \n",
              "16161  I received an email saying that I miss a payme...  \n",
              "26586  Previous Complaint Number XXXX - was closed du...  \n",
              "28386  I was shocked when I reviewed my credit report...  \n",
              "16156  In the month of XX/XX/2018, while on a XXXX XX...  \n",
              "16189  I received an email saying that I miss a payme...  \n",
              "28622  Citibank sent me a letter that they closed my ...  \n",
              "19144  I don't have a credit card with us bank and ne...  \n",
              "3433   Hi, I sent out a letter to XXXX/XXXX which was...  \n",
              "18513  I have 2 issues with Citibank. \\n# 1 ). XXXX c...  \n",
              "11476                                   Account is fraud  "
            ]
          },
          "metadata": {
            "tags": []
          }
        },
        {
          "output_type": "stream",
          "text": [
            "\n",
            "'Checking or savings account' predicted as 'Credit card or prepaid card' : 12 examples.\n"
          ],
          "name": "stdout"
        },
        {
          "output_type": "display_data",
          "data": {
            "text/html": [
              "<div>\n",
              "<style scoped>\n",
              "    .dataframe tbody tr th:only-of-type {\n",
              "        vertical-align: middle;\n",
              "    }\n",
              "\n",
              "    .dataframe tbody tr th {\n",
              "        vertical-align: top;\n",
              "    }\n",
              "\n",
              "    .dataframe thead th {\n",
              "        text-align: right;\n",
              "    }\n",
              "</style>\n",
              "<table border=\"1\" class=\"dataframe\">\n",
              "  <thead>\n",
              "    <tr style=\"text-align: right;\">\n",
              "      <th></th>\n",
              "      <th>Product</th>\n",
              "      <th>Consumer_complaint_narrative</th>\n",
              "    </tr>\n",
              "  </thead>\n",
              "  <tbody>\n",
              "    <tr>\n",
              "      <th>23328</th>\n",
              "      <td>Checking or savings account</td>\n",
              "      <td>My card was used to withdrawal funds without m...</td>\n",
              "    </tr>\n",
              "    <tr>\n",
              "      <th>28623</th>\n",
              "      <td>Checking or savings account</td>\n",
              "      <td>On XX/XX/2018, the NC department of revenue ( ...</td>\n",
              "    </tr>\n",
              "    <tr>\n",
              "      <th>13262</th>\n",
              "      <td>Checking or savings account</td>\n",
              "      <td>On XX/XX/XXXX I made a purchase from XXXX XXXX...</td>\n",
              "    </tr>\n",
              "    <tr>\n",
              "      <th>20203</th>\n",
              "      <td>Checking or savings account</td>\n",
              "      <td>Citibank checking account ..I was hospitalized...</td>\n",
              "    </tr>\n",
              "    <tr>\n",
              "      <th>23533</th>\n",
              "      <td>Checking or savings account</td>\n",
              "      <td>My wallet was stolen, reported to police, arre...</td>\n",
              "    </tr>\n",
              "    <tr>\n",
              "      <th>13893</th>\n",
              "      <td>Checking or savings account</td>\n",
              "      <td>Dear CFPB i closed my account in XXXX with a X...</td>\n",
              "    </tr>\n",
              "    <tr>\n",
              "      <th>17549</th>\n",
              "      <td>Checking or savings account</td>\n",
              "      <td>On XX/XX/2018. I filed a fraud claim with citi...</td>\n",
              "    </tr>\n",
              "    <tr>\n",
              "      <th>26469</th>\n",
              "      <td>Checking or savings account</td>\n",
              "      <td>I called on XX/XX/XXXX and tried to resolve {$...</td>\n",
              "    </tr>\n",
              "    <tr>\n",
              "      <th>25444</th>\n",
              "      <td>Checking or savings account</td>\n",
              "      <td>On XX/XX/XXXX I went into a Bank of America Br...</td>\n",
              "    </tr>\n",
              "    <tr>\n",
              "      <th>29198</th>\n",
              "      <td>Checking or savings account</td>\n",
              "      <td>I opened an account with Usaa in XX/XX/2018. I...</td>\n",
              "    </tr>\n",
              "    <tr>\n",
              "      <th>22502</th>\n",
              "      <td>Checking or savings account</td>\n",
              "      <td>company refuses to close my account and charge...</td>\n",
              "    </tr>\n",
              "    <tr>\n",
              "      <th>7234</th>\n",
              "      <td>Checking or savings account</td>\n",
              "      <td>This has been an ongoing issue with their OD c...</td>\n",
              "    </tr>\n",
              "  </tbody>\n",
              "</table>\n",
              "</div>"
            ],
            "text/plain": [
              "                           Product  \\\n",
              "23328  Checking or savings account   \n",
              "28623  Checking or savings account   \n",
              "13262  Checking or savings account   \n",
              "20203  Checking or savings account   \n",
              "23533  Checking or savings account   \n",
              "13893  Checking or savings account   \n",
              "17549  Checking or savings account   \n",
              "26469  Checking or savings account   \n",
              "25444  Checking or savings account   \n",
              "29198  Checking or savings account   \n",
              "22502  Checking or savings account   \n",
              "7234   Checking or savings account   \n",
              "\n",
              "                            Consumer_complaint_narrative  \n",
              "23328  My card was used to withdrawal funds without m...  \n",
              "28623  On XX/XX/2018, the NC department of revenue ( ...  \n",
              "13262  On XX/XX/XXXX I made a purchase from XXXX XXXX...  \n",
              "20203  Citibank checking account ..I was hospitalized...  \n",
              "23533  My wallet was stolen, reported to police, arre...  \n",
              "13893  Dear CFPB i closed my account in XXXX with a X...  \n",
              "17549  On XX/XX/2018. I filed a fraud claim with citi...  \n",
              "26469  I called on XX/XX/XXXX and tried to resolve {$...  \n",
              "25444  On XX/XX/XXXX I went into a Bank of America Br...  \n",
              "29198  I opened an account with Usaa in XX/XX/2018. I...  \n",
              "22502  company refuses to close my account and charge...  \n",
              "7234   This has been an ongoing issue with their OD c...  "
            ]
          },
          "metadata": {
            "tags": []
          }
        },
        {
          "output_type": "stream",
          "text": [
            "\n",
            "'Credit card or prepaid card' predicted as 'Checking or savings account' : 6 examples.\n"
          ],
          "name": "stdout"
        },
        {
          "output_type": "display_data",
          "data": {
            "text/html": [
              "<div>\n",
              "<style scoped>\n",
              "    .dataframe tbody tr th:only-of-type {\n",
              "        vertical-align: middle;\n",
              "    }\n",
              "\n",
              "    .dataframe tbody tr th {\n",
              "        vertical-align: top;\n",
              "    }\n",
              "\n",
              "    .dataframe thead th {\n",
              "        text-align: right;\n",
              "    }\n",
              "</style>\n",
              "<table border=\"1\" class=\"dataframe\">\n",
              "  <thead>\n",
              "    <tr style=\"text-align: right;\">\n",
              "      <th></th>\n",
              "      <th>Product</th>\n",
              "      <th>Consumer_complaint_narrative</th>\n",
              "    </tr>\n",
              "  </thead>\n",
              "  <tbody>\n",
              "    <tr>\n",
              "      <th>23535</th>\n",
              "      <td>Credit card or prepaid card</td>\n",
              "      <td>On XX/XX/2018 I reported my account ending in ...</td>\n",
              "    </tr>\n",
              "    <tr>\n",
              "      <th>28607</th>\n",
              "      <td>Credit card or prepaid card</td>\n",
              "      <td>On XX/XX/2018 I made deposits on two crises wi...</td>\n",
              "    </tr>\n",
              "    <tr>\n",
              "      <th>19026</th>\n",
              "      <td>Credit card or prepaid card</td>\n",
              "      <td>Dates of fraudulent transactions were for XXXX...</td>\n",
              "    </tr>\n",
              "    <tr>\n",
              "      <th>26246</th>\n",
              "      <td>Credit card or prepaid card</td>\n",
              "      <td>I had tried to submit a request for appeal and...</td>\n",
              "    </tr>\n",
              "    <tr>\n",
              "      <th>24221</th>\n",
              "      <td>Credit card or prepaid card</td>\n",
              "      <td>I did not receive my payroll direct deposit an...</td>\n",
              "    </tr>\n",
              "    <tr>\n",
              "      <th>21468</th>\n",
              "      <td>Credit card or prepaid card</td>\n",
              "      <td>I am a \" Star Rewards '' cardholder with XXXX....</td>\n",
              "    </tr>\n",
              "  </tbody>\n",
              "</table>\n",
              "</div>"
            ],
            "text/plain": [
              "                           Product  \\\n",
              "23535  Credit card or prepaid card   \n",
              "28607  Credit card or prepaid card   \n",
              "19026  Credit card or prepaid card   \n",
              "26246  Credit card or prepaid card   \n",
              "24221  Credit card or prepaid card   \n",
              "21468  Credit card or prepaid card   \n",
              "\n",
              "                            Consumer_complaint_narrative  \n",
              "23535  On XX/XX/2018 I reported my account ending in ...  \n",
              "28607  On XX/XX/2018 I made deposits on two crises wi...  \n",
              "19026  Dates of fraudulent transactions were for XXXX...  \n",
              "26246  I had tried to submit a request for appeal and...  \n",
              "24221  I did not receive my payroll direct deposit an...  \n",
              "21468  I am a \" Star Rewards '' cardholder with XXXX....  "
            ]
          },
          "metadata": {
            "tags": []
          }
        },
        {
          "output_type": "stream",
          "text": [
            "\n",
            "'Money transfer, virtual currency, or money service' predicted as 'Checking or savings account' : 8 examples.\n"
          ],
          "name": "stdout"
        },
        {
          "output_type": "display_data",
          "data": {
            "text/html": [
              "<div>\n",
              "<style scoped>\n",
              "    .dataframe tbody tr th:only-of-type {\n",
              "        vertical-align: middle;\n",
              "    }\n",
              "\n",
              "    .dataframe tbody tr th {\n",
              "        vertical-align: top;\n",
              "    }\n",
              "\n",
              "    .dataframe thead th {\n",
              "        text-align: right;\n",
              "    }\n",
              "</style>\n",
              "<table border=\"1\" class=\"dataframe\">\n",
              "  <thead>\n",
              "    <tr style=\"text-align: right;\">\n",
              "      <th></th>\n",
              "      <th>Product</th>\n",
              "      <th>Consumer_complaint_narrative</th>\n",
              "    </tr>\n",
              "  </thead>\n",
              "  <tbody>\n",
              "    <tr>\n",
              "      <th>9676</th>\n",
              "      <td>Money transfer, virtual currency, or money ser...</td>\n",
              "      <td>I have been victim of banking fraud for both W...</td>\n",
              "    </tr>\n",
              "    <tr>\n",
              "      <th>8817</th>\n",
              "      <td>Money transfer, virtual currency, or money ser...</td>\n",
              "      <td>This complaint is for Citibank. \\n\\nOn XX/XX/2...</td>\n",
              "    </tr>\n",
              "    <tr>\n",
              "      <th>28216</th>\n",
              "      <td>Money transfer, virtual currency, or money ser...</td>\n",
              "      <td>I had {$1900.00} stolen from my Bank of Americ...</td>\n",
              "    </tr>\n",
              "    <tr>\n",
              "      <th>17984</th>\n",
              "      <td>Money transfer, virtual currency, or money ser...</td>\n",
              "      <td>On XX/XX/XXXX, I made an international wire tr...</td>\n",
              "    </tr>\n",
              "    <tr>\n",
              "      <th>24837</th>\n",
              "      <td>Money transfer, virtual currency, or money ser...</td>\n",
              "      <td>Lady needing funds to settle and process fathe...</td>\n",
              "    </tr>\n",
              "    <tr>\n",
              "      <th>7893</th>\n",
              "      <td>Money transfer, virtual currency, or money ser...</td>\n",
              "      <td>On the previous report, I stated TWO scenarios...</td>\n",
              "    </tr>\n",
              "    <tr>\n",
              "      <th>27701</th>\n",
              "      <td>Money transfer, virtual currency, or money ser...</td>\n",
              "      <td>The wire transfer was made with my account to ...</td>\n",
              "    </tr>\n",
              "    <tr>\n",
              "      <th>12873</th>\n",
              "      <td>Money transfer, virtual currency, or money ser...</td>\n",
              "      <td>Last Friday, XX/XX/2018 I deposited a check in...</td>\n",
              "    </tr>\n",
              "  </tbody>\n",
              "</table>\n",
              "</div>"
            ],
            "text/plain": [
              "                                                 Product  \\\n",
              "9676   Money transfer, virtual currency, or money ser...   \n",
              "8817   Money transfer, virtual currency, or money ser...   \n",
              "28216  Money transfer, virtual currency, or money ser...   \n",
              "17984  Money transfer, virtual currency, or money ser...   \n",
              "24837  Money transfer, virtual currency, or money ser...   \n",
              "7893   Money transfer, virtual currency, or money ser...   \n",
              "27701  Money transfer, virtual currency, or money ser...   \n",
              "12873  Money transfer, virtual currency, or money ser...   \n",
              "\n",
              "                            Consumer_complaint_narrative  \n",
              "9676   I have been victim of banking fraud for both W...  \n",
              "8817   This complaint is for Citibank. \\n\\nOn XX/XX/2...  \n",
              "28216  I had {$1900.00} stolen from my Bank of Americ...  \n",
              "17984  On XX/XX/XXXX, I made an international wire tr...  \n",
              "24837  Lady needing funds to settle and process fathe...  \n",
              "7893   On the previous report, I stated TWO scenarios...  \n",
              "27701  The wire transfer was made with my account to ...  \n",
              "12873  Last Friday, XX/XX/2018 I deposited a check in...  "
            ]
          },
          "metadata": {
            "tags": []
          }
        },
        {
          "output_type": "stream",
          "text": [
            "\n",
            "'Debt collection' predicted as 'Mortgage' : 6 examples.\n"
          ],
          "name": "stdout"
        },
        {
          "output_type": "display_data",
          "data": {
            "text/html": [
              "<div>\n",
              "<style scoped>\n",
              "    .dataframe tbody tr th:only-of-type {\n",
              "        vertical-align: middle;\n",
              "    }\n",
              "\n",
              "    .dataframe tbody tr th {\n",
              "        vertical-align: top;\n",
              "    }\n",
              "\n",
              "    .dataframe thead th {\n",
              "        text-align: right;\n",
              "    }\n",
              "</style>\n",
              "<table border=\"1\" class=\"dataframe\">\n",
              "  <thead>\n",
              "    <tr style=\"text-align: right;\">\n",
              "      <th></th>\n",
              "      <th>Product</th>\n",
              "      <th>Consumer_complaint_narrative</th>\n",
              "    </tr>\n",
              "  </thead>\n",
              "  <tbody>\n",
              "    <tr>\n",
              "      <th>9407</th>\n",
              "      <td>Debt collection</td>\n",
              "      <td>Background Information On XX/XX/XXXX my mortga...</td>\n",
              "    </tr>\n",
              "    <tr>\n",
              "      <th>6517</th>\n",
              "      <td>Debt collection</td>\n",
              "      <td>This is a follow-up complaint to CN # XXXX ; w...</td>\n",
              "    </tr>\n",
              "    <tr>\n",
              "      <th>12938</th>\n",
              "      <td>Debt collection</td>\n",
              "      <td>1- SPS has failed to provide proof by affidavi...</td>\n",
              "    </tr>\n",
              "    <tr>\n",
              "      <th>24642</th>\n",
              "      <td>Debt collection</td>\n",
              "      <td>I am cosigned on a loan with my son- he is mak...</td>\n",
              "    </tr>\n",
              "    <tr>\n",
              "      <th>8597</th>\n",
              "      <td>Debt collection</td>\n",
              "      <td>On XX/XX/2018 at XXXX, I received a call from ...</td>\n",
              "    </tr>\n",
              "    <tr>\n",
              "      <th>29127</th>\n",
              "      <td>Debt collection</td>\n",
              "      <td>I would like the CFPB to make me a spot check ...</td>\n",
              "    </tr>\n",
              "  </tbody>\n",
              "</table>\n",
              "</div>"
            ],
            "text/plain": [
              "               Product                       Consumer_complaint_narrative\n",
              "9407   Debt collection  Background Information On XX/XX/XXXX my mortga...\n",
              "6517   Debt collection  This is a follow-up complaint to CN # XXXX ; w...\n",
              "12938  Debt collection  1- SPS has failed to provide proof by affidavi...\n",
              "24642  Debt collection  I am cosigned on a loan with my son- he is mak...\n",
              "8597   Debt collection  On XX/XX/2018 at XXXX, I received a call from ...\n",
              "29127  Debt collection  I would like the CFPB to make me a spot check ..."
            ]
          },
          "metadata": {
            "tags": []
          }
        },
        {
          "output_type": "stream",
          "text": [
            "\n"
          ],
          "name": "stdout"
        }
      ]
    },
    {
      "metadata": {
        "id": "JOvmghUN56Jw",
        "colab_type": "text"
      },
      "cell_type": "markdown",
      "source": [
        "As you can see, some of the misclassified complaints are complaints that touch on more than one subjects (for example, complaints involving both credit card and credit report). This sort of errors will always happen.\n",
        "\n",
        "Again, we use the chi-squared test to find the terms that are the most correlated with each of the categories:"
      ]
    },
    {
      "metadata": {
        "id": "cyhUMoBJtfAE",
        "colab_type": "code",
        "outputId": "34d98787-42e2-42bd-d15e-1782def4c703",
        "colab": {
          "base_uri": "https://localhost:8080/",
          "height": 85
        }
      },
      "cell_type": "code",
      "source": [
        "model.fit(features, labels)"
      ],
      "execution_count": 45,
      "outputs": [
        {
          "output_type": "execute_result",
          "data": {
            "text/plain": [
              "LinearSVC(C=1.0, class_weight=None, dual=True, fit_intercept=True,\n",
              "     intercept_scaling=1, loss='squared_hinge', max_iter=1000,\n",
              "     multi_class='ovr', penalty='l2', random_state=None, tol=0.0001,\n",
              "     verbose=0)"
            ]
          },
          "metadata": {
            "tags": []
          },
          "execution_count": 45
        }
      ]
    },
    {
      "metadata": {
        "scrolled": false,
        "id": "BUs99BIftfAI",
        "colab_type": "code",
        "outputId": "f50fbb0d-a547-4c1c-8b77-edd2523df5e0",
        "colab": {
          "base_uri": "https://localhost:8080/",
          "height": 1088
        }
      },
      "cell_type": "code",
      "source": [
        "from sklearn.feature_selection import chi2\n",
        "\n",
        "N = 2\n",
        "for Product, category_id in sorted(category_to_id.items()):\n",
        "  indices = np.argsort(model.coef_[category_id])\n",
        "  feature_names = np.array(tfidf.get_feature_names())[indices]\n",
        "  unigrams = [v for v in reversed(feature_names) if len(v.split(' ')) == 1][:N]\n",
        "  bigrams = [v for v in reversed(feature_names) if len(v.split(' ')) == 2][:N]\n",
        "  print(\"# '{}':\".format(Product))\n",
        "  print(\"  . Top unigrams:\\n       . {}\".format('\\n       . '.join(unigrams)))\n",
        "  print(\"  . Top bigrams:\\n       . {}\".format('\\n       . '.join(bigrams)))"
      ],
      "execution_count": 46,
      "outputs": [
        {
          "output_type": "stream",
          "text": [
            "# 'Checking or savings account':\n",
            "  . Top unigrams:\n",
            "       . branch\n",
            "       . bank\n",
            "  . Top bigrams:\n",
            "       . called bank\n",
            "       . debit card\n",
            "# 'Credit card or prepaid card':\n",
            "  . Top unigrams:\n",
            "       . card\n",
            "       . citi\n",
            "  . Top bigrams:\n",
            "       . balance transfer\n",
            "       . credit card\n",
            "# 'Credit reporting, credit repair services, or other personal consumer reports':\n",
            "  . Top unigrams:\n",
            "       . experian\n",
            "       . transunion\n",
            "  . Top bigrams:\n",
            "       . xxxx xxxx\n",
            "       . victim identity\n",
            "# 'Debt collection':\n",
            "  . Top unigrams:\n",
            "       . debt\n",
            "       . collection\n",
            "  . Top bigrams:\n",
            "       . collect debt\n",
            "       . debt owe\n",
            "# 'Money transfer, virtual currency, or money service':\n",
            "  . Top unigrams:\n",
            "       . transfer\n",
            "       . tickets\n",
            "  . Top bigrams:\n",
            "       . bank wells\n",
            "       . sent xxxx\n",
            "# 'Mortgage':\n",
            "  . Top unigrams:\n",
            "       . mortgage\n",
            "       . home\n",
            "  . Top bigrams:\n",
            "       . loan servicing\n",
            "       . freedom mortgage\n",
            "# 'Payday loan, title loan, or personal loan':\n",
            "  . Top unigrams:\n",
            "       . loan\n",
            "       . line\n",
            "  . Top bigrams:\n",
            "       . line credit\n",
            "       . 00 loan\n",
            "# 'Student loan':\n",
            "  . Top unigrams:\n",
            "       . loans\n",
            "       . lakes\n",
            "  . Top bigrams:\n",
            "       . great lakes\n",
            "       . believe company\n",
            "# 'Vehicle loan or lease':\n",
            "  . Top unigrams:\n",
            "       . vehicle\n",
            "       . car\n",
            "  . Top bigrams:\n",
            "       . right xxxx\n",
            "       . american credit\n"
          ],
          "name": "stdout"
        }
      ]
    },
    {
      "metadata": {
        "id": "V6ZHnENa6EXQ",
        "colab_type": "text"
      },
      "cell_type": "markdown",
      "source": [
        "They are consistent within our expectation.\n",
        "\n",
        "We can now test run with some samples and see what class it is belong to:"
      ]
    },
    {
      "metadata": {
        "id": "I9GaJD_ftfAM",
        "colab_type": "code",
        "outputId": "589c5920-225e-4806-965b-aa521f064845",
        "colab": {
          "base_uri": "https://localhost:8080/",
          "height": 272
        }
      },
      "cell_type": "code",
      "source": [
        "texts = [\"I requested a home loan modification through Bank of America. Bank of America never got back to me.\",\n",
        "         \"It has been difficult for me to find my past due balance. I missed a regular monthly payment\",\n",
        "         \"I can't get the money out of the country.\",\n",
        "         \"I have no money to pay my tuition\",\n",
        "         \"Coinbase closed my account for no reason and furthermore refused to give me a reason despite dozens of request\"]\n",
        "text_features = tfidf.transform(texts)\n",
        "predictions = model.predict(text_features)\n",
        "for text, predicted in zip(texts, predictions):\n",
        "  print('\"{}\"'.format(text))\n",
        "  print(\"  - Predicted as: '{}'\".format(id_to_category[predicted]))\n",
        "  print(\"\")"
      ],
      "execution_count": 47,
      "outputs": [
        {
          "output_type": "stream",
          "text": [
            "\"I requested a home loan modification through Bank of America. Bank of America never got back to me.\"\n",
            "  - Predicted as: 'Mortgage'\n",
            "\n",
            "\"It has been difficult for me to find my past due balance. I missed a regular monthly payment\"\n",
            "  - Predicted as: 'Credit reporting, credit repair services, or other personal consumer reports'\n",
            "\n",
            "\"I can't get the money out of the country.\"\n",
            "  - Predicted as: 'Credit reporting, credit repair services, or other personal consumer reports'\n",
            "\n",
            "\"I have no money to pay my tuition\"\n",
            "  - Predicted as: 'Mortgage'\n",
            "\n",
            "\"Coinbase closed my account for no reason and furthermore refused to give me a reason despite dozens of request\"\n",
            "  - Predicted as: 'Checking or savings account'\n",
            "\n"
          ],
          "name": "stdout"
        }
      ]
    },
    {
      "metadata": {
        "id": "D0A4TP-n6ZP-",
        "colab_type": "text"
      },
      "cell_type": "markdown",
      "source": [
        "Finally, we print out the classification report for each class:"
      ]
    },
    {
      "metadata": {
        "id": "mHz1uJD1tfAP",
        "colab_type": "code",
        "outputId": "03deb9da-0611-40ec-8ece-ee3a4f6220b7",
        "colab": {
          "base_uri": "https://localhost:8080/",
          "height": 289
        }
      },
      "cell_type": "code",
      "source": [
        "from sklearn import metrics\n",
        "print(metrics.classification_report(y_test, y_pred, \n",
        "                                    target_names=df['Product'].unique()))"
      ],
      "execution_count": 48,
      "outputs": [
        {
          "output_type": "stream",
          "text": [
            "                                                                              precision    recall  f1-score   support\n",
            "\n",
            "Credit reporting, credit repair services, or other personal consumer reports       0.89      0.95      0.92       941\n",
            "                                                             Debt collection       0.80      0.74      0.77       280\n",
            "                                   Payday loan, title loan, or personal loan       0.88      0.29      0.44        24\n",
            "                                                 Credit card or prepaid card       0.77      0.81      0.79       140\n",
            "                                                 Checking or savings account       0.83      0.84      0.83       119\n",
            "                                                       Vehicle loan or lease       0.73      0.30      0.42        27\n",
            "                                                                    Mortgage       0.85      0.90      0.87       122\n",
            "                                                                Student loan       0.86      0.29      0.43        21\n",
            "                          Money transfer, virtual currency, or money service       0.88      0.35      0.50        20\n",
            "\n",
            "                                                                   micro avg       0.86      0.86      0.86      1694\n",
            "                                                                   macro avg       0.83      0.61      0.66      1694\n",
            "                                                                weighted avg       0.86      0.86      0.85      1694\n",
            "\n"
          ],
          "name": "stdout"
        }
      ]
    }
  ]
}