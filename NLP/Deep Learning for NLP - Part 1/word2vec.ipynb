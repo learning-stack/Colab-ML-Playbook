{
  "nbformat": 4,
  "nbformat_minor": 0,
  "metadata": {
    "colab": {
      "name": "word2vec.ipynb",
      "version": "0.3.2",
      "provenance": []
    },
    "kernelspec": {
      "name": "python3",
      "display_name": "Python 3"
    },
    "accelerator": "TPU"
  },
  "cells": [
    {
      "metadata": {
        "id": "mLyz0_YrjtbR",
        "colab_type": "text"
      },
      "cell_type": "markdown",
      "source": [
        "# Creating Word Vectors with word2vec\n",
        "## by Wilder Rodrigues"
      ]
    },
    {
      "metadata": {
        "id": "Ku_R8KMAj3qQ",
        "colab_type": "text"
      },
      "cell_type": "markdown",
      "source": [
        "https://medium.com/cityai/deep-learning-for-natural-language-processing-part-i-8369895ffb98"
      ]
    },
    {
      "metadata": {
        "id": "34ELtCXoj5Nd",
        "colab_type": "text"
      },
      "cell_type": "markdown",
      "source": [
        "<table class=\"tfo-notebook-buttons\" align=\"left\">\n",
        "  <td>\n",
        "    <a target=\"_blank\" href=\"https://colab.research.google.com/github/learning-stack/Colab-ML-Playbook/blob/master/NLP/Deep%20Learning%20for%20NLP%20-%20Part%201/word2vec.ipynb\"><img src=\"https://www.tensorflow.org/images/colab_logo_32px.png\" />Run in Google Colab</a>\n",
        "  </td>\n",
        "  <td>\n",
        "    <a target=\"_blank\" href=\"https://github.com/learning-stack/Colab-ML-Playbook/blob/master/NLP/Deep%20Learning%20for%20NLP%20-%20Part%201/word2vec.ipynb\"><img src=\"https://www.tensorflow.org/images/GitHub-Mark-32px.png\" />View source on GitHub</a>\n",
        "  </td>\n",
        "</table>"
      ]
    },
    {
      "metadata": {
        "id": "zoRr7OssjtbT",
        "colab_type": "text"
      },
      "cell_type": "markdown",
      "source": [
        "Let's start with NLTK"
      ]
    },
    {
      "metadata": {
        "id": "g0rWRIahjtbX",
        "colab_type": "text"
      },
      "cell_type": "markdown",
      "source": [
        "#### Load Dependencies"
      ]
    },
    {
      "metadata": {
        "id": "Gt7A3jYCjtbX",
        "colab_type": "code",
        "colab": {}
      },
      "cell_type": "code",
      "source": [
        "import nltk\n",
        "from nltk.tokenize import word_tokenize, sent_tokenize\n",
        "import gensim\n",
        "from gensim.models.word2vec import Word2Vec\n",
        "from sklearn.manifold import TSNE\n",
        "import pandas as pd\n",
        "from bokeh.io import output_notebook\n",
        "from bokeh.plotting import show, figure\n",
        "%matplotlib inline"
      ],
      "execution_count": 0,
      "outputs": []
    },
    {
      "metadata": {
        "id": "80-f-iXMjtbc",
        "colab_type": "code",
        "colab": {
          "base_uri": "https://localhost:8080/",
          "height": 68
        },
        "outputId": "18382350-5be9-432b-a5a1-c87fbe3f5166"
      },
      "cell_type": "code",
      "source": [
        "nltk.download('punkt')"
      ],
      "execution_count": 2,
      "outputs": [
        {
          "output_type": "stream",
          "text": [
            "[nltk_data] Downloading package punkt to /root/nltk_data...\n",
            "[nltk_data]   Unzipping tokenizers/punkt.zip.\n"
          ],
          "name": "stdout"
        },
        {
          "output_type": "execute_result",
          "data": {
            "text/plain": [
              "True"
            ]
          },
          "metadata": {
            "tags": []
          },
          "execution_count": 2
        }
      ]
    },
    {
      "metadata": {
        "id": "yBBMF66djtbf",
        "colab_type": "text"
      },
      "cell_type": "markdown",
      "source": [
        "#### Load Data"
      ]
    },
    {
      "metadata": {
        "id": "hYmj64Szjtbg",
        "colab_type": "code",
        "colab": {
          "base_uri": "https://localhost:8080/",
          "height": 68
        },
        "outputId": "b8f839aa-455a-4683-cdcd-0d6fc54cbaa2"
      },
      "cell_type": "code",
      "source": [
        "nltk.download('gutenberg')"
      ],
      "execution_count": 3,
      "outputs": [
        {
          "output_type": "stream",
          "text": [
            "[nltk_data] Downloading package gutenberg to /root/nltk_data...\n",
            "[nltk_data]   Unzipping corpora/gutenberg.zip.\n"
          ],
          "name": "stdout"
        },
        {
          "output_type": "execute_result",
          "data": {
            "text/plain": [
              "True"
            ]
          },
          "metadata": {
            "tags": []
          },
          "execution_count": 3
        }
      ]
    },
    {
      "metadata": {
        "id": "D8cHbZgujtbj",
        "colab_type": "code",
        "colab": {}
      },
      "cell_type": "code",
      "source": [
        "from nltk.corpus import gutenberg"
      ],
      "execution_count": 0,
      "outputs": []
    },
    {
      "metadata": {
        "id": "jTQMiXQnjtbs",
        "colab_type": "code",
        "colab": {
          "base_uri": "https://localhost:8080/",
          "height": 323
        },
        "outputId": "8580cbce-17dd-492d-e5f9-56f4e56afabf"
      },
      "cell_type": "code",
      "source": [
        "gutenberg.fileids()"
      ],
      "execution_count": 5,
      "outputs": [
        {
          "output_type": "execute_result",
          "data": {
            "text/plain": [
              "['austen-emma.txt',\n",
              " 'austen-persuasion.txt',\n",
              " 'austen-sense.txt',\n",
              " 'bible-kjv.txt',\n",
              " 'blake-poems.txt',\n",
              " 'bryant-stories.txt',\n",
              " 'burgess-busterbrown.txt',\n",
              " 'carroll-alice.txt',\n",
              " 'chesterton-ball.txt',\n",
              " 'chesterton-brown.txt',\n",
              " 'chesterton-thursday.txt',\n",
              " 'edgeworth-parents.txt',\n",
              " 'melville-moby_dick.txt',\n",
              " 'milton-paradise.txt',\n",
              " 'shakespeare-caesar.txt',\n",
              " 'shakespeare-hamlet.txt',\n",
              " 'shakespeare-macbeth.txt',\n",
              " 'whitman-leaves.txt']"
            ]
          },
          "metadata": {
            "tags": []
          },
          "execution_count": 5
        }
      ]
    },
    {
      "metadata": {
        "id": "rUF70sdvjtbv",
        "colab_type": "text"
      },
      "cell_type": "markdown",
      "source": [
        "#### Tokenize Text"
      ]
    },
    {
      "metadata": {
        "id": "zxNgrGm-jtbv",
        "colab_type": "code",
        "colab": {}
      },
      "cell_type": "code",
      "source": [
        "# Due to lack of resources, I'm not working with the full Gutenberg dataset (18 books).\n",
        "gberg_sent_tokens = sent_tokenize(gutenberg.raw(fileids=['austen-sense.txt',\n",
        " 'blake-poems.txt',\n",
        " 'bryant-stories.txt',\n",
        " 'burgess-busterbrown.txt',\n",
        " 'carroll-alice.txt',\n",
        " 'chesterton-ball.txt',\n",
        " 'chesterton-brown.txt',\n",
        " 'chesterton-thursday.txt',\n",
        " 'edgeworth-parents.txt',\n",
        " 'melville-moby_dick.txt',\n",
        " 'milton-paradise.txt',\n",
        " 'shakespeare-caesar.txt']))"
      ],
      "execution_count": 0,
      "outputs": []
    },
    {
      "metadata": {
        "id": "MITQMcPQjtb0",
        "colab_type": "code",
        "colab": {
          "base_uri": "https://localhost:8080/",
          "height": 122
        },
        "outputId": "496ec341-fc0f-4759-cf2f-1b6fcb45d577"
      },
      "cell_type": "code",
      "source": [
        "gberg_sent_tokens[0:5]"
      ],
      "execution_count": 7,
      "outputs": [
        {
          "output_type": "execute_result",
          "data": {
            "text/plain": [
              "['[Sense and Sensibility by Jane Austen 1811]\\n\\nCHAPTER 1\\n\\n\\nThe family of Dashwood had long been settled in Sussex.',\n",
              " 'Their estate was large, and their residence was at Norland Park,\\nin the centre of their property, where, for many generations,\\nthey had lived in so respectable a manner as to engage\\nthe general good opinion of their surrounding acquaintance.',\n",
              " 'The late owner of this estate was a single man, who lived\\nto a very advanced age, and who for many years of his life,\\nhad a constant companion and housekeeper in his sister.',\n",
              " 'But her death, which happened ten years before his own,\\nproduced a great alteration in his home; for to supply\\nher loss, he invited and received into his house the family\\nof his nephew Mr. Henry Dashwood, the legal inheritor\\nof the Norland estate, and the person to whom he intended\\nto bequeath it.',\n",
              " \"In the society of his nephew and niece,\\nand their children, the old Gentleman's days were\\ncomfortably spent.\"]"
            ]
          },
          "metadata": {
            "tags": []
          },
          "execution_count": 7
        }
      ]
    },
    {
      "metadata": {
        "id": "r-H8n_uLjtb4",
        "colab_type": "code",
        "colab": {
          "base_uri": "https://localhost:8080/",
          "height": 54
        },
        "outputId": "e7621375-79a8-4d6b-d850-6a9ececd088c"
      },
      "cell_type": "code",
      "source": [
        "gberg_sent_tokens[1]"
      ],
      "execution_count": 8,
      "outputs": [
        {
          "output_type": "execute_result",
          "data": {
            "text/plain": [
              "'Their estate was large, and their residence was at Norland Park,\\nin the centre of their property, where, for many generations,\\nthey had lived in so respectable a manner as to engage\\nthe general good opinion of their surrounding acquaintance.'"
            ]
          },
          "metadata": {
            "tags": []
          },
          "execution_count": 8
        }
      ]
    },
    {
      "metadata": {
        "id": "weJhiSJHjtb7",
        "colab_type": "code",
        "colab": {
          "base_uri": "https://localhost:8080/",
          "height": 799
        },
        "outputId": "a68c35e3-2c6e-465d-e452-9de56746beca"
      },
      "cell_type": "code",
      "source": [
        "word_tokenize(gberg_sent_tokens[1])"
      ],
      "execution_count": 9,
      "outputs": [
        {
          "output_type": "execute_result",
          "data": {
            "text/plain": [
              "['Their',\n",
              " 'estate',\n",
              " 'was',\n",
              " 'large',\n",
              " ',',\n",
              " 'and',\n",
              " 'their',\n",
              " 'residence',\n",
              " 'was',\n",
              " 'at',\n",
              " 'Norland',\n",
              " 'Park',\n",
              " ',',\n",
              " 'in',\n",
              " 'the',\n",
              " 'centre',\n",
              " 'of',\n",
              " 'their',\n",
              " 'property',\n",
              " ',',\n",
              " 'where',\n",
              " ',',\n",
              " 'for',\n",
              " 'many',\n",
              " 'generations',\n",
              " ',',\n",
              " 'they',\n",
              " 'had',\n",
              " 'lived',\n",
              " 'in',\n",
              " 'so',\n",
              " 'respectable',\n",
              " 'a',\n",
              " 'manner',\n",
              " 'as',\n",
              " 'to',\n",
              " 'engage',\n",
              " 'the',\n",
              " 'general',\n",
              " 'good',\n",
              " 'opinion',\n",
              " 'of',\n",
              " 'their',\n",
              " 'surrounding',\n",
              " 'acquaintance',\n",
              " '.']"
            ]
          },
          "metadata": {
            "tags": []
          },
          "execution_count": 9
        }
      ]
    },
    {
      "metadata": {
        "id": "j-1czGYEjtb_",
        "colab_type": "code",
        "colab": {
          "base_uri": "https://localhost:8080/",
          "height": 34
        },
        "outputId": "11dc7de9-a013-4da6-aac3-fca32dba7d6a"
      },
      "cell_type": "code",
      "source": [
        "word_tokenize(gberg_sent_tokens[1])[14]"
      ],
      "execution_count": 10,
      "outputs": [
        {
          "output_type": "execute_result",
          "data": {
            "text/plain": [
              "'the'"
            ]
          },
          "metadata": {
            "tags": []
          },
          "execution_count": 10
        }
      ]
    },
    {
      "metadata": {
        "id": "LvtfVy1GjtcB",
        "colab_type": "code",
        "colab": {}
      },
      "cell_type": "code",
      "source": [
        "# Due to lack of resources, I'm not working with the full Gutenberg dataset (18 books).\n",
        "gberg_sents = gutenberg.sents(fileids=['austen-sense.txt',\n",
        " 'blake-poems.txt',\n",
        " 'bryant-stories.txt',\n",
        " 'burgess-busterbrown.txt',\n",
        " 'carroll-alice.txt',\n",
        " 'chesterton-ball.txt',\n",
        " 'chesterton-brown.txt',\n",
        " 'chesterton-thursday.txt',\n",
        " 'edgeworth-parents.txt',\n",
        " 'melville-moby_dick.txt',\n",
        " 'milton-paradise.txt',\n",
        " 'shakespeare-caesar.txt'])"
      ],
      "execution_count": 0,
      "outputs": []
    },
    {
      "metadata": {
        "id": "rIEiS0tkjtcE",
        "colab_type": "code",
        "colab": {
          "base_uri": "https://localhost:8080/",
          "height": 1666
        },
        "outputId": "b3bec63c-5d05-418d-e78b-4abff572bffe"
      },
      "cell_type": "code",
      "source": [
        "gberg_sents[0:5]"
      ],
      "execution_count": 12,
      "outputs": [
        {
          "output_type": "execute_result",
          "data": {
            "text/plain": [
              "[['[', 'Sense', 'and', 'Sensibility', 'by', 'Jane', 'Austen', '1811', ']'],\n",
              " ['CHAPTER', '1'],\n",
              " ['The',\n",
              "  'family',\n",
              "  'of',\n",
              "  'Dashwood',\n",
              "  'had',\n",
              "  'long',\n",
              "  'been',\n",
              "  'settled',\n",
              "  'in',\n",
              "  'Sussex',\n",
              "  '.'],\n",
              " ['Their',\n",
              "  'estate',\n",
              "  'was',\n",
              "  'large',\n",
              "  ',',\n",
              "  'and',\n",
              "  'their',\n",
              "  'residence',\n",
              "  'was',\n",
              "  'at',\n",
              "  'Norland',\n",
              "  'Park',\n",
              "  ',',\n",
              "  'in',\n",
              "  'the',\n",
              "  'centre',\n",
              "  'of',\n",
              "  'their',\n",
              "  'property',\n",
              "  ',',\n",
              "  'where',\n",
              "  ',',\n",
              "  'for',\n",
              "  'many',\n",
              "  'generations',\n",
              "  ',',\n",
              "  'they',\n",
              "  'had',\n",
              "  'lived',\n",
              "  'in',\n",
              "  'so',\n",
              "  'respectable',\n",
              "  'a',\n",
              "  'manner',\n",
              "  'as',\n",
              "  'to',\n",
              "  'engage',\n",
              "  'the',\n",
              "  'general',\n",
              "  'good',\n",
              "  'opinion',\n",
              "  'of',\n",
              "  'their',\n",
              "  'surrounding',\n",
              "  'acquaintance',\n",
              "  '.'],\n",
              " ['The',\n",
              "  'late',\n",
              "  'owner',\n",
              "  'of',\n",
              "  'this',\n",
              "  'estate',\n",
              "  'was',\n",
              "  'a',\n",
              "  'single',\n",
              "  'man',\n",
              "  ',',\n",
              "  'who',\n",
              "  'lived',\n",
              "  'to',\n",
              "  'a',\n",
              "  'very',\n",
              "  'advanced',\n",
              "  'age',\n",
              "  ',',\n",
              "  'and',\n",
              "  'who',\n",
              "  'for',\n",
              "  'many',\n",
              "  'years',\n",
              "  'of',\n",
              "  'his',\n",
              "  'life',\n",
              "  ',',\n",
              "  'had',\n",
              "  'a',\n",
              "  'constant',\n",
              "  'companion',\n",
              "  'and',\n",
              "  'housekeeper',\n",
              "  'in',\n",
              "  'his',\n",
              "  'sister',\n",
              "  '.']]"
            ]
          },
          "metadata": {
            "tags": []
          },
          "execution_count": 12
        }
      ]
    },
    {
      "metadata": {
        "id": "64wG9zCOjtcH",
        "colab_type": "code",
        "colab": {
          "base_uri": "https://localhost:8080/",
          "height": 34
        },
        "outputId": "e1bf01cc-a2bb-45fe-fe80-9f00ac337d74"
      },
      "cell_type": "code",
      "source": [
        "gberg_sents[4][14]"
      ],
      "execution_count": 13,
      "outputs": [
        {
          "output_type": "execute_result",
          "data": {
            "text/plain": [
              "'a'"
            ]
          },
          "metadata": {
            "tags": []
          },
          "execution_count": 13
        }
      ]
    },
    {
      "metadata": {
        "id": "EW2nWVGMjtcK",
        "colab_type": "code",
        "colab": {
          "base_uri": "https://localhost:8080/",
          "height": 34
        },
        "outputId": "445805d7-4ce0-4985-c25b-69138ff860e0"
      },
      "cell_type": "code",
      "source": [
        "gutenberg.words()"
      ],
      "execution_count": 14,
      "outputs": [
        {
          "output_type": "execute_result",
          "data": {
            "text/plain": [
              "['[', 'Emma', 'by', 'Jane', 'Austen', '1816', ']', ...]"
            ]
          },
          "metadata": {
            "tags": []
          },
          "execution_count": 14
        }
      ]
    },
    {
      "metadata": {
        "id": "3uDKA_BbkwDV",
        "colab_type": "text"
      },
      "cell_type": "markdown",
      "source": [
        "If you want to know how many words are in the set we loaded, please execute the line below:"
      ]
    },
    {
      "metadata": {
        "id": "09j_BKbmjtcN",
        "colab_type": "code",
        "colab": {
          "base_uri": "https://localhost:8080/",
          "height": 34
        },
        "outputId": "d2095d28-6841-4f61-a877-775ac319503f"
      },
      "cell_type": "code",
      "source": [
        "# Due to lack of resources, I'm not working with the full Gutenberg dataset (18 books).\n",
        "len(gutenberg.words(fileids=['austen-sense.txt',\n",
        " 'blake-poems.txt',\n",
        " 'bryant-stories.txt',\n",
        " 'burgess-busterbrown.txt',\n",
        " 'carroll-alice.txt',\n",
        " 'chesterton-ball.txt',\n",
        " 'chesterton-brown.txt',\n",
        " 'chesterton-thursday.txt',\n",
        " 'edgeworth-parents.txt',\n",
        " 'melville-moby_dick.txt',\n",
        " 'milton-paradise.txt',\n",
        " 'shakespeare-caesar.txt']))"
      ],
      "execution_count": 15,
      "outputs": [
        {
          "output_type": "execute_result",
          "data": {
            "text/plain": [
              "1104978"
            ]
          },
          "metadata": {
            "tags": []
          },
          "execution_count": 15
        }
      ]
    },
    {
      "metadata": {
        "id": "A5z5mHLHjtcQ",
        "colab_type": "text"
      },
      "cell_type": "markdown",
      "source": [
        "#### Run Word2Vec"
      ]
    },
    {
      "metadata": {
        "id": "kNAWQJWYjtcQ",
        "colab_type": "code",
        "colab": {}
      },
      "cell_type": "code",
      "source": [
        "# size == dimensions\n",
        "# window 10: 20 context words, 10 to the left and 10 to the right\n",
        "model = Word2Vec(sentences=gberg_sents, size=64, sg=1, window=10, min_count=5, seed=42, workers=2)"
      ],
      "execution_count": 0,
      "outputs": []
    },
    {
      "metadata": {
        "id": "DRowobAfjtcY",
        "colab_type": "code",
        "colab": {}
      },
      "cell_type": "code",
      "source": [
        "# We don't have to save the model if we don't want to. It's being done here as demonstration.\n",
        "model.save('raw_gutenberg_model.w2v')"
      ],
      "execution_count": 0,
      "outputs": []
    },
    {
      "metadata": {
        "id": "7MX8bwUbjtce",
        "colab_type": "text"
      },
      "cell_type": "markdown",
      "source": [
        "#### Explore the Model"
      ]
    },
    {
      "metadata": {
        "id": "absbdUgZjtcg",
        "colab_type": "code",
        "colab": {}
      },
      "cell_type": "code",
      "source": [
        "model = Word2Vec.load('raw_gutenberg_model.w2v')"
      ],
      "execution_count": 0,
      "outputs": []
    },
    {
      "metadata": {
        "id": "o21lL7zTjtcj",
        "colab_type": "code",
        "colab": {
          "base_uri": "https://localhost:8080/",
          "height": 292
        },
        "outputId": "b496a6fa-a5c8-47f8-850d-5d05fb13984f"
      },
      "cell_type": "code",
      "source": [
        "model['house']"
      ],
      "execution_count": 19,
      "outputs": [
        {
          "output_type": "stream",
          "text": [
            "/usr/local/lib/python3.6/dist-packages/ipykernel_launcher.py:1: DeprecationWarning: Call to deprecated `__getitem__` (Method will be removed in 4.0.0, use self.wv.__getitem__() instead).\n",
            "  \"\"\"Entry point for launching an IPython kernel.\n"
          ],
          "name": "stderr"
        },
        {
          "output_type": "execute_result",
          "data": {
            "text/plain": [
              "array([ 0.10131513, -0.05675188,  0.01952054, -0.15445842, -0.138105  ,\n",
              "        0.09935395, -0.24682845, -0.13413033,  0.20148936,  0.41659695,\n",
              "       -0.4477915 , -0.39699993, -0.03888248, -0.15544629, -0.366475  ,\n",
              "       -0.1712916 , -0.5880298 ,  0.3802758 , -0.04494437,  0.17340937,\n",
              "        0.09923273, -0.24605654,  0.00904231,  0.27070048,  0.32214862,\n",
              "       -0.0595443 , -0.4526931 ,  0.23305707, -0.4573316 , -0.3141891 ,\n",
              "        0.01292173,  0.02185524,  0.21936235,  0.1726625 ,  0.13554275,\n",
              "        0.6503442 , -0.10124332,  0.1500032 , -0.06350603,  0.5996642 ,\n",
              "       -0.36090168,  0.16507895,  0.05793128,  0.27607602, -0.2618879 ,\n",
              "        0.26170492, -0.08908819,  0.72215563,  0.08825453,  0.22807482,\n",
              "       -0.33615875,  0.1744813 ,  0.73821414,  0.22372776,  0.09251411,\n",
              "        0.12206586, -0.43199712, -0.27780202,  0.32463044,  0.24237062,\n",
              "       -0.01388139,  0.47537094,  0.2258392 , -0.3018243 ], dtype=float32)"
            ]
          },
          "metadata": {
            "tags": []
          },
          "execution_count": 19
        }
      ]
    },
    {
      "metadata": {
        "id": "cA9Lixwqjtcm",
        "colab_type": "code",
        "colab": {
          "base_uri": "https://localhost:8080/",
          "height": 88
        },
        "outputId": "42e0df52-14e3-4d7e-adf3-4dc91e66c003"
      },
      "cell_type": "code",
      "source": [
        "len(model['house'])"
      ],
      "execution_count": 20,
      "outputs": [
        {
          "output_type": "stream",
          "text": [
            "/usr/local/lib/python3.6/dist-packages/ipykernel_launcher.py:1: DeprecationWarning: Call to deprecated `__getitem__` (Method will be removed in 4.0.0, use self.wv.__getitem__() instead).\n",
            "  \"\"\"Entry point for launching an IPython kernel.\n"
          ],
          "name": "stderr"
        },
        {
          "output_type": "execute_result",
          "data": {
            "text/plain": [
              "64"
            ]
          },
          "metadata": {
            "tags": []
          },
          "execution_count": 20
        }
      ]
    },
    {
      "metadata": {
        "id": "w1hO-okyk3RN",
        "colab_type": "text"
      },
      "cell_type": "markdown",
      "source": [
        "## Similarities"
      ]
    },
    {
      "metadata": {
        "id": "mHR9jodzjtco",
        "colab_type": "code",
        "colab": {
          "base_uri": "https://localhost:8080/",
          "height": 275
        },
        "outputId": "f2966fca-ee68-4784-85ac-249a6eaeca89"
      },
      "cell_type": "code",
      "source": [
        "model.most_similar('house')"
      ],
      "execution_count": 21,
      "outputs": [
        {
          "output_type": "stream",
          "text": [
            "/usr/local/lib/python3.6/dist-packages/ipykernel_launcher.py:1: DeprecationWarning: Call to deprecated `most_similar` (Method will be removed in 4.0.0, use self.wv.most_similar() instead).\n",
            "  \"\"\"Entry point for launching an IPython kernel.\n",
            "/usr/local/lib/python3.6/dist-packages/gensim/matutils.py:737: FutureWarning: Conversion of the second argument of issubdtype from `int` to `np.signedinteger` is deprecated. In future, it will be treated as `np.int64 == np.dtype(int).type`.\n",
            "  if np.issubdtype(vec.dtype, np.int):\n"
          ],
          "name": "stderr"
        },
        {
          "output_type": "execute_result",
          "data": {
            "text/plain": [
              "[('cottage', 0.8297926187515259),\n",
              " ('court', 0.7892372608184814),\n",
              " ('carriage', 0.7814562916755676),\n",
              " ('dining', 0.7685059309005737),\n",
              " ('room', 0.7588936686515808),\n",
              " ('park', 0.7570878267288208),\n",
              " ('parlour', 0.7529228925704956),\n",
              " ('Allenham', 0.7474149465560913),\n",
              " ('garden', 0.7421767711639404),\n",
              " ('door', 0.734196126461029)]"
            ]
          },
          "metadata": {
            "tags": []
          },
          "execution_count": 21
        }
      ]
    },
    {
      "metadata": {
        "id": "gJOlpIhHjtct",
        "colab_type": "code",
        "colab": {
          "base_uri": "https://localhost:8080/",
          "height": 275
        },
        "outputId": "743b9703-3d0e-4271-8d09-0044e3463836"
      },
      "cell_type": "code",
      "source": [
        "model.most_similar('think')"
      ],
      "execution_count": 22,
      "outputs": [
        {
          "output_type": "stream",
          "text": [
            "/usr/local/lib/python3.6/dist-packages/ipykernel_launcher.py:1: DeprecationWarning: Call to deprecated `most_similar` (Method will be removed in 4.0.0, use self.wv.most_similar() instead).\n",
            "  \"\"\"Entry point for launching an IPython kernel.\n",
            "/usr/local/lib/python3.6/dist-packages/gensim/matutils.py:737: FutureWarning: Conversion of the second argument of issubdtype from `int` to `np.signedinteger` is deprecated. In future, it will be treated as `np.int64 == np.dtype(int).type`.\n",
            "  if np.issubdtype(vec.dtype, np.int):\n"
          ],
          "name": "stderr"
        },
        {
          "output_type": "execute_result",
          "data": {
            "text/plain": [
              "[('suppose', 0.8716133236885071),\n",
              " ('understand', 0.8545761108398438),\n",
              " ('manage', 0.8265016078948975),\n",
              " ('impertinent', 0.8212658762931824),\n",
              " ('NOW', 0.821075439453125),\n",
              " ('remember', 0.8205576539039612),\n",
              " ('guess', 0.8203558325767517),\n",
              " ('know', 0.8141898512840271),\n",
              " ('MUST', 0.8126161694526672),\n",
              " ('pretend', 0.8122284412384033)]"
            ]
          },
          "metadata": {
            "tags": []
          },
          "execution_count": 22
        }
      ]
    },
    {
      "metadata": {
        "id": "zSP9crrkjtcv",
        "colab_type": "code",
        "colab": {
          "base_uri": "https://localhost:8080/",
          "height": 275
        },
        "outputId": "d55d02e6-bd27-40fa-8fe1-953d135658e1"
      },
      "cell_type": "code",
      "source": [
        "model.most_similar('day')"
      ],
      "execution_count": 23,
      "outputs": [
        {
          "output_type": "stream",
          "text": [
            "/usr/local/lib/python3.6/dist-packages/ipykernel_launcher.py:1: DeprecationWarning: Call to deprecated `most_similar` (Method will be removed in 4.0.0, use self.wv.most_similar() instead).\n",
            "  \"\"\"Entry point for launching an IPython kernel.\n",
            "/usr/local/lib/python3.6/dist-packages/gensim/matutils.py:737: FutureWarning: Conversion of the second argument of issubdtype from `int` to `np.signedinteger` is deprecated. In future, it will be treated as `np.int64 == np.dtype(int).type`.\n",
            "  if np.issubdtype(vec.dtype, np.int):\n"
          ],
          "name": "stderr"
        },
        {
          "output_type": "execute_result",
          "data": {
            "text/plain": [
              "[('morning', 0.8452898263931274),\n",
              " ('night', 0.7850326299667358),\n",
              " ('evening', 0.7603015899658203),\n",
              " ('year', 0.718474268913269),\n",
              " ('summer', 0.715593695640564),\n",
              " ('week', 0.6938982009887695),\n",
              " ('eleven', 0.6928486824035645),\n",
              " ('spend', 0.6863486766815186),\n",
              " ('work', 0.6769124865531921),\n",
              " ('morrow', 0.6764428019523621)]"
            ]
          },
          "metadata": {
            "tags": []
          },
          "execution_count": 23
        }
      ]
    },
    {
      "metadata": {
        "id": "PiQ1ZSIHjtcy",
        "colab_type": "code",
        "colab": {
          "base_uri": "https://localhost:8080/",
          "height": 275
        },
        "outputId": "9cdceae0-de74-4f20-ad8f-deacdc09e364"
      },
      "cell_type": "code",
      "source": [
        "model.most_similar('father')"
      ],
      "execution_count": 24,
      "outputs": [
        {
          "output_type": "stream",
          "text": [
            "/usr/local/lib/python3.6/dist-packages/ipykernel_launcher.py:1: DeprecationWarning: Call to deprecated `most_similar` (Method will be removed in 4.0.0, use self.wv.most_similar() instead).\n",
            "  \"\"\"Entry point for launching an IPython kernel.\n",
            "/usr/local/lib/python3.6/dist-packages/gensim/matutils.py:737: FutureWarning: Conversion of the second argument of issubdtype from `int` to `np.signedinteger` is deprecated. In future, it will be treated as `np.int64 == np.dtype(int).type`.\n",
            "  if np.issubdtype(vec.dtype, np.int):\n"
          ],
          "name": "stderr"
        },
        {
          "output_type": "execute_result",
          "data": {
            "text/plain": [
              "[('mother', 0.8264411687850952),\n",
              " ('brother', 0.8260844945907593),\n",
              " ('wife', 0.8197144269943237),\n",
              " ('master', 0.807135283946991),\n",
              " ('uncle', 0.8006727695465088),\n",
              " ('son', 0.8003227710723877),\n",
              " ('cousin', 0.7965275049209595),\n",
              " ('Maurice', 0.7775335311889648),\n",
              " ('Fanny', 0.764549195766449),\n",
              " ('child', 0.7570911645889282)]"
            ]
          },
          "metadata": {
            "tags": []
          },
          "execution_count": 24
        }
      ]
    },
    {
      "metadata": {
        "id": "EROjRVNqjtc0",
        "colab_type": "code",
        "colab": {
          "base_uri": "https://localhost:8080/",
          "height": 122
        },
        "outputId": "0a468740-ca75-42e5-f7f0-b1b3a24af9d4"
      },
      "cell_type": "code",
      "source": [
        "model.doesnt_match('mother father daughter house'.split())"
      ],
      "execution_count": 25,
      "outputs": [
        {
          "output_type": "stream",
          "text": [
            "/usr/local/lib/python3.6/dist-packages/ipykernel_launcher.py:1: DeprecationWarning: Call to deprecated `doesnt_match` (Method will be removed in 4.0.0, use self.wv.doesnt_match() instead).\n",
            "  \"\"\"Entry point for launching an IPython kernel.\n",
            "/usr/local/lib/python3.6/dist-packages/gensim/matutils.py:737: FutureWarning: Conversion of the second argument of issubdtype from `int` to `np.signedinteger` is deprecated. In future, it will be treated as `np.int64 == np.dtype(int).type`.\n",
            "  if np.issubdtype(vec.dtype, np.int):\n"
          ],
          "name": "stderr"
        },
        {
          "output_type": "execute_result",
          "data": {
            "text/plain": [
              "'house'"
            ]
          },
          "metadata": {
            "tags": []
          },
          "execution_count": 25
        }
      ]
    },
    {
      "metadata": {
        "id": "UGI0IOtljtc3",
        "colab_type": "code",
        "colab": {
          "base_uri": "https://localhost:8080/",
          "height": 122
        },
        "outputId": "bb359d24-955a-4ba4-a1d6-f421e3c2886b"
      },
      "cell_type": "code",
      "source": [
        "model.similarity('father', 'mother')"
      ],
      "execution_count": 26,
      "outputs": [
        {
          "output_type": "stream",
          "text": [
            "/usr/local/lib/python3.6/dist-packages/ipykernel_launcher.py:1: DeprecationWarning: Call to deprecated `similarity` (Method will be removed in 4.0.0, use self.wv.similarity() instead).\n",
            "  \"\"\"Entry point for launching an IPython kernel.\n",
            "/usr/local/lib/python3.6/dist-packages/gensim/matutils.py:737: FutureWarning: Conversion of the second argument of issubdtype from `int` to `np.signedinteger` is deprecated. In future, it will be treated as `np.int64 == np.dtype(int).type`.\n",
            "  if np.issubdtype(vec.dtype, np.int):\n"
          ],
          "name": "stderr"
        },
        {
          "output_type": "execute_result",
          "data": {
            "text/plain": [
              "0.82644117"
            ]
          },
          "metadata": {
            "tags": []
          },
          "execution_count": 26
        }
      ]
    },
    {
      "metadata": {
        "id": "rCgGHab_lBac",
        "colab_type": "text"
      },
      "cell_type": "markdown",
      "source": [
        "## Arithmetics"
      ]
    },
    {
      "metadata": {
        "id": "Oa8rZ0J9jtc7",
        "colab_type": "code",
        "colab": {
          "base_uri": "https://localhost:8080/",
          "height": 275
        },
        "outputId": "4750c52d-ad6d-4020-93da-4cc36a3756f3"
      },
      "cell_type": "code",
      "source": [
        "model.most_similar(positive=['father', 'woman'], negative=['man'])"
      ],
      "execution_count": 27,
      "outputs": [
        {
          "output_type": "stream",
          "text": [
            "/usr/local/lib/python3.6/dist-packages/ipykernel_launcher.py:1: DeprecationWarning: Call to deprecated `most_similar` (Method will be removed in 4.0.0, use self.wv.most_similar() instead).\n",
            "  \"\"\"Entry point for launching an IPython kernel.\n",
            "/usr/local/lib/python3.6/dist-packages/gensim/matutils.py:737: FutureWarning: Conversion of the second argument of issubdtype from `int` to `np.signedinteger` is deprecated. In future, it will be treated as `np.int64 == np.dtype(int).type`.\n",
            "  if np.issubdtype(vec.dtype, np.int):\n"
          ],
          "name": "stderr"
        },
        {
          "output_type": "execute_result",
          "data": {
            "text/plain": [
              "[('mother', 0.8312838673591614),\n",
              " ('brother', 0.8063112497329712),\n",
              " ('husband', 0.7933018207550049),\n",
              " ('daughter', 0.7672345638275146),\n",
              " ('Susan', 0.7484555244445801),\n",
              " ('Mary', 0.7448858022689819),\n",
              " ('sisters', 0.7424876093864441),\n",
              " ('daughters', 0.7414028644561768),\n",
              " ('Fanny', 0.7363728284835815),\n",
              " ('Lady', 0.7363330125808716)]"
            ]
          },
          "metadata": {
            "tags": []
          },
          "execution_count": 27
        }
      ]
    },
    {
      "metadata": {
        "id": "tAY1_FeDjtc_",
        "colab_type": "code",
        "colab": {
          "base_uri": "https://localhost:8080/",
          "height": 275
        },
        "outputId": "138eb77f-a897-49db-b9d3-420b9692a987"
      },
      "cell_type": "code",
      "source": [
        "model.most_similar(positive=['son', 'woman'], negative=['man'])"
      ],
      "execution_count": 28,
      "outputs": [
        {
          "output_type": "stream",
          "text": [
            "/usr/local/lib/python3.6/dist-packages/ipykernel_launcher.py:1: DeprecationWarning: Call to deprecated `most_similar` (Method will be removed in 4.0.0, use self.wv.most_similar() instead).\n",
            "  \"\"\"Entry point for launching an IPython kernel.\n",
            "/usr/local/lib/python3.6/dist-packages/gensim/matutils.py:737: FutureWarning: Conversion of the second argument of issubdtype from `int` to `np.signedinteger` is deprecated. In future, it will be treated as `np.int64 == np.dtype(int).type`.\n",
            "  if np.issubdtype(vec.dtype, np.int):\n"
          ],
          "name": "stderr"
        },
        {
          "output_type": "execute_result",
          "data": {
            "text/plain": [
              "[('daughter', 0.802619457244873),\n",
              " ('eldest', 0.7667378783226013),\n",
              " ('husband', 0.7554774284362793),\n",
              " ('daughters', 0.7501215934753418),\n",
              " ('brother', 0.7450388669967651),\n",
              " ('Lady', 0.7243521213531494),\n",
              " ('father', 0.7241641879081726),\n",
              " ('mother', 0.7144978642463684),\n",
              " ('sisters', 0.7136102914810181),\n",
              " ('widow', 0.6957226991653442)]"
            ]
          },
          "metadata": {
            "tags": []
          },
          "execution_count": 28
        }
      ]
    },
    {
      "metadata": {
        "id": "hAJHqjBojtdD",
        "colab_type": "code",
        "colab": {
          "base_uri": "https://localhost:8080/",
          "height": 275
        },
        "outputId": "d26f8070-c123-4253-c9b9-dd87ff9919b5"
      },
      "cell_type": "code",
      "source": [
        "model.most_similar(positive=['husband', 'woman'], negative=['man'])"
      ],
      "execution_count": 29,
      "outputs": [
        {
          "output_type": "stream",
          "text": [
            "/usr/local/lib/python3.6/dist-packages/ipykernel_launcher.py:1: DeprecationWarning: Call to deprecated `most_similar` (Method will be removed in 4.0.0, use self.wv.most_similar() instead).\n",
            "  \"\"\"Entry point for launching an IPython kernel.\n",
            "/usr/local/lib/python3.6/dist-packages/gensim/matutils.py:737: FutureWarning: Conversion of the second argument of issubdtype from `int` to `np.signedinteger` is deprecated. In future, it will be treated as `np.int64 == np.dtype(int).type`.\n",
            "  if np.issubdtype(vec.dtype, np.int):\n"
          ],
          "name": "stderr"
        },
        {
          "output_type": "execute_result",
          "data": {
            "text/plain": [
              "[('mother', 0.8124408721923828),\n",
              " ('sister', 0.8002678155899048),\n",
              " ('daughter', 0.7921462655067444),\n",
              " ('brother', 0.7845842838287354),\n",
              " ('sisters', 0.7768650054931641),\n",
              " ('daughters', 0.7713946104049683),\n",
              " ('herself', 0.7494838237762451),\n",
              " ('eldest', 0.7470123171806335),\n",
              " ('Fanny', 0.7425500154495239),\n",
              " ('Mary', 0.7336406707763672)]"
            ]
          },
          "metadata": {
            "tags": []
          },
          "execution_count": 29
        }
      ]
    },
    {
      "metadata": {
        "id": "1gfvB-_pjtdG",
        "colab_type": "code",
        "colab": {
          "base_uri": "https://localhost:8080/",
          "height": 615
        },
        "outputId": "a64a5449-c692-40a1-c253-86afcefa8e11"
      },
      "cell_type": "code",
      "source": [
        "model.most_similar(positive=['king', 'woman'], negative=['man'], topn=30)"
      ],
      "execution_count": 30,
      "outputs": [
        {
          "output_type": "stream",
          "text": [
            "/usr/local/lib/python3.6/dist-packages/ipykernel_launcher.py:1: DeprecationWarning: Call to deprecated `most_similar` (Method will be removed in 4.0.0, use self.wv.most_similar() instead).\n",
            "  \"\"\"Entry point for launching an IPython kernel.\n",
            "/usr/local/lib/python3.6/dist-packages/gensim/matutils.py:737: FutureWarning: Conversion of the second argument of issubdtype from `int` to `np.signedinteger` is deprecated. In future, it will be treated as `np.int64 == np.dtype(int).type`.\n",
            "  if np.issubdtype(vec.dtype, np.int):\n"
          ],
          "name": "stderr"
        },
        {
          "output_type": "execute_result",
          "data": {
            "text/plain": [
              "[('eldest', 0.7696983814239502),\n",
              " ('daughters', 0.7400450110435486),\n",
              " ('son', 0.7265148162841797),\n",
              " ('husband', 0.7065160274505615),\n",
              " ('provided', 0.7062243223190308),\n",
              " ('visit', 0.7061595916748047),\n",
              " ('Middleton', 0.7050511240959167),\n",
              " ('daughter', 0.7040594816207886),\n",
              " ('widow', 0.6983100175857544),\n",
              " ('mother', 0.6973187923431396),\n",
              " ('invited', 0.697148323059082),\n",
              " ('father', 0.695784330368042),\n",
              " ('attending', 0.6953961849212646),\n",
              " ('elder', 0.6953688263893127),\n",
              " ('wife', 0.6942468285560608),\n",
              " ('youngest', 0.6863446235656738),\n",
              " ('Lady', 0.6857272386550903),\n",
              " ('Margaret', 0.6855330467224121),\n",
              " ('songs', 0.6828248500823975),\n",
              " ('lively', 0.6822395920753479),\n",
              " ('Sicily', 0.6803657412528992),\n",
              " ('Robert', 0.680312991142273),\n",
              " ('Fanny', 0.6795834302902222),\n",
              " ('Exeter', 0.6757887601852417),\n",
              " ('Gray', 0.6714882254600525),\n",
              " ('robbed', 0.6712646484375),\n",
              " ('invitation', 0.6679407358169556),\n",
              " ('honoured', 0.6669725179672241),\n",
              " ('charity', 0.6668208837509155),\n",
              " ('wrote', 0.6658169627189636)]"
            ]
          },
          "metadata": {
            "tags": []
          },
          "execution_count": 30
        }
      ]
    },
    {
      "metadata": {
        "id": "mXE1FxD5jtdL",
        "colab_type": "text"
      },
      "cell_type": "markdown",
      "source": [
        "#### Reduce word vector dimensionality with t-SNE"
      ]
    },
    {
      "metadata": {
        "id": "2hMQshOWjtdM",
        "colab_type": "text"
      },
      "cell_type": "markdown",
      "source": [
        "t-Distributed Stochastic Neighbor Embedding (t-SNE) is a technique for dimensionality reduction that is particularly well suited for the visualization of high-dimensional datasets.\n",
        "\n",
        "Although our vector space representation doesn’t have many dimensions, we got only 64, it is still enough to get humans confused if we we try to plot the 8667 words from our vocabulary in a graph. Now imagine how it would work with 10 million words and thousand dimensions! Our friend that was shortly explained above can help us with that. Let’s get to the code and plotting."
      ]
    },
    {
      "metadata": {
        "id": "UKFVgqVRjtdN",
        "colab_type": "code",
        "colab": {
          "base_uri": "https://localhost:8080/",
          "height": 34
        },
        "outputId": "f85da5e6-0518-42f2-b56f-a152abfb8f27"
      },
      "cell_type": "code",
      "source": [
        "len(model.wv.vocab)"
      ],
      "execution_count": 31,
      "outputs": [
        {
          "output_type": "execute_result",
          "data": {
            "text/plain": [
              "11319"
            ]
          },
          "metadata": {
            "tags": []
          },
          "execution_count": 31
        }
      ]
    },
    {
      "metadata": {
        "id": "G2QUsndIjtdQ",
        "colab_type": "code",
        "colab": {
          "base_uri": "https://localhost:8080/",
          "height": 71
        },
        "outputId": "cb84494f-337c-4e29-8382-da01c7f9b4c8"
      },
      "cell_type": "code",
      "source": [
        "X = model[model.wv.vocab]"
      ],
      "execution_count": 32,
      "outputs": [
        {
          "output_type": "stream",
          "text": [
            "/usr/local/lib/python3.6/dist-packages/ipykernel_launcher.py:1: DeprecationWarning: Call to deprecated `__getitem__` (Method will be removed in 4.0.0, use self.wv.__getitem__() instead).\n",
            "  \"\"\"Entry point for launching an IPython kernel.\n"
          ],
          "name": "stderr"
        }
      ]
    },
    {
      "metadata": {
        "id": "jusENfCdjtdR",
        "colab_type": "code",
        "colab": {}
      },
      "cell_type": "code",
      "source": [
        "tsne = TSNE(n_components=2, n_iter=250)"
      ],
      "execution_count": 0,
      "outputs": []
    },
    {
      "metadata": {
        "id": "GQSDK2mrjtdW",
        "colab_type": "code",
        "colab": {}
      },
      "cell_type": "code",
      "source": [
        "X_2d = tsne.fit_transform(X)"
      ],
      "execution_count": 0,
      "outputs": []
    },
    {
      "metadata": {
        "id": "E8Wq7y7PjtdY",
        "colab_type": "code",
        "colab": {}
      },
      "cell_type": "code",
      "source": [
        "coords_df = pd.DataFrame(X_2d, columns=['x', 'y'])\n",
        "coords_df['token'] = model.wv.vocab.keys()"
      ],
      "execution_count": 0,
      "outputs": []
    },
    {
      "metadata": {
        "id": "X5XEp3TQjtdc",
        "colab_type": "code",
        "colab": {
          "base_uri": "https://localhost:8080/",
          "height": 204
        },
        "outputId": "104415e9-3426-4d99-c961-11aa6050d908"
      },
      "cell_type": "code",
      "source": [
        "coords_df.head()"
      ],
      "execution_count": 36,
      "outputs": [
        {
          "output_type": "execute_result",
          "data": {
            "text/html": [
              "<div>\n",
              "<style scoped>\n",
              "    .dataframe tbody tr th:only-of-type {\n",
              "        vertical-align: middle;\n",
              "    }\n",
              "\n",
              "    .dataframe tbody tr th {\n",
              "        vertical-align: top;\n",
              "    }\n",
              "\n",
              "    .dataframe thead th {\n",
              "        text-align: right;\n",
              "    }\n",
              "</style>\n",
              "<table border=\"1\" class=\"dataframe\">\n",
              "  <thead>\n",
              "    <tr style=\"text-align: right;\">\n",
              "      <th></th>\n",
              "      <th>x</th>\n",
              "      <th>y</th>\n",
              "      <th>token</th>\n",
              "    </tr>\n",
              "  </thead>\n",
              "  <tbody>\n",
              "    <tr>\n",
              "      <th>0</th>\n",
              "      <td>1.019629</td>\n",
              "      <td>-0.435653</td>\n",
              "      <td>[</td>\n",
              "    </tr>\n",
              "    <tr>\n",
              "      <th>1</th>\n",
              "      <td>-0.421549</td>\n",
              "      <td>-0.241114</td>\n",
              "      <td>and</td>\n",
              "    </tr>\n",
              "    <tr>\n",
              "      <th>2</th>\n",
              "      <td>-0.159276</td>\n",
              "      <td>-0.003193</td>\n",
              "      <td>by</td>\n",
              "    </tr>\n",
              "    <tr>\n",
              "      <th>3</th>\n",
              "      <td>1.019609</td>\n",
              "      <td>-0.434047</td>\n",
              "      <td>]</td>\n",
              "    </tr>\n",
              "    <tr>\n",
              "      <th>4</th>\n",
              "      <td>1.010063</td>\n",
              "      <td>-0.445396</td>\n",
              "      <td>CHAPTER</td>\n",
              "    </tr>\n",
              "  </tbody>\n",
              "</table>\n",
              "</div>"
            ],
            "text/plain": [
              "          x         y    token\n",
              "0  1.019629 -0.435653        [\n",
              "1 -0.421549 -0.241114      and\n",
              "2 -0.159276 -0.003193       by\n",
              "3  1.019609 -0.434047        ]\n",
              "4  1.010063 -0.445396  CHAPTER"
            ]
          },
          "metadata": {
            "tags": []
          },
          "execution_count": 36
        }
      ]
    },
    {
      "metadata": {
        "id": "rRFgQl5Ejtdf",
        "colab_type": "code",
        "colab": {}
      },
      "cell_type": "code",
      "source": [
        "coords_df.to_csv('raw_gutenberg_tsne.csv', index=False)"
      ],
      "execution_count": 0,
      "outputs": []
    },
    {
      "metadata": {
        "id": "28yKdpfKjtdg",
        "colab_type": "text"
      },
      "cell_type": "markdown",
      "source": [
        "#### Visualise 2D representation of word vectors"
      ]
    },
    {
      "metadata": {
        "id": "-0i5AINQjtdn",
        "colab_type": "code",
        "colab": {}
      },
      "cell_type": "code",
      "source": [
        "coorrds_df = pd.read_csv('raw_gutenberg_tsne.csv')"
      ],
      "execution_count": 0,
      "outputs": []
    },
    {
      "metadata": {
        "id": "VHxO-MwHjtds",
        "colab_type": "code",
        "colab": {
          "base_uri": "https://localhost:8080/",
          "height": 204
        },
        "outputId": "545f5279-2d38-4f0a-bfd9-99b867d2b1ab"
      },
      "cell_type": "code",
      "source": [
        "coords_df.head()"
      ],
      "execution_count": 39,
      "outputs": [
        {
          "output_type": "execute_result",
          "data": {
            "text/html": [
              "<div>\n",
              "<style scoped>\n",
              "    .dataframe tbody tr th:only-of-type {\n",
              "        vertical-align: middle;\n",
              "    }\n",
              "\n",
              "    .dataframe tbody tr th {\n",
              "        vertical-align: top;\n",
              "    }\n",
              "\n",
              "    .dataframe thead th {\n",
              "        text-align: right;\n",
              "    }\n",
              "</style>\n",
              "<table border=\"1\" class=\"dataframe\">\n",
              "  <thead>\n",
              "    <tr style=\"text-align: right;\">\n",
              "      <th></th>\n",
              "      <th>x</th>\n",
              "      <th>y</th>\n",
              "      <th>token</th>\n",
              "    </tr>\n",
              "  </thead>\n",
              "  <tbody>\n",
              "    <tr>\n",
              "      <th>0</th>\n",
              "      <td>1.019629</td>\n",
              "      <td>-0.435653</td>\n",
              "      <td>[</td>\n",
              "    </tr>\n",
              "    <tr>\n",
              "      <th>1</th>\n",
              "      <td>-0.421549</td>\n",
              "      <td>-0.241114</td>\n",
              "      <td>and</td>\n",
              "    </tr>\n",
              "    <tr>\n",
              "      <th>2</th>\n",
              "      <td>-0.159276</td>\n",
              "      <td>-0.003193</td>\n",
              "      <td>by</td>\n",
              "    </tr>\n",
              "    <tr>\n",
              "      <th>3</th>\n",
              "      <td>1.019609</td>\n",
              "      <td>-0.434047</td>\n",
              "      <td>]</td>\n",
              "    </tr>\n",
              "    <tr>\n",
              "      <th>4</th>\n",
              "      <td>1.010063</td>\n",
              "      <td>-0.445396</td>\n",
              "      <td>CHAPTER</td>\n",
              "    </tr>\n",
              "  </tbody>\n",
              "</table>\n",
              "</div>"
            ],
            "text/plain": [
              "          x         y    token\n",
              "0  1.019629 -0.435653        [\n",
              "1 -0.421549 -0.241114      and\n",
              "2 -0.159276 -0.003193       by\n",
              "3  1.019609 -0.434047        ]\n",
              "4  1.010063 -0.445396  CHAPTER"
            ]
          },
          "metadata": {
            "tags": []
          },
          "execution_count": 39
        }
      ]
    },
    {
      "metadata": {
        "id": "DX_rLClHjtdx",
        "colab_type": "code",
        "colab": {
          "base_uri": "https://localhost:8080/",
          "height": 497
        },
        "outputId": "3c6e5da3-3cd7-4fb0-bca0-596ca2623a4e"
      },
      "cell_type": "code",
      "source": [
        "_ = coords_df.plot.scatter('x', 'y', figsize=(8,8), marker='o', s=10, alpha=0.2)"
      ],
      "execution_count": 40,
      "outputs": [
        {
          "output_type": "display_data",
          "data": {
            "image/png": "[encoded data removed]",
            "text/plain": [
              "<matplotlib.figure.Figure at 0x7fb4504ac080>"
            ]
          },
          "metadata": {
            "tags": []
          }
        }
      ]
    },
    {
      "metadata": {
        "id": "NJ82-MnSmWsV",
        "colab_type": "text"
      },
      "cell_type": "markdown",
      "source": [
        "Doesn’t help to see it like that. Let’s try something else instead."
      ]
    },
    {
      "metadata": {
        "id": "V68ID_Q6mjAN",
        "colab_type": "text"
      },
      "cell_type": "markdown",
      "source": [
        "## BokehJS"
      ]
    },
    {
      "metadata": {
        "id": "gh2vLRGgjtd0",
        "colab_type": "code",
        "colab": {
          "base_uri": "https://localhost:8080/",
          "height": 47
        },
        "outputId": "8a193cab-4f9d-4cec-f041-2dc24125a6bf"
      },
      "cell_type": "code",
      "source": [
        "output_notebook()"
      ],
      "execution_count": 41,
      "outputs": [
        {
          "output_type": "display_data",
          "data": {
            "text/html": [
              "\n",
              "    <div class=\"bk-root\">\n",
              "        <a href=\"https://bokeh.pydata.org\" target=\"_blank\" class=\"bk-logo bk-logo-small bk-logo-notebook\"></a>\n",
              "        <span id=\"1001\">Loading BokehJS ...</span>\n",
              "    </div>"
            ]
          },
          "metadata": {
            "tags": []
          }
        },
        {
          "output_type": "display_data",
          "data": {
            "application/javascript": [
              "\n",
              "(function(root) {\n",
              "  function now() {\n",
              "    return new Date();\n",
              "  }\n",
              "\n",
              "  var force = true;\n",
              "\n",
              "  if (typeof (root._bokeh_onload_callbacks) === \"undefined\" || force === true) {\n",
              "    root._bokeh_onload_callbacks = [];\n",
              "    root._bokeh_is_loading = undefined;\n",
              "  }\n",
              "\n",
              "  var JS_MIME_TYPE = 'application/javascript';\n",
              "  var HTML_MIME_TYPE = 'text/html';\n",
              "  var EXEC_MIME_TYPE = 'application/vnd.bokehjs_exec.v0+json';\n",
              "  var CLASS_NAME = 'output_bokeh rendered_html';\n",
              "\n",
              "  /**\n",
              "   * Render data to the DOM node\n",
              "   */\n",
              "  function render(props, node) {\n",
              "    var script = document.createElement(\"script\");\n",
              "    node.appendChild(script);\n",
              "  }\n",
              "\n",
              "  /**\n",
              "   * Handle when an output is cleared or removed\n",
              "   */\n",
              "  function handleClearOutput(event, handle) {\n",
              "    var cell = handle.cell;\n",
              "\n",
              "    var id = cell.output_area._bokeh_element_id;\n",
              "    var server_id = cell.output_area._bokeh_server_id;\n",
              "    // Clean up Bokeh references\n",
              "    if (id != null && id in Bokeh.index) {\n",
              "      Bokeh.index[id].model.document.clear();\n",
              "      delete Bokeh.index[id];\n",
              "    }\n",
              "\n",
              "    if (server_id !== undefined) {\n",
              "      // Clean up Bokeh references\n",
              "      var cmd = \"from bokeh.io.state import curstate; print(curstate().uuid_to_server['\" + server_id + \"'].get_sessions()[0].document.roots[0]._id)\";\n",
              "      cell.notebook.kernel.execute(cmd, {\n",
              "        iopub: {\n",
              "          output: function(msg) {\n",
              "            var id = msg.content.text.trim();\n",
              "            if (id in Bokeh.index) {\n",
              "              Bokeh.index[id].model.document.clear();\n",
              "              delete Bokeh.index[id];\n",
              "            }\n",
              "          }\n",
              "        }\n",
              "      });\n",
              "      // Destroy server and session\n",
              "      var cmd = \"import bokeh.io.notebook as ion; ion.destroy_server('\" + server_id + \"')\";\n",
              "      cell.notebook.kernel.execute(cmd);\n",
              "    }\n",
              "  }\n",
              "\n",
              "  /**\n",
              "   * Handle when a new output is added\n",
              "   */\n",
              "  function handleAddOutput(event, handle) {\n",
              "    var output_area = handle.output_area;\n",
              "    var output = handle.output;\n",
              "\n",
              "    // limit handleAddOutput to display_data with EXEC_MIME_TYPE content only\n",
              "    if ((output.output_type != \"display_data\") || (!output.data.hasOwnProperty(EXEC_MIME_TYPE))) {\n",
              "      return\n",
              "    }\n",
              "\n",
              "    var toinsert = output_area.element.find(\".\" + CLASS_NAME.split(' ')[0]);\n",
              "\n",
              "    if (output.metadata[EXEC_MIME_TYPE][\"id\"] !== undefined) {\n",
              "      toinsert[toinsert.length - 1].firstChild.textContent = output.data[JS_MIME_TYPE];\n",
              "      // store reference to embed id on output_area\n",
              "      output_area._bokeh_element_id = output.metadata[EXEC_MIME_TYPE][\"id\"];\n",
              "    }\n",
              "    if (output.metadata[EXEC_MIME_TYPE][\"server_id\"] !== undefined) {\n",
              "      var bk_div = document.createElement(\"div\");\n",
              "      bk_div.innerHTML = output.data[HTML_MIME_TYPE];\n",
              "      var script_attrs = bk_div.children[0].attributes;\n",
              "      for (var i = 0; i < script_attrs.length; i++) {\n",
              "        toinsert[toinsert.length - 1].firstChild.setAttribute(script_attrs[i].name, script_attrs[i].value);\n",
              "      }\n",
              "      // store reference to server id on output_area\n",
              "      output_area._bokeh_server_id = output.metadata[EXEC_MIME_TYPE][\"server_id\"];\n",
              "    }\n",
              "  }\n",
              "\n",
              "  function register_renderer(events, OutputArea) {\n",
              "\n",
              "    function append_mime(data, metadata, element) {\n",
              "      // create a DOM node to render to\n",
              "      var toinsert = this.create_output_subarea(\n",
              "        metadata,\n",
              "        CLASS_NAME,\n",
              "        EXEC_MIME_TYPE\n",
              "      );\n",
              "      this.keyboard_manager.register_events(toinsert);\n",
              "      // Render to node\n",
              "      var props = {data: data, metadata: metadata[EXEC_MIME_TYPE]};\n",
              "      render(props, toinsert[toinsert.length - 1]);\n",
              "      element.append(toinsert);\n",
              "      return toinsert\n",
              "    }\n",
              "\n",
              "    /* Handle when an output is cleared or removed */\n",
              "    events.on('clear_output.CodeCell', handleClearOutput);\n",
              "    events.on('delete.Cell', handleClearOutput);\n",
              "\n",
              "    /* Handle when a new output is added */\n",
              "    events.on('output_added.OutputArea', handleAddOutput);\n",
              "\n",
              "    /**\n",
              "     * Register the mime type and append_mime function with output_area\n",
              "     */\n",
              "    OutputArea.prototype.register_mime_type(EXEC_MIME_TYPE, append_mime, {\n",
              "      /* Is output safe? */\n",
              "      safe: true,\n",
              "      /* Index of renderer in `output_area.display_order` */\n",
              "      index: 0\n",
              "    });\n",
              "  }\n",
              "\n",
              "  // register the mime type if in Jupyter Notebook environment and previously unregistered\n",
              "  if (root.Jupyter !== undefined) {\n",
              "    var events = require('base/js/events');\n",
              "    var OutputArea = require('notebook/js/outputarea').OutputArea;\n",
              "\n",
              "    if (OutputArea.prototype.mime_types().indexOf(EXEC_MIME_TYPE) == -1) {\n",
              "      register_renderer(events, OutputArea);\n",
              "    }\n",
              "  }\n",
              "\n",
              "  \n",
              "  if (typeof (root._bokeh_timeout) === \"undefined\" || force === true) {\n",
              "    root._bokeh_timeout = Date.now() + 5000;\n",
              "    root._bokeh_failed_load = false;\n",
              "  }\n",
              "\n",
              "  var NB_LOAD_WARNING = {'data': {'text/html':\n",
              "     \"<div style='background-color: #fdd'>\\n\"+\n",
              "     \"<p>\\n\"+\n",
              "     \"BokehJS does not appear to have successfully loaded. If loading BokehJS from CDN, this \\n\"+\n",
              "     \"may be due to a slow or bad network connection. Possible fixes:\\n\"+\n",
              "     \"</p>\\n\"+\n",
              "     \"<ul>\\n\"+\n",
              "     \"<li>re-rerun `output_notebook()` to attempt to load from CDN again, or</li>\\n\"+\n",
              "     \"<li>use INLINE resources instead, as so:</li>\\n\"+\n",
              "     \"</ul>\\n\"+\n",
              "     \"<code>\\n\"+\n",
              "     \"from bokeh.resources import INLINE\\n\"+\n",
              "     \"output_notebook(resources=INLINE)\\n\"+\n",
              "     \"</code>\\n\"+\n",
              "     \"</div>\"}};\n",
              "\n",
              "  function display_loaded() {\n",
              "    var el = document.getElementById(\"1001\");\n",
              "    if (el != null) {\n",
              "      el.textContent = \"BokehJS is loading...\";\n",
              "    }\n",
              "    if (root.Bokeh !== undefined) {\n",
              "      if (el != null) {\n",
              "        el.textContent = \"BokehJS \" + root.Bokeh.version + \" successfully loaded.\";\n",
              "      }\n",
              "    } else if (Date.now() < root._bokeh_timeout) {\n",
              "      setTimeout(display_loaded, 100)\n",
              "    }\n",
              "  }\n",
              "\n",
              "\n",
              "  function run_callbacks() {\n",
              "    try {\n",
              "      root._bokeh_onload_callbacks.forEach(function(callback) { callback() });\n",
              "    }\n",
              "    finally {\n",
              "      delete root._bokeh_onload_callbacks\n",
              "    }\n",
              "    console.info(\"Bokeh: all callbacks have finished\");\n",
              "  }\n",
              "\n",
              "  function load_libs(js_urls, callback) {\n",
              "    root._bokeh_onload_callbacks.push(callback);\n",
              "    if (root._bokeh_is_loading > 0) {\n",
              "      console.log(\"Bokeh: BokehJS is being loaded, scheduling callback at\", now());\n",
              "      return null;\n",
              "    }\n",
              "    if (js_urls == null || js_urls.length === 0) {\n",
              "      run_callbacks();\n",
              "      return null;\n",
              "    }\n",
              "    console.log(\"Bokeh: BokehJS not loaded, scheduling load and callback at\", now());\n",
              "    root._bokeh_is_loading = js_urls.length;\n",
              "    for (var i = 0; i < js_urls.length; i++) {\n",
              "      var url = js_urls[i];\n",
              "      var s = document.createElement('script');\n",
              "      s.src = url;\n",
              "      s.async = false;\n",
              "      s.onreadystatechange = s.onload = function() {\n",
              "        root._bokeh_is_loading--;\n",
              "        if (root._bokeh_is_loading === 0) {\n",
              "          console.log(\"Bokeh: all BokehJS libraries loaded\");\n",
              "          run_callbacks()\n",
              "        }\n",
              "      };\n",
              "      s.onerror = function() {\n",
              "        console.warn(\"failed to load library \" + url);\n",
              "      };\n",
              "      console.log(\"Bokeh: injecting script tag for BokehJS library: \", url);\n",
              "      document.getElementsByTagName(\"head\")[0].appendChild(s);\n",
              "    }\n",
              "  };var element = document.getElementById(\"1001\");\n",
              "  if (element == null) {\n",
              "    console.log(\"Bokeh: ERROR: autoload.js configured with elementid '1001' but no matching script tag was found. \")\n",
              "    return false;\n",
              "  }\n",
              "\n",
              "  var js_urls = [\"https://cdn.pydata.org/bokeh/release/bokeh-1.0.2.min.js\", \"https://cdn.pydata.org/bokeh/release/bokeh-widgets-1.0.2.min.js\", \"https://cdn.pydata.org/bokeh/release/bokeh-tables-1.0.2.min.js\", \"https://cdn.pydata.org/bokeh/release/bokeh-gl-1.0.2.min.js\"];\n",
              "\n",
              "  var inline_js = [\n",
              "    function(Bokeh) {\n",
              "      Bokeh.set_log_level(\"info\");\n",
              "    },\n",
              "    \n",
              "    function(Bokeh) {\n",
              "      \n",
              "    },\n",
              "    function(Bokeh) {\n",
              "      console.log(\"Bokeh: injecting CSS: https://cdn.pydata.org/bokeh/release/bokeh-1.0.2.min.css\");\n",
              "      Bokeh.embed.inject_css(\"https://cdn.pydata.org/bokeh/release/bokeh-1.0.2.min.css\");\n",
              "      console.log(\"Bokeh: injecting CSS: https://cdn.pydata.org/bokeh/release/bokeh-widgets-1.0.2.min.css\");\n",
              "      Bokeh.embed.inject_css(\"https://cdn.pydata.org/bokeh/release/bokeh-widgets-1.0.2.min.css\");\n",
              "      console.log(\"Bokeh: injecting CSS: https://cdn.pydata.org/bokeh/release/bokeh-tables-1.0.2.min.css\");\n",
              "      Bokeh.embed.inject_css(\"https://cdn.pydata.org/bokeh/release/bokeh-tables-1.0.2.min.css\");\n",
              "    }\n",
              "  ];\n",
              "\n",
              "  function run_inline_js() {\n",
              "    \n",
              "    if ((root.Bokeh !== undefined) || (force === true)) {\n",
              "      for (var i = 0; i < inline_js.length; i++) {\n",
              "        inline_js[i].call(root, root.Bokeh);\n",
              "      }if (force === true) {\n",
              "        display_loaded();\n",
              "      }} else if (Date.now() < root._bokeh_timeout) {\n",
              "      setTimeout(run_inline_js, 100);\n",
              "    } else if (!root._bokeh_failed_load) {\n",
              "      console.log(\"Bokeh: BokehJS failed to load within specified timeout.\");\n",
              "      root._bokeh_failed_load = true;\n",
              "    } else if (force !== true) {\n",
              "      var cell = $(document.getElementById(\"1001\")).parents('.cell').data().cell;\n",
              "      cell.output_area.append_execute_result(NB_LOAD_WARNING)\n",
              "    }\n",
              "\n",
              "  }\n",
              "\n",
              "  if (root._bokeh_is_loading === 0) {\n",
              "    console.log(\"Bokeh: BokehJS loaded, going straight to plotting\");\n",
              "    run_inline_js();\n",
              "  } else {\n",
              "    load_libs(js_urls, function() {\n",
              "      console.log(\"Bokeh: BokehJS plotting callback run at\", now());\n",
              "      run_inline_js();\n",
              "    });\n",
              "  }\n",
              "}(window));"
            ],
            "application/vnd.bokehjs_load.v0+json": "\n(function(root) {\n  function now() {\n    return new Date();\n  }\n\n  var force = true;\n\n  if (typeof (root._bokeh_onload_callbacks) === \"undefined\" || force === true) {\n    root._bokeh_onload_callbacks = [];\n    root._bokeh_is_loading = undefined;\n  }\n\n  \n\n  \n  if (typeof (root._bokeh_timeout) === \"undefined\" || force === true) {\n    root._bokeh_timeout = Date.now() + 5000;\n    root._bokeh_failed_load = false;\n  }\n\n  var NB_LOAD_WARNING = {'data': {'text/html':\n     \"<div style='background-color: #fdd'>\\n\"+\n     \"<p>\\n\"+\n     \"BokehJS does not appear to have successfully loaded. If loading BokehJS from CDN, this \\n\"+\n     \"may be due to a slow or bad network connection. Possible fixes:\\n\"+\n     \"</p>\\n\"+\n     \"<ul>\\n\"+\n     \"<li>re-rerun `output_notebook()` to attempt to load from CDN again, or</li>\\n\"+\n     \"<li>use INLINE resources instead, as so:</li>\\n\"+\n     \"</ul>\\n\"+\n     \"<code>\\n\"+\n     \"from bokeh.resources import INLINE\\n\"+\n     \"output_notebook(resources=INLINE)\\n\"+\n     \"</code>\\n\"+\n     \"</div>\"}};\n\n  function display_loaded() {\n    var el = document.getElementById(\"1001\");\n    if (el != null) {\n      el.textContent = \"BokehJS is loading...\";\n    }\n    if (root.Bokeh !== undefined) {\n      if (el != null) {\n        el.textContent = \"BokehJS \" + root.Bokeh.version + \" successfully loaded.\";\n      }\n    } else if (Date.now() < root._bokeh_timeout) {\n      setTimeout(display_loaded, 100)\n    }\n  }\n\n\n  function run_callbacks() {\n    try {\n      root._bokeh_onload_callbacks.forEach(function(callback) { callback() });\n    }\n    finally {\n      delete root._bokeh_onload_callbacks\n    }\n    console.info(\"Bokeh: all callbacks have finished\");\n  }\n\n  function load_libs(js_urls, callback) {\n    root._bokeh_onload_callbacks.push(callback);\n    if (root._bokeh_is_loading > 0) {\n      console.log(\"Bokeh: BokehJS is being loaded, scheduling callback at\", now());\n      return null;\n    }\n    if (js_urls == null || js_urls.length === 0) {\n      run_callbacks();\n      return null;\n    }\n    console.log(\"Bokeh: BokehJS not loaded, scheduling load and callback at\", now());\n    root._bokeh_is_loading = js_urls.length;\n    for (var i = 0; i < js_urls.length; i++) {\n      var url = js_urls[i];\n      var s = document.createElement('script');\n      s.src = url;\n      s.async = false;\n      s.onreadystatechange = s.onload = function() {\n        root._bokeh_is_loading--;\n        if (root._bokeh_is_loading === 0) {\n          console.log(\"Bokeh: all BokehJS libraries loaded\");\n          run_callbacks()\n        }\n      };\n      s.onerror = function() {\n        console.warn(\"failed to load library \" + url);\n      };\n      console.log(\"Bokeh: injecting script tag for BokehJS library: \", url);\n      document.getElementsByTagName(\"head\")[0].appendChild(s);\n    }\n  };var element = document.getElementById(\"1001\");\n  if (element == null) {\n    console.log(\"Bokeh: ERROR: autoload.js configured with elementid '1001' but no matching script tag was found. \")\n    return false;\n  }\n\n  var js_urls = [\"https://cdn.pydata.org/bokeh/release/bokeh-1.0.2.min.js\", \"https://cdn.pydata.org/bokeh/release/bokeh-widgets-1.0.2.min.js\", \"https://cdn.pydata.org/bokeh/release/bokeh-tables-1.0.2.min.js\", \"https://cdn.pydata.org/bokeh/release/bokeh-gl-1.0.2.min.js\"];\n\n  var inline_js = [\n    function(Bokeh) {\n      Bokeh.set_log_level(\"info\");\n    },\n    \n    function(Bokeh) {\n      \n    },\n    function(Bokeh) {\n      console.log(\"Bokeh: injecting CSS: https://cdn.pydata.org/bokeh/release/bokeh-1.0.2.min.css\");\n      Bokeh.embed.inject_css(\"https://cdn.pydata.org/bokeh/release/bokeh-1.0.2.min.css\");\n      console.log(\"Bokeh: injecting CSS: https://cdn.pydata.org/bokeh/release/bokeh-widgets-1.0.2.min.css\");\n      Bokeh.embed.inject_css(\"https://cdn.pydata.org/bokeh/release/bokeh-widgets-1.0.2.min.css\");\n      console.log(\"Bokeh: injecting CSS: https://cdn.pydata.org/bokeh/release/bokeh-tables-1.0.2.min.css\");\n      Bokeh.embed.inject_css(\"https://cdn.pydata.org/bokeh/release/bokeh-tables-1.0.2.min.css\");\n    }\n  ];\n\n  function run_inline_js() {\n    \n    if ((root.Bokeh !== undefined) || (force === true)) {\n      for (var i = 0; i < inline_js.length; i++) {\n        inline_js[i].call(root, root.Bokeh);\n      }if (force === true) {\n        display_loaded();\n      }} else if (Date.now() < root._bokeh_timeout) {\n      setTimeout(run_inline_js, 100);\n    } else if (!root._bokeh_failed_load) {\n      console.log(\"Bokeh: BokehJS failed to load within specified timeout.\");\n      root._bokeh_failed_load = true;\n    } else if (force !== true) {\n      var cell = $(document.getElementById(\"1001\")).parents('.cell').data().cell;\n      cell.output_area.append_execute_result(NB_LOAD_WARNING)\n    }\n\n  }\n\n  if (root._bokeh_is_loading === 0) {\n    console.log(\"Bokeh: BokehJS loaded, going straight to plotting\");\n    run_inline_js();\n  } else {\n    load_libs(js_urls, function() {\n      console.log(\"Bokeh: BokehJS plotting callback run at\", now());\n      run_inline_js();\n    });\n  }\n}(window));"
          },
          "metadata": {
            "tags": []
          }
        }
      ]
    },
    {
      "metadata": {
        "id": "kmxoZ4uEjtd2",
        "colab_type": "code",
        "colab": {}
      },
      "cell_type": "code",
      "source": [
        "subset_df = coords_df.sample(n=1000)"
      ],
      "execution_count": 0,
      "outputs": []
    },
    {
      "metadata": {
        "id": "IBmC-4hxjtd6",
        "colab_type": "code",
        "colab": {
          "base_uri": "https://localhost:8080/",
          "height": 34
        },
        "outputId": "22c05be9-4b36-481d-c7d1-547a8082b951"
      },
      "cell_type": "code",
      "source": [
        "p = figure(plot_width=600, plot_height=600)\n",
        "p.text(x=subset_df.x, y=subset_df.y, text=subset_df.token)"
      ],
      "execution_count": 43,
      "outputs": [
        {
          "output_type": "execute_result",
          "data": {
            "text/html": [
              "<div style=\"display: table;\"><div style=\"display: table-row;\"><div style=\"display: table-cell;\"><b title=\"bokeh.models.renderers.GlyphRenderer\">GlyphRenderer</b>(</div><div style=\"display: table-cell;\">id&nbsp;=&nbsp;'1039', <span id=\"1042\" style=\"cursor: pointer;\">&hellip;)</span></div></div><div class=\"1041\" style=\"display: none;\"><div style=\"display: table-cell;\"></div><div style=\"display: table-cell;\">data_source&nbsp;=&nbsp;ColumnDataSource(id='1036', ...),</div></div><div class=\"1041\" style=\"display: none;\"><div style=\"display: table-cell;\"></div><div style=\"display: table-cell;\">glyph&nbsp;=&nbsp;Text(id='1037', ...),</div></div><div class=\"1041\" style=\"display: none;\"><div style=\"display: table-cell;\"></div><div style=\"display: table-cell;\">hover_glyph&nbsp;=&nbsp;None,</div></div><div class=\"1041\" style=\"display: none;\"><div style=\"display: table-cell;\"></div><div style=\"display: table-cell;\">js_event_callbacks&nbsp;=&nbsp;{},</div></div><div class=\"1041\" style=\"display: none;\"><div style=\"display: table-cell;\"></div><div style=\"display: table-cell;\">js_property_callbacks&nbsp;=&nbsp;{},</div></div><div class=\"1041\" style=\"display: none;\"><div style=\"display: table-cell;\"></div><div style=\"display: table-cell;\">level&nbsp;=&nbsp;'glyph',</div></div><div class=\"1041\" style=\"display: none;\"><div style=\"display: table-cell;\"></div><div style=\"display: table-cell;\">muted&nbsp;=&nbsp;False,</div></div><div class=\"1041\" style=\"display: none;\"><div style=\"display: table-cell;\"></div><div style=\"display: table-cell;\">muted_glyph&nbsp;=&nbsp;None,</div></div><div class=\"1041\" style=\"display: none;\"><div style=\"display: table-cell;\"></div><div style=\"display: table-cell;\">name&nbsp;=&nbsp;None,</div></div><div class=\"1041\" style=\"display: none;\"><div style=\"display: table-cell;\"></div><div style=\"display: table-cell;\">nonselection_glyph&nbsp;=&nbsp;Text(id='1038', ...),</div></div><div class=\"1041\" style=\"display: none;\"><div style=\"display: table-cell;\"></div><div style=\"display: table-cell;\">selection_glyph&nbsp;=&nbsp;None,</div></div><div class=\"1041\" style=\"display: none;\"><div style=\"display: table-cell;\"></div><div style=\"display: table-cell;\">subscribed_events&nbsp;=&nbsp;[],</div></div><div class=\"1041\" style=\"display: none;\"><div style=\"display: table-cell;\"></div><div style=\"display: table-cell;\">tags&nbsp;=&nbsp;[],</div></div><div class=\"1041\" style=\"display: none;\"><div style=\"display: table-cell;\"></div><div style=\"display: table-cell;\">view&nbsp;=&nbsp;CDSView(id='1040', ...),</div></div><div class=\"1041\" style=\"display: none;\"><div style=\"display: table-cell;\"></div><div style=\"display: table-cell;\">visible&nbsp;=&nbsp;True,</div></div><div class=\"1041\" style=\"display: none;\"><div style=\"display: table-cell;\"></div><div style=\"display: table-cell;\">x_range_name&nbsp;=&nbsp;'default',</div></div><div class=\"1041\" style=\"display: none;\"><div style=\"display: table-cell;\"></div><div style=\"display: table-cell;\">y_range_name&nbsp;=&nbsp;'default')</div></div></div>\n",
              "<script>\n",
              "(function() {\n",
              "  var expanded = false;\n",
              "  var ellipsis = document.getElementById(\"1042\");\n",
              "  ellipsis.addEventListener(\"click\", function() {\n",
              "    var rows = document.getElementsByClassName(\"1041\");\n",
              "    for (var i = 0; i < rows.length; i++) {\n",
              "      var el = rows[i];\n",
              "      el.style.display = expanded ? \"none\" : \"table-row\";\n",
              "    }\n",
              "    ellipsis.innerHTML = expanded ? \"&hellip;)\" : \"&lsaquo;&lsaquo;&lsaquo;\";\n",
              "    expanded = !expanded;\n",
              "  });\n",
              "})();\n",
              "</script>\n"
            ],
            "text/plain": [
              "GlyphRenderer(id='1039', ...)"
            ]
          },
          "metadata": {
            "tags": []
          },
          "execution_count": 43
        }
      ]
    },
    {
      "metadata": {
        "id": "bPHBN-Uzjtd9",
        "colab_type": "code",
        "colab": {
          "base_uri": "https://localhost:8080/",
          "height": 17
        },
        "outputId": "066b4ca1-a410-4107-8415-4dfbaca57d1e"
      },
      "cell_type": "code",
      "source": [
        "show(p)"
      ],
      "execution_count": 44,
      "outputs": [
        {
          "output_type": "display_data",
          "data": {
            "text/html": [
              "\n",
              "\n",
              "\n",
              "\n",
              "\n",
              "\n",
              "  <div class=\"bk-root\" id=\"8657c746-3df4-4c5b-b742-d4b4fa2cddde\"></div>\n"
            ]
          },
          "metadata": {
            "tags": []
          }
        },
        {
          "output_type": "display_data",
          "data": {
            "application/javascript": [
              "(function(root) {\n",
              "  function embed_document(root) {\n",
              "    \n",
              "  var docs_json = {\"01f1b86a-5ac1-417b-9d92-e941b99faf3f\":{\"roots\":{\"references\":[{\"attributes\":{\"below\":[{\"id\":\"1011\",\"type\":\"LinearAxis\"}],\"left\":[{\"id\":\"1016\",\"type\":\"LinearAxis\"}],\"renderers\":[{\"id\":\"1011\",\"type\":\"LinearAxis\"},{\"id\":\"1015\",\"type\":\"Grid\"},{\"id\":\"1016\",\"type\":\"LinearAxis\"},{\"id\":\"1020\",\"type\":\"Grid\"},{\"id\":\"1029\",\"type\":\"BoxAnnotation\"},{\"id\":\"1039\",\"type\":\"GlyphRenderer\"}],\"title\":{\"id\":\"1044\",\"type\":\"Title\"},\"toolbar\":{\"id\":\"1027\",\"type\":\"Toolbar\"},\"x_range\":{\"id\":\"1003\",\"type\":\"DataRange1d\"},\"x_scale\":{\"id\":\"1007\",\"type\":\"LinearScale\"},\"y_range\":{\"id\":\"1005\",\"type\":\"DataRange1d\"},\"y_scale\":{\"id\":\"1009\",\"type\":\"LinearScale\"}},\"id\":\"1002\",\"subtype\":\"Figure\",\"type\":\"Plot\"},{\"attributes\":{\"callback\":null},\"id\":\"1003\",\"type\":\"DataRange1d\"},{\"attributes\":{\"callback\":null},\"id\":\"1005\",\"type\":\"DataRange1d\"},{\"attributes\":{},\"id\":\"1009\",\"type\":\"LinearScale\"},{\"attributes\":{},\"id\":\"1025\",\"type\":\"ResetTool\"},{\"attributes\":{},\"id\":\"1049\",\"type\":\"Selection\"},{\"attributes\":{\"bottom_units\":\"screen\",\"fill_alpha\":{\"value\":0.5},\"fill_color\":{\"value\":\"lightgrey\"},\"left_units\":\"screen\",\"level\":\"overlay\",\"line_alpha\":{\"value\":1.0},\"line_color\":{\"value\":\"black\"},\"line_dash\":[4,4],\"line_width\":{\"value\":2},\"plot\":null,\"render_mode\":\"css\",\"right_units\":\"screen\",\"top_units\":\"screen\"},\"id\":\"1029\",\"type\":\"BoxAnnotation\"},{\"attributes\":{\"source\":{\"id\":\"1036\",\"type\":\"ColumnDataSource\"}},\"id\":\"1040\",\"type\":\"CDSView\"},{\"attributes\":{},\"id\":\"1021\",\"type\":\"PanTool\"},{\"attributes\":{},\"id\":\"1017\",\"type\":\"BasicTicker\"},{\"attributes\":{\"active_drag\":\"auto\",\"active_inspect\":\"auto\",\"active_multi\":null,\"active_scroll\":\"auto\",\"active_tap\":\"auto\",\"tools\":[{\"id\":\"1021\",\"type\":\"PanTool\"},{\"id\":\"1022\",\"type\":\"WheelZoomTool\"},{\"id\":\"1023\",\"type\":\"BoxZoomTool\"},{\"id\":\"1024\",\"type\":\"SaveTool\"},{\"id\":\"1025\",\"type\":\"ResetTool\"},{\"id\":\"1026\",\"type\":\"HelpTool\"}]},\"id\":\"1027\",\"type\":\"Toolbar\"},{\"attributes\":{\"text_alpha\":{\"value\":0.1},\"text_color\":{\"value\":\"black\"},\"x\":{\"field\":\"x\"},\"y\":{\"field\":\"y\"}},\"id\":\"1038\",\"type\":\"Text\"},{\"attributes\":{\"data_source\":{\"id\":\"1036\",\"type\":\"ColumnDataSource\"},\"glyph\":{\"id\":\"1037\",\"type\":\"Text\"},\"hover_glyph\":null,\"muted_glyph\":null,\"nonselection_glyph\":{\"id\":\"1038\",\"type\":\"Text\"},\"selection_glyph\":null,\"view\":{\"id\":\"1040\",\"type\":\"CDSView\"}},\"id\":\"1039\",\"type\":\"GlyphRenderer\"},{\"attributes\":{\"dimension\":1,\"plot\":{\"id\":\"1002\",\"subtype\":\"Figure\",\"type\":\"Plot\"},\"ticker\":{\"id\":\"1017\",\"type\":\"BasicTicker\"}},\"id\":\"1020\",\"type\":\"Grid\"},{\"attributes\":{\"text_color\":{\"value\":\"black\"},\"x\":{\"field\":\"x\"},\"y\":{\"field\":\"y\"}},\"id\":\"1037\",\"type\":\"Text\"},{\"attributes\":{},\"id\":\"1026\",\"type\":\"HelpTool\"},{\"attributes\":{\"formatter\":{\"id\":\"1046\",\"type\":\"BasicTickFormatter\"},\"plot\":{\"id\":\"1002\",\"subtype\":\"Figure\",\"type\":\"Plot\"},\"ticker\":{\"id\":\"1012\",\"type\":\"BasicTicker\"}},\"id\":\"1011\",\"type\":\"LinearAxis\"},{\"attributes\":{\"callback\":null,\"data\":{\"text\":[\"owl\",\"headsmen\",\"wager\",\"noses\",\"avoided\",\"pains\",\"ceasing\",\"ON\",\"ale\",\"consist\",\"beards\",\"Sleep\",\"passengers\",\"reduced\",\"`\",\"another\",\"grease\",\"Near\",\"month\",\"arms\",\"consisted\",\"behaved\",\"everyone\",\"empty\",\"slanting\",\"signs\",\"marbles\",\"Catholic\",\"WHALE\",\"nigh\",\"political\",\"nodded\",\"hadn\",\"indulgent\",\"raving\",\"religions\",\"significant\",\"somehow\",\"pulse\",\"tables\",\"health\",\"obey\",\"bones\",\"Cas\",\"window\",\"consequent\",\"debate\",\"applauded\",\"Tell\",\"Certainly\",\"perfect\",\"abruptly\",\"off\",\"cider\",\"known\",\"valiant\",\"nook\",\"attacks\",\"anew\",\"journey\",\"enable\",\"talke\",\"not\",\"deemed\",\"Seraph\",\"Venetian\",\"utterance\",\"dreary\",\"dirt\",\"concerned\",\"begin\",\"Bull\",\"outlined\",\"cropped\",\"archery\",\"climate\",\"arrogant\",\"yes\",\"fallen\",\"Piedro\",\"assembled\",\"attempted\",\"P\",\"concert\",\"opinion\",\"cane\",\"Happy\",\"Five\",\"paused\",\"perpendicular\",\"trampling\",\"satisfying\",\"aright\",\"discomposed\",\"slouched\",\"sleeping\",\"arguing\",\"Monsieur\",\"ascent\",\"lurks\",\"solely\",\"cares\",\"preparations\",\"butler\",\"stops\",\"lumps\",\"gong\",\"distribute\",\"colonel\",\"equality\",\"crab\",\"swallowed\",\"discretion\",\"drowning\",\"worn\",\"perpetual\",\"yard\",\"shot\",\"flinging\",\"Glass\",\"leisure\",\"countless\",\"neighbourhood\",\"poison\",\"meetings\",\"uncivil\",\"really\",\"van\",\"disgrace\",\"steersman\",\"nineteen\",\"sanctity\",\"Jenning\",\"Bertha\",\"acorn\",\"pupil\",\"cavern\",\"viewed\",\"patch\",\"doubloon\",\"nine\",\"Syrian\",\"hiss\",\"warned\",\"ballad\",\"ran\",\"caused\",\"shuffling\",\"vales\",\"ungrateful\",\"di\",\"cracking\",\"wipe\",\"look\",\"convict\",\"institution\",\"islands\",\"stunning\",\"laughs\",\"posts\",\"circle\",\"consented\",\"chapters\",\"allowance\",\"Bildad\",\"G\",\"Chambermaid\",\"dogs\",\"bottomless\",\"graceful\",\"prevent\",\"hoped\",\"moisture\",\"darkening\",\"magnanimous\",\"disappointments\",\"yelling\",\"solemn\",\"grieved\",\"reverse\",\"\\\",\",\"enjoying\",\"whoever\",\"sit\",\"saddle\",\"excess\",\"torrid\",\"highly\",\"swell\",\"immediately\",\"occupations\",\"reason\",\"Nothing\",\"Greco\",\"recently\",\"classification\",\"richer\",\"swimming\",\"growled\",\"slow\",\"stamping\",\"material\",\"strict\",\"Seymour\",\"wheels\",\"heads\",\"appease\",\"conclusion\",\"redresse\",\"pail\",\"Speake\",\"HIM\",\"stall\",\"indescribable\",\"loyal\",\"Fiend\",\"literature\",\"disastrous\",\"bud\",\"beside\",\"blast\",\"them\",\"mouths\",\"Boys\",\"earlier\",\"entering\",\"imagining\",\"introduction\",\"foreigners\",\"unbroken\",\"communicating\",\"Spirits\",\"handkerchief\",\"hungry\",\"Valiant\",\"butter\",\"Dalroy\",\"effort\",\"Greybeards\",\"preface\",\"forsaken\",\"instruction\",\"hotter\",\"strawberry\",\"Dan\",\"sorrow\",\"travelling\",\"dash\",\"yearly\",\"Among\",\"ME\",\"squalls\",\"best\",\"thanking\",\"Hath\",\"lance\",\"chicken\",\"cooked\",\"Cutler\",\"Royal\",\"Fedallah\",\"flukes\",\"fixedly\",\"sheath\",\"counted\",\"ould\",\"admirable\",\"dislike\",\"decanter\",\"bury\",\"repair\",\"Christian\",\"sleet\",\"glowed\",\"re\",\"lingered\",\"stair\",\"weaver\",\"forbids\",\"maidens\",\"hanged\",\"jingle\",\"reverence\",\"significance\",\"brisk\",\"interference\",\"finished\",\"witnesses\",\"Thyself\",\"discharged\",\"sealed\",\"pomp\",\"jungle\",\"feature\",\"nuts\",\"polar\",\"said\",\"bye\",\"commit\",\"placing\",\"Heauens\",\"majority\",\"concern\",\"dip\",\"disordered\",\"Met\",\"summary\",\"token\",\"Uriel\",\"smart\",\"prosperity\",\"store\",\"worlds\",\"breakfast\",\"Ring\",\"ministers\",\"Talb\",\"encounter\",\"modest\",\"Lark\",\"amidst\",\"fugitive\",\"February\",\"waking\",\"greater\",\"Time\",\"kinds\",\"procuring\",\"matchless\",\"friends\",\"clever\",\"afterward\",\"lads\",\"irony\",\"General\",\"borderland\",\"brave\",\"gruffly\",\"unkindness\",\"application\",\"attraction\",\"descended\",\"hookah\",\"May\",\"if\",\"suspicious\",\"stood\",\"cutting\",\"meanest\",\"whirling\",\"objection\",\"serpents\",\"thrones\",\"safe\",\"warlike\",\"points\",\"disclosed\",\"ensuing\",\"enclosed\",\"attached\",\"fork\",\"triple\",\"complete\",\"bound\",\"Society\",\"Faith\",\"fore\",\"appointment\",\"rounded\",\"slid\",\"type\",\"steeds\",\"strife\",\"underground\",\"delirium\",\"squall\",\"gloomily\",\"relics\",\"hose\",\"counterpane\",\"Daughter\",\"guarding\",\"Canaan\",\"unabated\",\"odds\",\"elegant\",\"insolence\",\"robes\",\"afforded\",\"thine\",\"repenting\",\"cant\",\"capacity\",\"cigar\",\"trials\",\"transformation\",\"hall\",\"bears\",\"take\",\"offending\",\"cow\",\"penitent\",\"Jennings\",\"strongest\",\"THEL\",\"pursuers\",\"eyes\",\"skirts\",\"pervading\",\"Freely\",\"emptying\",\"Amongst\",\"spirits\",\"corridor\",\"vigilance\",\"Turk\",\"smiled\",\"peacock\",\"outer\",\"rogues\",\"guise\",\"harmonious\",\"cluster\",\"crop\",\"hers\",\"Whom\",\"pausing\",\"vpon\",\"stockings\",\"mother\",\"confusion\",\"alteration\",\"chip\",\"river\",\"intent\",\"difference\",\"wakes\",\"Guernsey\",\"spacious\",\"wave\",\"easiest\",\"rendering\",\"meets\",\"watchful\",\"forth\",\"courageous\",\"preferred\",\"shorter\",\"point\",\"insensible\",\"bottle\",\"interrupt\",\"me\",\"Kent\",\"thoroughfares\",\"Loveit\",\"breaks\",\"nibble\",\"estimated\",\"specimens\",\"watered\",\"Inside\",\"Going\",\"presents\",\"immemorial\",\"noiseless\",\"hill\",\"impressed\",\"Supper\",\"at\",\"insect\",\"RIGHT\",\"beautifully\",\"hempen\",\"shingle\",\"canal\",\"pretend\",\"imposed\",\"expand\",\"feet\",\"blackness\",\"climbed\",\"tell\",\"ape\",\"passages\",\"Said\",\"approved\",\"Thinks\",\"deny\",\"engaged\",\"preceded\",\"baking\",\"postman\",\"reproaches\",\"Buster\",\"Watson\",\"Tongue\",\"weaving\",\"specimen\",\"appropriate\",\"journalist\",\"waked\",\"Signor\",\"bleeding\",\"decidedly\",\"seamen\",\"Rosamond\",\"Forthwith\",\"villa\",\"endeavors\",\"Day\",\"Martha\",\"glance\",\"subdue\",\"discovered\",\"Half\",\"demanded\",\"waited\",\"affected\",\"Liberty\",\"cock\",\"fix\",\"plants\",\"arches\",\"sisters\",\"invariable\",\"free\",\"dust\",\"legs\",\"upheld\",\"gasping\",\"remorse\",\"latitude\",\"Parkinson\",\"happily\",\"end\",\"worth\",\"contact\",\"towed\",\"man\",\"fun\",\"discussion\",\"parlor\",\"latch\",\"adrift\",\"threw\",\"Neill\",\"charts\",\"mildly\",\"shame\",\"apologetically\",\"City\",\"ambrosial\",\"occasion\",\"Marke\",\"realised\",\"stuffed\",\"displeasure\",\"aboard\",\"gallantry\",\"heels\",\"Adieu\",\"Stern\",\"wit\",\"Government\",\"stain\",\"nobleman\",\"airs\",\"youthful\",\"Grateful\",\"suitable\",\"plank\",\"opposed\",\"consent\",\"Author\",\"thrown\",\"Silence\",\"naked\",\"Everybody\",\"Well\",\"affecting\",\"dimensions\",\"playing\",\"spotted\",\"exact\",\"tomahawk\",\"beam\",\"scrape\",\"mornings\",\"Shall\",\"amount\",\"paw\",\"Folio\",\"grave\",\"spared\",\"mirth\",\"larger\",\"duellists\",\"honourable\",\"delicacies\",\"spiracle\",\"shoals\",\"breakwater\",\"Never\",\"subject\",\"out\",\"Messiah\",\"rightly\",\"pure\",\"departure\",\"sensation\",\"commotion\",\"nautical\",\"Publius\",\"chin\",\"hoarsely\",\"snapped\",\"examples\",\"easier\",\"breaches\",\"nostrils\",\"menacing\",\"Edmund\",\"dove\",\"muddy\",\"pass\",\"Cherubim\",\"greatly\",\"OTHER\",\"flight\",\"locking\",\"adorned\",\"woe\",\"drum\",\"Pendragon\",\"Caesars\",\"inquiry\",\"fairer\",\"Ducroix\",\"accordance\",\"asylum\",\"testimony\",\"having\",\"stroke\",\"expedient\",\"practising\",\"railway\",\"Eternal\",\"leade\",\"alluded\",\"lip\",\"regain\",\"reality\",\"fundamental\",\"tapers\",\"afflicted\",\"turne\",\"straightened\",\"wee\",\"axe\",\"ventilator\",\"amused\",\"fraught\",\"Honor\",\"staggered\",\"clear\",\"getting\",\"guns\",\"mending\",\"NEW\",\"distressed\",\"anarchism\",\"professed\",\"destroying\",\"truth\",\"leeward\",\"Red\",\"absurd\",\"shattering\",\"Andromeda\",\"plum\",\"announcement\",\"hung\",\"argued\",\"parade\",\"possession\",\"alone\",\"pots\",\"pedigree\",\"enlightened\",\"size\",\"others\",\"allured\",\"4\",\"impatiently\",\"Landlord\",\"bending\",\"Whereto\",\"combat\",\"flushed\",\"breathless\",\"intolerably\",\"articles\",\"spoiling\",\"succeeding\",\"Ages\",\"Fortune\",\"depended\",\"unconscious\",\"omnibus\",\"wink\",\"happy\",\"sandwiches\",\"obviously\",\"undergo\",\"snake\",\"LITTLE\",\"unusual\",\"map\",\"to\",\"Indeed\",\"imprisoned\",\"directions\",\"Speak\",\"near\",\"evidently\",\"talk\",\"calmly\",\"recollect\",\"jumping\",\"insignificant\",\"queen\",\"HAS\",\"dozen\",\"expressive\",\"dwells\",\"wearied\",\"meditation\",\"grasshopper\",\"anger\",\"costly\",\"Millions\",\"heaven\",\"ankles\",\"souls\",\"using\",\"sky\",\"harmless\",\"bids\",\"Mercy\",\"Heavenly\",\"Bert\",\"notched\",\"Gottlieb\",\"bowels\",\"structure\",\"denounce\",\"According\",\"Southern\",\"sails\",\"Hindoo\",\"tread\",\"matched\",\"buried\",\"term\",\"family\",\"euer\",\"dishonest\",\"narrowly\",\"link\",\"shaking\",\"tempted\",\"Omnipotent\",\"majesty\",\"reverie\",\"horns\",\"destroy\",\"SONG\",\"steam\",\"icy\",\"confounded\",\"evince\",\"Barring\",\"bride\",\"half\",\"adequately\",\"engagement\",\"blackest\",\"tradition\",\"midnight\",\"leaden\",\"extensive\",\"concealing\",\"thank\",\"_I_\",\"rapidity\",\"discourse\",\"ire\",\"taint\",\"cupboard\",\"cafe\",\"intend\",\"splendid\",\"dubious\",\"inexpressible\",\"rings\",\"process\",\"Almost\",\"Came\",\"SOMETHING\",\"clearness\",\"terrour\",\"Landlady\",\"baskets\",\"whispered\",\"objects\",\"rain\",\"sport\",\"bashful\",\"possibly\",\"theme\",\"Christians\",\"pre\",\"sailing\",\"blooming\",\"unaffected\",\"buying\",\"Vishnoo\",\"crossed\",\"remained\",\"invited\",\"both\",\"understood\",\"Billy\",\"fuller\",\"carpenter\",\"noblest\",\"Erie\",\"grace\",\"parcel\",\"sustain\",\"convey\",\"lover\",\"passed\",\"marks\",\"sunny\",\"uttermost\",\"weeds\",\"hopelessly\",\"seats\",\"requested\",\"twin\",\"mute\",\"serenely\",\"invitation\",\"north\",\"Sun\",\"requiring\",\"parcels\",\"wheel\",\"continually\",\"shy\",\"Europe\",\"swam\",\"Pooh\",\"own\",\"Dinah\",\"creatures\",\"direction\",\"gipsy\",\"liking\",\"victor\",\"Bulkington\",\"cave\",\"establishment\",\"slipping\",\"strange\",\"somebody\",\"presse\",\"mechanical\",\"fortune\",\"unworthy\",\"Decius\",\"minde\",\"peculiarity\",\"directing\",\"rending\",\"AT\",\"distracted\",\"forgiveness\",\"walk\",\"pale\",\"distance\",\"biggest\",\"Pond\",\"Ghost\",\"brink\",\"revealed\",\"presently\",\"monk\",\"driver\",\"uniform\",\"Marianne\",\"III\",\"exert\",\"Usher\",\"plaited\",\"sensitive\",\"apple\",\"mankind\",\"opaque\",\"extending\",\"result\",\"Another\",\"Merrily\",\"mist\",\"Eustache\",\"talking\",\"personal\",\"perfection\",\"wrong\",\"denying\",\"excuses\",\"customers\",\"sleeves\",\"fever\",\"visitor\",\"everlasting\",\"lastly\",\"tramp\",\"Crow\",\"verily\",\"down\",\"disdained\",\"horizontal\",\"ascribe\",\"moments\",\"chain\",\"Lo\",\"echoing\",\"spar\",\"mild\",\"brains\",\"flesh\",\"red\",\"refrained\",\"outrageous\",\"sense\",\"policeman\",\"top\",\"involved\",\"fruits\",\"youth\",\"admit\",\"pretended\",\"branch\",\"retained\",\"Only\",\"boom\",\"adviser\",\"amiably\",\"position\",\"However\",\"management\",\"Left\",\"aspect\",\"stride\",\"desk\",\"HERE\",\"persuaded\",\"Joy\",\"restrained\",\"Every\",\"Deity\",\"thunders\",\"arriving\",\"including\",\"Cassius\",\"End\",\"E\",\"drowsy\",\"bulwarks\",\"Apollo\",\"screw\",\"Literary\",\"gift\",\"throwing\",\"cruelty\",\"laboriously\",\"thinkers\",\"rosy\",\"rejoice\",\"masked\",\"lid\",\"murderers\",\"Torre\",\"defied\",\"schoolboy\",\"whom\",\"almond\"],\"x\":{\"__ndarray__\":\"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\",\"dtype\":\"float32\",\"shape\":[1000]},\"y\":{\"__ndarray__\":\"mEVFvof97b1WFR4+OGt2vvdk4D6wstM+IxhwvhPc4r4FqTu+l1cPPukwqb5TUVC+rsLGPRSkD7yO9gI+6MQnPsdgNT2a5z6+FaKoPhQ/6b6ONRa7P0HePtM8pT4/vMu+Nzbuvgt8dz5SkUm9b3IUPhZW5b4x5Li+3t3APYu/iL4LjZI+iQSBPmvsPj64bbm8qSOaPjaQgT6q0Uw9+YaRvg6fuD4kpK0+wCyWvs2IEL8fbIu+yAZBPhP99T0TtYW7srdRPoGcWD7kL58+A25wvqxyib5DolQ8fnCpPvyndT3IRSK+pcguvYEkFzz5mmA+Md3CPqlB4D1tnK8+y1a0PpW4ir48hUq9W5zwvbf9v75icts9SDj5Pl9wkD5zeX096uvpvmzyqr5Rc2k+CuBWvUJMvL2j3Es+L0WrvrZFpT7Rtz6+2y33PuaxuD1uFKW9waMPP9uNrL7ttqC9XMJOPhF58b0g4OS+9RsuvnUlij47+5k+DhwHvJ6YwL5+Uo89MZYrOhP4YD5iQaW+hFKjPV93sL0yK5Q+zc1PvbVMKz7GDaA9LHOhvTczor0UH6g9if+SPkDogj6mHO088HeNvr3e1j4iUpi92mKcvl/6ML4AZ6K+ezLxvojNxb4jdVU+UdPcPrnIr72Rksg+bLYfPnNHHz4c+KU+BdDGPntHvr7E5fI+lLo2PCe7nD1IWvE9f5KOPhixyD0Ay3K+VmyiPha6n74VsY29k5OovsBktb25BEE+ItlRviPoqL5rdKc+wIZnPaJVp76vIhA9zpmzvrtoAL6ijFI+vI2avgqGer6TXDI+r+gEPhEJHT4sYAG+CNdsvknPZb4mbba96PiWvk+9i74McYk+q2wAu3TgdT41evS8mgauvq3dmL7780M+RdC1vkBqjr7eL/8+ksfyPhKYIr569Ki+xxKIPTQa/D3c6ha+qVwcvnxEED4/1fA9673+vGdTcT5Nb4o+kFEYPj7udr7D9bg+KuChvkWf4T7Z4ue+WbC0PtCgnD3GwNk+whO0Pu/3VbxzpKk+papWPqGT5T3O07O+glGkvRQKpL5pLBa+ld74PrOVHT5+au09C4XVvvoZwr7Dfgs+WZGaPhUddT0aSpu+vLhvPBALTb4Q3p+9PdD+vVQpOT6cu5m+blPkPSeWib6I5qi9I4q+vg4bn77ENqc9EJzLvse7pr2j3pY+5r6Ku3maaD5LNso+sl+KPeyfpL7bxDE+Nn0Yvg1ctb7Ux6A+zY4wvZp2kT2Tl0Y9x0xxPhvxtD0ve+A9nsCEO2VJbD7vq2a+3DO7voF3H71oAYk+/+EMvvwLUr6joq49Isk5vih8nT42jt+9oNuoPlwHjz4CVG86+WjFvonl7z1ycya9E/cJPatiGL6SaxK+Zobsvq5ymb4sdbS+ybblvbTwWDse9SY+zh/iPoA2C74/9E49OjjdPRbVcT6ZCNy+XtXfvrU0bz5pfoC9UhzevvMSR74uzFY++7sgvjmQoz4PVIm+wdJpPifj3z2WsaC+MgulPj1rhz6dxwc+16AzPSFXsj1zC3O+gnOyvp+4L747SzQ6lUY/PRkwj7730Qo+U8zQPeFYnT6zUCw8CB4GPXBN9T1+bgM/o+lAvKkvqb6SDsy9GLEHPROvoz1N9CW+fWuaPloCpT7sGfa8rJE8vuPGUD5J5Ze9YzaevdtlUb0dY8Y9F+omPkTqnr2klrm+ieQQvgKydT25xEg97ebbPsJzNT02WHi9fQOJPljISz2h+dw+uh/KPnRGKz5t8hQ+wD5uPZgd+r31Pje+AVORPhmrNj7Auro+iTbiPqsRPj50Rc++a2yevozAfT4Uio8+nt+UPlpOs74Qe8y+orEAPWYA0r65sOg+EWSLvRAat71nZH0+pFZqvkVXTT0XHV6+AtnNPE+k0L6mpJA+6mnHvoeKSr7V4uE+LukkvakZZD1kHzQ+6U/Bvuwew7yoC3y+Tzvvvgtx87oik8q+n2rjPG98sb139ki+bIhivrg3iD0x79c81FyjviLhfb7JRJi9rH8XvjbKLb7ax209UgGOPoPTOT6+rLw9fhXfvgvi1T71uxg9PiDbPRujyj1AcYs9drZuvucZoT3vigC+YW2Yviydpb51PJM++6myPqXK2LyAIBY+dv/oPol4jj4Ic8G+bjDavlm0lr5cvtq+hbChvQvTQj5yz6G+FzUhvgKQ/j4GTuG+fJD8PTYeqz2hXSy+Lq3wvgU82b4aR4Q+FXP/vYVHib6bLcG+DMdSvpTtjT4qpEU9+qbcvVPboDvQBHS+TU3kPvuXlD0ojeM+IfbvvujU5L76V6g9d2bgPqiTWT2IKAu9YCvKvq3F6b4r83w+mZizvf+Der10usu9jTiPvpdghj0+zrw+KPhWvv2F+z3FKcg+2yuCvgN+pT7kmi0+e4ISvt9kWr4g5wM+DsoEvgrWez0TMJw9fbo2ve/Hv76gQ/m9tBPUvIeHXD4Y+Ay+Ai++vgtc9L7ROuu9CfHwPETsv7wtO/m9Ebe7vlpe2T3+aKW+vyXEvvtAOb1UA7g+seZzPQ+E6T0NTaq+8KHIvhe86b4/Vpg+r4qWvpPuUL7BI9Y9XHBCPn9djDyzwMk+ofbXPjDDlr4qApE+LC9ZPkAkjj1yYfm7ukBRvs4/dr26dKu+DmtIPm39oj6NN+Y9OFkjvqXL+j3A4z4+3cNtPlENAb4kfGw+wUnFvlO4SLzeOTs+XhoVvkiOz70vjH2+xX9nPtdIjT5ARze9CdFGPYZMTD7CZbs+WxIwPTNFuT1O5rM+DjqWvivtQL7NQO0+FwJ4PcYUKD61w5+8KEnBvg28zD0l3bu+vKxePK868rwKP769MWLvu8Ng1L1Kqak+a5b/PXC7c75pHCA+3ZuyPhrbnj5MOqm9I6NAvnyiwr6Lz5i+zonhvXoxir6w82q9k2d3Phb/ED5chZi7Qv6nvspCBz+dP9I7mJ42Pbsfqr5f+Kk+B1ovPpXuKj7PgNG+nntGvEcv1r3gTsk+yBWsPSZrpr7HMSM+WGK5vT5EQ75Smue8k2N3PnbL4L54mQw+gzLuPkgxtTwPKZS+Cev5vYOo776mw5K8j95MPtAgwz7gQWE9QnTBPC8BUr5PnX0+NUvCvgz57r73EoQ+FRKavTbdPD35zbE+f9tKvq/dI71Wz909PiH5PoPCMT7QYw2+8tpyvq2UzD6lGC8+BURivlidnb6W+sS+QauZPp6XCT/r+3a+SRHRuzqjnj620FS+rmgrPrzFez4jHJy9muaRvG9PXjwXUtq+ObE7PTNTkb5bUjo+exXJPnhe+b2LccK+C9eCvn/sjT5tNqu+u9xsvrKoGj7fxuK+auqxPn5ouL73VLm+/kIhvttPmr40mfm8ussrvtazIr2HyCk7jUT4Pu0BCD7A28s9mBdxvjz+/z0Hkd8+4sbSPoZPkb0Pt7Y+h0FSPXdVvL4bgq+9TrJvOzNRwj69aLS+ZvqoPQlI6T6OVXM+BpuPvosWtLxgYiY93I6rvq3BVb2at6m+C2vvPWhlpj7dQDy+YIwePa2dsL7J7yQ9JGluPmZwcL7nunM9a/w2veupqD4gx3g+NAKRPo/Dtj0pxtE+NIvUvhzafL0M47g+cwrGvvZXML4ECag9CAlKPa/b9b4iBls+wyuOvtzq3j6UjV8+WmLTvionIz69jpU+ZsZjPj+93D5ZOIW9x2eevdwiyz0SAIy+DjnXvkmLfb0N/4++O+Kwvl0gkr5Kf2G+2EIFvBKnrj1OCDg++TqXvS2gkT3p19A++AqgPb5Htb4/8g4++dmXPpvWM76RVa0+KB8pPqbHvT2YPtm+3Qn5Pe3R37kVx749KAVoPmrMub7OEGe+LY+PPbXnNL4yPAc+t3OvPh+o9D3U4Kw+WHl5vmaicT0YQGe97riZvi7pND7og24+BinoPU8q8L2gsYW9QlE6vvGOmz7J4XK+YNtsvXG5rb5DdsS+sNJWPD/mnb2H3QG/4PuBPkJIcjxeJIQ80e4CvZuoAzzBskG+PLWMvCJ09roefri9J4NvPud9nj0U8Ec9FvT1vt9xQz2GjoC+t+cVPk8xv76bw7A+n4EOP2uVoTwhjXo+AzVcPJTxMb51t2q+GVzaPmmoC73SNrm+BVdMvrbE2b5hhYY+K47JvrrJ2L5nMBm+srBSPsUciT4UEWk+x3Edve3gxb1LNaQ+XMQOP9NTNboIjLO8+22VvjUE7L4/oNs8SLZXPq+VXT5dH40+gzhPvqs53D58gNQ9W9qPPaY44b2LxcW+LLxnPhiLs71nJri+4+tsvisfhL6aLKg+BGSfvmnq475zR4g+botOvrnSKL6f8hy+yQOkvkvdnj1pZqM+xQzMvl8vP718iOo9I7HdPm1cYT3qoaQ+wruvvCzThb4/PIW+oghmPlUg3T3Xn549XgLKvjH6jT5l5sw+1gcQPuGz9D6CpnM8spbAvSCYxbxETAu9fcuCPDCQhT21WQm+VGagPs/nnT51+8g+sTNiPX6llL2H+L6+G6swvuvFpj1dSxo+DPHqvi9QhD6S0aa+BTr2vUVWdL5AjPU+EwXwvhnlD77vdFE+5C//PFYXkb7k6Km+JGysPkP/Cj403d++y2ITvXeJ3D4jLI0+KKCcOxp+zD3+ZZA+c0iiPrhXdL54N3u99hK9vg9uvj6WxrO+KYVuvev8nT5kQ7O7GGcQPrlXBj/NJcY+jX5SOUGN4T3hhZQ9XoLIu2TVOb78/p2+Kf4DvnesvT54IJg93SHKvoZ0e74Fnaq9vvzhPENRKb1HTKq+/yaUPFiUAj4FEVa9VKhivtHHvD5aVgY/OovWvla+mj7vvwG95m2yvoIUkj6V+9G+WsGYPAXYzb7ZeH2+mxHtPtcgjLyRpdO9mfEAv7wmRL3Fl5E+Xi74PnOEBD79f8A+Yp5cPhaYsz6xc7I+T4zavkG1tL22ZqM+CZudvmiapT2i4Ce+AbhRvpg8xT20tKa+ChERPiQU875e1po9FTcOPtTFq77glt6923Ktvtw8Wr4x5qS++nxnPvnl4LzWZuu+wZiPPtK9Bb4sp9o+YE+HPVrt3L57+Bs+GulSvub1Nz6IIuc+CPpsPmJlZL5dzkO93Yk4PrNQ5b4vyKE9XxGwvYI7zD5J1GY+WkTdPXyTKz4cxjy+thLGvrKWNL61oL49ov79Pst+Sj01jK89ZIsqPoY8FzyRmKy+ihTGvTEWYT1IIMS7KOimvb1hh74xIoO+Rj3hvrUzMb6P5349cA6QviVV3z5SJo2+D2DYPsOwzb4LK0g+ga+RvgKxDz4dTau+HlyGvj57HD7meba8or0JvmU6ID25Y6s9sHQkvg==\",\"dtype\":\"float32\",\"shape\":[1000]}},\"selected\":{\"id\":\"1049\",\"type\":\"Selection\"},\"selection_policy\":{\"id\":\"1050\",\"type\":\"UnionRenderers\"}},\"id\":\"1036\",\"type\":\"ColumnDataSource\"},{\"attributes\":{},\"id\":\"1050\",\"type\":\"UnionRenderers\"},{\"attributes\":{\"overlay\":{\"id\":\"1029\",\"type\":\"BoxAnnotation\"}},\"id\":\"1023\",\"type\":\"BoxZoomTool\"},{\"attributes\":{},\"id\":\"1048\",\"type\":\"BasicTickFormatter\"},{\"attributes\":{},\"id\":\"1007\",\"type\":\"LinearScale\"},{\"attributes\":{\"plot\":null,\"text\":\"\"},\"id\":\"1044\",\"type\":\"Title\"},{\"attributes\":{\"formatter\":{\"id\":\"1048\",\"type\":\"BasicTickFormatter\"},\"plot\":{\"id\":\"1002\",\"subtype\":\"Figure\",\"type\":\"Plot\"},\"ticker\":{\"id\":\"1017\",\"type\":\"BasicTicker\"}},\"id\":\"1016\",\"type\":\"LinearAxis\"},{\"attributes\":{},\"id\":\"1022\",\"type\":\"WheelZoomTool\"},{\"attributes\":{},\"id\":\"1012\",\"type\":\"BasicTicker\"},{\"attributes\":{},\"id\":\"1046\",\"type\":\"BasicTickFormatter\"},{\"attributes\":{},\"id\":\"1024\",\"type\":\"SaveTool\"},{\"attributes\":{\"plot\":{\"id\":\"1002\",\"subtype\":\"Figure\",\"type\":\"Plot\"},\"ticker\":{\"id\":\"1012\",\"type\":\"BasicTicker\"}},\"id\":\"1015\",\"type\":\"Grid\"}],\"root_ids\":[\"1002\"]},\"title\":\"Bokeh Application\",\"version\":\"1.0.2\"}};\n",
              "  var render_items = [{\"docid\":\"01f1b86a-5ac1-417b-9d92-e941b99faf3f\",\"roots\":{\"1002\":\"8657c746-3df4-4c5b-b742-d4b4fa2cddde\"}}];\n",
              "  root.Bokeh.embed.embed_items_notebook(docs_json, render_items);\n",
              "\n",
              "  }\n",
              "  if (root.Bokeh !== undefined) {\n",
              "    embed_document(root);\n",
              "  } else {\n",
              "    var attempts = 0;\n",
              "    var timer = setInterval(function(root) {\n",
              "      if (root.Bokeh !== undefined) {\n",
              "        embed_document(root);\n",
              "        clearInterval(timer);\n",
              "      }\n",
              "      attempts++;\n",
              "      if (attempts > 100) {\n",
              "        console.log(\"Bokeh: ERROR: Unable to run BokehJS code because BokehJS library is missing\");\n",
              "        clearInterval(timer);\n",
              "      }\n",
              "    }, 10, root)\n",
              "  }\n",
              "})(window);"
            ],
            "application/vnd.bokehjs_exec.v0+json": ""
          },
          "metadata": {
            "tags": [],
            "application/vnd.bokehjs_exec.v0+json": {
              "id": "1002"
            }
          }
        }
      ]
    },
    {
      "metadata": {
        "id": "KsoisQMXjtd_",
        "colab_type": "code",
        "colab": {}
      },
      "cell_type": "code",
      "source": [
        ""
      ],
      "execution_count": 0,
      "outputs": []
    }
  ]
}