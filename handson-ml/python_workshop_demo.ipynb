{
  "nbformat": 4,
  "nbformat_minor": 0,
  "metadata": {
    "colab": {
      "name": "python_workshop_demo.ipynb",
      "version": "0.3.2",
      "provenance": [],
      "include_colab_link": true
    },
    "kernelspec": {
      "display_name": "Python 3",
      "language": "python",
      "name": "python3"
    }
  },
  "cells": [
    {
      "cell_type": "markdown",
      "metadata": {
        "id": "view-in-github",
        "colab_type": "text"
      },
      "source": [
        "<a href=\"https://colab.research.google.com/github/learning-stack/Colab-ML-Playbook/blob/master/handson-ml/python_workshop_demo.ipynb\" target=\"_parent\"><img src=\"https://colab.research.google.com/assets/colab-badge.svg\" alt=\"Open In Colab\"/></a>"
      ]
    },
    {
      "cell_type": "markdown",
      "metadata": {
        "id": "RZdSdZI92q-A",
        "colab_type": "text"
      },
      "source": [
        "<center>\n",
        "    <img src=\"https://s3.amazonaws.com/weclouddata/images/logos/wcd_logo.png\" width=\"50%\">\n",
        "</center>\n",
        "\n",
        "----------\n",
        "\n",
        "<h1 align=\"center\"> Python for Data Science </h1>\n",
        "<br>\n",
        "<center align=\"left\"> <font size='4'>  Developed by: </font><font size='4' color='#33AAFBD'>WeCloudData Academy </font></center>\n",
        "<br>\n",
        "<center align=\"left\"> <font size='4' color='#FF5713'> Accelerating your data science career! </font></center>\n",
        "<br>\n",
        "\n",
        "----------"
      ]
    },
    {
      "cell_type": "markdown",
      "metadata": {
        "id": "rh8xBnbKm-Yz",
        "colab_type": "text"
      },
      "source": [
        "<h1><center>Why Python?</center></h1>\n",
        "<center>\n",
        "    <img src=\"https://imgs.xkcd.com/comics/python.png\" width=\"40%\">\n",
        "</center>\n",
        "\n",
        "-----"
      ]
    },
    {
      "cell_type": "markdown",
      "metadata": {
        "id": "-DAqCdWCm-ZE",
        "colab_type": "text"
      },
      "source": [
        "# $\\Omega$ Pandas\n",
        "\n",
        "<img src=\"https://upload.wikimedia.org/wikipedia/commons/c/cd/Panda_Cub_from_Wolong%2C_Sichuan%2C_China.JPG\" width=\"30%\">\n",
        "\n",
        "> `pandas` is a Python package providing fast, flexible, and expressive data structures designed to make working with “relational” or “labeled” data both easy and intuitive. It aims to be the fundamental high-level building block for doing practical, real world data analysis in Python. Additionally, it has the broader goal of becoming the most powerful and flexible open source data analysis / manipulation tool available in any language. It is already well on its way toward this goal.\n",
        "\n",
        "> `pandas` is well suited for many different kinds of data:\n",
        "\n",
        "> * Tabular data with heterogeneously-typed columns, as in an SQL table or Excel spreadsheet\n",
        "* Ordered and unordered (not necessarily fixed-frequency) time series data.\n",
        "* Arbitrary matrix data (homogeneously typed or heterogeneous) with row and column labels\n",
        "* Any other form of observational / statistical data sets. The data actually need not be labeled at all to be placed into a pandas data structure\n",
        "\n",
        "For more tutorials, visit: https://pandas.pydata.org/pandas-docs/stable/tutorials.html\n",
        "\n",
        "-----"
      ]
    },
    {
      "cell_type": "code",
      "metadata": {
        "id": "pDSdKfcOJjHU",
        "colab_type": "code",
        "colab": {}
      },
      "source": [
        "1 + 1"
      ],
      "execution_count": 0,
      "outputs": []
    },
    {
      "cell_type": "markdown",
      "metadata": {
        "id": "y3qAMEc9m-ZI",
        "colab_type": "text"
      },
      "source": [
        "### Imports"
      ]
    },
    {
      "cell_type": "code",
      "metadata": {
        "id": "19Ym9-43m-ZL",
        "colab_type": "code",
        "colab": {}
      },
      "source": [
        "import pandas as pd\n",
        "import matplotlib.pyplot as plt\n",
        "%matplotlib inline"
      ],
      "execution_count": 0,
      "outputs": []
    },
    {
      "cell_type": "code",
      "metadata": {
        "id": "u9tNNX32b2go",
        "colab_type": "code",
        "colab": {}
      },
      "source": [
        "%lsmagic"
      ],
      "execution_count": 0,
      "outputs": []
    },
    {
      "cell_type": "markdown",
      "metadata": {
        "id": "IY1QV5F0m-ZW",
        "colab_type": "text"
      },
      "source": [
        "### Read data"
      ]
    },
    {
      "cell_type": "code",
      "metadata": {
        "id": "VhvpbLOnm-ZZ",
        "colab_type": "code",
        "colab": {}
      },
      "source": [
        "titanic = pd.read_csv('https://raw.githubusercontent.com/vinnywcd/datasets/master/titanic.csv')"
      ],
      "execution_count": 0,
      "outputs": []
    },
    {
      "cell_type": "markdown",
      "metadata": {
        "id": "sf07gEycm-Z4",
        "colab_type": "text"
      },
      "source": [
        "### Help"
      ]
    },
    {
      "cell_type": "code",
      "metadata": {
        "id": "US64_wDmKQYd",
        "colab_type": "code",
        "colab": {}
      },
      "source": [
        "pd.read_csv?"
      ],
      "execution_count": 0,
      "outputs": []
    },
    {
      "cell_type": "markdown",
      "metadata": {
        "id": "fR2UBclfm-aE",
        "colab_type": "text"
      },
      "source": [
        "### Get first n rows"
      ]
    },
    {
      "cell_type": "code",
      "metadata": {
        "id": "d9LFnpyMKhOv",
        "colab_type": "code",
        "colab": {}
      },
      "source": [
        "titanic.head()"
      ],
      "execution_count": 0,
      "outputs": []
    },
    {
      "cell_type": "markdown",
      "metadata": {
        "id": "4y42peG5m-aV",
        "colab_type": "text"
      },
      "source": [
        "### Dataframe dimensions"
      ]
    },
    {
      "cell_type": "code",
      "metadata": {
        "id": "7gAGOug7K4Ab",
        "colab_type": "code",
        "colab": {}
      },
      "source": [
        "titanic.shape"
      ],
      "execution_count": 0,
      "outputs": []
    },
    {
      "cell_type": "markdown",
      "metadata": {
        "id": "DCAY6fAQm-am",
        "colab_type": "text"
      },
      "source": [
        "### Index"
      ]
    },
    {
      "cell_type": "code",
      "metadata": {
        "id": "_HqShpLmLLNj",
        "colab_type": "code",
        "colab": {}
      },
      "source": [
        "titanic.index"
      ],
      "execution_count": 0,
      "outputs": []
    },
    {
      "cell_type": "markdown",
      "metadata": {
        "id": "Lt0UJuKtm-a2",
        "colab_type": "text"
      },
      "source": [
        "### Columns"
      ]
    },
    {
      "cell_type": "code",
      "metadata": {
        "id": "zwC67Jw2LQ9Z",
        "colab_type": "code",
        "colab": {}
      },
      "source": [
        "titanic.columns"
      ],
      "execution_count": 0,
      "outputs": []
    },
    {
      "cell_type": "markdown",
      "metadata": {
        "id": "CnvWHIYIm-bK",
        "colab_type": "text"
      },
      "source": [
        "### Dataframe information"
      ]
    },
    {
      "cell_type": "code",
      "metadata": {
        "id": "9L4uanKYLWri",
        "colab_type": "code",
        "colab": {}
      },
      "source": [
        "titanic.info()"
      ],
      "execution_count": 0,
      "outputs": []
    },
    {
      "cell_type": "markdown",
      "metadata": {
        "id": "dpuH8iSfm-bb",
        "colab_type": "text"
      },
      "source": [
        "### Summary statistics for numeric columns"
      ]
    },
    {
      "cell_type": "code",
      "metadata": {
        "id": "GpyX9QMaMioU",
        "colab_type": "code",
        "colab": {}
      },
      "source": [
        ""
      ],
      "execution_count": 0,
      "outputs": []
    },
    {
      "cell_type": "markdown",
      "metadata": {
        "id": "1qUbv3Q8m-by",
        "colab_type": "text"
      },
      "source": [
        "# $\\Omega$ Selecting Data"
      ]
    },
    {
      "cell_type": "markdown",
      "metadata": {
        "id": "_bSZCZlMm-b3",
        "colab_type": "text"
      },
      "source": [
        "### Select column"
      ]
    },
    {
      "cell_type": "markdown",
      "metadata": {
        "id": "cRBDzpuAm-cN",
        "colab_type": "text"
      },
      "source": [
        "### Select multiple columns"
      ]
    },
    {
      "cell_type": "code",
      "metadata": {
        "id": "BmBQA3OKMlSc",
        "colab_type": "code",
        "colab": {}
      },
      "source": [
        "titanic[['name','age','fare']]"
      ],
      "execution_count": 0,
      "outputs": []
    },
    {
      "cell_type": "markdown",
      "metadata": {
        "id": "IUvDMjYvm-ce",
        "colab_type": "text"
      },
      "source": [
        "### Select rows and columns by name"
      ]
    },
    {
      "cell_type": "code",
      "metadata": {
        "id": "Z-CTbRB9MxEi",
        "colab_type": "code",
        "colab": {}
      },
      "source": [
        "titanic.loc[7, ['age', 'name']]"
      ],
      "execution_count": 0,
      "outputs": []
    },
    {
      "cell_type": "markdown",
      "metadata": {
        "id": "5aYVqDwim-ct",
        "colab_type": "text"
      },
      "source": [
        "### Select rows and columns by range of indices"
      ]
    },
    {
      "cell_type": "code",
      "metadata": {
        "id": "Lpf-ihkwNUFI",
        "colab_type": "code",
        "colab": {}
      },
      "source": [
        "titanic.iloc[7:15, [3, 8]]"
      ],
      "execution_count": 0,
      "outputs": []
    },
    {
      "cell_type": "markdown",
      "metadata": {
        "id": "jAyCBSPYm-c9",
        "colab_type": "text"
      },
      "source": [
        "### Select rows based on condition (filter)"
      ]
    },
    {
      "cell_type": "code",
      "metadata": {
        "id": "UaQGeBizNjxq",
        "colab_type": "code",
        "colab": {}
      },
      "source": [
        "titanic['age'] > 18\n"
      ],
      "execution_count": 0,
      "outputs": []
    },
    {
      "cell_type": "code",
      "metadata": {
        "id": "JEtIRqtuN_uM",
        "colab_type": "code",
        "colab": {}
      },
      "source": [
        "titanic[titanic['age'] > 18]"
      ],
      "execution_count": 0,
      "outputs": []
    },
    {
      "cell_type": "markdown",
      "metadata": {
        "id": "Y8Zh8dVSm-dZ",
        "colab_type": "text"
      },
      "source": [
        "## $\\Delta$ Exercise 1 - Dinesafe Data\n",
        "\n",
        "https://www.toronto.ca/city-government/data-research-maps/open-data/open-data-catalogue/\n",
        "\n",
        "**Questions:**\n",
        "1. Read the trip data `data/dinesafe.csv`\n",
        "2. Show the last 10 rows\n",
        "3. Show the summary statistics\n",
        "4. Select columns \"latitude\" and \"longitude\" and rows 100 to 200\n",
        "5. Select age greater than 50"
      ]
    },
    {
      "cell_type": "code",
      "metadata": {
        "id": "mMkwdMKvm-dd",
        "colab_type": "code",
        "colab": {}
      },
      "source": [
        "########################\n",
        "# Your Code Below\n",
        "########################\n"
      ],
      "execution_count": 0,
      "outputs": []
    },
    {
      "cell_type": "code",
      "metadata": {
        "id": "Fl_MfQ7am-do",
        "colab_type": "code",
        "colab": {}
      },
      "source": [
        "dinesafe = pd.read_csv('https://raw.githubusercontent.com/vinnywcd/datasets/master/dinesafe.csv')"
      ],
      "execution_count": 0,
      "outputs": []
    },
    {
      "cell_type": "code",
      "metadata": {
        "id": "-O6ab15hFags",
        "colab_type": "code",
        "colab": {}
      },
      "source": [
        "dinesafe.head()"
      ],
      "execution_count": 0,
      "outputs": []
    },
    {
      "cell_type": "code",
      "metadata": {
        "id": "SxChogvTO9rV",
        "colab_type": "code",
        "colab": {}
      },
      "source": [
        "#dinesafe.iloc[-10:]\n",
        "dinesafe.tail(10)"
      ],
      "execution_count": 0,
      "outputs": []
    },
    {
      "cell_type": "code",
      "metadata": {
        "id": "qTU0bdE3Pdok",
        "colab_type": "code",
        "colab": {}
      },
      "source": [
        "dinesafe.info()"
      ],
      "execution_count": 0,
      "outputs": []
    },
    {
      "cell_type": "code",
      "metadata": {
        "id": "lwN9S8elQ0eC",
        "colab_type": "code",
        "colab": {}
      },
      "source": [
        "dinesafe.describe()"
      ],
      "execution_count": 0,
      "outputs": []
    },
    {
      "cell_type": "code",
      "metadata": {
        "id": "wb6tcVOgPuQh",
        "colab_type": "code",
        "colab": {}
      },
      "source": [
        "# Select columns \"latitude\" and \"longitude\" and rows 100 to 200\n",
        "#dinesafe.iloc[101:200, [6, 7]]\n",
        "dinesafe.loc[100:200, ['LATITUDE','LONGITUDE']]"
      ],
      "execution_count": 0,
      "outputs": []
    },
    {
      "cell_type": "code",
      "metadata": {
        "id": "WmUpUQKzQGMx",
        "colab_type": "code",
        "colab": {}
      },
      "source": [
        "# Select age greater than 50\n",
        "dinesafe[dinesafe['AMOUNT_FINED'] > 50]"
      ],
      "execution_count": 0,
      "outputs": []
    },
    {
      "cell_type": "markdown",
      "metadata": {
        "id": "8wILetRmm-eo",
        "colab_type": "text"
      },
      "source": [
        "# $\\Omega$ Transforming Data"
      ]
    },
    {
      "cell_type": "markdown",
      "metadata": {
        "id": "dc81LHe1m-es",
        "colab_type": "text"
      },
      "source": [
        "### Calculate ticket price in today's dollar\n",
        "According to the Bureau of Labor Statistics consumer price index, prices in 2018 are 2,669.00% higher than prices in 1909. The dollar experienced an average inflation rate of 3.09% per year."
      ]
    },
    {
      "cell_type": "code",
      "metadata": {
        "id": "OoHDxAdLRx12",
        "colab_type": "code",
        "colab": {}
      },
      "source": [
        "titanic['fare'] * 26.69"
      ],
      "execution_count": 0,
      "outputs": []
    },
    {
      "cell_type": "markdown",
      "metadata": {
        "id": "FzcI_qA5m-fI",
        "colab_type": "text"
      },
      "source": [
        "### Add new column"
      ]
    },
    {
      "cell_type": "code",
      "metadata": {
        "id": "yoRbLRUxSJ_A",
        "colab_type": "code",
        "colab": {}
      },
      "source": [
        "titanic['fare_2018'] = titanic['fare'] * 26.69"
      ],
      "execution_count": 0,
      "outputs": []
    },
    {
      "cell_type": "code",
      "metadata": {
        "id": "cL7Zz1dKSU58",
        "colab_type": "code",
        "colab": {}
      },
      "source": [
        "titanic.head()"
      ],
      "execution_count": 0,
      "outputs": []
    },
    {
      "cell_type": "markdown",
      "metadata": {
        "id": "721VtME3m-fd",
        "colab_type": "text"
      },
      "source": [
        "### Count missing values"
      ]
    },
    {
      "cell_type": "code",
      "metadata": {
        "id": "AnM582YLSdme",
        "colab_type": "code",
        "colab": {}
      },
      "source": [
        "titanic['age'].isnull().sum()"
      ],
      "execution_count": 0,
      "outputs": []
    },
    {
      "cell_type": "code",
      "metadata": {
        "id": "D1694F0USyT6",
        "colab_type": "code",
        "colab": {}
      },
      "source": [
        "titanic.isnull().sum()"
      ],
      "execution_count": 0,
      "outputs": []
    },
    {
      "cell_type": "markdown",
      "metadata": {
        "id": "MmhPqJkDm-fs",
        "colab_type": "text"
      },
      "source": [
        "### Calculate mean"
      ]
    },
    {
      "cell_type": "code",
      "metadata": {
        "id": "MDntMNe3S-Qu",
        "colab_type": "code",
        "colab": {}
      },
      "source": [
        "mean_age = titanic['age'].mean()"
      ],
      "execution_count": 0,
      "outputs": []
    },
    {
      "cell_type": "code",
      "metadata": {
        "id": "wRjjLXlITPnk",
        "colab_type": "code",
        "colab": {}
      },
      "source": [
        "mean_age"
      ],
      "execution_count": 0,
      "outputs": []
    },
    {
      "cell_type": "markdown",
      "metadata": {
        "id": "eFCeQgPCm-gA",
        "colab_type": "text"
      },
      "source": [
        "### Fill missing values"
      ]
    },
    {
      "cell_type": "code",
      "metadata": {
        "id": "4PEPWjoJTIC4",
        "colab_type": "code",
        "colab": {}
      },
      "source": [
        "titanic['age']=titanic['age'].fillna(mean_age)"
      ],
      "execution_count": 0,
      "outputs": []
    },
    {
      "cell_type": "code",
      "metadata": {
        "id": "50jsi6b6Ttqv",
        "colab_type": "code",
        "colab": {}
      },
      "source": [
        "titanic.isnull().sum()"
      ],
      "execution_count": 0,
      "outputs": []
    },
    {
      "cell_type": "markdown",
      "metadata": {
        "id": "wMkBxb4Tm-hQ",
        "colab_type": "text"
      },
      "source": [
        "### Count categorical data"
      ]
    },
    {
      "cell_type": "code",
      "metadata": {
        "id": "C-H3x76OTsp7",
        "colab_type": "code",
        "colab": {}
      },
      "source": [
        "titanic['sex'].value_counts()"
      ],
      "execution_count": 0,
      "outputs": []
    },
    {
      "cell_type": "markdown",
      "metadata": {
        "id": "LXi_lNQPm-he",
        "colab_type": "text"
      },
      "source": [
        "### Groupby & aggregate"
      ]
    },
    {
      "cell_type": "code",
      "metadata": {
        "id": "jGTslrQEULVo",
        "colab_type": "code",
        "colab": {}
      },
      "source": [
        "titanic.groupby('sex')['survived'].sum()"
      ],
      "execution_count": 0,
      "outputs": []
    },
    {
      "cell_type": "markdown",
      "metadata": {
        "id": "XPu-MP_2m-ie",
        "colab_type": "text"
      },
      "source": [
        "### Save new dataframe as csv"
      ]
    },
    {
      "cell_type": "code",
      "metadata": {
        "id": "dpVTbOSqUqKw",
        "colab_type": "code",
        "colab": {}
      },
      "source": [
        "titanic.to_csv('new_titanic.csv')"
      ],
      "execution_count": 0,
      "outputs": []
    },
    {
      "cell_type": "code",
      "metadata": {
        "id": "iLj8p-OQU1eT",
        "colab_type": "code",
        "colab": {}
      },
      "source": [
        "!ls"
      ],
      "execution_count": 0,
      "outputs": []
    },
    {
      "cell_type": "code",
      "metadata": {
        "id": "ZMjKRfQaVAK-",
        "colab_type": "code",
        "colab": {}
      },
      "source": [
        "!head new_titanic.csv"
      ],
      "execution_count": 0,
      "outputs": []
    },
    {
      "cell_type": "markdown",
      "metadata": {
        "id": "C7WVRztam-ip",
        "colab_type": "text"
      },
      "source": [
        "## $\\Delta$ Exercise 2 - Dinesafe Data\n",
        "\n",
        "**Questions:**\n",
        "1. Count the missing values in `AMOUNT_FINED` as a percentage\n",
        "2. Create a new column called `AMOUNT_FINED_NOTNULL` and replace the missing values with 0\n",
        "3. Get a count of every category in `ESTABLISHMENTTYPE`\n",
        "4. For every category in `ESTABLISHMENTTYPE` get a count of those that were fined"
      ]
    },
    {
      "cell_type": "code",
      "metadata": {
        "id": "-XKQLy9Xm-iw",
        "colab_type": "code",
        "colab": {}
      },
      "source": [
        "########################\n",
        "# Your Code Below\n",
        "########################"
      ],
      "execution_count": 0,
      "outputs": []
    },
    {
      "cell_type": "code",
      "metadata": {
        "id": "Fo_O99ECFY66",
        "colab_type": "code",
        "colab": {}
      },
      "source": [
        "#Count the missing values in AMOUNT_FINED as a percentage\n",
        "dinesafe['AMOUNT_FINE'].isnull().sum() / dinesafe.shape[0]\n",
        "\n",
        "#Create a new column called AMOUNT_FINED_NOTNULL and replace the missing values with 0\n",
        "dinesafe['AMOUNT_FINED_NOTNULL'] = dinesafe['AMOUNT_FINED'].fillna(0)\n",
        "\n"
      ],
      "execution_count": 0,
      "outputs": []
    },
    {
      "cell_type": "code",
      "metadata": {
        "id": "EkfHgpGUYV32",
        "colab_type": "code",
        "colab": {}
      },
      "source": [
        "#Get a count of every category in ESTABLISHMENTTYPE\n",
        "dinesafe['ESTABLISHMENTTYPE'].value_counts()"
      ],
      "execution_count": 0,
      "outputs": []
    },
    {
      "cell_type": "code",
      "metadata": {
        "id": "REz1K3X9Yi8u",
        "colab_type": "code",
        "colab": {}
      },
      "source": [
        "#For every category in ESTABLISHMENTTYPE get a count of those that were fined\n",
        "dinesafe.groupby('ESTABLISHMENTTYPE')['AMOUNT_FINED'].count().sort_values(ascending=False)\n"
      ],
      "execution_count": 0,
      "outputs": []
    },
    {
      "cell_type": "code",
      "metadata": {
        "id": "SjVfPmRhZD4w",
        "colab_type": "code",
        "colab": {}
      },
      "source": [
        "#average value\n",
        "dinesafe.groupby('ESTABLISHMENTTYPE')['AMOUNT_FINED'].mean().sort_values(ascending=False)"
      ],
      "execution_count": 0,
      "outputs": []
    },
    {
      "cell_type": "markdown",
      "metadata": {
        "id": "gm7sfhyAVpVd",
        "colab_type": "text"
      },
      "source": [
        ""
      ]
    },
    {
      "cell_type": "markdown",
      "metadata": {
        "id": "DcPY6q4om-jk",
        "colab_type": "text"
      },
      "source": [
        "# $\\Omega$ Data Visualization\n",
        "https://pandas.pydata.org/pandas-docs/stable/visualization.html"
      ]
    },
    {
      "cell_type": "markdown",
      "metadata": {
        "id": "HPDN4ax-m-jp",
        "colab_type": "text"
      },
      "source": [
        "### Bar plot"
      ]
    },
    {
      "cell_type": "code",
      "metadata": {
        "id": "iI7d45ALZnju",
        "colab_type": "code",
        "colab": {}
      },
      "source": [
        "titanic['sex'].value_counts().plot(kind='bar')"
      ],
      "execution_count": 0,
      "outputs": []
    },
    {
      "cell_type": "markdown",
      "metadata": {
        "id": "edol_Wtum-jz",
        "colab_type": "text"
      },
      "source": [
        "### Pie plot"
      ]
    },
    {
      "cell_type": "code",
      "metadata": {
        "id": "x9e_A1bQZ22P",
        "colab_type": "code",
        "colab": {}
      },
      "source": [
        "titanic['sex'].value_counts().plot(kind='pie')"
      ],
      "execution_count": 0,
      "outputs": []
    },
    {
      "cell_type": "markdown",
      "metadata": {
        "id": "-C7aSZgTm-kJ",
        "colab_type": "text"
      },
      "source": [
        "### Set figure size"
      ]
    },
    {
      "cell_type": "code",
      "metadata": {
        "id": "7ZFRjlZxZ8pL",
        "colab_type": "code",
        "colab": {}
      },
      "source": [
        "titanic['sex'].value_counts().plot(kind='bar', figsize=(10,5))"
      ],
      "execution_count": 0,
      "outputs": []
    },
    {
      "cell_type": "markdown",
      "metadata": {
        "id": "VlWTDix8m-ku",
        "colab_type": "text"
      },
      "source": [
        "### Histogram"
      ]
    },
    {
      "cell_type": "code",
      "metadata": {
        "id": "w7BSxBAyaL1E",
        "colab_type": "code",
        "colab": {}
      },
      "source": [
        "titanic['age'].plot(kind='hist')"
      ],
      "execution_count": 0,
      "outputs": []
    },
    {
      "cell_type": "markdown",
      "metadata": {
        "id": "HiTg69_Jm-k6",
        "colab_type": "text"
      },
      "source": [
        "### Set histogram bin size"
      ]
    },
    {
      "cell_type": "code",
      "metadata": {
        "id": "Owk_04v6arlZ",
        "colab_type": "code",
        "colab": {}
      },
      "source": [
        "titanic['age'].plot(kind='hist', bins=50)"
      ],
      "execution_count": 0,
      "outputs": []
    },
    {
      "cell_type": "markdown",
      "metadata": {
        "id": "k5Wx3mywm-lD",
        "colab_type": "text"
      },
      "source": [
        "### Boxplot"
      ]
    },
    {
      "cell_type": "code",
      "metadata": {
        "id": "wr8msRB0a9XM",
        "colab_type": "code",
        "colab": {}
      },
      "source": [
        "titanic['age'].plot(kind='box')"
      ],
      "execution_count": 0,
      "outputs": []
    },
    {
      "cell_type": "code",
      "metadata": {
        "id": "GlWmWIXdbZ5V",
        "colab_type": "code",
        "colab": {}
      },
      "source": [
        "titanic[['age','fare']].plot(kind='box')"
      ],
      "execution_count": 0,
      "outputs": []
    },
    {
      "cell_type": "markdown",
      "metadata": {
        "id": "gtkrX1fYm-lQ",
        "colab_type": "text"
      },
      "source": [
        "### Scatter plot"
      ]
    },
    {
      "cell_type": "code",
      "metadata": {
        "id": "I0YDEthLcFFb",
        "colab_type": "code",
        "colab": {}
      },
      "source": [
        "titanic.plot(kind='scatter', x='age', y='fare')"
      ],
      "execution_count": 0,
      "outputs": []
    },
    {
      "cell_type": "markdown",
      "metadata": {
        "id": "iByissmym-lf",
        "colab_type": "text"
      },
      "source": [
        "### Transform then plot"
      ]
    },
    {
      "cell_type": "code",
      "metadata": {
        "id": "M1yxhq2kce07",
        "colab_type": "code",
        "colab": {}
      },
      "source": [
        "titanic['sex'].value_counts().plot('bar')"
      ],
      "execution_count": 0,
      "outputs": []
    },
    {
      "cell_type": "markdown",
      "metadata": {
        "id": "UQVbINSvm-ln",
        "colab_type": "text"
      },
      "source": [
        "## $\\Delta$  Exercise 3 - Dinesafe Data\n",
        "\n",
        "**Questions:**\n",
        "1. Create a bar plot of `ESTABLISHMENT_STATUS`\n",
        "2. Create a new dataframe called `dinesafe_fined` with only the rows where `AMOUNT_FINED` is not null\n",
        "3. Create a boxplot of `AMOUNT_FINED` in this new dataframe\n",
        "4. Create a histogram of `AMOUNT_FINED` with 30 bins\n",
        "5. Create a **horizontal** bar plot of the mean `AMOUNT_FINED` by `ESTABLISHMENTTYPE`\n",
        "6. Create a line plot of `INSPECTION_DATE` and `AMOUNT_FINED`\n",
        "\n",
        "**Bonus:**\n",
        "- Explore the dataset and see if you can come up with your own interesting analysis or plot"
      ]
    },
    {
      "cell_type": "code",
      "metadata": {
        "id": "3A8BfxsJm-lp",
        "colab_type": "code",
        "colab": {}
      },
      "source": [
        "########################\n",
        "# Your Code Below\n",
        "########################"
      ],
      "execution_count": 0,
      "outputs": []
    },
    {
      "cell_type": "code",
      "metadata": {
        "id": "HzBByfuBFXO-",
        "colab_type": "code",
        "colab": {}
      },
      "source": [
        ""
      ],
      "execution_count": 0,
      "outputs": []
    },
    {
      "cell_type": "markdown",
      "metadata": {
        "id": "MZ9ijFOUTYRw",
        "colab_type": "text"
      },
      "source": [
        "## $\\Delta$  My Free Board\n",
        "\n",
        "**You can do anything for this board**\n"
      ]
    },
    {
      "cell_type": "code",
      "metadata": {
        "id": "6VH7m5f8TkUw",
        "colab_type": "code",
        "colab": {}
      },
      "source": [
        "midwest = pd.read_csv(\"https://raw.githubusercontent.com/selva86/datasets/master/midwest_filter.csv\")"
      ],
      "execution_count": 0,
      "outputs": []
    },
    {
      "cell_type": "code",
      "metadata": {
        "id": "7nzMyJaDTtVX",
        "colab_type": "code",
        "colab": {
          "base_uri": "https://localhost:8080/",
          "height": 218
        },
        "outputId": "509de197-5e9a-48b7-d940-aadbd365b413"
      },
      "source": [
        "midwest.head()"
      ],
      "execution_count": 3,
      "outputs": [
        {
          "output_type": "execute_result",
          "data": {
            "text/html": [
              "<div>\n",
              "<style scoped>\n",
              "    .dataframe tbody tr th:only-of-type {\n",
              "        vertical-align: middle;\n",
              "    }\n",
              "\n",
              "    .dataframe tbody tr th {\n",
              "        vertical-align: top;\n",
              "    }\n",
              "\n",
              "    .dataframe thead th {\n",
              "        text-align: right;\n",
              "    }\n",
              "</style>\n",
              "<table border=\"1\" class=\"dataframe\">\n",
              "  <thead>\n",
              "    <tr style=\"text-align: right;\">\n",
              "      <th></th>\n",
              "      <th>PID</th>\n",
              "      <th>county</th>\n",
              "      <th>state</th>\n",
              "      <th>area</th>\n",
              "      <th>poptotal</th>\n",
              "      <th>popdensity</th>\n",
              "      <th>popwhite</th>\n",
              "      <th>popblack</th>\n",
              "      <th>popamerindian</th>\n",
              "      <th>popasian</th>\n",
              "      <th>popother</th>\n",
              "      <th>percwhite</th>\n",
              "      <th>percblack</th>\n",
              "      <th>percamerindan</th>\n",
              "      <th>percasian</th>\n",
              "      <th>percother</th>\n",
              "      <th>popadults</th>\n",
              "      <th>perchsd</th>\n",
              "      <th>percollege</th>\n",
              "      <th>percprof</th>\n",
              "      <th>poppovertyknown</th>\n",
              "      <th>percpovertyknown</th>\n",
              "      <th>percbelowpoverty</th>\n",
              "      <th>percchildbelowpovert</th>\n",
              "      <th>percadultpoverty</th>\n",
              "      <th>percelderlypoverty</th>\n",
              "      <th>inmetro</th>\n",
              "      <th>category</th>\n",
              "      <th>dot_size</th>\n",
              "    </tr>\n",
              "  </thead>\n",
              "  <tbody>\n",
              "    <tr>\n",
              "      <th>0</th>\n",
              "      <td>561</td>\n",
              "      <td>ADAMS</td>\n",
              "      <td>IL</td>\n",
              "      <td>0.052</td>\n",
              "      <td>66090</td>\n",
              "      <td>1270.961540</td>\n",
              "      <td>63917</td>\n",
              "      <td>1702</td>\n",
              "      <td>98</td>\n",
              "      <td>249</td>\n",
              "      <td>124</td>\n",
              "      <td>96.712059</td>\n",
              "      <td>2.575276</td>\n",
              "      <td>0.148283</td>\n",
              "      <td>0.376759</td>\n",
              "      <td>0.187623</td>\n",
              "      <td>43298</td>\n",
              "      <td>75.107395</td>\n",
              "      <td>19.631392</td>\n",
              "      <td>4.355859</td>\n",
              "      <td>63628</td>\n",
              "      <td>96.274777</td>\n",
              "      <td>13.151443</td>\n",
              "      <td>18.011717</td>\n",
              "      <td>11.009776</td>\n",
              "      <td>12.443812</td>\n",
              "      <td>0</td>\n",
              "      <td>AAR</td>\n",
              "      <td>250.944411</td>\n",
              "    </tr>\n",
              "    <tr>\n",
              "      <th>1</th>\n",
              "      <td>562</td>\n",
              "      <td>ALEXANDER</td>\n",
              "      <td>IL</td>\n",
              "      <td>0.014</td>\n",
              "      <td>10626</td>\n",
              "      <td>759.000000</td>\n",
              "      <td>7054</td>\n",
              "      <td>3496</td>\n",
              "      <td>19</td>\n",
              "      <td>48</td>\n",
              "      <td>9</td>\n",
              "      <td>66.384340</td>\n",
              "      <td>32.900433</td>\n",
              "      <td>0.178807</td>\n",
              "      <td>0.451722</td>\n",
              "      <td>0.084698</td>\n",
              "      <td>6724</td>\n",
              "      <td>59.726353</td>\n",
              "      <td>11.243308</td>\n",
              "      <td>2.870315</td>\n",
              "      <td>10529</td>\n",
              "      <td>99.087145</td>\n",
              "      <td>32.244278</td>\n",
              "      <td>45.826514</td>\n",
              "      <td>27.385647</td>\n",
              "      <td>25.228976</td>\n",
              "      <td>0</td>\n",
              "      <td>LHR</td>\n",
              "      <td>185.781260</td>\n",
              "    </tr>\n",
              "    <tr>\n",
              "      <th>2</th>\n",
              "      <td>563</td>\n",
              "      <td>BOND</td>\n",
              "      <td>IL</td>\n",
              "      <td>0.022</td>\n",
              "      <td>14991</td>\n",
              "      <td>681.409091</td>\n",
              "      <td>14477</td>\n",
              "      <td>429</td>\n",
              "      <td>35</td>\n",
              "      <td>16</td>\n",
              "      <td>34</td>\n",
              "      <td>96.571276</td>\n",
              "      <td>2.861717</td>\n",
              "      <td>0.233473</td>\n",
              "      <td>0.106731</td>\n",
              "      <td>0.226803</td>\n",
              "      <td>9669</td>\n",
              "      <td>69.334988</td>\n",
              "      <td>17.033819</td>\n",
              "      <td>4.488572</td>\n",
              "      <td>14235</td>\n",
              "      <td>94.956974</td>\n",
              "      <td>12.068844</td>\n",
              "      <td>14.036061</td>\n",
              "      <td>10.852090</td>\n",
              "      <td>12.697410</td>\n",
              "      <td>0</td>\n",
              "      <td>AAR</td>\n",
              "      <td>175.905385</td>\n",
              "    </tr>\n",
              "    <tr>\n",
              "      <th>3</th>\n",
              "      <td>564</td>\n",
              "      <td>BOONE</td>\n",
              "      <td>IL</td>\n",
              "      <td>0.017</td>\n",
              "      <td>30806</td>\n",
              "      <td>1812.117650</td>\n",
              "      <td>29344</td>\n",
              "      <td>127</td>\n",
              "      <td>46</td>\n",
              "      <td>150</td>\n",
              "      <td>1139</td>\n",
              "      <td>95.254171</td>\n",
              "      <td>0.412257</td>\n",
              "      <td>0.149322</td>\n",
              "      <td>0.486918</td>\n",
              "      <td>3.697332</td>\n",
              "      <td>19272</td>\n",
              "      <td>75.472188</td>\n",
              "      <td>17.278954</td>\n",
              "      <td>4.197800</td>\n",
              "      <td>30337</td>\n",
              "      <td>98.477569</td>\n",
              "      <td>7.209019</td>\n",
              "      <td>11.179536</td>\n",
              "      <td>5.536013</td>\n",
              "      <td>6.217047</td>\n",
              "      <td>1</td>\n",
              "      <td>ALU</td>\n",
              "      <td>319.823487</td>\n",
              "    </tr>\n",
              "    <tr>\n",
              "      <th>4</th>\n",
              "      <td>565</td>\n",
              "      <td>BROWN</td>\n",
              "      <td>IL</td>\n",
              "      <td>0.018</td>\n",
              "      <td>5836</td>\n",
              "      <td>324.222222</td>\n",
              "      <td>5264</td>\n",
              "      <td>547</td>\n",
              "      <td>14</td>\n",
              "      <td>5</td>\n",
              "      <td>6</td>\n",
              "      <td>90.198766</td>\n",
              "      <td>9.372858</td>\n",
              "      <td>0.239890</td>\n",
              "      <td>0.085675</td>\n",
              "      <td>0.102810</td>\n",
              "      <td>3979</td>\n",
              "      <td>68.861523</td>\n",
              "      <td>14.475999</td>\n",
              "      <td>3.367680</td>\n",
              "      <td>4815</td>\n",
              "      <td>82.505140</td>\n",
              "      <td>13.520249</td>\n",
              "      <td>13.022889</td>\n",
              "      <td>11.143211</td>\n",
              "      <td>19.200000</td>\n",
              "      <td>0</td>\n",
              "      <td>AAR</td>\n",
              "      <td>130.442161</td>\n",
              "    </tr>\n",
              "  </tbody>\n",
              "</table>\n",
              "</div>"
            ],
            "text/plain": [
              "   PID     county state  ...  inmetro  category    dot_size\n",
              "0  561      ADAMS    IL  ...        0       AAR  250.944411\n",
              "1  562  ALEXANDER    IL  ...        0       LHR  185.781260\n",
              "2  563       BOND    IL  ...        0       AAR  175.905385\n",
              "3  564      BOONE    IL  ...        1       ALU  319.823487\n",
              "4  565      BROWN    IL  ...        0       AAR  130.442161\n",
              "\n",
              "[5 rows x 29 columns]"
            ]
          },
          "metadata": {
            "tags": []
          },
          "execution_count": 3
        }
      ]
    },
    {
      "cell_type": "code",
      "metadata": {
        "id": "Q64-hBuhVbw9",
        "colab_type": "code",
        "colab": {
          "base_uri": "https://localhost:8080/",
          "height": 538
        },
        "outputId": "b1f70c2c-4d0b-4f50-f561-b925c34321a7"
      },
      "source": [
        "fig = plt.figure(figsize=(14,7), dpi=80, facecolor='w', edgecolor='k')\n",
        "plt.scatter('area', 'poptotal', data=midwest, s='dot_size', c='popdensity', cmap='Reds', edgecolors='black', linewidth=.5)\n",
        "plt.title(\"Bubble Plot of PopTotal vs Area\\n(color: 'popdensity' & size: 'dot_size' - both are numeric columns in midwest)\", fontsize=16)\n",
        "plt.xlabel('Area', fontsize=18)\n",
        "plt.ylabel('Poptotal', fontsize=18)\n",
        "plt.colorbar()\n",
        "plt.show()"
      ],
      "execution_count": 9,
      "outputs": [
        {
          "output_type": "display_data",
          "data": {
            "image/png": "[encoded data removed]",
            "text/plain": [
              "<Figure size 1120x560 with 2 Axes>"
            ]
          },
          "metadata": {
            "tags": []
          }
        }
      ]
    }
  ]
}