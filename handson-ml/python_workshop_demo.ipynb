{
  "nbformat": 4,
  "nbformat_minor": 0,
  "metadata": {
    "colab": {
      "name": "python_workshop_demo.ipynb",
      "version": "0.3.2",
      "provenance": []
    },
    "kernelspec": {
      "display_name": "Python 3",
      "language": "python",
      "name": "python3"
    }
  },
  "cells": [
    {
      "cell_type": "markdown",
      "metadata": {
        "id": "RZdSdZI92q-A",
        "colab_type": "text"
      },
      "source": [
        "<center>\n",
        "    <img src=\"https://s3.amazonaws.com/weclouddata/images/logos/wcd_logo.png\" width=\"50%\">\n",
        "</center>\n",
        "\n",
        "----------\n",
        "\n",
        "<h1 align=\"center\"> Python for Data Science </h1>\n",
        "<br>\n",
        "<center align=\"left\"> <font size='4'>  Developed by: </font><font size='4' color='#33AAFBD'>WeCloudData Academy </font></center>\n",
        "<br>\n",
        "<center align=\"left\"> <font size='4' color='#FF5713'> Accelerating your data science career! </font></center>\n",
        "<br>\n",
        "\n",
        "----------"
      ]
    },
    {
      "cell_type": "markdown",
      "metadata": {
        "id": "rh8xBnbKm-Yz",
        "colab_type": "text"
      },
      "source": [
        "<h1><center>Why Python?</center></h1>\n",
        "<center>\n",
        "    <img src=\"https://imgs.xkcd.com/comics/python.png\" width=\"40%\">\n",
        "</center>\n",
        "\n",
        "-----"
      ]
    },
    {
      "cell_type": "markdown",
      "metadata": {
        "id": "-DAqCdWCm-ZE",
        "colab_type": "text"
      },
      "source": [
        "# $\\Omega$ Pandas\n",
        "\n",
        "<img src=\"https://upload.wikimedia.org/wikipedia/commons/c/cd/Panda_Cub_from_Wolong%2C_Sichuan%2C_China.JPG\" width=\"30%\">\n",
        "\n",
        "> `pandas` is a Python package providing fast, flexible, and expressive data structures designed to make working with “relational” or “labeled” data both easy and intuitive. It aims to be the fundamental high-level building block for doing practical, real world data analysis in Python. Additionally, it has the broader goal of becoming the most powerful and flexible open source data analysis / manipulation tool available in any language. It is already well on its way toward this goal.\n",
        "\n",
        "> `pandas` is well suited for many different kinds of data:\n",
        "\n",
        "> * Tabular data with heterogeneously-typed columns, as in an SQL table or Excel spreadsheet\n",
        "* Ordered and unordered (not necessarily fixed-frequency) time series data.\n",
        "* Arbitrary matrix data (homogeneously typed or heterogeneous) with row and column labels\n",
        "* Any other form of observational / statistical data sets. The data actually need not be labeled at all to be placed into a pandas data structure\n",
        "\n",
        "For more tutorials, visit: https://pandas.pydata.org/pandas-docs/stable/tutorials.html\n",
        "\n",
        "-----"
      ]
    },
    {
      "cell_type": "code",
      "metadata": {
        "id": "pDSdKfcOJjHU",
        "colab_type": "code",
        "colab": {
          "base_uri": "https://localhost:8080/",
          "height": 35
        },
        "outputId": "08674bb1-35c9-47b8-a578-eab27f94db51"
      },
      "source": [
        "1 + 1"
      ],
      "execution_count": 3,
      "outputs": [
        {
          "output_type": "execute_result",
          "data": {
            "text/plain": [
              "2"
            ]
          },
          "metadata": {
            "tags": []
          },
          "execution_count": 3
        }
      ]
    },
    {
      "cell_type": "markdown",
      "metadata": {
        "id": "y3qAMEc9m-ZI",
        "colab_type": "text"
      },
      "source": [
        "### Imports"
      ]
    },
    {
      "cell_type": "code",
      "metadata": {
        "id": "19Ym9-43m-ZL",
        "colab_type": "code",
        "colab": {}
      },
      "source": [
        "import pandas as pd\n",
        "import matplotlib.pyplot as plt\n",
        "%matplotlib inline #print directly within the cell"
      ],
      "execution_count": 0,
      "outputs": []
    },
    {
      "cell_type": "markdown",
      "metadata": {
        "id": "IY1QV5F0m-ZW",
        "colab_type": "text"
      },
      "source": [
        "### Read data"
      ]
    },
    {
      "cell_type": "code",
      "metadata": {
        "id": "VhvpbLOnm-ZZ",
        "colab_type": "code",
        "colab": {}
      },
      "source": [
        "titanic = pd.read_csv('https://raw.githubusercontent.com/vinnywcd/datasets/master/titanic.csv')"
      ],
      "execution_count": 0,
      "outputs": []
    },
    {
      "cell_type": "markdown",
      "metadata": {
        "id": "sf07gEycm-Z4",
        "colab_type": "text"
      },
      "source": [
        "### Help"
      ]
    },
    {
      "cell_type": "markdown",
      "metadata": {
        "id": "fR2UBclfm-aE",
        "colab_type": "text"
      },
      "source": [
        "### Get first n rows"
      ]
    },
    {
      "cell_type": "markdown",
      "metadata": {
        "id": "4y42peG5m-aV",
        "colab_type": "text"
      },
      "source": [
        "### Dataframe dimensions"
      ]
    },
    {
      "cell_type": "markdown",
      "metadata": {
        "id": "DCAY6fAQm-am",
        "colab_type": "text"
      },
      "source": [
        "### Index"
      ]
    },
    {
      "cell_type": "markdown",
      "metadata": {
        "id": "Lt0UJuKtm-a2",
        "colab_type": "text"
      },
      "source": [
        "### Columns"
      ]
    },
    {
      "cell_type": "markdown",
      "metadata": {
        "id": "CnvWHIYIm-bK",
        "colab_type": "text"
      },
      "source": [
        "### Dataframe information"
      ]
    },
    {
      "cell_type": "markdown",
      "metadata": {
        "id": "dpuH8iSfm-bb",
        "colab_type": "text"
      },
      "source": [
        "### Summary statistics for numeric columns"
      ]
    },
    {
      "cell_type": "markdown",
      "metadata": {
        "id": "1qUbv3Q8m-by",
        "colab_type": "text"
      },
      "source": [
        "# $\\Omega$ Selecting Data"
      ]
    },
    {
      "cell_type": "markdown",
      "metadata": {
        "id": "_bSZCZlMm-b3",
        "colab_type": "text"
      },
      "source": [
        "### Select column"
      ]
    },
    {
      "cell_type": "markdown",
      "metadata": {
        "id": "cRBDzpuAm-cN",
        "colab_type": "text"
      },
      "source": [
        "### Select multiple columns"
      ]
    },
    {
      "cell_type": "markdown",
      "metadata": {
        "id": "IUvDMjYvm-ce",
        "colab_type": "text"
      },
      "source": [
        "### Select rows and columns by name"
      ]
    },
    {
      "cell_type": "markdown",
      "metadata": {
        "id": "5aYVqDwim-ct",
        "colab_type": "text"
      },
      "source": [
        "### Select rows and columns by range of indices"
      ]
    },
    {
      "cell_type": "markdown",
      "metadata": {
        "id": "jAyCBSPYm-c9",
        "colab_type": "text"
      },
      "source": [
        "### Select rows based on condition (filter)"
      ]
    },
    {
      "cell_type": "markdown",
      "metadata": {
        "id": "Y8Zh8dVSm-dZ",
        "colab_type": "text"
      },
      "source": [
        "## $\\Delta$ Exercise 1 - Dinesafe Data\n",
        "\n",
        "https://www.toronto.ca/city-government/data-research-maps/open-data/open-data-catalogue/\n",
        "\n",
        "**Questions:**\n",
        "1. Read the trip data `data/dinesafe.csv`\n",
        "2. Show the last 10 rows\n",
        "3. Show the summary statistics\n",
        "4. Select columns \"latitude\" and \"longitude\" and rows 100 to 200\n",
        "5. Select age greater than 50"
      ]
    },
    {
      "cell_type": "code",
      "metadata": {
        "id": "mMkwdMKvm-dd",
        "colab_type": "code",
        "colab": {}
      },
      "source": [
        "########################\n",
        "# Your Code Below\n",
        "########################"
      ],
      "execution_count": 0,
      "outputs": []
    },
    {
      "cell_type": "code",
      "metadata": {
        "id": "Fl_MfQ7am-do",
        "colab_type": "code",
        "colab": {}
      },
      "source": [
        "dinesafe = pd.read_csv('https://raw.githubusercontent.com/vinnywcd/datasets/master/dinesafe.csv')"
      ],
      "execution_count": 0,
      "outputs": []
    },
    {
      "cell_type": "code",
      "metadata": {
        "id": "-O6ab15hFags",
        "colab_type": "code",
        "colab": {}
      },
      "source": [
        ""
      ],
      "execution_count": 0,
      "outputs": []
    },
    {
      "cell_type": "markdown",
      "metadata": {
        "id": "8wILetRmm-eo",
        "colab_type": "text"
      },
      "source": [
        "# $\\Omega$ Transforming Data"
      ]
    },
    {
      "cell_type": "markdown",
      "metadata": {
        "id": "dc81LHe1m-es",
        "colab_type": "text"
      },
      "source": [
        "### Calculate ticket price in today's dollar\n",
        "According to the Bureau of Labor Statistics consumer price index, prices in 2018 are 2,669.00% higher than prices in 1909. The dollar experienced an average inflation rate of 3.09% per year."
      ]
    },
    {
      "cell_type": "markdown",
      "metadata": {
        "id": "FzcI_qA5m-fI",
        "colab_type": "text"
      },
      "source": [
        "### Add new column"
      ]
    },
    {
      "cell_type": "markdown",
      "metadata": {
        "id": "721VtME3m-fd",
        "colab_type": "text"
      },
      "source": [
        "### Count missing values"
      ]
    },
    {
      "cell_type": "markdown",
      "metadata": {
        "id": "MmhPqJkDm-fs",
        "colab_type": "text"
      },
      "source": [
        "### Calculate mean"
      ]
    },
    {
      "cell_type": "markdown",
      "metadata": {
        "id": "eFCeQgPCm-gA",
        "colab_type": "text"
      },
      "source": [
        "### Fill missing values"
      ]
    },
    {
      "cell_type": "markdown",
      "metadata": {
        "id": "wMkBxb4Tm-hQ",
        "colab_type": "text"
      },
      "source": [
        "### Count categorical data"
      ]
    },
    {
      "cell_type": "markdown",
      "metadata": {
        "id": "LXi_lNQPm-he",
        "colab_type": "text"
      },
      "source": [
        "### Groupby & aggregate"
      ]
    },
    {
      "cell_type": "markdown",
      "metadata": {
        "id": "XPu-MP_2m-ie",
        "colab_type": "text"
      },
      "source": [
        "### Save new dataframe as csv"
      ]
    },
    {
      "cell_type": "markdown",
      "metadata": {
        "id": "C7WVRztam-ip",
        "colab_type": "text"
      },
      "source": [
        "## $\\Delta$ Exercise 2 - Dinesafe Data\n",
        "\n",
        "**Questions:**\n",
        "1. Count the missing values in `AMOUNT_FINED` as a percentage\n",
        "2. Create a new column called `AMOUNT_FINED_NOTNULL` and replace the missing values with 0\n",
        "3. Get a count of every category in `ESTABLISHMENTTYPE`\n",
        "4. For every category in `ESTABLISHMENTTYPE` get a count of those that were fined"
      ]
    },
    {
      "cell_type": "code",
      "metadata": {
        "id": "-XKQLy9Xm-iw",
        "colab_type": "code",
        "colab": {}
      },
      "source": [
        "########################\n",
        "# Your Code Below\n",
        "########################"
      ],
      "execution_count": 0,
      "outputs": []
    },
    {
      "cell_type": "code",
      "metadata": {
        "id": "Fo_O99ECFY66",
        "colab_type": "code",
        "colab": {}
      },
      "source": [
        ""
      ],
      "execution_count": 0,
      "outputs": []
    },
    {
      "cell_type": "markdown",
      "metadata": {
        "id": "DcPY6q4om-jk",
        "colab_type": "text"
      },
      "source": [
        "# $\\Omega$ Data Visualization\n",
        "https://pandas.pydata.org/pandas-docs/stable/visualization.html"
      ]
    },
    {
      "cell_type": "markdown",
      "metadata": {
        "id": "HPDN4ax-m-jp",
        "colab_type": "text"
      },
      "source": [
        "### Bar plot"
      ]
    },
    {
      "cell_type": "markdown",
      "metadata": {
        "id": "edol_Wtum-jz",
        "colab_type": "text"
      },
      "source": [
        "### Pie plot"
      ]
    },
    {
      "cell_type": "markdown",
      "metadata": {
        "id": "-C7aSZgTm-kJ",
        "colab_type": "text"
      },
      "source": [
        "### Set figure size"
      ]
    },
    {
      "cell_type": "markdown",
      "metadata": {
        "id": "VlWTDix8m-ku",
        "colab_type": "text"
      },
      "source": [
        "### Histogram"
      ]
    },
    {
      "cell_type": "markdown",
      "metadata": {
        "id": "HiTg69_Jm-k6",
        "colab_type": "text"
      },
      "source": [
        "### Set histogram bin size"
      ]
    },
    {
      "cell_type": "markdown",
      "metadata": {
        "id": "k5Wx3mywm-lD",
        "colab_type": "text"
      },
      "source": [
        "### Boxplot"
      ]
    },
    {
      "cell_type": "markdown",
      "metadata": {
        "id": "gtkrX1fYm-lQ",
        "colab_type": "text"
      },
      "source": [
        "### Scatter plot"
      ]
    },
    {
      "cell_type": "markdown",
      "metadata": {
        "id": "iByissmym-lf",
        "colab_type": "text"
      },
      "source": [
        "### Transform then plot"
      ]
    },
    {
      "cell_type": "markdown",
      "metadata": {
        "id": "UQVbINSvm-ln",
        "colab_type": "text"
      },
      "source": [
        "## $\\Delta$ Exercise 3 - Dinesafe Data\n",
        "\n",
        "**Questions:**\n",
        "1. Create a bar plot of `ESTABLISHMENT_STATUS`\n",
        "2. Create a new dataframe called `dinesafe_fined` with only the rows where `AMOUNT_FINED` is not null\n",
        "3. Create a boxplot of `AMOUNT_FINED` in this new dataframe\n",
        "4. Create a histogram of `AMOUNT_FINED` with 30 bins\n",
        "5. Create a **horizontal** bar plot of the mean `AMOUNT_FINED` by `ESTABLISHMENTTYPE`\n",
        "6. Create a line plot of `INSPECTION_DATE` and `AMOUNT_FINED`\n",
        "\n",
        "**Bonus:**\n",
        "- Explore the dataset and see if you can come up with your own interesting analysis or plot"
      ]
    },
    {
      "cell_type": "code",
      "metadata": {
        "id": "3A8BfxsJm-lp",
        "colab_type": "code",
        "colab": {}
      },
      "source": [
        "########################\n",
        "# Your Code Below\n",
        "########################"
      ],
      "execution_count": 0,
      "outputs": []
    },
    {
      "cell_type": "code",
      "metadata": {
        "id": "HzBByfuBFXO-",
        "colab_type": "code",
        "colab": {}
      },
      "source": [
        ""
      ],
      "execution_count": 0,
      "outputs": []
    }
  ]
}